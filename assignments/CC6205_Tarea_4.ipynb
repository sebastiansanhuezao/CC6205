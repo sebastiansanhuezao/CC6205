{
  "metadata": {
    "colab": {
      "provenance": [],
      "collapsed_sections": [
        "I_fPuDVxmmWI",
        "XPhb8wuSpBZG",
        "2D1Kaw_D8jmN",
        "dca-ULd28vUW",
        "X7H51frJe7de",
        "tZsbBWc3Dgkt"
      ],
      "gpuType": "T4"
    },
    "kernelspec": {
      "name": "python3",
      "display_name": "Python 3"
    },
    "language_info": {
      "name": "python",
      "version": "3.10.13",
      "mimetype": "text/x-python",
      "codemirror_mode": {
        "name": "ipython",
        "version": 3
      },
      "pygments_lexer": "ipython3",
      "nbconvert_exporter": "python",
      "file_extension": ".py"
    },
    "widgets": {
      "application/vnd.jupyter.widget-state+json": {
        "eba3739767e142079fb3b5f667531ed6": {
          "model_module": "@jupyter-widgets/controls",
          "model_name": "HBoxModel",
          "model_module_version": "1.5.0",
          "state": {
            "_dom_classes": [],
            "_model_module": "@jupyter-widgets/controls",
            "_model_module_version": "1.5.0",
            "_model_name": "HBoxModel",
            "_view_count": null,
            "_view_module": "@jupyter-widgets/controls",
            "_view_module_version": "1.5.0",
            "_view_name": "HBoxView",
            "box_style": "",
            "children": [
              "IPY_MODEL_343e7605999145d7b0f4135a95b4393e",
              "IPY_MODEL_f31c54d35f254104af2cc3c8d5534759",
              "IPY_MODEL_362e71abaed14f859f45f160916fd46b"
            ],
            "layout": "IPY_MODEL_44ba17355fb54f5cbd14616511d000d8"
          }
        },
        "343e7605999145d7b0f4135a95b4393e": {
          "model_module": "@jupyter-widgets/controls",
          "model_name": "HTMLModel",
          "model_module_version": "1.5.0",
          "state": {
            "_dom_classes": [],
            "_model_module": "@jupyter-widgets/controls",
            "_model_module_version": "1.5.0",
            "_model_name": "HTMLModel",
            "_view_count": null,
            "_view_module": "@jupyter-widgets/controls",
            "_view_module_version": "1.5.0",
            "_view_name": "HTMLView",
            "description": "",
            "description_tooltip": null,
            "layout": "IPY_MODEL_d6fbcaa90022422aba03b83d76a35691",
            "placeholder": "​",
            "style": "IPY_MODEL_d42b46e4460e4566bdbb8a1b02d89813",
            "value": "tokenizer_config.json: 100%"
          }
        },
        "f31c54d35f254104af2cc3c8d5534759": {
          "model_module": "@jupyter-widgets/controls",
          "model_name": "FloatProgressModel",
          "model_module_version": "1.5.0",
          "state": {
            "_dom_classes": [],
            "_model_module": "@jupyter-widgets/controls",
            "_model_module_version": "1.5.0",
            "_model_name": "FloatProgressModel",
            "_view_count": null,
            "_view_module": "@jupyter-widgets/controls",
            "_view_module_version": "1.5.0",
            "_view_name": "ProgressView",
            "bar_style": "success",
            "description": "",
            "description_tooltip": null,
            "layout": "IPY_MODEL_afbff77387ad41afafbf88d7737ab150",
            "max": 48,
            "min": 0,
            "orientation": "horizontal",
            "style": "IPY_MODEL_fdf8aeefb3864780b342e8cd4815e05c",
            "value": 48
          }
        },
        "362e71abaed14f859f45f160916fd46b": {
          "model_module": "@jupyter-widgets/controls",
          "model_name": "HTMLModel",
          "model_module_version": "1.5.0",
          "state": {
            "_dom_classes": [],
            "_model_module": "@jupyter-widgets/controls",
            "_model_module_version": "1.5.0",
            "_model_name": "HTMLModel",
            "_view_count": null,
            "_view_module": "@jupyter-widgets/controls",
            "_view_module_version": "1.5.0",
            "_view_name": "HTMLView",
            "description": "",
            "description_tooltip": null,
            "layout": "IPY_MODEL_0c7198e49d3249beba8413dfff5efb2c",
            "placeholder": "​",
            "style": "IPY_MODEL_8dffc5eceecb48d98e58dedbc8181b79",
            "value": " 48.0/48.0 [00:00&lt;00:00, 1.39kB/s]"
          }
        },
        "44ba17355fb54f5cbd14616511d000d8": {
          "model_module": "@jupyter-widgets/base",
          "model_name": "LayoutModel",
          "model_module_version": "1.2.0",
          "state": {
            "_model_module": "@jupyter-widgets/base",
            "_model_module_version": "1.2.0",
            "_model_name": "LayoutModel",
            "_view_count": null,
            "_view_module": "@jupyter-widgets/base",
            "_view_module_version": "1.2.0",
            "_view_name": "LayoutView",
            "align_content": null,
            "align_items": null,
            "align_self": null,
            "border": null,
            "bottom": null,
            "display": null,
            "flex": null,
            "flex_flow": null,
            "grid_area": null,
            "grid_auto_columns": null,
            "grid_auto_flow": null,
            "grid_auto_rows": null,
            "grid_column": null,
            "grid_gap": null,
            "grid_row": null,
            "grid_template_areas": null,
            "grid_template_columns": null,
            "grid_template_rows": null,
            "height": null,
            "justify_content": null,
            "justify_items": null,
            "left": null,
            "margin": null,
            "max_height": null,
            "max_width": null,
            "min_height": null,
            "min_width": null,
            "object_fit": null,
            "object_position": null,
            "order": null,
            "overflow": null,
            "overflow_x": null,
            "overflow_y": null,
            "padding": null,
            "right": null,
            "top": null,
            "visibility": null,
            "width": null
          }
        },
        "d6fbcaa90022422aba03b83d76a35691": {
          "model_module": "@jupyter-widgets/base",
          "model_name": "LayoutModel",
          "model_module_version": "1.2.0",
          "state": {
            "_model_module": "@jupyter-widgets/base",
            "_model_module_version": "1.2.0",
            "_model_name": "LayoutModel",
            "_view_count": null,
            "_view_module": "@jupyter-widgets/base",
            "_view_module_version": "1.2.0",
            "_view_name": "LayoutView",
            "align_content": null,
            "align_items": null,
            "align_self": null,
            "border": null,
            "bottom": null,
            "display": null,
            "flex": null,
            "flex_flow": null,
            "grid_area": null,
            "grid_auto_columns": null,
            "grid_auto_flow": null,
            "grid_auto_rows": null,
            "grid_column": null,
            "grid_gap": null,
            "grid_row": null,
            "grid_template_areas": null,
            "grid_template_columns": null,
            "grid_template_rows": null,
            "height": null,
            "justify_content": null,
            "justify_items": null,
            "left": null,
            "margin": null,
            "max_height": null,
            "max_width": null,
            "min_height": null,
            "min_width": null,
            "object_fit": null,
            "object_position": null,
            "order": null,
            "overflow": null,
            "overflow_x": null,
            "overflow_y": null,
            "padding": null,
            "right": null,
            "top": null,
            "visibility": null,
            "width": null
          }
        },
        "d42b46e4460e4566bdbb8a1b02d89813": {
          "model_module": "@jupyter-widgets/controls",
          "model_name": "DescriptionStyleModel",
          "model_module_version": "1.5.0",
          "state": {
            "_model_module": "@jupyter-widgets/controls",
            "_model_module_version": "1.5.0",
            "_model_name": "DescriptionStyleModel",
            "_view_count": null,
            "_view_module": "@jupyter-widgets/base",
            "_view_module_version": "1.2.0",
            "_view_name": "StyleView",
            "description_width": ""
          }
        },
        "afbff77387ad41afafbf88d7737ab150": {
          "model_module": "@jupyter-widgets/base",
          "model_name": "LayoutModel",
          "model_module_version": "1.2.0",
          "state": {
            "_model_module": "@jupyter-widgets/base",
            "_model_module_version": "1.2.0",
            "_model_name": "LayoutModel",
            "_view_count": null,
            "_view_module": "@jupyter-widgets/base",
            "_view_module_version": "1.2.0",
            "_view_name": "LayoutView",
            "align_content": null,
            "align_items": null,
            "align_self": null,
            "border": null,
            "bottom": null,
            "display": null,
            "flex": null,
            "flex_flow": null,
            "grid_area": null,
            "grid_auto_columns": null,
            "grid_auto_flow": null,
            "grid_auto_rows": null,
            "grid_column": null,
            "grid_gap": null,
            "grid_row": null,
            "grid_template_areas": null,
            "grid_template_columns": null,
            "grid_template_rows": null,
            "height": null,
            "justify_content": null,
            "justify_items": null,
            "left": null,
            "margin": null,
            "max_height": null,
            "max_width": null,
            "min_height": null,
            "min_width": null,
            "object_fit": null,
            "object_position": null,
            "order": null,
            "overflow": null,
            "overflow_x": null,
            "overflow_y": null,
            "padding": null,
            "right": null,
            "top": null,
            "visibility": null,
            "width": null
          }
        },
        "fdf8aeefb3864780b342e8cd4815e05c": {
          "model_module": "@jupyter-widgets/controls",
          "model_name": "ProgressStyleModel",
          "model_module_version": "1.5.0",
          "state": {
            "_model_module": "@jupyter-widgets/controls",
            "_model_module_version": "1.5.0",
            "_model_name": "ProgressStyleModel",
            "_view_count": null,
            "_view_module": "@jupyter-widgets/base",
            "_view_module_version": "1.2.0",
            "_view_name": "StyleView",
            "bar_color": null,
            "description_width": ""
          }
        },
        "0c7198e49d3249beba8413dfff5efb2c": {
          "model_module": "@jupyter-widgets/base",
          "model_name": "LayoutModel",
          "model_module_version": "1.2.0",
          "state": {
            "_model_module": "@jupyter-widgets/base",
            "_model_module_version": "1.2.0",
            "_model_name": "LayoutModel",
            "_view_count": null,
            "_view_module": "@jupyter-widgets/base",
            "_view_module_version": "1.2.0",
            "_view_name": "LayoutView",
            "align_content": null,
            "align_items": null,
            "align_self": null,
            "border": null,
            "bottom": null,
            "display": null,
            "flex": null,
            "flex_flow": null,
            "grid_area": null,
            "grid_auto_columns": null,
            "grid_auto_flow": null,
            "grid_auto_rows": null,
            "grid_column": null,
            "grid_gap": null,
            "grid_row": null,
            "grid_template_areas": null,
            "grid_template_columns": null,
            "grid_template_rows": null,
            "height": null,
            "justify_content": null,
            "justify_items": null,
            "left": null,
            "margin": null,
            "max_height": null,
            "max_width": null,
            "min_height": null,
            "min_width": null,
            "object_fit": null,
            "object_position": null,
            "order": null,
            "overflow": null,
            "overflow_x": null,
            "overflow_y": null,
            "padding": null,
            "right": null,
            "top": null,
            "visibility": null,
            "width": null
          }
        },
        "8dffc5eceecb48d98e58dedbc8181b79": {
          "model_module": "@jupyter-widgets/controls",
          "model_name": "DescriptionStyleModel",
          "model_module_version": "1.5.0",
          "state": {
            "_model_module": "@jupyter-widgets/controls",
            "_model_module_version": "1.5.0",
            "_model_name": "DescriptionStyleModel",
            "_view_count": null,
            "_view_module": "@jupyter-widgets/base",
            "_view_module_version": "1.2.0",
            "_view_name": "StyleView",
            "description_width": ""
          }
        },
        "1cf75badc44141928906ec2ede4d7c34": {
          "model_module": "@jupyter-widgets/controls",
          "model_name": "HBoxModel",
          "model_module_version": "1.5.0",
          "state": {
            "_dom_classes": [],
            "_model_module": "@jupyter-widgets/controls",
            "_model_module_version": "1.5.0",
            "_model_name": "HBoxModel",
            "_view_count": null,
            "_view_module": "@jupyter-widgets/controls",
            "_view_module_version": "1.5.0",
            "_view_name": "HBoxView",
            "box_style": "",
            "children": [
              "IPY_MODEL_aa555f86de6644aa827a21df81f0cd0b",
              "IPY_MODEL_ba513e4188904ff98ba3f527e8690a14",
              "IPY_MODEL_2fe0d59525204d598068bc4bf64415a4"
            ],
            "layout": "IPY_MODEL_ac332f5b87e344edbff2abbc84dacad8"
          }
        },
        "aa555f86de6644aa827a21df81f0cd0b": {
          "model_module": "@jupyter-widgets/controls",
          "model_name": "HTMLModel",
          "model_module_version": "1.5.0",
          "state": {
            "_dom_classes": [],
            "_model_module": "@jupyter-widgets/controls",
            "_model_module_version": "1.5.0",
            "_model_name": "HTMLModel",
            "_view_count": null,
            "_view_module": "@jupyter-widgets/controls",
            "_view_module_version": "1.5.0",
            "_view_name": "HTMLView",
            "description": "",
            "description_tooltip": null,
            "layout": "IPY_MODEL_f93818a5a13e4936b839097d8ae8e461",
            "placeholder": "​",
            "style": "IPY_MODEL_3c72b510b7a64905a569718fc1aa19de",
            "value": "vocab.txt: 100%"
          }
        },
        "ba513e4188904ff98ba3f527e8690a14": {
          "model_module": "@jupyter-widgets/controls",
          "model_name": "FloatProgressModel",
          "model_module_version": "1.5.0",
          "state": {
            "_dom_classes": [],
            "_model_module": "@jupyter-widgets/controls",
            "_model_module_version": "1.5.0",
            "_model_name": "FloatProgressModel",
            "_view_count": null,
            "_view_module": "@jupyter-widgets/controls",
            "_view_module_version": "1.5.0",
            "_view_name": "ProgressView",
            "bar_style": "success",
            "description": "",
            "description_tooltip": null,
            "layout": "IPY_MODEL_090acf376b3b42f0b9b80837b582e37e",
            "max": 231508,
            "min": 0,
            "orientation": "horizontal",
            "style": "IPY_MODEL_089a1efadab44b2aabb386bef83a09ed",
            "value": 231508
          }
        },
        "2fe0d59525204d598068bc4bf64415a4": {
          "model_module": "@jupyter-widgets/controls",
          "model_name": "HTMLModel",
          "model_module_version": "1.5.0",
          "state": {
            "_dom_classes": [],
            "_model_module": "@jupyter-widgets/controls",
            "_model_module_version": "1.5.0",
            "_model_name": "HTMLModel",
            "_view_count": null,
            "_view_module": "@jupyter-widgets/controls",
            "_view_module_version": "1.5.0",
            "_view_name": "HTMLView",
            "description": "",
            "description_tooltip": null,
            "layout": "IPY_MODEL_be17b4316df7485aaaa691077aee8283",
            "placeholder": "​",
            "style": "IPY_MODEL_770ca49181b242b886a4eda0b4c6131f",
            "value": " 232k/232k [00:00&lt;00:00, 1.61MB/s]"
          }
        },
        "ac332f5b87e344edbff2abbc84dacad8": {
          "model_module": "@jupyter-widgets/base",
          "model_name": "LayoutModel",
          "model_module_version": "1.2.0",
          "state": {
            "_model_module": "@jupyter-widgets/base",
            "_model_module_version": "1.2.0",
            "_model_name": "LayoutModel",
            "_view_count": null,
            "_view_module": "@jupyter-widgets/base",
            "_view_module_version": "1.2.0",
            "_view_name": "LayoutView",
            "align_content": null,
            "align_items": null,
            "align_self": null,
            "border": null,
            "bottom": null,
            "display": null,
            "flex": null,
            "flex_flow": null,
            "grid_area": null,
            "grid_auto_columns": null,
            "grid_auto_flow": null,
            "grid_auto_rows": null,
            "grid_column": null,
            "grid_gap": null,
            "grid_row": null,
            "grid_template_areas": null,
            "grid_template_columns": null,
            "grid_template_rows": null,
            "height": null,
            "justify_content": null,
            "justify_items": null,
            "left": null,
            "margin": null,
            "max_height": null,
            "max_width": null,
            "min_height": null,
            "min_width": null,
            "object_fit": null,
            "object_position": null,
            "order": null,
            "overflow": null,
            "overflow_x": null,
            "overflow_y": null,
            "padding": null,
            "right": null,
            "top": null,
            "visibility": null,
            "width": null
          }
        },
        "f93818a5a13e4936b839097d8ae8e461": {
          "model_module": "@jupyter-widgets/base",
          "model_name": "LayoutModel",
          "model_module_version": "1.2.0",
          "state": {
            "_model_module": "@jupyter-widgets/base",
            "_model_module_version": "1.2.0",
            "_model_name": "LayoutModel",
            "_view_count": null,
            "_view_module": "@jupyter-widgets/base",
            "_view_module_version": "1.2.0",
            "_view_name": "LayoutView",
            "align_content": null,
            "align_items": null,
            "align_self": null,
            "border": null,
            "bottom": null,
            "display": null,
            "flex": null,
            "flex_flow": null,
            "grid_area": null,
            "grid_auto_columns": null,
            "grid_auto_flow": null,
            "grid_auto_rows": null,
            "grid_column": null,
            "grid_gap": null,
            "grid_row": null,
            "grid_template_areas": null,
            "grid_template_columns": null,
            "grid_template_rows": null,
            "height": null,
            "justify_content": null,
            "justify_items": null,
            "left": null,
            "margin": null,
            "max_height": null,
            "max_width": null,
            "min_height": null,
            "min_width": null,
            "object_fit": null,
            "object_position": null,
            "order": null,
            "overflow": null,
            "overflow_x": null,
            "overflow_y": null,
            "padding": null,
            "right": null,
            "top": null,
            "visibility": null,
            "width": null
          }
        },
        "3c72b510b7a64905a569718fc1aa19de": {
          "model_module": "@jupyter-widgets/controls",
          "model_name": "DescriptionStyleModel",
          "model_module_version": "1.5.0",
          "state": {
            "_model_module": "@jupyter-widgets/controls",
            "_model_module_version": "1.5.0",
            "_model_name": "DescriptionStyleModel",
            "_view_count": null,
            "_view_module": "@jupyter-widgets/base",
            "_view_module_version": "1.2.0",
            "_view_name": "StyleView",
            "description_width": ""
          }
        },
        "090acf376b3b42f0b9b80837b582e37e": {
          "model_module": "@jupyter-widgets/base",
          "model_name": "LayoutModel",
          "model_module_version": "1.2.0",
          "state": {
            "_model_module": "@jupyter-widgets/base",
            "_model_module_version": "1.2.0",
            "_model_name": "LayoutModel",
            "_view_count": null,
            "_view_module": "@jupyter-widgets/base",
            "_view_module_version": "1.2.0",
            "_view_name": "LayoutView",
            "align_content": null,
            "align_items": null,
            "align_self": null,
            "border": null,
            "bottom": null,
            "display": null,
            "flex": null,
            "flex_flow": null,
            "grid_area": null,
            "grid_auto_columns": null,
            "grid_auto_flow": null,
            "grid_auto_rows": null,
            "grid_column": null,
            "grid_gap": null,
            "grid_row": null,
            "grid_template_areas": null,
            "grid_template_columns": null,
            "grid_template_rows": null,
            "height": null,
            "justify_content": null,
            "justify_items": null,
            "left": null,
            "margin": null,
            "max_height": null,
            "max_width": null,
            "min_height": null,
            "min_width": null,
            "object_fit": null,
            "object_position": null,
            "order": null,
            "overflow": null,
            "overflow_x": null,
            "overflow_y": null,
            "padding": null,
            "right": null,
            "top": null,
            "visibility": null,
            "width": null
          }
        },
        "089a1efadab44b2aabb386bef83a09ed": {
          "model_module": "@jupyter-widgets/controls",
          "model_name": "ProgressStyleModel",
          "model_module_version": "1.5.0",
          "state": {
            "_model_module": "@jupyter-widgets/controls",
            "_model_module_version": "1.5.0",
            "_model_name": "ProgressStyleModel",
            "_view_count": null,
            "_view_module": "@jupyter-widgets/base",
            "_view_module_version": "1.2.0",
            "_view_name": "StyleView",
            "bar_color": null,
            "description_width": ""
          }
        },
        "be17b4316df7485aaaa691077aee8283": {
          "model_module": "@jupyter-widgets/base",
          "model_name": "LayoutModel",
          "model_module_version": "1.2.0",
          "state": {
            "_model_module": "@jupyter-widgets/base",
            "_model_module_version": "1.2.0",
            "_model_name": "LayoutModel",
            "_view_count": null,
            "_view_module": "@jupyter-widgets/base",
            "_view_module_version": "1.2.0",
            "_view_name": "LayoutView",
            "align_content": null,
            "align_items": null,
            "align_self": null,
            "border": null,
            "bottom": null,
            "display": null,
            "flex": null,
            "flex_flow": null,
            "grid_area": null,
            "grid_auto_columns": null,
            "grid_auto_flow": null,
            "grid_auto_rows": null,
            "grid_column": null,
            "grid_gap": null,
            "grid_row": null,
            "grid_template_areas": null,
            "grid_template_columns": null,
            "grid_template_rows": null,
            "height": null,
            "justify_content": null,
            "justify_items": null,
            "left": null,
            "margin": null,
            "max_height": null,
            "max_width": null,
            "min_height": null,
            "min_width": null,
            "object_fit": null,
            "object_position": null,
            "order": null,
            "overflow": null,
            "overflow_x": null,
            "overflow_y": null,
            "padding": null,
            "right": null,
            "top": null,
            "visibility": null,
            "width": null
          }
        },
        "770ca49181b242b886a4eda0b4c6131f": {
          "model_module": "@jupyter-widgets/controls",
          "model_name": "DescriptionStyleModel",
          "model_module_version": "1.5.0",
          "state": {
            "_model_module": "@jupyter-widgets/controls",
            "_model_module_version": "1.5.0",
            "_model_name": "DescriptionStyleModel",
            "_view_count": null,
            "_view_module": "@jupyter-widgets/base",
            "_view_module_version": "1.2.0",
            "_view_name": "StyleView",
            "description_width": ""
          }
        },
        "79dab4a76d6a4ceda393c1b7bd7f1e86": {
          "model_module": "@jupyter-widgets/controls",
          "model_name": "HBoxModel",
          "model_module_version": "1.5.0",
          "state": {
            "_dom_classes": [],
            "_model_module": "@jupyter-widgets/controls",
            "_model_module_version": "1.5.0",
            "_model_name": "HBoxModel",
            "_view_count": null,
            "_view_module": "@jupyter-widgets/controls",
            "_view_module_version": "1.5.0",
            "_view_name": "HBoxView",
            "box_style": "",
            "children": [
              "IPY_MODEL_c5516318e9ca4773b7da9ce934eb67dc",
              "IPY_MODEL_48d12daf45854f188c91c8822eb0eb33",
              "IPY_MODEL_28456d46844543ac8ac42ce9159e8850"
            ],
            "layout": "IPY_MODEL_5f88dfb5a502458dad2dd77cfab654a8"
          }
        },
        "c5516318e9ca4773b7da9ce934eb67dc": {
          "model_module": "@jupyter-widgets/controls",
          "model_name": "HTMLModel",
          "model_module_version": "1.5.0",
          "state": {
            "_dom_classes": [],
            "_model_module": "@jupyter-widgets/controls",
            "_model_module_version": "1.5.0",
            "_model_name": "HTMLModel",
            "_view_count": null,
            "_view_module": "@jupyter-widgets/controls",
            "_view_module_version": "1.5.0",
            "_view_name": "HTMLView",
            "description": "",
            "description_tooltip": null,
            "layout": "IPY_MODEL_7cf2090de1204b9eb182fa78923ace77",
            "placeholder": "​",
            "style": "IPY_MODEL_b7e489d0588d4e63be7bfd47d4dc1444",
            "value": "tokenizer.json: 100%"
          }
        },
        "48d12daf45854f188c91c8822eb0eb33": {
          "model_module": "@jupyter-widgets/controls",
          "model_name": "FloatProgressModel",
          "model_module_version": "1.5.0",
          "state": {
            "_dom_classes": [],
            "_model_module": "@jupyter-widgets/controls",
            "_model_module_version": "1.5.0",
            "_model_name": "FloatProgressModel",
            "_view_count": null,
            "_view_module": "@jupyter-widgets/controls",
            "_view_module_version": "1.5.0",
            "_view_name": "ProgressView",
            "bar_style": "success",
            "description": "",
            "description_tooltip": null,
            "layout": "IPY_MODEL_b49871fc1871454d9d5184d37be1da54",
            "max": 466062,
            "min": 0,
            "orientation": "horizontal",
            "style": "IPY_MODEL_89918b0ac1ed47d8984e4e9e2415ed6f",
            "value": 466062
          }
        },
        "28456d46844543ac8ac42ce9159e8850": {
          "model_module": "@jupyter-widgets/controls",
          "model_name": "HTMLModel",
          "model_module_version": "1.5.0",
          "state": {
            "_dom_classes": [],
            "_model_module": "@jupyter-widgets/controls",
            "_model_module_version": "1.5.0",
            "_model_name": "HTMLModel",
            "_view_count": null,
            "_view_module": "@jupyter-widgets/controls",
            "_view_module_version": "1.5.0",
            "_view_name": "HTMLView",
            "description": "",
            "description_tooltip": null,
            "layout": "IPY_MODEL_37aadaeb90d146c48ad00c4fc8c6b872",
            "placeholder": "​",
            "style": "IPY_MODEL_d6b2c44f3dfe4674b91a9d743c2c3749",
            "value": " 466k/466k [00:00&lt;00:00, 6.06MB/s]"
          }
        },
        "5f88dfb5a502458dad2dd77cfab654a8": {
          "model_module": "@jupyter-widgets/base",
          "model_name": "LayoutModel",
          "model_module_version": "1.2.0",
          "state": {
            "_model_module": "@jupyter-widgets/base",
            "_model_module_version": "1.2.0",
            "_model_name": "LayoutModel",
            "_view_count": null,
            "_view_module": "@jupyter-widgets/base",
            "_view_module_version": "1.2.0",
            "_view_name": "LayoutView",
            "align_content": null,
            "align_items": null,
            "align_self": null,
            "border": null,
            "bottom": null,
            "display": null,
            "flex": null,
            "flex_flow": null,
            "grid_area": null,
            "grid_auto_columns": null,
            "grid_auto_flow": null,
            "grid_auto_rows": null,
            "grid_column": null,
            "grid_gap": null,
            "grid_row": null,
            "grid_template_areas": null,
            "grid_template_columns": null,
            "grid_template_rows": null,
            "height": null,
            "justify_content": null,
            "justify_items": null,
            "left": null,
            "margin": null,
            "max_height": null,
            "max_width": null,
            "min_height": null,
            "min_width": null,
            "object_fit": null,
            "object_position": null,
            "order": null,
            "overflow": null,
            "overflow_x": null,
            "overflow_y": null,
            "padding": null,
            "right": null,
            "top": null,
            "visibility": null,
            "width": null
          }
        },
        "7cf2090de1204b9eb182fa78923ace77": {
          "model_module": "@jupyter-widgets/base",
          "model_name": "LayoutModel",
          "model_module_version": "1.2.0",
          "state": {
            "_model_module": "@jupyter-widgets/base",
            "_model_module_version": "1.2.0",
            "_model_name": "LayoutModel",
            "_view_count": null,
            "_view_module": "@jupyter-widgets/base",
            "_view_module_version": "1.2.0",
            "_view_name": "LayoutView",
            "align_content": null,
            "align_items": null,
            "align_self": null,
            "border": null,
            "bottom": null,
            "display": null,
            "flex": null,
            "flex_flow": null,
            "grid_area": null,
            "grid_auto_columns": null,
            "grid_auto_flow": null,
            "grid_auto_rows": null,
            "grid_column": null,
            "grid_gap": null,
            "grid_row": null,
            "grid_template_areas": null,
            "grid_template_columns": null,
            "grid_template_rows": null,
            "height": null,
            "justify_content": null,
            "justify_items": null,
            "left": null,
            "margin": null,
            "max_height": null,
            "max_width": null,
            "min_height": null,
            "min_width": null,
            "object_fit": null,
            "object_position": null,
            "order": null,
            "overflow": null,
            "overflow_x": null,
            "overflow_y": null,
            "padding": null,
            "right": null,
            "top": null,
            "visibility": null,
            "width": null
          }
        },
        "b7e489d0588d4e63be7bfd47d4dc1444": {
          "model_module": "@jupyter-widgets/controls",
          "model_name": "DescriptionStyleModel",
          "model_module_version": "1.5.0",
          "state": {
            "_model_module": "@jupyter-widgets/controls",
            "_model_module_version": "1.5.0",
            "_model_name": "DescriptionStyleModel",
            "_view_count": null,
            "_view_module": "@jupyter-widgets/base",
            "_view_module_version": "1.2.0",
            "_view_name": "StyleView",
            "description_width": ""
          }
        },
        "b49871fc1871454d9d5184d37be1da54": {
          "model_module": "@jupyter-widgets/base",
          "model_name": "LayoutModel",
          "model_module_version": "1.2.0",
          "state": {
            "_model_module": "@jupyter-widgets/base",
            "_model_module_version": "1.2.0",
            "_model_name": "LayoutModel",
            "_view_count": null,
            "_view_module": "@jupyter-widgets/base",
            "_view_module_version": "1.2.0",
            "_view_name": "LayoutView",
            "align_content": null,
            "align_items": null,
            "align_self": null,
            "border": null,
            "bottom": null,
            "display": null,
            "flex": null,
            "flex_flow": null,
            "grid_area": null,
            "grid_auto_columns": null,
            "grid_auto_flow": null,
            "grid_auto_rows": null,
            "grid_column": null,
            "grid_gap": null,
            "grid_row": null,
            "grid_template_areas": null,
            "grid_template_columns": null,
            "grid_template_rows": null,
            "height": null,
            "justify_content": null,
            "justify_items": null,
            "left": null,
            "margin": null,
            "max_height": null,
            "max_width": null,
            "min_height": null,
            "min_width": null,
            "object_fit": null,
            "object_position": null,
            "order": null,
            "overflow": null,
            "overflow_x": null,
            "overflow_y": null,
            "padding": null,
            "right": null,
            "top": null,
            "visibility": null,
            "width": null
          }
        },
        "89918b0ac1ed47d8984e4e9e2415ed6f": {
          "model_module": "@jupyter-widgets/controls",
          "model_name": "ProgressStyleModel",
          "model_module_version": "1.5.0",
          "state": {
            "_model_module": "@jupyter-widgets/controls",
            "_model_module_version": "1.5.0",
            "_model_name": "ProgressStyleModel",
            "_view_count": null,
            "_view_module": "@jupyter-widgets/base",
            "_view_module_version": "1.2.0",
            "_view_name": "StyleView",
            "bar_color": null,
            "description_width": ""
          }
        },
        "37aadaeb90d146c48ad00c4fc8c6b872": {
          "model_module": "@jupyter-widgets/base",
          "model_name": "LayoutModel",
          "model_module_version": "1.2.0",
          "state": {
            "_model_module": "@jupyter-widgets/base",
            "_model_module_version": "1.2.0",
            "_model_name": "LayoutModel",
            "_view_count": null,
            "_view_module": "@jupyter-widgets/base",
            "_view_module_version": "1.2.0",
            "_view_name": "LayoutView",
            "align_content": null,
            "align_items": null,
            "align_self": null,
            "border": null,
            "bottom": null,
            "display": null,
            "flex": null,
            "flex_flow": null,
            "grid_area": null,
            "grid_auto_columns": null,
            "grid_auto_flow": null,
            "grid_auto_rows": null,
            "grid_column": null,
            "grid_gap": null,
            "grid_row": null,
            "grid_template_areas": null,
            "grid_template_columns": null,
            "grid_template_rows": null,
            "height": null,
            "justify_content": null,
            "justify_items": null,
            "left": null,
            "margin": null,
            "max_height": null,
            "max_width": null,
            "min_height": null,
            "min_width": null,
            "object_fit": null,
            "object_position": null,
            "order": null,
            "overflow": null,
            "overflow_x": null,
            "overflow_y": null,
            "padding": null,
            "right": null,
            "top": null,
            "visibility": null,
            "width": null
          }
        },
        "d6b2c44f3dfe4674b91a9d743c2c3749": {
          "model_module": "@jupyter-widgets/controls",
          "model_name": "DescriptionStyleModel",
          "model_module_version": "1.5.0",
          "state": {
            "_model_module": "@jupyter-widgets/controls",
            "_model_module_version": "1.5.0",
            "_model_name": "DescriptionStyleModel",
            "_view_count": null,
            "_view_module": "@jupyter-widgets/base",
            "_view_module_version": "1.2.0",
            "_view_name": "StyleView",
            "description_width": ""
          }
        },
        "caff9c21389f4b839ed3fcd2acbfda91": {
          "model_module": "@jupyter-widgets/controls",
          "model_name": "HBoxModel",
          "model_module_version": "1.5.0",
          "state": {
            "_dom_classes": [],
            "_model_module": "@jupyter-widgets/controls",
            "_model_module_version": "1.5.0",
            "_model_name": "HBoxModel",
            "_view_count": null,
            "_view_module": "@jupyter-widgets/controls",
            "_view_module_version": "1.5.0",
            "_view_name": "HBoxView",
            "box_style": "",
            "children": [
              "IPY_MODEL_f120eaaf85ee4876957eaadb84336000",
              "IPY_MODEL_3d4ee8f1d61d4f1ba2cff4c56c67e32e",
              "IPY_MODEL_d012428d57cc4d9497d5d7d1c5eb9fa8"
            ],
            "layout": "IPY_MODEL_137ed0b4e4a54969b34342a733b724aa"
          }
        },
        "f120eaaf85ee4876957eaadb84336000": {
          "model_module": "@jupyter-widgets/controls",
          "model_name": "HTMLModel",
          "model_module_version": "1.5.0",
          "state": {
            "_dom_classes": [],
            "_model_module": "@jupyter-widgets/controls",
            "_model_module_version": "1.5.0",
            "_model_name": "HTMLModel",
            "_view_count": null,
            "_view_module": "@jupyter-widgets/controls",
            "_view_module_version": "1.5.0",
            "_view_name": "HTMLView",
            "description": "",
            "description_tooltip": null,
            "layout": "IPY_MODEL_31be54e22a394c18b3adb5286380997d",
            "placeholder": "​",
            "style": "IPY_MODEL_785f6451938c4c75aa9725aabec1b4c9",
            "value": "config.json: 100%"
          }
        },
        "3d4ee8f1d61d4f1ba2cff4c56c67e32e": {
          "model_module": "@jupyter-widgets/controls",
          "model_name": "FloatProgressModel",
          "model_module_version": "1.5.0",
          "state": {
            "_dom_classes": [],
            "_model_module": "@jupyter-widgets/controls",
            "_model_module_version": "1.5.0",
            "_model_name": "FloatProgressModel",
            "_view_count": null,
            "_view_module": "@jupyter-widgets/controls",
            "_view_module_version": "1.5.0",
            "_view_name": "ProgressView",
            "bar_style": "success",
            "description": "",
            "description_tooltip": null,
            "layout": "IPY_MODEL_39f73620c07f40cab8cb3f94eceaa3ad",
            "max": 570,
            "min": 0,
            "orientation": "horizontal",
            "style": "IPY_MODEL_1dc1f715755e43d687c6345879611f9f",
            "value": 570
          }
        },
        "d012428d57cc4d9497d5d7d1c5eb9fa8": {
          "model_module": "@jupyter-widgets/controls",
          "model_name": "HTMLModel",
          "model_module_version": "1.5.0",
          "state": {
            "_dom_classes": [],
            "_model_module": "@jupyter-widgets/controls",
            "_model_module_version": "1.5.0",
            "_model_name": "HTMLModel",
            "_view_count": null,
            "_view_module": "@jupyter-widgets/controls",
            "_view_module_version": "1.5.0",
            "_view_name": "HTMLView",
            "description": "",
            "description_tooltip": null,
            "layout": "IPY_MODEL_26a53153ebd249e4a0965f185150dfb6",
            "placeholder": "​",
            "style": "IPY_MODEL_6e7b9588e49d46b3a96893c6ffc65282",
            "value": " 570/570 [00:00&lt;00:00, 5.40kB/s]"
          }
        },
        "137ed0b4e4a54969b34342a733b724aa": {
          "model_module": "@jupyter-widgets/base",
          "model_name": "LayoutModel",
          "model_module_version": "1.2.0",
          "state": {
            "_model_module": "@jupyter-widgets/base",
            "_model_module_version": "1.2.0",
            "_model_name": "LayoutModel",
            "_view_count": null,
            "_view_module": "@jupyter-widgets/base",
            "_view_module_version": "1.2.0",
            "_view_name": "LayoutView",
            "align_content": null,
            "align_items": null,
            "align_self": null,
            "border": null,
            "bottom": null,
            "display": null,
            "flex": null,
            "flex_flow": null,
            "grid_area": null,
            "grid_auto_columns": null,
            "grid_auto_flow": null,
            "grid_auto_rows": null,
            "grid_column": null,
            "grid_gap": null,
            "grid_row": null,
            "grid_template_areas": null,
            "grid_template_columns": null,
            "grid_template_rows": null,
            "height": null,
            "justify_content": null,
            "justify_items": null,
            "left": null,
            "margin": null,
            "max_height": null,
            "max_width": null,
            "min_height": null,
            "min_width": null,
            "object_fit": null,
            "object_position": null,
            "order": null,
            "overflow": null,
            "overflow_x": null,
            "overflow_y": null,
            "padding": null,
            "right": null,
            "top": null,
            "visibility": null,
            "width": null
          }
        },
        "31be54e22a394c18b3adb5286380997d": {
          "model_module": "@jupyter-widgets/base",
          "model_name": "LayoutModel",
          "model_module_version": "1.2.0",
          "state": {
            "_model_module": "@jupyter-widgets/base",
            "_model_module_version": "1.2.0",
            "_model_name": "LayoutModel",
            "_view_count": null,
            "_view_module": "@jupyter-widgets/base",
            "_view_module_version": "1.2.0",
            "_view_name": "LayoutView",
            "align_content": null,
            "align_items": null,
            "align_self": null,
            "border": null,
            "bottom": null,
            "display": null,
            "flex": null,
            "flex_flow": null,
            "grid_area": null,
            "grid_auto_columns": null,
            "grid_auto_flow": null,
            "grid_auto_rows": null,
            "grid_column": null,
            "grid_gap": null,
            "grid_row": null,
            "grid_template_areas": null,
            "grid_template_columns": null,
            "grid_template_rows": null,
            "height": null,
            "justify_content": null,
            "justify_items": null,
            "left": null,
            "margin": null,
            "max_height": null,
            "max_width": null,
            "min_height": null,
            "min_width": null,
            "object_fit": null,
            "object_position": null,
            "order": null,
            "overflow": null,
            "overflow_x": null,
            "overflow_y": null,
            "padding": null,
            "right": null,
            "top": null,
            "visibility": null,
            "width": null
          }
        },
        "785f6451938c4c75aa9725aabec1b4c9": {
          "model_module": "@jupyter-widgets/controls",
          "model_name": "DescriptionStyleModel",
          "model_module_version": "1.5.0",
          "state": {
            "_model_module": "@jupyter-widgets/controls",
            "_model_module_version": "1.5.0",
            "_model_name": "DescriptionStyleModel",
            "_view_count": null,
            "_view_module": "@jupyter-widgets/base",
            "_view_module_version": "1.2.0",
            "_view_name": "StyleView",
            "description_width": ""
          }
        },
        "39f73620c07f40cab8cb3f94eceaa3ad": {
          "model_module": "@jupyter-widgets/base",
          "model_name": "LayoutModel",
          "model_module_version": "1.2.0",
          "state": {
            "_model_module": "@jupyter-widgets/base",
            "_model_module_version": "1.2.0",
            "_model_name": "LayoutModel",
            "_view_count": null,
            "_view_module": "@jupyter-widgets/base",
            "_view_module_version": "1.2.0",
            "_view_name": "LayoutView",
            "align_content": null,
            "align_items": null,
            "align_self": null,
            "border": null,
            "bottom": null,
            "display": null,
            "flex": null,
            "flex_flow": null,
            "grid_area": null,
            "grid_auto_columns": null,
            "grid_auto_flow": null,
            "grid_auto_rows": null,
            "grid_column": null,
            "grid_gap": null,
            "grid_row": null,
            "grid_template_areas": null,
            "grid_template_columns": null,
            "grid_template_rows": null,
            "height": null,
            "justify_content": null,
            "justify_items": null,
            "left": null,
            "margin": null,
            "max_height": null,
            "max_width": null,
            "min_height": null,
            "min_width": null,
            "object_fit": null,
            "object_position": null,
            "order": null,
            "overflow": null,
            "overflow_x": null,
            "overflow_y": null,
            "padding": null,
            "right": null,
            "top": null,
            "visibility": null,
            "width": null
          }
        },
        "1dc1f715755e43d687c6345879611f9f": {
          "model_module": "@jupyter-widgets/controls",
          "model_name": "ProgressStyleModel",
          "model_module_version": "1.5.0",
          "state": {
            "_model_module": "@jupyter-widgets/controls",
            "_model_module_version": "1.5.0",
            "_model_name": "ProgressStyleModel",
            "_view_count": null,
            "_view_module": "@jupyter-widgets/base",
            "_view_module_version": "1.2.0",
            "_view_name": "StyleView",
            "bar_color": null,
            "description_width": ""
          }
        },
        "26a53153ebd249e4a0965f185150dfb6": {
          "model_module": "@jupyter-widgets/base",
          "model_name": "LayoutModel",
          "model_module_version": "1.2.0",
          "state": {
            "_model_module": "@jupyter-widgets/base",
            "_model_module_version": "1.2.0",
            "_model_name": "LayoutModel",
            "_view_count": null,
            "_view_module": "@jupyter-widgets/base",
            "_view_module_version": "1.2.0",
            "_view_name": "LayoutView",
            "align_content": null,
            "align_items": null,
            "align_self": null,
            "border": null,
            "bottom": null,
            "display": null,
            "flex": null,
            "flex_flow": null,
            "grid_area": null,
            "grid_auto_columns": null,
            "grid_auto_flow": null,
            "grid_auto_rows": null,
            "grid_column": null,
            "grid_gap": null,
            "grid_row": null,
            "grid_template_areas": null,
            "grid_template_columns": null,
            "grid_template_rows": null,
            "height": null,
            "justify_content": null,
            "justify_items": null,
            "left": null,
            "margin": null,
            "max_height": null,
            "max_width": null,
            "min_height": null,
            "min_width": null,
            "object_fit": null,
            "object_position": null,
            "order": null,
            "overflow": null,
            "overflow_x": null,
            "overflow_y": null,
            "padding": null,
            "right": null,
            "top": null,
            "visibility": null,
            "width": null
          }
        },
        "6e7b9588e49d46b3a96893c6ffc65282": {
          "model_module": "@jupyter-widgets/controls",
          "model_name": "DescriptionStyleModel",
          "model_module_version": "1.5.0",
          "state": {
            "_model_module": "@jupyter-widgets/controls",
            "_model_module_version": "1.5.0",
            "_model_name": "DescriptionStyleModel",
            "_view_count": null,
            "_view_module": "@jupyter-widgets/base",
            "_view_module_version": "1.2.0",
            "_view_name": "StyleView",
            "description_width": ""
          }
        },
        "0fa76de8de41469bb236e30bea2e8d74": {
          "model_module": "@jupyter-widgets/controls",
          "model_name": "HBoxModel",
          "model_module_version": "1.5.0",
          "state": {
            "_dom_classes": [],
            "_model_module": "@jupyter-widgets/controls",
            "_model_module_version": "1.5.0",
            "_model_name": "HBoxModel",
            "_view_count": null,
            "_view_module": "@jupyter-widgets/controls",
            "_view_module_version": "1.5.0",
            "_view_name": "HBoxView",
            "box_style": "",
            "children": [
              "IPY_MODEL_7832c1d3b4ec4c9a9b96226045a67be2",
              "IPY_MODEL_f148e379303f4a9db0476108c428f15e",
              "IPY_MODEL_7be2c956f85c42d8ad003c35ab38873e"
            ],
            "layout": "IPY_MODEL_271930bdaf1642acb2a4eb36f4f8d05e"
          }
        },
        "7832c1d3b4ec4c9a9b96226045a67be2": {
          "model_module": "@jupyter-widgets/controls",
          "model_name": "HTMLModel",
          "model_module_version": "1.5.0",
          "state": {
            "_dom_classes": [],
            "_model_module": "@jupyter-widgets/controls",
            "_model_module_version": "1.5.0",
            "_model_name": "HTMLModel",
            "_view_count": null,
            "_view_module": "@jupyter-widgets/controls",
            "_view_module_version": "1.5.0",
            "_view_name": "HTMLView",
            "description": "",
            "description_tooltip": null,
            "layout": "IPY_MODEL_9ed074e281d6494d9d07de8b52a13539",
            "placeholder": "​",
            "style": "IPY_MODEL_36cc120cb86a45bcbd430c251e683de6",
            "value": "model.safetensors: 100%"
          }
        },
        "f148e379303f4a9db0476108c428f15e": {
          "model_module": "@jupyter-widgets/controls",
          "model_name": "FloatProgressModel",
          "model_module_version": "1.5.0",
          "state": {
            "_dom_classes": [],
            "_model_module": "@jupyter-widgets/controls",
            "_model_module_version": "1.5.0",
            "_model_name": "FloatProgressModel",
            "_view_count": null,
            "_view_module": "@jupyter-widgets/controls",
            "_view_module_version": "1.5.0",
            "_view_name": "ProgressView",
            "bar_style": "success",
            "description": "",
            "description_tooltip": null,
            "layout": "IPY_MODEL_9284599388d247d6bf4083bebb27e119",
            "max": 440449768,
            "min": 0,
            "orientation": "horizontal",
            "style": "IPY_MODEL_39bd1087b031403391e48abe0d3bccb5",
            "value": 440449768
          }
        },
        "7be2c956f85c42d8ad003c35ab38873e": {
          "model_module": "@jupyter-widgets/controls",
          "model_name": "HTMLModel",
          "model_module_version": "1.5.0",
          "state": {
            "_dom_classes": [],
            "_model_module": "@jupyter-widgets/controls",
            "_model_module_version": "1.5.0",
            "_model_name": "HTMLModel",
            "_view_count": null,
            "_view_module": "@jupyter-widgets/controls",
            "_view_module_version": "1.5.0",
            "_view_name": "HTMLView",
            "description": "",
            "description_tooltip": null,
            "layout": "IPY_MODEL_4abb52d6084d409096d09dec9ad87f6a",
            "placeholder": "​",
            "style": "IPY_MODEL_9faba4ff59b54eaea4710f505ee9235c",
            "value": " 440M/440M [00:05&lt;00:00, 70.3MB/s]"
          }
        },
        "271930bdaf1642acb2a4eb36f4f8d05e": {
          "model_module": "@jupyter-widgets/base",
          "model_name": "LayoutModel",
          "model_module_version": "1.2.0",
          "state": {
            "_model_module": "@jupyter-widgets/base",
            "_model_module_version": "1.2.0",
            "_model_name": "LayoutModel",
            "_view_count": null,
            "_view_module": "@jupyter-widgets/base",
            "_view_module_version": "1.2.0",
            "_view_name": "LayoutView",
            "align_content": null,
            "align_items": null,
            "align_self": null,
            "border": null,
            "bottom": null,
            "display": null,
            "flex": null,
            "flex_flow": null,
            "grid_area": null,
            "grid_auto_columns": null,
            "grid_auto_flow": null,
            "grid_auto_rows": null,
            "grid_column": null,
            "grid_gap": null,
            "grid_row": null,
            "grid_template_areas": null,
            "grid_template_columns": null,
            "grid_template_rows": null,
            "height": null,
            "justify_content": null,
            "justify_items": null,
            "left": null,
            "margin": null,
            "max_height": null,
            "max_width": null,
            "min_height": null,
            "min_width": null,
            "object_fit": null,
            "object_position": null,
            "order": null,
            "overflow": null,
            "overflow_x": null,
            "overflow_y": null,
            "padding": null,
            "right": null,
            "top": null,
            "visibility": null,
            "width": null
          }
        },
        "9ed074e281d6494d9d07de8b52a13539": {
          "model_module": "@jupyter-widgets/base",
          "model_name": "LayoutModel",
          "model_module_version": "1.2.0",
          "state": {
            "_model_module": "@jupyter-widgets/base",
            "_model_module_version": "1.2.0",
            "_model_name": "LayoutModel",
            "_view_count": null,
            "_view_module": "@jupyter-widgets/base",
            "_view_module_version": "1.2.0",
            "_view_name": "LayoutView",
            "align_content": null,
            "align_items": null,
            "align_self": null,
            "border": null,
            "bottom": null,
            "display": null,
            "flex": null,
            "flex_flow": null,
            "grid_area": null,
            "grid_auto_columns": null,
            "grid_auto_flow": null,
            "grid_auto_rows": null,
            "grid_column": null,
            "grid_gap": null,
            "grid_row": null,
            "grid_template_areas": null,
            "grid_template_columns": null,
            "grid_template_rows": null,
            "height": null,
            "justify_content": null,
            "justify_items": null,
            "left": null,
            "margin": null,
            "max_height": null,
            "max_width": null,
            "min_height": null,
            "min_width": null,
            "object_fit": null,
            "object_position": null,
            "order": null,
            "overflow": null,
            "overflow_x": null,
            "overflow_y": null,
            "padding": null,
            "right": null,
            "top": null,
            "visibility": null,
            "width": null
          }
        },
        "36cc120cb86a45bcbd430c251e683de6": {
          "model_module": "@jupyter-widgets/controls",
          "model_name": "DescriptionStyleModel",
          "model_module_version": "1.5.0",
          "state": {
            "_model_module": "@jupyter-widgets/controls",
            "_model_module_version": "1.5.0",
            "_model_name": "DescriptionStyleModel",
            "_view_count": null,
            "_view_module": "@jupyter-widgets/base",
            "_view_module_version": "1.2.0",
            "_view_name": "StyleView",
            "description_width": ""
          }
        },
        "9284599388d247d6bf4083bebb27e119": {
          "model_module": "@jupyter-widgets/base",
          "model_name": "LayoutModel",
          "model_module_version": "1.2.0",
          "state": {
            "_model_module": "@jupyter-widgets/base",
            "_model_module_version": "1.2.0",
            "_model_name": "LayoutModel",
            "_view_count": null,
            "_view_module": "@jupyter-widgets/base",
            "_view_module_version": "1.2.0",
            "_view_name": "LayoutView",
            "align_content": null,
            "align_items": null,
            "align_self": null,
            "border": null,
            "bottom": null,
            "display": null,
            "flex": null,
            "flex_flow": null,
            "grid_area": null,
            "grid_auto_columns": null,
            "grid_auto_flow": null,
            "grid_auto_rows": null,
            "grid_column": null,
            "grid_gap": null,
            "grid_row": null,
            "grid_template_areas": null,
            "grid_template_columns": null,
            "grid_template_rows": null,
            "height": null,
            "justify_content": null,
            "justify_items": null,
            "left": null,
            "margin": null,
            "max_height": null,
            "max_width": null,
            "min_height": null,
            "min_width": null,
            "object_fit": null,
            "object_position": null,
            "order": null,
            "overflow": null,
            "overflow_x": null,
            "overflow_y": null,
            "padding": null,
            "right": null,
            "top": null,
            "visibility": null,
            "width": null
          }
        },
        "39bd1087b031403391e48abe0d3bccb5": {
          "model_module": "@jupyter-widgets/controls",
          "model_name": "ProgressStyleModel",
          "model_module_version": "1.5.0",
          "state": {
            "_model_module": "@jupyter-widgets/controls",
            "_model_module_version": "1.5.0",
            "_model_name": "ProgressStyleModel",
            "_view_count": null,
            "_view_module": "@jupyter-widgets/base",
            "_view_module_version": "1.2.0",
            "_view_name": "StyleView",
            "bar_color": null,
            "description_width": ""
          }
        },
        "4abb52d6084d409096d09dec9ad87f6a": {
          "model_module": "@jupyter-widgets/base",
          "model_name": "LayoutModel",
          "model_module_version": "1.2.0",
          "state": {
            "_model_module": "@jupyter-widgets/base",
            "_model_module_version": "1.2.0",
            "_model_name": "LayoutModel",
            "_view_count": null,
            "_view_module": "@jupyter-widgets/base",
            "_view_module_version": "1.2.0",
            "_view_name": "LayoutView",
            "align_content": null,
            "align_items": null,
            "align_self": null,
            "border": null,
            "bottom": null,
            "display": null,
            "flex": null,
            "flex_flow": null,
            "grid_area": null,
            "grid_auto_columns": null,
            "grid_auto_flow": null,
            "grid_auto_rows": null,
            "grid_column": null,
            "grid_gap": null,
            "grid_row": null,
            "grid_template_areas": null,
            "grid_template_columns": null,
            "grid_template_rows": null,
            "height": null,
            "justify_content": null,
            "justify_items": null,
            "left": null,
            "margin": null,
            "max_height": null,
            "max_width": null,
            "min_height": null,
            "min_width": null,
            "object_fit": null,
            "object_position": null,
            "order": null,
            "overflow": null,
            "overflow_x": null,
            "overflow_y": null,
            "padding": null,
            "right": null,
            "top": null,
            "visibility": null,
            "width": null
          }
        },
        "9faba4ff59b54eaea4710f505ee9235c": {
          "model_module": "@jupyter-widgets/controls",
          "model_name": "DescriptionStyleModel",
          "model_module_version": "1.5.0",
          "state": {
            "_model_module": "@jupyter-widgets/controls",
            "_model_module_version": "1.5.0",
            "_model_name": "DescriptionStyleModel",
            "_view_count": null,
            "_view_module": "@jupyter-widgets/base",
            "_view_module_version": "1.2.0",
            "_view_name": "StyleView",
            "description_width": ""
          }
        },
        "9c09c72b584b424f9e2b374e27b4a760": {
          "model_module": "@jupyter-widgets/controls",
          "model_name": "HBoxModel",
          "model_module_version": "1.5.0",
          "state": {
            "_dom_classes": [],
            "_model_module": "@jupyter-widgets/controls",
            "_model_module_version": "1.5.0",
            "_model_name": "HBoxModel",
            "_view_count": null,
            "_view_module": "@jupyter-widgets/controls",
            "_view_module_version": "1.5.0",
            "_view_name": "HBoxView",
            "box_style": "",
            "children": [
              "IPY_MODEL_d50c9073e0e243c3a425460f4ac57dc7",
              "IPY_MODEL_95ef9d8b1af94c15a977c63da72791d4",
              "IPY_MODEL_3b60f13d38c9414b9f00d07851ffba97"
            ],
            "layout": "IPY_MODEL_a6368c76fe354ea7a10ffbb9e66c424d"
          }
        },
        "d50c9073e0e243c3a425460f4ac57dc7": {
          "model_module": "@jupyter-widgets/controls",
          "model_name": "HTMLModel",
          "model_module_version": "1.5.0",
          "state": {
            "_dom_classes": [],
            "_model_module": "@jupyter-widgets/controls",
            "_model_module_version": "1.5.0",
            "_model_name": "HTMLModel",
            "_view_count": null,
            "_view_module": "@jupyter-widgets/controls",
            "_view_module_version": "1.5.0",
            "_view_name": "HTMLView",
            "description": "",
            "description_tooltip": null,
            "layout": "IPY_MODEL_0b3165264dbd4f13b60debc4d76c525b",
            "placeholder": "​",
            "style": "IPY_MODEL_d82ee16aad544775a17255c502c04143",
            "value": "tokenizer_config.json: 100%"
          }
        },
        "95ef9d8b1af94c15a977c63da72791d4": {
          "model_module": "@jupyter-widgets/controls",
          "model_name": "FloatProgressModel",
          "model_module_version": "1.5.0",
          "state": {
            "_dom_classes": [],
            "_model_module": "@jupyter-widgets/controls",
            "_model_module_version": "1.5.0",
            "_model_name": "FloatProgressModel",
            "_view_count": null,
            "_view_module": "@jupyter-widgets/controls",
            "_view_module_version": "1.5.0",
            "_view_name": "ProgressView",
            "bar_style": "success",
            "description": "",
            "description_tooltip": null,
            "layout": "IPY_MODEL_df24302f9dbc4cc6b51e560d2750c8e3",
            "max": 48,
            "min": 0,
            "orientation": "horizontal",
            "style": "IPY_MODEL_bd42aa5b12fa4828aa02bbb332578873",
            "value": 48
          }
        },
        "3b60f13d38c9414b9f00d07851ffba97": {
          "model_module": "@jupyter-widgets/controls",
          "model_name": "HTMLModel",
          "model_module_version": "1.5.0",
          "state": {
            "_dom_classes": [],
            "_model_module": "@jupyter-widgets/controls",
            "_model_module_version": "1.5.0",
            "_model_name": "HTMLModel",
            "_view_count": null,
            "_view_module": "@jupyter-widgets/controls",
            "_view_module_version": "1.5.0",
            "_view_name": "HTMLView",
            "description": "",
            "description_tooltip": null,
            "layout": "IPY_MODEL_209e68a3e31a43a3a5ba2f9625224825",
            "placeholder": "​",
            "style": "IPY_MODEL_c3af2ee6fd9c46749dbf3015d782c20b",
            "value": " 48.0/48.0 [00:00&lt;00:00, 2.57kB/s]"
          }
        },
        "a6368c76fe354ea7a10ffbb9e66c424d": {
          "model_module": "@jupyter-widgets/base",
          "model_name": "LayoutModel",
          "model_module_version": "1.2.0",
          "state": {
            "_model_module": "@jupyter-widgets/base",
            "_model_module_version": "1.2.0",
            "_model_name": "LayoutModel",
            "_view_count": null,
            "_view_module": "@jupyter-widgets/base",
            "_view_module_version": "1.2.0",
            "_view_name": "LayoutView",
            "align_content": null,
            "align_items": null,
            "align_self": null,
            "border": null,
            "bottom": null,
            "display": null,
            "flex": null,
            "flex_flow": null,
            "grid_area": null,
            "grid_auto_columns": null,
            "grid_auto_flow": null,
            "grid_auto_rows": null,
            "grid_column": null,
            "grid_gap": null,
            "grid_row": null,
            "grid_template_areas": null,
            "grid_template_columns": null,
            "grid_template_rows": null,
            "height": null,
            "justify_content": null,
            "justify_items": null,
            "left": null,
            "margin": null,
            "max_height": null,
            "max_width": null,
            "min_height": null,
            "min_width": null,
            "object_fit": null,
            "object_position": null,
            "order": null,
            "overflow": null,
            "overflow_x": null,
            "overflow_y": null,
            "padding": null,
            "right": null,
            "top": null,
            "visibility": null,
            "width": null
          }
        },
        "0b3165264dbd4f13b60debc4d76c525b": {
          "model_module": "@jupyter-widgets/base",
          "model_name": "LayoutModel",
          "model_module_version": "1.2.0",
          "state": {
            "_model_module": "@jupyter-widgets/base",
            "_model_module_version": "1.2.0",
            "_model_name": "LayoutModel",
            "_view_count": null,
            "_view_module": "@jupyter-widgets/base",
            "_view_module_version": "1.2.0",
            "_view_name": "LayoutView",
            "align_content": null,
            "align_items": null,
            "align_self": null,
            "border": null,
            "bottom": null,
            "display": null,
            "flex": null,
            "flex_flow": null,
            "grid_area": null,
            "grid_auto_columns": null,
            "grid_auto_flow": null,
            "grid_auto_rows": null,
            "grid_column": null,
            "grid_gap": null,
            "grid_row": null,
            "grid_template_areas": null,
            "grid_template_columns": null,
            "grid_template_rows": null,
            "height": null,
            "justify_content": null,
            "justify_items": null,
            "left": null,
            "margin": null,
            "max_height": null,
            "max_width": null,
            "min_height": null,
            "min_width": null,
            "object_fit": null,
            "object_position": null,
            "order": null,
            "overflow": null,
            "overflow_x": null,
            "overflow_y": null,
            "padding": null,
            "right": null,
            "top": null,
            "visibility": null,
            "width": null
          }
        },
        "d82ee16aad544775a17255c502c04143": {
          "model_module": "@jupyter-widgets/controls",
          "model_name": "DescriptionStyleModel",
          "model_module_version": "1.5.0",
          "state": {
            "_model_module": "@jupyter-widgets/controls",
            "_model_module_version": "1.5.0",
            "_model_name": "DescriptionStyleModel",
            "_view_count": null,
            "_view_module": "@jupyter-widgets/base",
            "_view_module_version": "1.2.0",
            "_view_name": "StyleView",
            "description_width": ""
          }
        },
        "df24302f9dbc4cc6b51e560d2750c8e3": {
          "model_module": "@jupyter-widgets/base",
          "model_name": "LayoutModel",
          "model_module_version": "1.2.0",
          "state": {
            "_model_module": "@jupyter-widgets/base",
            "_model_module_version": "1.2.0",
            "_model_name": "LayoutModel",
            "_view_count": null,
            "_view_module": "@jupyter-widgets/base",
            "_view_module_version": "1.2.0",
            "_view_name": "LayoutView",
            "align_content": null,
            "align_items": null,
            "align_self": null,
            "border": null,
            "bottom": null,
            "display": null,
            "flex": null,
            "flex_flow": null,
            "grid_area": null,
            "grid_auto_columns": null,
            "grid_auto_flow": null,
            "grid_auto_rows": null,
            "grid_column": null,
            "grid_gap": null,
            "grid_row": null,
            "grid_template_areas": null,
            "grid_template_columns": null,
            "grid_template_rows": null,
            "height": null,
            "justify_content": null,
            "justify_items": null,
            "left": null,
            "margin": null,
            "max_height": null,
            "max_width": null,
            "min_height": null,
            "min_width": null,
            "object_fit": null,
            "object_position": null,
            "order": null,
            "overflow": null,
            "overflow_x": null,
            "overflow_y": null,
            "padding": null,
            "right": null,
            "top": null,
            "visibility": null,
            "width": null
          }
        },
        "bd42aa5b12fa4828aa02bbb332578873": {
          "model_module": "@jupyter-widgets/controls",
          "model_name": "ProgressStyleModel",
          "model_module_version": "1.5.0",
          "state": {
            "_model_module": "@jupyter-widgets/controls",
            "_model_module_version": "1.5.0",
            "_model_name": "ProgressStyleModel",
            "_view_count": null,
            "_view_module": "@jupyter-widgets/base",
            "_view_module_version": "1.2.0",
            "_view_name": "StyleView",
            "bar_color": null,
            "description_width": ""
          }
        },
        "209e68a3e31a43a3a5ba2f9625224825": {
          "model_module": "@jupyter-widgets/base",
          "model_name": "LayoutModel",
          "model_module_version": "1.2.0",
          "state": {
            "_model_module": "@jupyter-widgets/base",
            "_model_module_version": "1.2.0",
            "_model_name": "LayoutModel",
            "_view_count": null,
            "_view_module": "@jupyter-widgets/base",
            "_view_module_version": "1.2.0",
            "_view_name": "LayoutView",
            "align_content": null,
            "align_items": null,
            "align_self": null,
            "border": null,
            "bottom": null,
            "display": null,
            "flex": null,
            "flex_flow": null,
            "grid_area": null,
            "grid_auto_columns": null,
            "grid_auto_flow": null,
            "grid_auto_rows": null,
            "grid_column": null,
            "grid_gap": null,
            "grid_row": null,
            "grid_template_areas": null,
            "grid_template_columns": null,
            "grid_template_rows": null,
            "height": null,
            "justify_content": null,
            "justify_items": null,
            "left": null,
            "margin": null,
            "max_height": null,
            "max_width": null,
            "min_height": null,
            "min_width": null,
            "object_fit": null,
            "object_position": null,
            "order": null,
            "overflow": null,
            "overflow_x": null,
            "overflow_y": null,
            "padding": null,
            "right": null,
            "top": null,
            "visibility": null,
            "width": null
          }
        },
        "c3af2ee6fd9c46749dbf3015d782c20b": {
          "model_module": "@jupyter-widgets/controls",
          "model_name": "DescriptionStyleModel",
          "model_module_version": "1.5.0",
          "state": {
            "_model_module": "@jupyter-widgets/controls",
            "_model_module_version": "1.5.0",
            "_model_name": "DescriptionStyleModel",
            "_view_count": null,
            "_view_module": "@jupyter-widgets/base",
            "_view_module_version": "1.2.0",
            "_view_name": "StyleView",
            "description_width": ""
          }
        },
        "75b2c9252f0146d89080054c8b4e908b": {
          "model_module": "@jupyter-widgets/controls",
          "model_name": "HBoxModel",
          "model_module_version": "1.5.0",
          "state": {
            "_dom_classes": [],
            "_model_module": "@jupyter-widgets/controls",
            "_model_module_version": "1.5.0",
            "_model_name": "HBoxModel",
            "_view_count": null,
            "_view_module": "@jupyter-widgets/controls",
            "_view_module_version": "1.5.0",
            "_view_name": "HBoxView",
            "box_style": "",
            "children": [
              "IPY_MODEL_ec478124073e422eb3dfbd3f5f8e0e34",
              "IPY_MODEL_35044a01d8a24784a030287d43da374e",
              "IPY_MODEL_2540ef31b25b47b8b44472d1a470d1c1"
            ],
            "layout": "IPY_MODEL_c6a78118ad5c4d278a9b03271a63e7d9"
          }
        },
        "ec478124073e422eb3dfbd3f5f8e0e34": {
          "model_module": "@jupyter-widgets/controls",
          "model_name": "HTMLModel",
          "model_module_version": "1.5.0",
          "state": {
            "_dom_classes": [],
            "_model_module": "@jupyter-widgets/controls",
            "_model_module_version": "1.5.0",
            "_model_name": "HTMLModel",
            "_view_count": null,
            "_view_module": "@jupyter-widgets/controls",
            "_view_module_version": "1.5.0",
            "_view_name": "HTMLView",
            "description": "",
            "description_tooltip": null,
            "layout": "IPY_MODEL_120d87c9f7fb4db78d4ae32e83100367",
            "placeholder": "​",
            "style": "IPY_MODEL_929930063a3349c1a905999eb70833fa",
            "value": "vocab.txt: 100%"
          }
        },
        "35044a01d8a24784a030287d43da374e": {
          "model_module": "@jupyter-widgets/controls",
          "model_name": "FloatProgressModel",
          "model_module_version": "1.5.0",
          "state": {
            "_dom_classes": [],
            "_model_module": "@jupyter-widgets/controls",
            "_model_module_version": "1.5.0",
            "_model_name": "FloatProgressModel",
            "_view_count": null,
            "_view_module": "@jupyter-widgets/controls",
            "_view_module_version": "1.5.0",
            "_view_name": "ProgressView",
            "bar_style": "success",
            "description": "",
            "description_tooltip": null,
            "layout": "IPY_MODEL_1aef71e9a2bb40e183b5459b273b14c3",
            "max": 231508,
            "min": 0,
            "orientation": "horizontal",
            "style": "IPY_MODEL_987ec63b39964715ba25e74589dfd432",
            "value": 231508
          }
        },
        "2540ef31b25b47b8b44472d1a470d1c1": {
          "model_module": "@jupyter-widgets/controls",
          "model_name": "HTMLModel",
          "model_module_version": "1.5.0",
          "state": {
            "_dom_classes": [],
            "_model_module": "@jupyter-widgets/controls",
            "_model_module_version": "1.5.0",
            "_model_name": "HTMLModel",
            "_view_count": null,
            "_view_module": "@jupyter-widgets/controls",
            "_view_module_version": "1.5.0",
            "_view_name": "HTMLView",
            "description": "",
            "description_tooltip": null,
            "layout": "IPY_MODEL_1da9a0cc099143f49e2f7573aba495db",
            "placeholder": "​",
            "style": "IPY_MODEL_b7d4956349b1477d9fb8b4cf49a3876e",
            "value": " 232k/232k [00:00&lt;00:00, 3.13MB/s]"
          }
        },
        "c6a78118ad5c4d278a9b03271a63e7d9": {
          "model_module": "@jupyter-widgets/base",
          "model_name": "LayoutModel",
          "model_module_version": "1.2.0",
          "state": {
            "_model_module": "@jupyter-widgets/base",
            "_model_module_version": "1.2.0",
            "_model_name": "LayoutModel",
            "_view_count": null,
            "_view_module": "@jupyter-widgets/base",
            "_view_module_version": "1.2.0",
            "_view_name": "LayoutView",
            "align_content": null,
            "align_items": null,
            "align_self": null,
            "border": null,
            "bottom": null,
            "display": null,
            "flex": null,
            "flex_flow": null,
            "grid_area": null,
            "grid_auto_columns": null,
            "grid_auto_flow": null,
            "grid_auto_rows": null,
            "grid_column": null,
            "grid_gap": null,
            "grid_row": null,
            "grid_template_areas": null,
            "grid_template_columns": null,
            "grid_template_rows": null,
            "height": null,
            "justify_content": null,
            "justify_items": null,
            "left": null,
            "margin": null,
            "max_height": null,
            "max_width": null,
            "min_height": null,
            "min_width": null,
            "object_fit": null,
            "object_position": null,
            "order": null,
            "overflow": null,
            "overflow_x": null,
            "overflow_y": null,
            "padding": null,
            "right": null,
            "top": null,
            "visibility": null,
            "width": null
          }
        },
        "120d87c9f7fb4db78d4ae32e83100367": {
          "model_module": "@jupyter-widgets/base",
          "model_name": "LayoutModel",
          "model_module_version": "1.2.0",
          "state": {
            "_model_module": "@jupyter-widgets/base",
            "_model_module_version": "1.2.0",
            "_model_name": "LayoutModel",
            "_view_count": null,
            "_view_module": "@jupyter-widgets/base",
            "_view_module_version": "1.2.0",
            "_view_name": "LayoutView",
            "align_content": null,
            "align_items": null,
            "align_self": null,
            "border": null,
            "bottom": null,
            "display": null,
            "flex": null,
            "flex_flow": null,
            "grid_area": null,
            "grid_auto_columns": null,
            "grid_auto_flow": null,
            "grid_auto_rows": null,
            "grid_column": null,
            "grid_gap": null,
            "grid_row": null,
            "grid_template_areas": null,
            "grid_template_columns": null,
            "grid_template_rows": null,
            "height": null,
            "justify_content": null,
            "justify_items": null,
            "left": null,
            "margin": null,
            "max_height": null,
            "max_width": null,
            "min_height": null,
            "min_width": null,
            "object_fit": null,
            "object_position": null,
            "order": null,
            "overflow": null,
            "overflow_x": null,
            "overflow_y": null,
            "padding": null,
            "right": null,
            "top": null,
            "visibility": null,
            "width": null
          }
        },
        "929930063a3349c1a905999eb70833fa": {
          "model_module": "@jupyter-widgets/controls",
          "model_name": "DescriptionStyleModel",
          "model_module_version": "1.5.0",
          "state": {
            "_model_module": "@jupyter-widgets/controls",
            "_model_module_version": "1.5.0",
            "_model_name": "DescriptionStyleModel",
            "_view_count": null,
            "_view_module": "@jupyter-widgets/base",
            "_view_module_version": "1.2.0",
            "_view_name": "StyleView",
            "description_width": ""
          }
        },
        "1aef71e9a2bb40e183b5459b273b14c3": {
          "model_module": "@jupyter-widgets/base",
          "model_name": "LayoutModel",
          "model_module_version": "1.2.0",
          "state": {
            "_model_module": "@jupyter-widgets/base",
            "_model_module_version": "1.2.0",
            "_model_name": "LayoutModel",
            "_view_count": null,
            "_view_module": "@jupyter-widgets/base",
            "_view_module_version": "1.2.0",
            "_view_name": "LayoutView",
            "align_content": null,
            "align_items": null,
            "align_self": null,
            "border": null,
            "bottom": null,
            "display": null,
            "flex": null,
            "flex_flow": null,
            "grid_area": null,
            "grid_auto_columns": null,
            "grid_auto_flow": null,
            "grid_auto_rows": null,
            "grid_column": null,
            "grid_gap": null,
            "grid_row": null,
            "grid_template_areas": null,
            "grid_template_columns": null,
            "grid_template_rows": null,
            "height": null,
            "justify_content": null,
            "justify_items": null,
            "left": null,
            "margin": null,
            "max_height": null,
            "max_width": null,
            "min_height": null,
            "min_width": null,
            "object_fit": null,
            "object_position": null,
            "order": null,
            "overflow": null,
            "overflow_x": null,
            "overflow_y": null,
            "padding": null,
            "right": null,
            "top": null,
            "visibility": null,
            "width": null
          }
        },
        "987ec63b39964715ba25e74589dfd432": {
          "model_module": "@jupyter-widgets/controls",
          "model_name": "ProgressStyleModel",
          "model_module_version": "1.5.0",
          "state": {
            "_model_module": "@jupyter-widgets/controls",
            "_model_module_version": "1.5.0",
            "_model_name": "ProgressStyleModel",
            "_view_count": null,
            "_view_module": "@jupyter-widgets/base",
            "_view_module_version": "1.2.0",
            "_view_name": "StyleView",
            "bar_color": null,
            "description_width": ""
          }
        },
        "1da9a0cc099143f49e2f7573aba495db": {
          "model_module": "@jupyter-widgets/base",
          "model_name": "LayoutModel",
          "model_module_version": "1.2.0",
          "state": {
            "_model_module": "@jupyter-widgets/base",
            "_model_module_version": "1.2.0",
            "_model_name": "LayoutModel",
            "_view_count": null,
            "_view_module": "@jupyter-widgets/base",
            "_view_module_version": "1.2.0",
            "_view_name": "LayoutView",
            "align_content": null,
            "align_items": null,
            "align_self": null,
            "border": null,
            "bottom": null,
            "display": null,
            "flex": null,
            "flex_flow": null,
            "grid_area": null,
            "grid_auto_columns": null,
            "grid_auto_flow": null,
            "grid_auto_rows": null,
            "grid_column": null,
            "grid_gap": null,
            "grid_row": null,
            "grid_template_areas": null,
            "grid_template_columns": null,
            "grid_template_rows": null,
            "height": null,
            "justify_content": null,
            "justify_items": null,
            "left": null,
            "margin": null,
            "max_height": null,
            "max_width": null,
            "min_height": null,
            "min_width": null,
            "object_fit": null,
            "object_position": null,
            "order": null,
            "overflow": null,
            "overflow_x": null,
            "overflow_y": null,
            "padding": null,
            "right": null,
            "top": null,
            "visibility": null,
            "width": null
          }
        },
        "b7d4956349b1477d9fb8b4cf49a3876e": {
          "model_module": "@jupyter-widgets/controls",
          "model_name": "DescriptionStyleModel",
          "model_module_version": "1.5.0",
          "state": {
            "_model_module": "@jupyter-widgets/controls",
            "_model_module_version": "1.5.0",
            "_model_name": "DescriptionStyleModel",
            "_view_count": null,
            "_view_module": "@jupyter-widgets/base",
            "_view_module_version": "1.2.0",
            "_view_name": "StyleView",
            "description_width": ""
          }
        },
        "06e8482736d34d448461daafb707586c": {
          "model_module": "@jupyter-widgets/controls",
          "model_name": "HBoxModel",
          "model_module_version": "1.5.0",
          "state": {
            "_dom_classes": [],
            "_model_module": "@jupyter-widgets/controls",
            "_model_module_version": "1.5.0",
            "_model_name": "HBoxModel",
            "_view_count": null,
            "_view_module": "@jupyter-widgets/controls",
            "_view_module_version": "1.5.0",
            "_view_name": "HBoxView",
            "box_style": "",
            "children": [
              "IPY_MODEL_a30e138bc52d4bd4baaf41db60355a6b",
              "IPY_MODEL_63c6fa86de59421184ed29ad19b454ad",
              "IPY_MODEL_bb41d061a0a44890a52bd6bfa87629c4"
            ],
            "layout": "IPY_MODEL_e200555711af4debbd52f7d9c8bab564"
          }
        },
        "a30e138bc52d4bd4baaf41db60355a6b": {
          "model_module": "@jupyter-widgets/controls",
          "model_name": "HTMLModel",
          "model_module_version": "1.5.0",
          "state": {
            "_dom_classes": [],
            "_model_module": "@jupyter-widgets/controls",
            "_model_module_version": "1.5.0",
            "_model_name": "HTMLModel",
            "_view_count": null,
            "_view_module": "@jupyter-widgets/controls",
            "_view_module_version": "1.5.0",
            "_view_name": "HTMLView",
            "description": "",
            "description_tooltip": null,
            "layout": "IPY_MODEL_6bec793d31f2434c80fc2c70dcfd7842",
            "placeholder": "​",
            "style": "IPY_MODEL_d79c2467dbd34278ac4a82b50f0a311d",
            "value": "tokenizer.json: 100%"
          }
        },
        "63c6fa86de59421184ed29ad19b454ad": {
          "model_module": "@jupyter-widgets/controls",
          "model_name": "FloatProgressModel",
          "model_module_version": "1.5.0",
          "state": {
            "_dom_classes": [],
            "_model_module": "@jupyter-widgets/controls",
            "_model_module_version": "1.5.0",
            "_model_name": "FloatProgressModel",
            "_view_count": null,
            "_view_module": "@jupyter-widgets/controls",
            "_view_module_version": "1.5.0",
            "_view_name": "ProgressView",
            "bar_style": "success",
            "description": "",
            "description_tooltip": null,
            "layout": "IPY_MODEL_063c0247ff5e4a4d9589a9c9c00d2047",
            "max": 466062,
            "min": 0,
            "orientation": "horizontal",
            "style": "IPY_MODEL_1cd18afa64e442d7993cb5ebb6701802",
            "value": 466062
          }
        },
        "bb41d061a0a44890a52bd6bfa87629c4": {
          "model_module": "@jupyter-widgets/controls",
          "model_name": "HTMLModel",
          "model_module_version": "1.5.0",
          "state": {
            "_dom_classes": [],
            "_model_module": "@jupyter-widgets/controls",
            "_model_module_version": "1.5.0",
            "_model_name": "HTMLModel",
            "_view_count": null,
            "_view_module": "@jupyter-widgets/controls",
            "_view_module_version": "1.5.0",
            "_view_name": "HTMLView",
            "description": "",
            "description_tooltip": null,
            "layout": "IPY_MODEL_4fbb1c3802944d3cab3c41f47c75c9fd",
            "placeholder": "​",
            "style": "IPY_MODEL_8cee04fd4ac2432e9ad2d652c22c8dad",
            "value": " 466k/466k [00:00&lt;00:00, 6.22MB/s]"
          }
        },
        "e200555711af4debbd52f7d9c8bab564": {
          "model_module": "@jupyter-widgets/base",
          "model_name": "LayoutModel",
          "model_module_version": "1.2.0",
          "state": {
            "_model_module": "@jupyter-widgets/base",
            "_model_module_version": "1.2.0",
            "_model_name": "LayoutModel",
            "_view_count": null,
            "_view_module": "@jupyter-widgets/base",
            "_view_module_version": "1.2.0",
            "_view_name": "LayoutView",
            "align_content": null,
            "align_items": null,
            "align_self": null,
            "border": null,
            "bottom": null,
            "display": null,
            "flex": null,
            "flex_flow": null,
            "grid_area": null,
            "grid_auto_columns": null,
            "grid_auto_flow": null,
            "grid_auto_rows": null,
            "grid_column": null,
            "grid_gap": null,
            "grid_row": null,
            "grid_template_areas": null,
            "grid_template_columns": null,
            "grid_template_rows": null,
            "height": null,
            "justify_content": null,
            "justify_items": null,
            "left": null,
            "margin": null,
            "max_height": null,
            "max_width": null,
            "min_height": null,
            "min_width": null,
            "object_fit": null,
            "object_position": null,
            "order": null,
            "overflow": null,
            "overflow_x": null,
            "overflow_y": null,
            "padding": null,
            "right": null,
            "top": null,
            "visibility": null,
            "width": null
          }
        },
        "6bec793d31f2434c80fc2c70dcfd7842": {
          "model_module": "@jupyter-widgets/base",
          "model_name": "LayoutModel",
          "model_module_version": "1.2.0",
          "state": {
            "_model_module": "@jupyter-widgets/base",
            "_model_module_version": "1.2.0",
            "_model_name": "LayoutModel",
            "_view_count": null,
            "_view_module": "@jupyter-widgets/base",
            "_view_module_version": "1.2.0",
            "_view_name": "LayoutView",
            "align_content": null,
            "align_items": null,
            "align_self": null,
            "border": null,
            "bottom": null,
            "display": null,
            "flex": null,
            "flex_flow": null,
            "grid_area": null,
            "grid_auto_columns": null,
            "grid_auto_flow": null,
            "grid_auto_rows": null,
            "grid_column": null,
            "grid_gap": null,
            "grid_row": null,
            "grid_template_areas": null,
            "grid_template_columns": null,
            "grid_template_rows": null,
            "height": null,
            "justify_content": null,
            "justify_items": null,
            "left": null,
            "margin": null,
            "max_height": null,
            "max_width": null,
            "min_height": null,
            "min_width": null,
            "object_fit": null,
            "object_position": null,
            "order": null,
            "overflow": null,
            "overflow_x": null,
            "overflow_y": null,
            "padding": null,
            "right": null,
            "top": null,
            "visibility": null,
            "width": null
          }
        },
        "d79c2467dbd34278ac4a82b50f0a311d": {
          "model_module": "@jupyter-widgets/controls",
          "model_name": "DescriptionStyleModel",
          "model_module_version": "1.5.0",
          "state": {
            "_model_module": "@jupyter-widgets/controls",
            "_model_module_version": "1.5.0",
            "_model_name": "DescriptionStyleModel",
            "_view_count": null,
            "_view_module": "@jupyter-widgets/base",
            "_view_module_version": "1.2.0",
            "_view_name": "StyleView",
            "description_width": ""
          }
        },
        "063c0247ff5e4a4d9589a9c9c00d2047": {
          "model_module": "@jupyter-widgets/base",
          "model_name": "LayoutModel",
          "model_module_version": "1.2.0",
          "state": {
            "_model_module": "@jupyter-widgets/base",
            "_model_module_version": "1.2.0",
            "_model_name": "LayoutModel",
            "_view_count": null,
            "_view_module": "@jupyter-widgets/base",
            "_view_module_version": "1.2.0",
            "_view_name": "LayoutView",
            "align_content": null,
            "align_items": null,
            "align_self": null,
            "border": null,
            "bottom": null,
            "display": null,
            "flex": null,
            "flex_flow": null,
            "grid_area": null,
            "grid_auto_columns": null,
            "grid_auto_flow": null,
            "grid_auto_rows": null,
            "grid_column": null,
            "grid_gap": null,
            "grid_row": null,
            "grid_template_areas": null,
            "grid_template_columns": null,
            "grid_template_rows": null,
            "height": null,
            "justify_content": null,
            "justify_items": null,
            "left": null,
            "margin": null,
            "max_height": null,
            "max_width": null,
            "min_height": null,
            "min_width": null,
            "object_fit": null,
            "object_position": null,
            "order": null,
            "overflow": null,
            "overflow_x": null,
            "overflow_y": null,
            "padding": null,
            "right": null,
            "top": null,
            "visibility": null,
            "width": null
          }
        },
        "1cd18afa64e442d7993cb5ebb6701802": {
          "model_module": "@jupyter-widgets/controls",
          "model_name": "ProgressStyleModel",
          "model_module_version": "1.5.0",
          "state": {
            "_model_module": "@jupyter-widgets/controls",
            "_model_module_version": "1.5.0",
            "_model_name": "ProgressStyleModel",
            "_view_count": null,
            "_view_module": "@jupyter-widgets/base",
            "_view_module_version": "1.2.0",
            "_view_name": "StyleView",
            "bar_color": null,
            "description_width": ""
          }
        },
        "4fbb1c3802944d3cab3c41f47c75c9fd": {
          "model_module": "@jupyter-widgets/base",
          "model_name": "LayoutModel",
          "model_module_version": "1.2.0",
          "state": {
            "_model_module": "@jupyter-widgets/base",
            "_model_module_version": "1.2.0",
            "_model_name": "LayoutModel",
            "_view_count": null,
            "_view_module": "@jupyter-widgets/base",
            "_view_module_version": "1.2.0",
            "_view_name": "LayoutView",
            "align_content": null,
            "align_items": null,
            "align_self": null,
            "border": null,
            "bottom": null,
            "display": null,
            "flex": null,
            "flex_flow": null,
            "grid_area": null,
            "grid_auto_columns": null,
            "grid_auto_flow": null,
            "grid_auto_rows": null,
            "grid_column": null,
            "grid_gap": null,
            "grid_row": null,
            "grid_template_areas": null,
            "grid_template_columns": null,
            "grid_template_rows": null,
            "height": null,
            "justify_content": null,
            "justify_items": null,
            "left": null,
            "margin": null,
            "max_height": null,
            "max_width": null,
            "min_height": null,
            "min_width": null,
            "object_fit": null,
            "object_position": null,
            "order": null,
            "overflow": null,
            "overflow_x": null,
            "overflow_y": null,
            "padding": null,
            "right": null,
            "top": null,
            "visibility": null,
            "width": null
          }
        },
        "8cee04fd4ac2432e9ad2d652c22c8dad": {
          "model_module": "@jupyter-widgets/controls",
          "model_name": "DescriptionStyleModel",
          "model_module_version": "1.5.0",
          "state": {
            "_model_module": "@jupyter-widgets/controls",
            "_model_module_version": "1.5.0",
            "_model_name": "DescriptionStyleModel",
            "_view_count": null,
            "_view_module": "@jupyter-widgets/base",
            "_view_module_version": "1.2.0",
            "_view_name": "StyleView",
            "description_width": ""
          }
        },
        "f467bfe9668849f082af943029429c33": {
          "model_module": "@jupyter-widgets/controls",
          "model_name": "HBoxModel",
          "model_module_version": "1.5.0",
          "state": {
            "_dom_classes": [],
            "_model_module": "@jupyter-widgets/controls",
            "_model_module_version": "1.5.0",
            "_model_name": "HBoxModel",
            "_view_count": null,
            "_view_module": "@jupyter-widgets/controls",
            "_view_module_version": "1.5.0",
            "_view_name": "HBoxView",
            "box_style": "",
            "children": [
              "IPY_MODEL_063cfa7aa55f46619e8c76314e988275",
              "IPY_MODEL_06f9bf9ddc474275bb6874ded90d2eee",
              "IPY_MODEL_6026c9f9894d4edc94003932ccae4796"
            ],
            "layout": "IPY_MODEL_9740675bce0d49ff8e042b2516152cb6"
          }
        },
        "063cfa7aa55f46619e8c76314e988275": {
          "model_module": "@jupyter-widgets/controls",
          "model_name": "HTMLModel",
          "model_module_version": "1.5.0",
          "state": {
            "_dom_classes": [],
            "_model_module": "@jupyter-widgets/controls",
            "_model_module_version": "1.5.0",
            "_model_name": "HTMLModel",
            "_view_count": null,
            "_view_module": "@jupyter-widgets/controls",
            "_view_module_version": "1.5.0",
            "_view_name": "HTMLView",
            "description": "",
            "description_tooltip": null,
            "layout": "IPY_MODEL_18288a0f2edd4a0f8011296602d24932",
            "placeholder": "​",
            "style": "IPY_MODEL_98ceb855ac55435f844b1a3ef450cb34",
            "value": "config.json: 100%"
          }
        },
        "06f9bf9ddc474275bb6874ded90d2eee": {
          "model_module": "@jupyter-widgets/controls",
          "model_name": "FloatProgressModel",
          "model_module_version": "1.5.0",
          "state": {
            "_dom_classes": [],
            "_model_module": "@jupyter-widgets/controls",
            "_model_module_version": "1.5.0",
            "_model_name": "FloatProgressModel",
            "_view_count": null,
            "_view_module": "@jupyter-widgets/controls",
            "_view_module_version": "1.5.0",
            "_view_name": "ProgressView",
            "bar_style": "success",
            "description": "",
            "description_tooltip": null,
            "layout": "IPY_MODEL_52ad5e73b56341a69a20ae7d49da67eb",
            "max": 443,
            "min": 0,
            "orientation": "horizontal",
            "style": "IPY_MODEL_3c5086a898bf429f827f19ff6c4245aa",
            "value": 443
          }
        },
        "6026c9f9894d4edc94003932ccae4796": {
          "model_module": "@jupyter-widgets/controls",
          "model_name": "HTMLModel",
          "model_module_version": "1.5.0",
          "state": {
            "_dom_classes": [],
            "_model_module": "@jupyter-widgets/controls",
            "_model_module_version": "1.5.0",
            "_model_name": "HTMLModel",
            "_view_count": null,
            "_view_module": "@jupyter-widgets/controls",
            "_view_module_version": "1.5.0",
            "_view_name": "HTMLView",
            "description": "",
            "description_tooltip": null,
            "layout": "IPY_MODEL_2970db1fe43345d6b3a3b15b6d28be1b",
            "placeholder": "​",
            "style": "IPY_MODEL_7a1ca2fcb58b482f9c79a163fab05f61",
            "value": " 443/443 [00:00&lt;00:00, 23.6kB/s]"
          }
        },
        "9740675bce0d49ff8e042b2516152cb6": {
          "model_module": "@jupyter-widgets/base",
          "model_name": "LayoutModel",
          "model_module_version": "1.2.0",
          "state": {
            "_model_module": "@jupyter-widgets/base",
            "_model_module_version": "1.2.0",
            "_model_name": "LayoutModel",
            "_view_count": null,
            "_view_module": "@jupyter-widgets/base",
            "_view_module_version": "1.2.0",
            "_view_name": "LayoutView",
            "align_content": null,
            "align_items": null,
            "align_self": null,
            "border": null,
            "bottom": null,
            "display": null,
            "flex": null,
            "flex_flow": null,
            "grid_area": null,
            "grid_auto_columns": null,
            "grid_auto_flow": null,
            "grid_auto_rows": null,
            "grid_column": null,
            "grid_gap": null,
            "grid_row": null,
            "grid_template_areas": null,
            "grid_template_columns": null,
            "grid_template_rows": null,
            "height": null,
            "justify_content": null,
            "justify_items": null,
            "left": null,
            "margin": null,
            "max_height": null,
            "max_width": null,
            "min_height": null,
            "min_width": null,
            "object_fit": null,
            "object_position": null,
            "order": null,
            "overflow": null,
            "overflow_x": null,
            "overflow_y": null,
            "padding": null,
            "right": null,
            "top": null,
            "visibility": null,
            "width": null
          }
        },
        "18288a0f2edd4a0f8011296602d24932": {
          "model_module": "@jupyter-widgets/base",
          "model_name": "LayoutModel",
          "model_module_version": "1.2.0",
          "state": {
            "_model_module": "@jupyter-widgets/base",
            "_model_module_version": "1.2.0",
            "_model_name": "LayoutModel",
            "_view_count": null,
            "_view_module": "@jupyter-widgets/base",
            "_view_module_version": "1.2.0",
            "_view_name": "LayoutView",
            "align_content": null,
            "align_items": null,
            "align_self": null,
            "border": null,
            "bottom": null,
            "display": null,
            "flex": null,
            "flex_flow": null,
            "grid_area": null,
            "grid_auto_columns": null,
            "grid_auto_flow": null,
            "grid_auto_rows": null,
            "grid_column": null,
            "grid_gap": null,
            "grid_row": null,
            "grid_template_areas": null,
            "grid_template_columns": null,
            "grid_template_rows": null,
            "height": null,
            "justify_content": null,
            "justify_items": null,
            "left": null,
            "margin": null,
            "max_height": null,
            "max_width": null,
            "min_height": null,
            "min_width": null,
            "object_fit": null,
            "object_position": null,
            "order": null,
            "overflow": null,
            "overflow_x": null,
            "overflow_y": null,
            "padding": null,
            "right": null,
            "top": null,
            "visibility": null,
            "width": null
          }
        },
        "98ceb855ac55435f844b1a3ef450cb34": {
          "model_module": "@jupyter-widgets/controls",
          "model_name": "DescriptionStyleModel",
          "model_module_version": "1.5.0",
          "state": {
            "_model_module": "@jupyter-widgets/controls",
            "_model_module_version": "1.5.0",
            "_model_name": "DescriptionStyleModel",
            "_view_count": null,
            "_view_module": "@jupyter-widgets/base",
            "_view_module_version": "1.2.0",
            "_view_name": "StyleView",
            "description_width": ""
          }
        },
        "52ad5e73b56341a69a20ae7d49da67eb": {
          "model_module": "@jupyter-widgets/base",
          "model_name": "LayoutModel",
          "model_module_version": "1.2.0",
          "state": {
            "_model_module": "@jupyter-widgets/base",
            "_model_module_version": "1.2.0",
            "_model_name": "LayoutModel",
            "_view_count": null,
            "_view_module": "@jupyter-widgets/base",
            "_view_module_version": "1.2.0",
            "_view_name": "LayoutView",
            "align_content": null,
            "align_items": null,
            "align_self": null,
            "border": null,
            "bottom": null,
            "display": null,
            "flex": null,
            "flex_flow": null,
            "grid_area": null,
            "grid_auto_columns": null,
            "grid_auto_flow": null,
            "grid_auto_rows": null,
            "grid_column": null,
            "grid_gap": null,
            "grid_row": null,
            "grid_template_areas": null,
            "grid_template_columns": null,
            "grid_template_rows": null,
            "height": null,
            "justify_content": null,
            "justify_items": null,
            "left": null,
            "margin": null,
            "max_height": null,
            "max_width": null,
            "min_height": null,
            "min_width": null,
            "object_fit": null,
            "object_position": null,
            "order": null,
            "overflow": null,
            "overflow_x": null,
            "overflow_y": null,
            "padding": null,
            "right": null,
            "top": null,
            "visibility": null,
            "width": null
          }
        },
        "3c5086a898bf429f827f19ff6c4245aa": {
          "model_module": "@jupyter-widgets/controls",
          "model_name": "ProgressStyleModel",
          "model_module_version": "1.5.0",
          "state": {
            "_model_module": "@jupyter-widgets/controls",
            "_model_module_version": "1.5.0",
            "_model_name": "ProgressStyleModel",
            "_view_count": null,
            "_view_module": "@jupyter-widgets/base",
            "_view_module_version": "1.2.0",
            "_view_name": "StyleView",
            "bar_color": null,
            "description_width": ""
          }
        },
        "2970db1fe43345d6b3a3b15b6d28be1b": {
          "model_module": "@jupyter-widgets/base",
          "model_name": "LayoutModel",
          "model_module_version": "1.2.0",
          "state": {
            "_model_module": "@jupyter-widgets/base",
            "_model_module_version": "1.2.0",
            "_model_name": "LayoutModel",
            "_view_count": null,
            "_view_module": "@jupyter-widgets/base",
            "_view_module_version": "1.2.0",
            "_view_name": "LayoutView",
            "align_content": null,
            "align_items": null,
            "align_self": null,
            "border": null,
            "bottom": null,
            "display": null,
            "flex": null,
            "flex_flow": null,
            "grid_area": null,
            "grid_auto_columns": null,
            "grid_auto_flow": null,
            "grid_auto_rows": null,
            "grid_column": null,
            "grid_gap": null,
            "grid_row": null,
            "grid_template_areas": null,
            "grid_template_columns": null,
            "grid_template_rows": null,
            "height": null,
            "justify_content": null,
            "justify_items": null,
            "left": null,
            "margin": null,
            "max_height": null,
            "max_width": null,
            "min_height": null,
            "min_width": null,
            "object_fit": null,
            "object_position": null,
            "order": null,
            "overflow": null,
            "overflow_x": null,
            "overflow_y": null,
            "padding": null,
            "right": null,
            "top": null,
            "visibility": null,
            "width": null
          }
        },
        "7a1ca2fcb58b482f9c79a163fab05f61": {
          "model_module": "@jupyter-widgets/controls",
          "model_name": "DescriptionStyleModel",
          "model_module_version": "1.5.0",
          "state": {
            "_model_module": "@jupyter-widgets/controls",
            "_model_module_version": "1.5.0",
            "_model_name": "DescriptionStyleModel",
            "_view_count": null,
            "_view_module": "@jupyter-widgets/base",
            "_view_module_version": "1.2.0",
            "_view_name": "StyleView",
            "description_width": ""
          }
        },
        "51efff7ee898480ebca6dd0d31429e29": {
          "model_module": "@jupyter-widgets/controls",
          "model_name": "HBoxModel",
          "model_module_version": "1.5.0",
          "state": {
            "_dom_classes": [],
            "_model_module": "@jupyter-widgets/controls",
            "_model_module_version": "1.5.0",
            "_model_name": "HBoxModel",
            "_view_count": null,
            "_view_module": "@jupyter-widgets/controls",
            "_view_module_version": "1.5.0",
            "_view_name": "HBoxView",
            "box_style": "",
            "children": [
              "IPY_MODEL_e46bc7acb8194753a615fdeb3e1354bd",
              "IPY_MODEL_e90fcf3592ec46d9af92880b8650e6eb",
              "IPY_MODEL_bbbe05b885a44c9ba136612199e98cc7"
            ],
            "layout": "IPY_MODEL_8c57347a21754975aa20f72714d88a4a"
          }
        },
        "e46bc7acb8194753a615fdeb3e1354bd": {
          "model_module": "@jupyter-widgets/controls",
          "model_name": "HTMLModel",
          "model_module_version": "1.5.0",
          "state": {
            "_dom_classes": [],
            "_model_module": "@jupyter-widgets/controls",
            "_model_module_version": "1.5.0",
            "_model_name": "HTMLModel",
            "_view_count": null,
            "_view_module": "@jupyter-widgets/controls",
            "_view_module_version": "1.5.0",
            "_view_name": "HTMLView",
            "description": "",
            "description_tooltip": null,
            "layout": "IPY_MODEL_dd198958b76f4b918d48743aacf890e1",
            "placeholder": "​",
            "style": "IPY_MODEL_958e1d7b731a4f73864f8f85fecbe6a8",
            "value": "model.safetensors: 100%"
          }
        },
        "e90fcf3592ec46d9af92880b8650e6eb": {
          "model_module": "@jupyter-widgets/controls",
          "model_name": "FloatProgressModel",
          "model_module_version": "1.5.0",
          "state": {
            "_dom_classes": [],
            "_model_module": "@jupyter-widgets/controls",
            "_model_module_version": "1.5.0",
            "_model_name": "FloatProgressModel",
            "_view_count": null,
            "_view_module": "@jupyter-widgets/controls",
            "_view_module_version": "1.5.0",
            "_view_name": "ProgressView",
            "bar_style": "success",
            "description": "",
            "description_tooltip": null,
            "layout": "IPY_MODEL_2498af8dc9724399b5e3ebe669eb0a58",
            "max": 1340622760,
            "min": 0,
            "orientation": "horizontal",
            "style": "IPY_MODEL_2fc2c6e2204346598a629dfb524b0d1d",
            "value": 1340622760
          }
        },
        "bbbe05b885a44c9ba136612199e98cc7": {
          "model_module": "@jupyter-widgets/controls",
          "model_name": "HTMLModel",
          "model_module_version": "1.5.0",
          "state": {
            "_dom_classes": [],
            "_model_module": "@jupyter-widgets/controls",
            "_model_module_version": "1.5.0",
            "_model_name": "HTMLModel",
            "_view_count": null,
            "_view_module": "@jupyter-widgets/controls",
            "_view_module_version": "1.5.0",
            "_view_name": "HTMLView",
            "description": "",
            "description_tooltip": null,
            "layout": "IPY_MODEL_11899c1db881451e9f49281a6796680e",
            "placeholder": "​",
            "style": "IPY_MODEL_01ce91e6dbc64b038871c10a94e495d4",
            "value": " 1.34G/1.34G [00:20&lt;00:00, 74.0MB/s]"
          }
        },
        "8c57347a21754975aa20f72714d88a4a": {
          "model_module": "@jupyter-widgets/base",
          "model_name": "LayoutModel",
          "model_module_version": "1.2.0",
          "state": {
            "_model_module": "@jupyter-widgets/base",
            "_model_module_version": "1.2.0",
            "_model_name": "LayoutModel",
            "_view_count": null,
            "_view_module": "@jupyter-widgets/base",
            "_view_module_version": "1.2.0",
            "_view_name": "LayoutView",
            "align_content": null,
            "align_items": null,
            "align_self": null,
            "border": null,
            "bottom": null,
            "display": null,
            "flex": null,
            "flex_flow": null,
            "grid_area": null,
            "grid_auto_columns": null,
            "grid_auto_flow": null,
            "grid_auto_rows": null,
            "grid_column": null,
            "grid_gap": null,
            "grid_row": null,
            "grid_template_areas": null,
            "grid_template_columns": null,
            "grid_template_rows": null,
            "height": null,
            "justify_content": null,
            "justify_items": null,
            "left": null,
            "margin": null,
            "max_height": null,
            "max_width": null,
            "min_height": null,
            "min_width": null,
            "object_fit": null,
            "object_position": null,
            "order": null,
            "overflow": null,
            "overflow_x": null,
            "overflow_y": null,
            "padding": null,
            "right": null,
            "top": null,
            "visibility": null,
            "width": null
          }
        },
        "dd198958b76f4b918d48743aacf890e1": {
          "model_module": "@jupyter-widgets/base",
          "model_name": "LayoutModel",
          "model_module_version": "1.2.0",
          "state": {
            "_model_module": "@jupyter-widgets/base",
            "_model_module_version": "1.2.0",
            "_model_name": "LayoutModel",
            "_view_count": null,
            "_view_module": "@jupyter-widgets/base",
            "_view_module_version": "1.2.0",
            "_view_name": "LayoutView",
            "align_content": null,
            "align_items": null,
            "align_self": null,
            "border": null,
            "bottom": null,
            "display": null,
            "flex": null,
            "flex_flow": null,
            "grid_area": null,
            "grid_auto_columns": null,
            "grid_auto_flow": null,
            "grid_auto_rows": null,
            "grid_column": null,
            "grid_gap": null,
            "grid_row": null,
            "grid_template_areas": null,
            "grid_template_columns": null,
            "grid_template_rows": null,
            "height": null,
            "justify_content": null,
            "justify_items": null,
            "left": null,
            "margin": null,
            "max_height": null,
            "max_width": null,
            "min_height": null,
            "min_width": null,
            "object_fit": null,
            "object_position": null,
            "order": null,
            "overflow": null,
            "overflow_x": null,
            "overflow_y": null,
            "padding": null,
            "right": null,
            "top": null,
            "visibility": null,
            "width": null
          }
        },
        "958e1d7b731a4f73864f8f85fecbe6a8": {
          "model_module": "@jupyter-widgets/controls",
          "model_name": "DescriptionStyleModel",
          "model_module_version": "1.5.0",
          "state": {
            "_model_module": "@jupyter-widgets/controls",
            "_model_module_version": "1.5.0",
            "_model_name": "DescriptionStyleModel",
            "_view_count": null,
            "_view_module": "@jupyter-widgets/base",
            "_view_module_version": "1.2.0",
            "_view_name": "StyleView",
            "description_width": ""
          }
        },
        "2498af8dc9724399b5e3ebe669eb0a58": {
          "model_module": "@jupyter-widgets/base",
          "model_name": "LayoutModel",
          "model_module_version": "1.2.0",
          "state": {
            "_model_module": "@jupyter-widgets/base",
            "_model_module_version": "1.2.0",
            "_model_name": "LayoutModel",
            "_view_count": null,
            "_view_module": "@jupyter-widgets/base",
            "_view_module_version": "1.2.0",
            "_view_name": "LayoutView",
            "align_content": null,
            "align_items": null,
            "align_self": null,
            "border": null,
            "bottom": null,
            "display": null,
            "flex": null,
            "flex_flow": null,
            "grid_area": null,
            "grid_auto_columns": null,
            "grid_auto_flow": null,
            "grid_auto_rows": null,
            "grid_column": null,
            "grid_gap": null,
            "grid_row": null,
            "grid_template_areas": null,
            "grid_template_columns": null,
            "grid_template_rows": null,
            "height": null,
            "justify_content": null,
            "justify_items": null,
            "left": null,
            "margin": null,
            "max_height": null,
            "max_width": null,
            "min_height": null,
            "min_width": null,
            "object_fit": null,
            "object_position": null,
            "order": null,
            "overflow": null,
            "overflow_x": null,
            "overflow_y": null,
            "padding": null,
            "right": null,
            "top": null,
            "visibility": null,
            "width": null
          }
        },
        "2fc2c6e2204346598a629dfb524b0d1d": {
          "model_module": "@jupyter-widgets/controls",
          "model_name": "ProgressStyleModel",
          "model_module_version": "1.5.0",
          "state": {
            "_model_module": "@jupyter-widgets/controls",
            "_model_module_version": "1.5.0",
            "_model_name": "ProgressStyleModel",
            "_view_count": null,
            "_view_module": "@jupyter-widgets/base",
            "_view_module_version": "1.2.0",
            "_view_name": "StyleView",
            "bar_color": null,
            "description_width": ""
          }
        },
        "11899c1db881451e9f49281a6796680e": {
          "model_module": "@jupyter-widgets/base",
          "model_name": "LayoutModel",
          "model_module_version": "1.2.0",
          "state": {
            "_model_module": "@jupyter-widgets/base",
            "_model_module_version": "1.2.0",
            "_model_name": "LayoutModel",
            "_view_count": null,
            "_view_module": "@jupyter-widgets/base",
            "_view_module_version": "1.2.0",
            "_view_name": "LayoutView",
            "align_content": null,
            "align_items": null,
            "align_self": null,
            "border": null,
            "bottom": null,
            "display": null,
            "flex": null,
            "flex_flow": null,
            "grid_area": null,
            "grid_auto_columns": null,
            "grid_auto_flow": null,
            "grid_auto_rows": null,
            "grid_column": null,
            "grid_gap": null,
            "grid_row": null,
            "grid_template_areas": null,
            "grid_template_columns": null,
            "grid_template_rows": null,
            "height": null,
            "justify_content": null,
            "justify_items": null,
            "left": null,
            "margin": null,
            "max_height": null,
            "max_width": null,
            "min_height": null,
            "min_width": null,
            "object_fit": null,
            "object_position": null,
            "order": null,
            "overflow": null,
            "overflow_x": null,
            "overflow_y": null,
            "padding": null,
            "right": null,
            "top": null,
            "visibility": null,
            "width": null
          }
        },
        "01ce91e6dbc64b038871c10a94e495d4": {
          "model_module": "@jupyter-widgets/controls",
          "model_name": "DescriptionStyleModel",
          "model_module_version": "1.5.0",
          "state": {
            "_model_module": "@jupyter-widgets/controls",
            "_model_module_version": "1.5.0",
            "_model_name": "DescriptionStyleModel",
            "_view_count": null,
            "_view_module": "@jupyter-widgets/base",
            "_view_module_version": "1.2.0",
            "_view_name": "StyleView",
            "description_width": ""
          }
        }
      }
    },
    "kaggle": {
      "accelerator": "nvidiaTeslaT4",
      "dataSources": [],
      "dockerImageVersionId": 30733,
      "isInternetEnabled": true,
      "language": "python",
      "sourceType": "notebook",
      "isGpuEnabled": true
    },
    "accelerator": "GPU"
  },
  "nbformat_minor": 0,
  "nbformat": 4,
  "cells": [
    {
      "cell_type": "markdown",
      "source": [
        "# **Tarea 4 - Sequence to Sequence 📚**\n",
        "\n",
        "**Procesamiento de Lenguaje Natural (CC6205-1 - Otoño 2024)**"
      ],
      "metadata": {
        "id": "dYExzNuwx-Ke"
      }
    },
    {
      "cell_type": "markdown",
      "source": [
        "## Tarjeta de identificación\n",
        "\n",
        "**Nombres:** ```Martín Reyes - Sebastián Sanhueza```\n",
        "\n",
        "**Fecha límite de entrega 📆:** 10/07.\n",
        "\n",
        "**Tiempo estimado de dedicación:** 4 horas\n"
      ],
      "metadata": {
        "id": "b97b4IJjZGxM"
      }
    },
    {
      "cell_type": "markdown",
      "source": [
        "## Instrucciones\n",
        "\n",
        "Bienvenid@s a la cuarta tarea en el curso de Natural Language Processing (NLP). Esta tarea tiene como objetivo evaluar los contenidos teóricos de las últimas semanas de clases posteriores a la Tarea 3, enfocado en **Sequence-to-Sequence + Attention**. Si aún no has visto las clases, se recomienda visitar los links de las referencias.\n",
        "\n",
        "* La tarea es en **grupo** (maximo hasta 3 personas).\n",
        "* La entrega es a través de u-cursos a más tardar el día estipulado arriba.\n",
        "* El formato de entrega es este mismo Jupyter Notebook.\n",
        "* Al momento de la revisión su código será ejecutado. Por favor verifiquen que su entrega no tenga errores de compilación.\n",
        "* Completar la tarjeta de identificación. Sin ella no podrá tener nota.\n",
        "* Recomendamos mirar el enunciado completo con atención (*ba dum tss*) antes de empezar la tarea, para tener una idea más completa de lo que se pide."
      ],
      "metadata": {
        "ExecuteTime": {
          "end_time": "2020-03-19T18:30:18.109327Z",
          "start_time": "2020-03-19T18:30:18.103344Z"
        },
        "id": "q5CSRY4oNCHK"
      }
    },
    {
      "cell_type": "markdown",
      "source": [
        "## Material de referencia\n",
        "\n",
        "Diapositivas del curso 📄\n",
        "    \n",
        "- [Sequence-to-Sequence + Attention](https://github.com/dccuchile/CC6205/blob/master/slides/NLP-seq2seq.pdf)\n",
        "- [Transformer](https://github.com/dccuchile/CC6205/blob/master/slides/NLP-transformer.pdf)\n",
        "\n",
        "Videos del curso 📺\n",
        "\n",
        "- [Sequence-to-Sequence + Attention](https://www.youtube.com/watch?v=OpKxRjISqmM&list=PLppKo85eGXiXIh54H_qz48yHPHeNVJqBi&index=35)\n",
        "- [Transformer](https://www.youtube.com/watch?v=8RE23Uq8rU0)"
      ],
      "metadata": {
        "id": "YaHHjI_sp42f"
      }
    },
    {
      "cell_type": "markdown",
      "source": [
        "## Parte 1: Traducción automática con arquitectura Encoder-Decoder con RNNs\n",
        "En esta sección crearemos nuestro propio traductor de español a inglés con la arquitecura Encoder-Decoder con RNNs + Attention vista en clases."
      ],
      "metadata": {
        "id": "I_fPuDVxmmWI"
      }
    },
    {
      "cell_type": "code",
      "source": [
        "## Importamos librerías\n",
        "\n",
        "from __future__ import unicode_literals, print_function, division\n",
        "from io import open\n",
        "import unicodedata\n",
        "import re\n",
        "import random\n",
        "\n",
        "import torch\n",
        "import torch.nn as nn\n",
        "from torch import optim\n",
        "import torch.nn.functional as F\n",
        "\n",
        "import numpy as np\n",
        "from torch.utils.data import TensorDataset, DataLoader, RandomSampler"
      ],
      "metadata": {
        "id": "H3k3VV6_2vg2",
        "execution": {
          "iopub.status.busy": "2024-06-25T23:16:44.849193Z",
          "iopub.execute_input": "2024-06-25T23:16:44.849639Z",
          "iopub.status.idle": "2024-06-25T23:16:44.855614Z",
          "shell.execute_reply.started": "2024-06-25T23:16:44.849607Z",
          "shell.execute_reply": "2024-06-25T23:16:44.854597Z"
        },
        "trusted": true
      },
      "execution_count": null,
      "outputs": []
    },
    {
      "cell_type": "markdown",
      "source": [
        "### P0. Preparación del dataset y tokenización\n",
        "\n",
        "Utilizaremos un dataset de pares de oraciones en inglés y castellano."
      ],
      "metadata": {
        "id": "XPhb8wuSpBZG"
      }
    },
    {
      "cell_type": "code",
      "source": [
        "!wget https://www.manythings.org/anki/spa-eng.zip\n",
        "!unzip spa-eng.zip"
      ],
      "metadata": {
        "id": "3K5AmGn-ngUe",
        "execution": {
          "iopub.status.busy": "2024-06-25T23:16:44.857403Z",
          "iopub.execute_input": "2024-06-25T23:16:44.857781Z",
          "iopub.status.idle": "2024-06-25T23:17:04.935237Z",
          "shell.execute_reply.started": "2024-06-25T23:16:44.857753Z",
          "shell.execute_reply": "2024-06-25T23:17:04.934269Z"
        },
        "trusted": true,
        "colab": {
          "base_uri": "https://localhost:8080/"
        },
        "outputId": "1c7cc04b-ea4c-430b-900b-ab90cbac3751"
      },
      "execution_count": null,
      "outputs": [
        {
          "output_type": "stream",
          "name": "stdout",
          "text": [
            "--2024-07-07 02:10:30--  https://www.manythings.org/anki/spa-eng.zip\n",
            "Resolving www.manythings.org (www.manythings.org)... 173.254.30.110\n",
            "Connecting to www.manythings.org (www.manythings.org)|173.254.30.110|:443... connected.\n",
            "HTTP request sent, awaiting response... 200 OK\n",
            "Length: 5420295 (5.2M) [application/zip]\n",
            "Saving to: ‘spa-eng.zip’\n",
            "\n",
            "spa-eng.zip         100%[===================>]   5.17M  29.4MB/s    in 0.2s    \n",
            "\n",
            "2024-07-07 02:10:30 (29.4 MB/s) - ‘spa-eng.zip’ saved [5420295/5420295]\n",
            "\n",
            "Archive:  spa-eng.zip\n",
            "  inflating: _about.txt              \n",
            "  inflating: spa.txt                 \n"
          ]
        }
      ]
    },
    {
      "cell_type": "markdown",
      "source": [
        "Vamos a crear una clase que nos permita procesar mejor cada idioma del corpus. Esto nos será útil para manejar dos vocabularios distintos."
      ],
      "metadata": {
        "id": "SF8vWprw20KA"
      }
    },
    {
      "cell_type": "code",
      "source": [
        "# Código base\n",
        "\n",
        "SOS_token = 0\n",
        "EOS_token = 1\n",
        "\n",
        "class Lang:\n",
        "    def __init__(self, name):\n",
        "        self.name = name\n",
        "        self.word2index = {}\n",
        "        self.word2count = {}\n",
        "        self.index2word = {0: \"*\", 1: \"STOP\"}\n",
        "        self.n_tokens = 2  # * y STOP\n",
        "\n",
        "    def add_sentence(self, sentence):\n",
        "        for word in sentence.split(' '):\n",
        "          self.add_word(word)\n",
        "\n",
        "    def add_word(self, word):\n",
        "        if word not in self.word2index:\n",
        "          self.word2index[word] = self.n_tokens\n",
        "          self.word2count[word] = 1\n",
        "          self.index2word[self.n_tokens] = word\n",
        "          self.n_tokens += 1\n",
        "        else:\n",
        "          self.word2count[word] += 1"
      ],
      "metadata": {
        "id": "R4KvLII6Wd9y",
        "execution": {
          "iopub.status.busy": "2024-06-25T23:17:04.936847Z",
          "iopub.execute_input": "2024-06-25T23:17:04.937231Z",
          "iopub.status.idle": "2024-06-25T23:17:04.945754Z",
          "shell.execute_reply.started": "2024-06-25T23:17:04.937194Z",
          "shell.execute_reply": "2024-06-25T23:17:04.944901Z"
        },
        "trusted": true
      },
      "execution_count": null,
      "outputs": []
    },
    {
      "cell_type": "markdown",
      "source": [
        "Implemente acá funciones para leer, procesar y filtar el dataset según estime."
      ],
      "metadata": {
        "id": "p4PoWqCai607"
      }
    },
    {
      "cell_type": "code",
      "source": [
        "# Minúsculas, puntuación y remoción de caracteres que no son letras\n",
        "# Puede añadir cualquier otro preprocesamiento que estime conveniente\n",
        "def normalize_string(s):\n",
        "    s = unicodedata.normalize('NFC', s) # Normalización de caracteres unicode\n",
        "    s = s.lower().strip()\n",
        "    s = re.sub(r\"([.!?])\", r\" \\1\", s) # Regex para separar puntuación de las palabras\n",
        "    s = re.sub(r\"[^a-zA-Z!?áéíóúñ´]+\", r\" \", s) # Regex para excluir otros caracteres\n",
        "    return s.strip()\n",
        "\n",
        "# Recomendamos mantener sólo oraciones con ~10 palabras o menos\n",
        "def filter_pairs(pairs, max_length):\n",
        "    return [p for p in pairs if len(p[0].split(' ')) < max_length and \\\n",
        "                  len(p[1].split(' ')) < max_length]"
      ],
      "metadata": {
        "id": "XQ0zURfK2f0B",
        "execution": {
          "iopub.status.busy": "2024-06-25T23:17:04.948608Z",
          "iopub.execute_input": "2024-06-25T23:17:04.949339Z",
          "iopub.status.idle": "2024-06-25T23:17:04.958210Z",
          "shell.execute_reply.started": "2024-06-25T23:17:04.949209Z",
          "shell.execute_reply": "2024-06-25T23:17:04.957453Z"
        },
        "trusted": true
      },
      "execution_count": null,
      "outputs": []
    },
    {
      "cell_type": "code",
      "source": [
        "def read_dataset(path, reverse=False):\n",
        "    lines = open(path, encoding='utf-8').\\\n",
        "      read().strip().split('\\n')\n",
        "\n",
        "    pairs = [[normalize_string(s) for s in l.split('\\t')][:2] for l in lines]\n",
        "\n",
        "    # Reverse pairs, make Lang instances\n",
        "    if reverse:\n",
        "      pairs = [list(reversed(p)) for p in pairs]\n",
        "      input_lang = Lang(\"spa\")\n",
        "      output_lang = Lang(\"eng\")\n",
        "    else:\n",
        "      input_lang = Lang(\"eng\")\n",
        "      output_lang = Lang(\"spa\")\n",
        "\n",
        "    return input_lang, output_lang, pairs\n",
        "\n",
        "def read_langs(lang1, lang2, reverse=False, max_length=10):\n",
        "    input_lang, output_lang, pairs = read_dataset(\"spa.txt\", reverse)\n",
        "    print(f\"Total de oraciones en dataset: {len(pairs)}\")\n",
        "    pairs = filter_pairs(pairs, max_length)\n",
        "    print(f\"Reducido a: {len(pairs)}\")\n",
        "    for pair in pairs:\n",
        "      input_lang.add_sentence(pair[0])\n",
        "      output_lang.add_sentence(pair[1])\n",
        "    print(f\"Tamaño vocab {input_lang.name}: {input_lang.n_tokens}\")\n",
        "    print(f\"Tamaño vocab {output_lang.name}: {output_lang.n_tokens}\")\n",
        "    return input_lang, output_lang, pairs"
      ],
      "metadata": {
        "id": "1zmvmX-WWd90",
        "execution": {
          "iopub.status.busy": "2024-06-25T23:17:04.959311Z",
          "iopub.execute_input": "2024-06-25T23:17:04.959672Z",
          "iopub.status.idle": "2024-06-25T23:17:04.972434Z",
          "shell.execute_reply.started": "2024-06-25T23:17:04.959641Z",
          "shell.execute_reply": "2024-06-25T23:17:04.971672Z"
        },
        "trusted": true
      },
      "execution_count": null,
      "outputs": []
    },
    {
      "cell_type": "code",
      "source": [
        "MAX_LENGTH = 10\n",
        "input_lang, output_lang, pairs = read_langs('eng', 'spa', reverse=True, max_length=MAX_LENGTH)\n",
        "print(random.choice(pairs))"
      ],
      "metadata": {
        "colab": {
          "base_uri": "https://localhost:8080/"
        },
        "id": "FOAzpKMMVYur",
        "outputId": "bde7562f-260f-41ee-a173-b57982201e8e"
      },
      "execution_count": null,
      "outputs": [
        {
          "output_type": "stream",
          "name": "stdout",
          "text": [
            "Total de oraciones en dataset: 141543\n",
            "Reducido a: 119626\n",
            "Tamaño vocab spa: 24306\n",
            "Tamaño vocab eng: 12105\n",
            "['qué vais a hacer esta tarde ?', 'what are you doing this afternoon ?']\n"
          ]
        }
      ]
    },
    {
      "cell_type": "markdown",
      "source": [
        "### P1. Encoder (1.2 pt.)\n",
        "Implemente una red Encoder utilizando redes neuronales recurrentes."
      ],
      "metadata": {
        "id": "2D1Kaw_D8jmN"
      }
    },
    {
      "cell_type": "code",
      "source": [
        "# Garantizar reproducibilidad de los experimentos\n",
        "SEED = 1234\n",
        "torch.manual_seed(SEED)\n",
        "torch.backends.cudnn.deterministic = True"
      ],
      "metadata": {
        "id": "l54mxzLLiYQ1"
      },
      "execution_count": null,
      "outputs": []
    },
    {
      "cell_type": "code",
      "source": [
        "# Código base, puede cambiar los parámetros acorde a su implementación\n",
        "\n",
        "class EncoderRNN(nn.Module):\n",
        "    \"\"\"\n",
        "    Clase de red neuronal recurrente de tipo GRU que codifica una secuencia\n",
        "    de entrada en un espacio de estados ocultos.\n",
        "\n",
        "    Parameters\n",
        "    ----------\n",
        "    input_size : int\n",
        "        Tamaño del vocabulario de entrada.\n",
        "    hidden_size : int\n",
        "        Tamaño de la capa oculta en la RNN.\n",
        "    dropout : float, opcional\n",
        "        Tasa de dropout para la capa de embedding (Default: 0.1).\n",
        "\n",
        "    \"\"\"\n",
        "    def __init__(self, input_size, hidden_size, dropout=0.1):\n",
        "        super(EncoderRNN, self).__init__()\n",
        "        self.hidden_size = hidden_size\n",
        "\n",
        "        # Capa de embedding\n",
        "        self.embedding = nn.Embedding(input_size, hidden_size)\n",
        "        # Capa RNN bidireccional\n",
        "        self.rnn = nn.GRU(hidden_size, hidden_size, batch_first=True)\n",
        "        # Capa de dropout\n",
        "        self.dropout = nn.Dropout(dropout)\n",
        "\n",
        "    def forward(self, input):\n",
        "        \"\"\"\n",
        "        Realiza el forward pass del codificador.\n",
        "\n",
        "        Parameters\n",
        "        ----------\n",
        "        input : torch.Tensor\n",
        "            Tensor de entrada.\n",
        "\n",
        "        Returns\n",
        "        -------\n",
        "        outputs : torch.Tensor\n",
        "            Tensor de salida del GRU.\n",
        "        hidden : torch.Tensor\n",
        "            Tensor de estado oculto final de la GRU.\n",
        "        \"\"\"\n",
        "        # Obtener embeddings del input\n",
        "        embedded = self.dropout(self.embedding(input))\n",
        "        # Pasar secuencias a través de la capa RNN\n",
        "        outputs, hidden = self.rnn(embedded)\n",
        "        # Devolver salidas y estado oculto final\n",
        "        return outputs, hidden"
      ],
      "metadata": {
        "id": "LgMcrtE4Te42"
      },
      "execution_count": null,
      "outputs": []
    },
    {
      "cell_type": "markdown",
      "source": [
        "### P2. Attention Decoder (1.8 pt.)\n",
        "\n",
        "Ahora diseñe un mecanismo de atención según estime conveniente y otra red que servirá de decoder con el modelo de attention. Utilice la predicción objetivo (en caso de existir) como siguiente input de cada oración para la etapa de entrenamiento (teacher forcing)."
      ],
      "metadata": {
        "id": "dca-ULd28vUW"
      }
    },
    {
      "cell_type": "code",
      "source": [
        "# Código base, puede cambiar los parámetros acorde a su implementación\n",
        "\n",
        "class MyAttention(nn.Module):\n",
        "    \"\"\"\n",
        "    Clase que aplica el mecanismo de atención de Bahdanau sobre las salidas\n",
        "    de un encoder dado un estado oculto del decoder.\n",
        "\n",
        "    Parameters\n",
        "    ----------\n",
        "    hidden_size : int\n",
        "        Tamaño de la capa oculta para las operaciones lineales.\n",
        "    \"\"\"\n",
        "    def __init__(self, hidden_size):\n",
        "        super(MyAttention, self).__init__()\n",
        "        # Capas lineales para calcular las puntuaciones de atención\n",
        "        self.linear_query = nn.Linear(hidden_size, hidden_size)\n",
        "        self.linear_key = nn.Linear(hidden_size, hidden_size)\n",
        "        self.linear_score = nn.Linear(hidden_size, 1)\n",
        "\n",
        "    def forward(self, dec_hidden, enc_outputs):\n",
        "        \"\"\"\n",
        "        Realiza el forward pass del mecanismo de atención.\n",
        "\n",
        "        Parameters\n",
        "        ----------\n",
        "        dec_hidden : torch.Tensor\n",
        "            Estado oculto del decodificador.\n",
        "        enc_outputs : torch.Tensor\n",
        "            Salidas del encoder.\n",
        "\n",
        "        Returns\n",
        "        -------\n",
        "        context_vector : torch.Tensor\n",
        "            Vector de contexto como la suma ponderada de las salidas del encoder.\n",
        "        attention_weights : torch.Tensor\n",
        "            Pesos de atención normalizados mediante softmax.\n",
        "        \"\"\"\n",
        "        # Calculamos las puntuaciones de atención\n",
        "        scores = self.linear_score(torch.tanh(self.linear_query(dec_hidden) + self.linear_key(enc_outputs)))\n",
        "        # Ajustar dimensiones para softmax\n",
        "        scores = scores.squeeze(2).unsqueeze(1)\n",
        "        # Calcular las ponderaciones de atención\n",
        "        attention_weights = F.softmax(scores, dim=-1)\n",
        "        # Calcular el contexto como un promedio ponderado de las salidas del encoder\n",
        "        context_vector = torch.bmm(attention_weights, enc_outputs)\n",
        "\n",
        "        return context_vector, attention_weights\n",
        "\n",
        "class DecoderRNN(nn.Module):\n",
        "    \"\"\"\n",
        "    Clase de red neuronal recurrente de tipo GRU que funciona como decodificador\n",
        "    con mecanismo de atención.\n",
        "\n",
        "    Parameters\n",
        "    ----------\n",
        "    hidden_size : int\n",
        "        Tamaño de la capa oculta.\n",
        "    output_size : int\n",
        "        Tamaño del vocabulario de salida.\n",
        "    dropout : float, opcional\n",
        "        Tasa de dropout para la capa de embedding (Default: 0.1).\n",
        "    \"\"\"\n",
        "    def __init__(self, hidden_size, output_size, dropout=0.1):\n",
        "        super(DecoderRNN, self).__init__()\n",
        "        # Capas del decodificador\n",
        "        self.embedding = nn.Embedding(output_size, hidden_size) # Capa de embedding\n",
        "        self.attn = MyAttention(hidden_size) # Mecanismo de atención\n",
        "        self.rnn = nn.GRU(2 * hidden_size, hidden_size, batch_first=True) # Capa GRU para procesar la concatenación del embedding y el contexto de atención\n",
        "        self.out = nn.Linear(hidden_size, output_size) # Capa lineal para generar las predicciones de salida\n",
        "        self.dropout = nn.Dropout(dropout) # Capa de dropout\n",
        "\n",
        "    def forward(self, enc_outputs, enc_hidden, target_tensor=None):\n",
        "        \"\"\"\n",
        "        Realiza el forward pass del decodificador.\n",
        "\n",
        "        Parameters\n",
        "        ----------\n",
        "        enc_outputs : torch.Tensor\n",
        "            Salidas del encoder.\n",
        "        enc_hidden : torch.Tensor\n",
        "            Estado oculto final del encoder.\n",
        "        target_tensor : torch.Tensor, opcional\n",
        "            Tensor de objetivos (ground truth) para teacher forcing (Default: None).\n",
        "\n",
        "        Returns\n",
        "        -------\n",
        "        decoder_outputs : torch.Tensor\n",
        "            Salidas del decodificador transformadas con log softmax.\n",
        "        decoder_hidden : torch.Tensor\n",
        "            Último estado oculto del decodificador.\n",
        "        attentions : torch.Tensor\n",
        "            Ponderaciones de atención normalizadas mediante softmax.\n",
        "        \"\"\"\n",
        "        # Tamaño del batch\n",
        "        batch_size = enc_outputs.size(0)\n",
        "        # Inicializar el primer input del decodificador con el token de inicio\n",
        "        decoder_input = torch.empty(batch_size, 1, dtype=torch.long, device=device).fill_(SOS_token)\n",
        "        # Inicializar el estado oculto del decodificador con el estado oculto final del encoder\n",
        "        decoder_hidden = enc_hidden\n",
        "\n",
        "        decoder_outputs = [] # Lista para almacenar las salidas del decodificador\n",
        "        attentions_weights = [] # Lista para almacenar las ponderaciones de atención\n",
        "\n",
        "        for i in range(MAX_LENGTH):\n",
        "            # Obtener embeddings del input actual del decodificador\n",
        "            embedded = self.dropout(self.embedding(decoder_input))\n",
        "            # Calcular la consulta para el mecanismo de atención\n",
        "            query = decoder_hidden.permute(1, 0, 2)\n",
        "            # Calcular el contexto utilizando el mecanismo de atención\n",
        "            context, attn_weights = self.attn(query, enc_outputs)\n",
        "            # Concatenar el embedding y el contexto para formar el input de la capa GRU\n",
        "            input_rnn = torch.cat((embedded, context), dim=2)\n",
        "            # Pasar el input concatenado a través de la capa GRU\n",
        "            output, decoder_hidden = self.rnn(input_rnn, decoder_hidden)\n",
        "            # Generar las predicciones de salida\n",
        "            output = self.out(output)\n",
        "\n",
        "            # Almacenar las salidas y las ponderaciones de atención\n",
        "            decoder_outputs.append(output)\n",
        "            attentions_weights.append(attn_weights)\n",
        "\n",
        "            if target_tensor is not None:\n",
        "                # Con teacher forcing: usar la predicción objetivo como el siguiente input\n",
        "                decoder_input = target_tensor[:, i].unsqueeze(1)\n",
        "            else:\n",
        "                # Sin teacher forcing: usar las predicciones propias como el siguiente input\n",
        "                _, topi = output.topk(1)\n",
        "                decoder_input = topi.squeeze(-1).detach()  #\n",
        "\n",
        "        # Concatenar todas las salidas del decodificador\n",
        "        decoder_outputs = torch.cat(decoder_outputs, dim=1)\n",
        "        # Aplicar softmax logarítmico a las salidas del decodificador para obtener probabilidades\n",
        "        decoder_outputs = F.log_softmax(decoder_outputs, dim=-1)\n",
        "        # Concatenar todas las ponderaciones de atención\n",
        "        attentions = torch.cat(attentions_weights, dim=1)\n",
        "\n",
        "        return decoder_outputs, decoder_hidden, attentions"
      ],
      "metadata": {
        "id": "nbwUNJEpjP_G"
      },
      "execution_count": null,
      "outputs": []
    },
    {
      "cell_type": "markdown",
      "source": [
        "### P3. Entrenamiento y evaluación (1 pt.)\n",
        "Entrene su modelo Sequence-to-Sequence. Para esto entrene el encoder, decoder y attention en conjunto, es decir utilizando la misma función de loss para los parámetros de cada componente. Recuerde entregar las predicciones objetivo al decoder en cada iteración."
      ],
      "metadata": {
        "id": "X7H51frJe7de"
      }
    },
    {
      "cell_type": "code",
      "source": [
        "import math\n",
        "import time\n",
        "import matplotlib.pyplot as plt\n",
        "import matplotlib.ticker as ticker\n",
        "import numpy as np"
      ],
      "metadata": {
        "id": "nl-0Krjz9cmC",
        "execution": {
          "iopub.status.busy": "2024-06-25T23:17:12.720970Z",
          "iopub.execute_input": "2024-06-25T23:17:12.721357Z",
          "iopub.status.idle": "2024-06-25T23:17:12.737240Z",
          "shell.execute_reply.started": "2024-06-25T23:17:12.721332Z",
          "shell.execute_reply": "2024-06-25T23:17:12.736265Z"
        },
        "trusted": true
      },
      "execution_count": null,
      "outputs": []
    },
    {
      "cell_type": "code",
      "source": [
        "# Funciones auxiliares para cargar datos de entrenamiento\n",
        "\n",
        "def sentence2indexes(lang, sentence):\n",
        "    return [lang.word2index[word] for word in sentence.split(' ')]\n",
        "\n",
        "def sentence2tensor(lang, sentence):\n",
        "    indexes = sentence2indexes(lang, sentence)\n",
        "    indexes.append(EOS_token)\n",
        "    return torch.tensor(indexes, dtype=torch.long, device=device).view(1, -1)\n",
        "\n",
        "def pair2tensors(pair):\n",
        "    input_tensor = sentence2tensor(input_lang, pair[0])\n",
        "    target_tensor = sentence2tensor(output_lang, pair[1])\n",
        "    return (input_tensor, target_tensor)"
      ],
      "metadata": {
        "id": "l6-aNCNtUzcI"
      },
      "execution_count": null,
      "outputs": []
    },
    {
      "cell_type": "code",
      "source": [
        "device = torch.device(\"cuda\" if torch.cuda.is_available() else \"cpu\")"
      ],
      "metadata": {
        "id": "J4jjEMIU_kbi",
        "execution": {
          "iopub.status.busy": "2024-06-25T23:17:12.562622Z",
          "iopub.execute_input": "2024-06-25T23:17:12.562903Z",
          "iopub.status.idle": "2024-06-25T23:17:12.627276Z",
          "shell.execute_reply.started": "2024-06-25T23:17:12.562881Z",
          "shell.execute_reply": "2024-06-25T23:17:12.626360Z"
        },
        "trusted": true
      },
      "execution_count": null,
      "outputs": []
    },
    {
      "cell_type": "code",
      "source": [
        "def get_dataloader(batch_size):\n",
        "    \"\"\"\n",
        "    Función para crear un DataLoader de PyTorch a partir de pares de oraciones\n",
        "    en dos idiomas.\n",
        "\n",
        "    Parameters\n",
        "    ----------\n",
        "    batch_size : int\n",
        "        Tamaño del batch para el DataLoader.\n",
        "\n",
        "    Returns\n",
        "    -------\n",
        "    input_lang : Lang\n",
        "        Objeto Lang que contiene información sobre el idioma de entrada.\n",
        "    output_lang : Lang\n",
        "        Objeto Lang que contiene información sobre el idioma de salida.\n",
        "    train_dataloader : DataLoader\n",
        "        DataLoader de PyTorch que contiene los datos preprocesados listos para entrenamiento.\n",
        "    \"\"\"\n",
        "    input_lang, output_lang, pairs = read_langs('eng', 'spa', reverse=True, max_length=MAX_LENGTH)\n",
        "\n",
        "    n = len(pairs) # Número de pares de oraciones\n",
        "\n",
        "    # Inicializar matrices para almacenar índices de entrada y target\n",
        "    input_ids = np.zeros((n, MAX_LENGTH), dtype=np.int32)\n",
        "    target_ids = np.zeros((n, MAX_LENGTH), dtype=np.int32)\n",
        "\n",
        "    # Iterar sobre los pares de oraciones\n",
        "    for idx, (inp, tgt) in enumerate(pairs):\n",
        "        # Convertir oraciones en índices\n",
        "        inp_ids = sentence2indexes(input_lang, inp)\n",
        "        tgt_ids = sentence2indexes(output_lang, tgt)\n",
        "        # Añade el EOS_token al final de los índices\n",
        "        inp_ids.append(EOS_token)\n",
        "        tgt_ids.append(EOS_token)\n",
        "        # Asigna los índices a las matrices de entrada y target\n",
        "        input_ids[idx, :len(inp_ids)] = inp_ids\n",
        "        target_ids[idx, :len(tgt_ids)] = tgt_ids\n",
        "\n",
        "    # Crear un Dataset de PyTorch a partir de las matrices de índices\n",
        "    train_data = TensorDataset(torch.LongTensor(input_ids).to(device),\n",
        "                               torch.LongTensor(target_ids).to(device))\n",
        "    # Crear un muestreador aleatorio para el Dataset\n",
        "    train_sampler = RandomSampler(train_data)\n",
        "    # Crear DataLoader\n",
        "    train_dataloader = DataLoader(train_data, sampler=train_sampler, batch_size=batch_size)\n",
        "\n",
        "    # Devolver los idiomas de entrada y salida y el DataLoader creado\n",
        "    return input_lang, output_lang, train_dataloader\n",
        "\n",
        "##########################################################################################################\n",
        "\n",
        "def train_epoch(dataloader,\n",
        "                encoder,\n",
        "                decoder,\n",
        "                encoder_optimizer,\n",
        "                decoder_optimizer,\n",
        "                criterion):\n",
        "    \"\"\"Función para entrenar un modelo de seq2seq durante una época.\"\"\"\n",
        "    total_loss = 0\n",
        "    # Iterar sobre los datos del dataloader\n",
        "    for data in dataloader:\n",
        "        input_tensor, target_tensor = data\n",
        "\n",
        "        # Reiniciar los gradientes de los optimizadores del encoder y decoder\n",
        "        encoder_optimizer.zero_grad()\n",
        "        decoder_optimizer.zero_grad()\n",
        "\n",
        "        # Pasar el input_tensor al encoder para obtener las salidas y el estado oculto final\n",
        "        encoder_outputs, encoder_hidden = encoder(input_tensor)\n",
        "\n",
        "        # Pasar las salidas del encoder y el estado oculto final al decoder para obtener las predicciones\n",
        "        decoder_outputs, _, _ = decoder(encoder_outputs, encoder_hidden, target_tensor)\n",
        "\n",
        "        # Calcular la pérdida entre las predicciones del decoder y el target\n",
        "        loss = criterion(\n",
        "            decoder_outputs.view(-1, decoder_outputs.size(-1)),\n",
        "            target_tensor.view(-1)\n",
        "            )\n",
        "\n",
        "        # Retropropagar el error\n",
        "        loss.backward()\n",
        "\n",
        "        # Optimizar los parámetros del encoder y del decoder\n",
        "        encoder_optimizer.step()\n",
        "        decoder_optimizer.step()\n",
        "\n",
        "        # Acumular la pérdida total\n",
        "        total_loss += loss.item()\n",
        "\n",
        "    # Calcular el promedio de la pérdida total por el número de batches en el dataloader\n",
        "    average_loss = total_loss / len(dataloader)\n",
        "    return average_loss\n",
        "\n",
        "##########################################################################################################\n",
        "\n",
        "def train(train_dataloader,\n",
        "          encoder,\n",
        "          decoder,\n",
        "          n_epochs,\n",
        "          learning_rate,\n",
        "          print_every,\n",
        "          plot_every):\n",
        "    \"\"\"Función para entrenar un modelo seq2seq durante múltiples épocas.\"\"\"\n",
        "    # Inicializar listas para almacenar las pérdidas para graficar\n",
        "    plot_losses = []\n",
        "    print_loss_total = 0\n",
        "    plot_loss_total = 0\n",
        "\n",
        "    # Optimizadores Adam para el encoder y el decoder con la tasa de aprendizaje dada\n",
        "    encoder_optimizer = optim.Adam(encoder.parameters(), lr=learning_rate)\n",
        "    decoder_optimizer = optim.Adam(decoder.parameters(), lr=learning_rate)\n",
        "\n",
        "    # Criterio de pérdida negative log-likelihood loss para calcular la pérdida\n",
        "    criterion = nn.NLLLoss()\n",
        "\n",
        "    start_time = time.time()  # Registrar el tiempo de inicio del entrenamiento\n",
        "    for epoch in range(1, n_epochs + 1):\n",
        "        # Realizar una época de entrenamiento y obtener la pérdida promedio\n",
        "        loss = train_epoch(train_dataloader, encoder, decoder, encoder_optimizer, decoder_optimizer, criterion)\n",
        "\n",
        "        # Acumular las pérdidas para impresión y gráficos\n",
        "        print_loss_total += loss\n",
        "        plot_loss_total += loss\n",
        "\n",
        "        # Imprimir la pérdida promedio en intervalos de print_every épocas\n",
        "        if epoch % print_every == 0:\n",
        "            print_loss_avg = print_loss_total / print_every\n",
        "            print_loss_total = 0\n",
        "            print(f'Epoch: {epoch} - Loss: {print_loss_avg:.4f}')\n",
        "\n",
        "        # Almacenar la pérdida promedio para graficar en intervalos de plot_every épocas\n",
        "        if epoch % plot_every == 0:\n",
        "            plot_loss_avg = plot_loss_total / plot_every\n",
        "            plot_losses.append(plot_loss_avg)\n",
        "            plot_loss_total = 0\n",
        "\n",
        "    end_time = time.time()  # Registrar el tiempo de finalización del entrenamiento\n",
        "    elapsed_time = end_time - start_time  # Calcular el tiempo transcurrido\n",
        "    print(f'Tiempo total de entrenamiento: {elapsed_time // 60:.0f}m {elapsed_time % 60:.0f}s')  # Imprimir el tiempo total en minutos y segundos\n",
        "\n",
        "    # Devolver la lista de pérdidas para graficar\n",
        "    return plot_losses"
      ],
      "metadata": {
        "id": "XdvLYR2SxzKw"
      },
      "execution_count": null,
      "outputs": []
    },
    {
      "cell_type": "code",
      "source": [
        "hidden_size = 128\n",
        "batch_size = 32\n",
        "n_epochs = 120\n",
        "learning_rate = 0.001\n",
        "\n",
        "input_lang, output_lang, train_dataloader = get_dataloader(batch_size)\n",
        "\n",
        "encoder = EncoderRNN(input_lang.n_tokens, hidden_size).to(device)\n",
        "decoder = DecoderRNN(hidden_size, output_lang.n_tokens).to(device)\n",
        "\n",
        "losses = train(train_dataloader=train_dataloader, encoder=encoder, decoder=decoder, n_epochs=n_epochs, learning_rate=learning_rate, print_every=5, plot_every=5)"
      ],
      "metadata": {
        "id": "I8-XBAFrW4q0",
        "colab": {
          "base_uri": "https://localhost:8080/"
        },
        "outputId": "8380c583-3ef0-4a68-9a05-f2b65667b73a"
      },
      "execution_count": null,
      "outputs": [
        {
          "output_type": "stream",
          "name": "stdout",
          "text": [
            "Total de oraciones en dataset: 141543\n",
            "Reducido a: 119626\n",
            "Tamaño vocab spa: 24306\n",
            "Tamaño vocab eng: 12105\n",
            "Epoch: 5 - Loss: 1.4186\n",
            "Epoch: 10 - Loss: 0.6961\n",
            "Epoch: 15 - Loss: 0.5195\n",
            "Epoch: 20 - Loss: 0.4304\n",
            "Epoch: 25 - Loss: 0.3746\n",
            "Epoch: 30 - Loss: 0.3361\n",
            "Epoch: 35 - Loss: 0.3074\n",
            "Epoch: 40 - Loss: 0.2850\n",
            "Epoch: 45 - Loss: 0.2675\n",
            "Epoch: 50 - Loss: 0.2527\n",
            "Epoch: 55 - Loss: 0.2410\n",
            "Epoch: 60 - Loss: 0.2309\n",
            "Epoch: 65 - Loss: 0.2219\n",
            "Epoch: 70 - Loss: 0.2143\n",
            "Epoch: 75 - Loss: 0.2078\n",
            "Epoch: 80 - Loss: 0.2018\n",
            "Epoch: 85 - Loss: 0.1966\n",
            "Epoch: 90 - Loss: 0.1922\n",
            "Epoch: 95 - Loss: 0.1880\n",
            "Epoch: 100 - Loss: 0.1843\n",
            "Epoch: 105 - Loss: 0.1809\n",
            "Epoch: 110 - Loss: 0.1777\n",
            "Epoch: 115 - Loss: 0.1748\n",
            "Epoch: 120 - Loss: 0.1720\n",
            "Tiempo total de entrenamiento: 158m 24s\n"
          ]
        }
      ]
    },
    {
      "cell_type": "code",
      "source": [
        "import matplotlib.ticker as ticker\n",
        "\n",
        "def plotLoss(losses):\n",
        "    plt.figure()\n",
        "    fig, ax = plt.subplots()\n",
        "    # Graficar las pérdidas\n",
        "    plt.plot(losses)\n",
        "    # Configuración de los ejex x e y\n",
        "    ax.xaxis.set_major_formatter(ticker.FuncFormatter(lambda x, _: f'{int(x*5):d}'))\n",
        "    ax.yaxis.set_major_locator(ticker.MultipleLocator(base=0.2))\n",
        "    # Etiquetas de los ejes y título del gráfico\n",
        "    plt.xlabel('Épocas')\n",
        "    plt.ylabel('Pérdida')\n",
        "    plt.title('Pérdida de Entrenamiento')\n",
        "    plt.show()\n",
        "\n",
        "# Llamar a la función con las pérdidas\n",
        "plotLoss(losses)"
      ],
      "metadata": {
        "colab": {
          "base_uri": "https://localhost:8080/",
          "height": 493
        },
        "id": "Nis8Eh7KHQWE",
        "outputId": "05a6c609-5a2a-4b71-d8d1-30c821810ac3"
      },
      "execution_count": null,
      "outputs": [
        {
          "output_type": "display_data",
          "data": {
            "text/plain": [
              "<Figure size 640x480 with 0 Axes>"
            ]
          },
          "metadata": {}
        },
        {
          "output_type": "display_data",
          "data": {
            "text/plain": [
              "<Figure size 640x480 with 1 Axes>"
            ],
            "image/png": "[encoded data removed]"
          },
          "metadata": {}
        }
      ]
    },
    {
      "cell_type": "markdown",
      "source": [
        "Comente sus resultados. ¿Cómo evoluciona la loss a medida que aumenta el número de epochs?\n",
        "\n",
        "\n",
        "El entrenamiento del modelo muestra una disminución significativa y constante de la loss a lo largo de las 120 épocas, indicando una mejora progresiva en la precisión del modelo. En las primeras 20 épocas, la loss disminuye rápidamente, demostrando un aprendizaje inicial efectivo. Luego, aunque la reducción de la pérdida se vuelve más gradual, el modelo sigue mejorando su capacidad de traducción. En las últimas épocas, la pérdida se estabiliza, indicando que el modelo ha alcanzado una buena precisión, mostrando que los hiperparámetros y el mecanismo de atención utilizados han permitido al modelo aprender los patrones de traducción de manera eficaz, alcanzando un buen nivel de desempeño en la tarea de traducción entre español e inglés.\n"
      ],
      "metadata": {
        "id": "b7uIQ2QACKM-"
      }
    },
    {
      "cell_type": "markdown",
      "source": [
        "Adapte las siguientes funciones para traducir oraciones con su modelo. Pruebe su traductor con algunas oraciones aleatorias del corpus."
      ],
      "metadata": {
        "id": "UQ2-AA_MiYQ8"
      }
    },
    {
      "cell_type": "code",
      "source": [
        "def translate(encoder, decoder, sentence, input_lang, output_lang):\n",
        "    with torch.no_grad():\n",
        "      input_tensor = sentence2tensor(input_lang, sentence)\n",
        "\n",
        "      encoder_outputs, encoder_hidden = encoder(input_tensor)\n",
        "      decoder_outputs, decoder_hidden, decoder_attn = decoder(encoder_outputs, encoder_hidden)\n",
        "\n",
        "      _, topi = decoder_outputs.topk(1)\n",
        "      decoded_ids = topi.squeeze()\n",
        "\n",
        "      decoded_words = []\n",
        "      for idx in decoded_ids:\n",
        "        if idx.item() == EOS_token:\n",
        "          decoded_words.append('STOP')\n",
        "          break\n",
        "        decoded_words.append(output_lang.index2word[idx.item()])\n",
        "    return decoded_words, decoder_attn\n",
        "\n",
        "def evaluate_randomly(encoder, decoder, dataset, n=10):\n",
        "    for i in range(n):\n",
        "      pair = random.choice(dataset)\n",
        "      print('Input:', pair[0])\n",
        "      print('Traducción:', pair[1])\n",
        "      output_words, _ = translate(encoder, decoder, pair[0], input_lang, output_lang)\n",
        "      output_sentence = ' '.join(output_words)\n",
        "      print('Predicción:', output_sentence)\n",
        "      print('')"
      ],
      "metadata": {
        "id": "Zj4mpUz_9twS",
        "execution": {
          "iopub.status.busy": "2024-06-25T23:17:12.768057Z",
          "iopub.execute_input": "2024-06-25T23:17:12.768324Z",
          "iopub.status.idle": "2024-06-25T23:17:12.777954Z",
          "shell.execute_reply.started": "2024-06-25T23:17:12.768300Z",
          "shell.execute_reply": "2024-06-25T23:17:12.777281Z"
        },
        "trusted": true
      },
      "execution_count": null,
      "outputs": []
    },
    {
      "cell_type": "code",
      "source": [
        "encoder.eval()\n",
        "decoder.eval()\n",
        "evaluate_randomly(encoder, decoder, pairs, 10)"
      ],
      "metadata": {
        "colab": {
          "base_uri": "https://localhost:8080/"
        },
        "id": "ajucU8jv9xIy",
        "outputId": "934d7c32-76f8-4f34-e011-edebff1d50f9",
        "execution": {
          "iopub.status.busy": "2024-06-25T23:48:55.580509Z",
          "iopub.execute_input": "2024-06-25T23:48:55.580892Z",
          "iopub.status.idle": "2024-06-25T23:48:55.651920Z",
          "shell.execute_reply.started": "2024-06-25T23:48:55.580860Z",
          "shell.execute_reply": "2024-06-25T23:48:55.650843Z"
        },
        "trusted": true
      },
      "execution_count": null,
      "outputs": [
        {
          "output_type": "stream",
          "name": "stdout",
          "text": [
            "Input: recoge a tu madre\n",
            "Traducción: get your mother\n",
            "Predicción: your mother mother to STOP\n",
            "\n",
            "Input: yo no era una buena madre\n",
            "Traducción: i was not a good mother\n",
            "Predicción: i wasn t a good mother STOP\n",
            "\n",
            "Input: tus amigos se retrasan\n",
            "Traducción: your friends are late\n",
            "Predicción: your friends are late at themselves STOP\n",
            "\n",
            "Input: tom descuidó su trabajo\n",
            "Traducción: tom neglected his work\n",
            "Predicción: tom neglected his work STOP\n",
            "\n",
            "Input: creo que nos estamos atrasando en este trabajo\n",
            "Traducción: i think we re getting behind in this work\n",
            "Predicción: i think we re getting behind in this work STOP\n",
            "\n",
            "Input: creo que deberíamos contratar más personas\n",
            "Traducción: i think we ought to hire more people\n",
            "Predicción: i think we ought to hire more people are worth\n",
            "\n",
            "Input: tienes un sentido de orientación realmente bueno\n",
            "Traducción: you have a really good sense of direction\n",
            "Predicción: you have a really good sense of direction STOP\n",
            "\n",
            "Input: yo mismo lo sé\n",
            "Traducción: i know it myself\n",
            "Predicción: i know it as well as he knows the same\n",
            "\n",
            "Input: eres un niño tan lindo\n",
            "Traducción: you re such a cute boy\n",
            "Predicción: such you re such a cute boy STOP\n",
            "\n",
            "Input: tengo algo que enseñarte\n",
            "Traducción: i ve got something to show you\n",
            "Predicción: i have something to teach you how to show you\n",
            "\n"
          ]
        }
      ]
    },
    {
      "cell_type": "markdown",
      "source": [
        "Comente sus resultados. ¿Qué ocurre con las cuando la traducción predicha es válida pero no igual al ground truth? ¿Qué haría para abordar este problema?\n",
        "\n",
        "Aquí tienes una versión mejorada del texto:\n",
        "  \n",
        "  Las oraciones predichas con una longitud menor a 10 incluyen el token final \"STOP\". Los resultados de la evaluación del modelo indican que las traducciones predichas suelen acercarse a la traducción correcta, aunque a menudo contienen palabras adicionales, repeticiones o formulaciones incorrectas. Por ejemplo, en casos como la traducción \"get your mother\" con la predicción \"your mother mother to STOP\", donde se duplica la palabra \"mother\", o en la frase \"yo mismo lo sé\", traducida como \"i know it myself\", con la predicción \"i know it as well as he knows the same\", donde se añaden palabras innecesarias. Estos errores sugieren dificultades del modelo para manejar algunas estructuras de oraciones y contextos. Sin embargo, hubo casos en los que las predicciones fueron correctas, como en la frase \"tienes un sentido de orientación realmente bueno\", traducida como \"you have a really good sense of direction\", con una predicción exacta de \"you have a really good sense of direction STOP\".\n",
        "\n",
        "  Para mejorar el rendimiento del modelo, se recomienda ajustar los hiperparámetros clave como la tasa de aprendizaje y el tamaño de la capa oculta. Además, considerar el uso de capas RNN bidireccionales puede ayudar a capturar mejor el contexto en ambas direcciones. La utilización de embeddings pre-entrenados, como Word2Vec, GloVe o FastText, también puede mejorar la representación de palabras y facilitar al modelo capturar significados semánticos y contextuales más precisos en las oraciones. Es fundamental aumentar y diversificar el dataset de entrenamiento para mejorar la capacidad de generalización del modelo.\n",
        "\n"
      ],
      "metadata": {
        "id": "SySR_0qviYQ9"
      }
    },
    {
      "cell_type": "markdown",
      "source": [
        "### P4. Visualizando Attention (0.5 pt.)\n",
        "\n",
        "Ahora visualizaremos los pesos de atención asignados entre las palabras traducidas. Para esto, les entregamos funciones para visualizar los pesos de atención entregados por su decoder a partir de una oración. Adapte el código al output de su modelo de ser necesario."
      ],
      "metadata": {
        "id": "tZsbBWc3Dgkt"
      }
    },
    {
      "cell_type": "code",
      "source": [
        "import matplotlib.pyplot as plt\n",
        "plt.switch_backend('agg')\n",
        "import matplotlib.ticker as ticker\n",
        "import numpy as np"
      ],
      "metadata": {
        "id": "H3pGxykbEwxD",
        "execution": {
          "iopub.status.busy": "2024-06-26T00:10:32.538676Z",
          "iopub.execute_input": "2024-06-26T00:10:32.539037Z",
          "iopub.status.idle": "2024-06-26T00:10:32.838758Z",
          "shell.execute_reply.started": "2024-06-26T00:10:32.539010Z",
          "shell.execute_reply": "2024-06-26T00:10:32.837734Z"
        },
        "trusted": true
      },
      "execution_count": null,
      "outputs": []
    },
    {
      "cell_type": "code",
      "source": [
        "%matplotlib inline"
      ],
      "metadata": {
        "execution": {
          "iopub.status.busy": "2024-06-26T00:11:05.013508Z",
          "iopub.execute_input": "2024-06-26T00:11:05.014317Z",
          "iopub.status.idle": "2024-06-26T00:11:05.019829Z",
          "shell.execute_reply.started": "2024-06-26T00:11:05.014274Z",
          "shell.execute_reply": "2024-06-26T00:11:05.018843Z"
        },
        "trusted": true,
        "id": "enylYxmWiYQ_"
      },
      "execution_count": null,
      "outputs": []
    },
    {
      "cell_type": "code",
      "source": [
        "def plot_attention(input_sentence, output_words, attentions):\n",
        "    fig = plt.figure()\n",
        "    ax = fig.add_subplot(111)\n",
        "    cax = ax.matshow(attentions.cpu().numpy(), cmap='bone')\n",
        "    fig.colorbar(cax)\n",
        "\n",
        "    # Set up axes\n",
        "    ax.set_xticklabels([''] + input_sentence.split(' ') + ['STOP'], rotation=90)\n",
        "    ax.set_yticklabels([''] + output_words)\n",
        "\n",
        "    # Show label at every tick\n",
        "    ax.xaxis.set_major_locator(ticker.MultipleLocator(1))\n",
        "    ax.yaxis.set_major_locator(ticker.MultipleLocator(1))\n",
        "\n",
        "    plt.show()\n",
        "\n",
        "\n",
        "def show_attention(input_sentence):\n",
        "    output_words, attentions = translate(encoder, decoder, input_sentence, input_lang, output_lang)\n",
        "    print('input =', input_sentence)\n",
        "    print('output =', ' '.join(output_words))\n",
        "    plot_attention(input_sentence, output_words, attentions[0, :len(output_words), :])"
      ],
      "metadata": {
        "id": "PEYuC0yvEg5i",
        "execution": {
          "iopub.status.busy": "2024-06-26T07:05:55.099370Z",
          "iopub.execute_input": "2024-06-26T07:05:55.099763Z",
          "iopub.status.idle": "2024-06-26T07:05:55.110218Z",
          "shell.execute_reply.started": "2024-06-26T07:05:55.099734Z",
          "shell.execute_reply": "2024-06-26T07:05:55.109336Z"
        },
        "trusted": true
      },
      "execution_count": null,
      "outputs": []
    },
    {
      "cell_type": "markdown",
      "source": [
        "Grafique la atención de las siguientes oraciones de ejemplo. Haga lo mismo con al menos tres oraciones más que puedan ser interesantes."
      ],
      "metadata": {
        "id": "x1woXuV4iYQ_"
      }
    },
    {
      "cell_type": "code",
      "source": [
        "## Oraciones de ejemplo\n",
        "\n",
        "show_attention('tom necesita un poco de ayuda')\n",
        "\n",
        "show_attention('el perro corre rápidamente')\n",
        "\n",
        "show_attention('el banco le ofreció un alto interés')\n",
        "\n",
        "show_attention('él toca la flauta el clarinete y el saxofón')"
      ],
      "metadata": {
        "execution": {
          "iopub.status.busy": "2024-06-27T01:36:27.20562Z",
          "iopub.execute_input": "2024-06-27T01:36:27.206601Z",
          "iopub.status.idle": "2024-06-27T01:36:29.1141Z",
          "shell.execute_reply.started": "2024-06-27T01:36:27.206568Z",
          "shell.execute_reply": "2024-06-27T01:36:29.113147Z"
        },
        "trusted": true,
        "outputId": "80450259-e451-461f-9c22-698a59156f2a",
        "id": "A9UvaxzvV1U2",
        "colab": {
          "base_uri": "https://localhost:8080/",
          "height": 1000
        }
      },
      "execution_count": null,
      "outputs": [
        {
          "output_type": "stream",
          "name": "stdout",
          "text": [
            "input = tom necesita un poco de ayuda\n",
            "output = tom needs a little help STOP\n"
          ]
        },
        {
          "output_type": "stream",
          "name": "stderr",
          "text": [
            "<ipython-input-44-6104c59fc862>:8: UserWarning: FixedFormatter should only be used together with FixedLocator\n",
            "  ax.set_xticklabels([''] + input_sentence.split(' ') + ['STOP'], rotation=90)\n",
            "<ipython-input-44-6104c59fc862>:9: UserWarning: FixedFormatter should only be used together with FixedLocator\n",
            "  ax.set_yticklabels([''] + output_words)\n"
          ]
        },
        {
          "output_type": "display_data",
          "data": {
            "text/plain": [
              "<Figure size 640x480 with 2 Axes>"
            ],
            "image/png": "[encoded data removed]"
          },
          "metadata": {}
        },
        {
          "output_type": "stream",
          "name": "stdout",
          "text": [
            "input = el perro corre rápidamente\n",
            "output = the dog runs quickly quickly STOP\n"
          ]
        },
        {
          "output_type": "display_data",
          "data": {
            "text/plain": [
              "<Figure size 640x480 with 2 Axes>"
            ],
            "image/png": "[encoded data removed]"
          },
          "metadata": {}
        },
        {
          "output_type": "stream",
          "name": "stdout",
          "text": [
            "input = el banco le ofreció un alto interés\n",
            "output = the bank offered him a high school girl STOP\n"
          ]
        },
        {
          "output_type": "display_data",
          "data": {
            "text/plain": [
              "<Figure size 640x480 with 2 Axes>"
            ],
            "image/png": "[encoded data removed]"
          },
          "metadata": {}
        },
        {
          "output_type": "stream",
          "name": "stdout",
          "text": [
            "input = él toca la flauta el clarinete y el saxofón\n",
            "output = he plays the flute the clarinet and the saxophone STOP\n"
          ]
        },
        {
          "output_type": "display_data",
          "data": {
            "text/plain": [
              "<Figure size 640x480 with 2 Axes>"
            ],
            "image/png": "[encoded data removed]"
          },
          "metadata": {}
        }
      ]
    },
    {
      "cell_type": "code",
      "source": [
        "## Oraciones de ejemplo\n",
        "\n",
        "show_attention('última tarea del curso !')\n",
        "\n",
        "show_attention('hola profesor')\n",
        "\n",
        "# show_attention('')"
      ],
      "metadata": {
        "execution": {
          "iopub.status.busy": "2024-06-26T00:23:19.644835Z",
          "iopub.execute_input": "2024-06-26T00:23:19.645525Z",
          "iopub.status.idle": "2024-06-26T00:23:20.075431Z",
          "shell.execute_reply.started": "2024-06-26T00:23:19.645492Z",
          "shell.execute_reply": "2024-06-26T00:23:20.074157Z"
        },
        "trusted": true,
        "id": "mGT1XA9DiYRA",
        "colab": {
          "base_uri": "https://localhost:8080/",
          "height": 1000
        },
        "outputId": "9b5493b7-4b6b-4aef-b37d-f56508f8a775"
      },
      "execution_count": null,
      "outputs": [
        {
          "output_type": "stream",
          "name": "stdout",
          "text": [
            "input = última tarea del curso !\n",
            "output = i had done not lunchtime yet STOP\n"
          ]
        },
        {
          "output_type": "stream",
          "name": "stderr",
          "text": [
            "<ipython-input-44-6104c59fc862>:8: UserWarning: FixedFormatter should only be used together with FixedLocator\n",
            "  ax.set_xticklabels([''] + input_sentence.split(' ') + ['STOP'], rotation=90)\n",
            "<ipython-input-44-6104c59fc862>:9: UserWarning: FixedFormatter should only be used together with FixedLocator\n",
            "  ax.set_yticklabels([''] + output_words)\n"
          ]
        },
        {
          "output_type": "display_data",
          "data": {
            "text/plain": [
              "<Figure size 640x480 with 2 Axes>"
            ],
            "image/png": "[encoded data removed]"
          },
          "metadata": {}
        },
        {
          "output_type": "stream",
          "name": "stdout",
          "text": [
            "input = hola profesor\n",
            "output = hello girls like a teacher STOP\n"
          ]
        },
        {
          "output_type": "display_data",
          "data": {
            "text/plain": [
              "<Figure size 640x480 with 2 Axes>"
            ],
            "image/png": "[encoded data removed]"
          },
          "metadata": {}
        }
      ]
    },
    {
      "cell_type": "markdown",
      "source": [
        "Comente sus resultados. ¿Eran lo que esperaba?\n",
        "\n",
        "El análisis de los mapas de pesos de atención generados por el modelo revela que el modelo, en general, está realizando un buen trabajo al alinear palabras de entrada con sus correspondientes traducciones en la salida. Los mapas de pesos de atención muestran que el modelo es capaz de identificar correctamente las relaciones entre la mayoría de las palabras en las oraciones de entrada y salida. Por ejemplo, en el caso de \"el perro corre rápidamente\" y su traducción a \"the dog runs quickly\", el modelo asignó la atención correctamente, aunque hubo un problema de repetición de la palabra \"quickly\". De manera similar, en el caso de \"el banco le ofreció un alto interés\", el modelo mostró una buena alineación, aunque hubo cierta confusión con el artículo \"a\" y el adjetivo \"high\".\n",
        "\n",
        "Los resultados obtenidos son en gran medida lo esperado, aunque con algunas áreas de mejora. El modelo ha mostrado ser capaz de capturar correctamente la mayor parte de las correspondencias entre palabras y frases en las oraciones de entrada y salida. Sin embargo, los errores como la repetición de palabras indican que el modelo aún tiene espacio para mejorar."
      ],
      "metadata": {
        "id": "fiC9Yii4G3qx"
      }
    },
    {
      "cell_type": "markdown",
      "source": [
        "## Parte 2: BERT"
      ],
      "metadata": {
        "id": "Ol82nJ0FnmcP"
      }
    },
    {
      "cell_type": "markdown",
      "source": [
        "Lo primero es instalar las librerías necesarias."
      ],
      "metadata": {
        "id": "W28UEwvGYTbg"
      }
    },
    {
      "cell_type": "code",
      "source": [
        "%%capture\n",
        "!pip install transformers\n",
        "from transformers import BertTokenizer, BertForNextSentencePrediction, BertForMaskedLM, BertForQuestionAnswering\n",
        "import torch"
      ],
      "metadata": {
        "id": "3X4Gbx7wYWDD"
      },
      "execution_count": null,
      "outputs": []
    },
    {
      "cell_type": "markdown",
      "source": [
        "Para las preguntas que siguen, utilizaremos distintas variantes de BERT disponibles en la librería transformers. [Aquí](https://huggingface.co/transformers/model_doc/bert.html) pueden encontrar toda la documentación necesaria. El modelo pre-entrenado a utilizar es \"bert-base-uncased\" (salvo para question answering)."
      ],
      "metadata": {
        "id": "eIQo-VciYz2V"
      }
    },
    {
      "cell_type": "markdown",
      "source": [
        "BERT es un modelo de lenguaje que fue entrenado exhaustivamente sobre dos tareas: 1) Next sentence prediction. 2) Masked language modeling."
      ],
      "metadata": {
        "id": "E4_WHbz8bXx2"
      }
    },
    {
      "cell_type": "markdown",
      "source": [
        "### **BertForNextSentencePrediction** (0.5 pt.)"
      ],
      "metadata": {
        "id": "QyMb4YZRMYkm"
      }
    },
    {
      "cell_type": "markdown",
      "source": [
        "**Pregunta 1:**  Utilizando el modelo BertForNextSentencePrediction de la librería transformers, muestre cual de las 2 oraciones es **más probable** que sea una continuación de la primera. Para esto defina la función $oracion\\_mas\\_probable$, que recibe el inicio de una frase, las alternativas para continuar esta frase y retorna un string indicando cual de las dos oraciones es más probable.\n",
        "\n",
        "Por ejemplo:\n",
        "\n",
        "Initial: \"The sky is blue.\"\\\n",
        "A: \"This is due to the shorter wavelength of blue light.\"\\\n",
        "B: \"Chile is one of the world's greatest economies.\"\n",
        "\n",
        "Debería retornar \"La oración que continúa más probable es A\", justificándolo con la evaluación de BERT.\n",
        "\n"
      ],
      "metadata": {
        "id": "Yt6CbBtyadRb"
      }
    },
    {
      "cell_type": "code",
      "source": [
        "tokenizer = BertTokenizer.from_pretrained('bert-base-uncased')\n",
        "model = BertForNextSentencePrediction.from_pretrained('bert-base-uncased')"
      ],
      "metadata": {
        "colab": {
          "base_uri": "https://localhost:8080/",
          "height": 336,
          "referenced_widgets": [
            "eba3739767e142079fb3b5f667531ed6",
            "343e7605999145d7b0f4135a95b4393e",
            "f31c54d35f254104af2cc3c8d5534759",
            "362e71abaed14f859f45f160916fd46b",
            "44ba17355fb54f5cbd14616511d000d8",
            "d6fbcaa90022422aba03b83d76a35691",
            "d42b46e4460e4566bdbb8a1b02d89813",
            "afbff77387ad41afafbf88d7737ab150",
            "fdf8aeefb3864780b342e8cd4815e05c",
            "0c7198e49d3249beba8413dfff5efb2c",
            "8dffc5eceecb48d98e58dedbc8181b79",
            "1cf75badc44141928906ec2ede4d7c34",
            "aa555f86de6644aa827a21df81f0cd0b",
            "ba513e4188904ff98ba3f527e8690a14",
            "2fe0d59525204d598068bc4bf64415a4",
            "ac332f5b87e344edbff2abbc84dacad8",
            "f93818a5a13e4936b839097d8ae8e461",
            "3c72b510b7a64905a569718fc1aa19de",
            "090acf376b3b42f0b9b80837b582e37e",
            "089a1efadab44b2aabb386bef83a09ed",
            "be17b4316df7485aaaa691077aee8283",
            "770ca49181b242b886a4eda0b4c6131f",
            "79dab4a76d6a4ceda393c1b7bd7f1e86",
            "c5516318e9ca4773b7da9ce934eb67dc",
            "48d12daf45854f188c91c8822eb0eb33",
            "28456d46844543ac8ac42ce9159e8850",
            "5f88dfb5a502458dad2dd77cfab654a8",
            "7cf2090de1204b9eb182fa78923ace77",
            "b7e489d0588d4e63be7bfd47d4dc1444",
            "b49871fc1871454d9d5184d37be1da54",
            "89918b0ac1ed47d8984e4e9e2415ed6f",
            "37aadaeb90d146c48ad00c4fc8c6b872",
            "d6b2c44f3dfe4674b91a9d743c2c3749",
            "caff9c21389f4b839ed3fcd2acbfda91",
            "f120eaaf85ee4876957eaadb84336000",
            "3d4ee8f1d61d4f1ba2cff4c56c67e32e",
            "d012428d57cc4d9497d5d7d1c5eb9fa8",
            "137ed0b4e4a54969b34342a733b724aa",
            "31be54e22a394c18b3adb5286380997d",
            "785f6451938c4c75aa9725aabec1b4c9",
            "39f73620c07f40cab8cb3f94eceaa3ad",
            "1dc1f715755e43d687c6345879611f9f",
            "26a53153ebd249e4a0965f185150dfb6",
            "6e7b9588e49d46b3a96893c6ffc65282",
            "0fa76de8de41469bb236e30bea2e8d74",
            "7832c1d3b4ec4c9a9b96226045a67be2",
            "f148e379303f4a9db0476108c428f15e",
            "7be2c956f85c42d8ad003c35ab38873e",
            "271930bdaf1642acb2a4eb36f4f8d05e",
            "9ed074e281d6494d9d07de8b52a13539",
            "36cc120cb86a45bcbd430c251e683de6",
            "9284599388d247d6bf4083bebb27e119",
            "39bd1087b031403391e48abe0d3bccb5",
            "4abb52d6084d409096d09dec9ad87f6a",
            "9faba4ff59b54eaea4710f505ee9235c"
          ]
        },
        "id": "IOX0bwser8OM",
        "outputId": "4fd1172d-d1d5-49af-9cf8-864974b94b7f"
      },
      "execution_count": null,
      "outputs": [
        {
          "output_type": "stream",
          "name": "stderr",
          "text": [
            "/usr/local/lib/python3.10/dist-packages/huggingface_hub/utils/_token.py:89: UserWarning: \n",
            "The secret `HF_TOKEN` does not exist in your Colab secrets.\n",
            "To authenticate with the Hugging Face Hub, create a token in your settings tab (https://huggingface.co/settings/tokens), set it as secret in your Google Colab and restart your session.\n",
            "You will be able to reuse this secret in all of your notebooks.\n",
            "Please note that authentication is recommended but still optional to access public models or datasets.\n",
            "  warnings.warn(\n"
          ]
        },
        {
          "output_type": "display_data",
          "data": {
            "text/plain": [
              "tokenizer_config.json:   0%|          | 0.00/48.0 [00:00<?, ?B/s]"
            ],
            "application/vnd.jupyter.widget-view+json": {
              "version_major": 2,
              "version_minor": 0,
              "model_id": "eba3739767e142079fb3b5f667531ed6"
            }
          },
          "metadata": {}
        },
        {
          "output_type": "display_data",
          "data": {
            "text/plain": [
              "vocab.txt:   0%|          | 0.00/232k [00:00<?, ?B/s]"
            ],
            "application/vnd.jupyter.widget-view+json": {
              "version_major": 2,
              "version_minor": 0,
              "model_id": "1cf75badc44141928906ec2ede4d7c34"
            }
          },
          "metadata": {}
        },
        {
          "output_type": "display_data",
          "data": {
            "text/plain": [
              "tokenizer.json:   0%|          | 0.00/466k [00:00<?, ?B/s]"
            ],
            "application/vnd.jupyter.widget-view+json": {
              "version_major": 2,
              "version_minor": 0,
              "model_id": "79dab4a76d6a4ceda393c1b7bd7f1e86"
            }
          },
          "metadata": {}
        },
        {
          "output_type": "stream",
          "name": "stderr",
          "text": [
            "/usr/local/lib/python3.10/dist-packages/huggingface_hub/file_download.py:1132: FutureWarning: `resume_download` is deprecated and will be removed in version 1.0.0. Downloads always resume when possible. If you want to force a new download, use `force_download=True`.\n",
            "  warnings.warn(\n"
          ]
        },
        {
          "output_type": "display_data",
          "data": {
            "text/plain": [
              "config.json:   0%|          | 0.00/570 [00:00<?, ?B/s]"
            ],
            "application/vnd.jupyter.widget-view+json": {
              "version_major": 2,
              "version_minor": 0,
              "model_id": "caff9c21389f4b839ed3fcd2acbfda91"
            }
          },
          "metadata": {}
        },
        {
          "output_type": "display_data",
          "data": {
            "text/plain": [
              "model.safetensors:   0%|          | 0.00/440M [00:00<?, ?B/s]"
            ],
            "application/vnd.jupyter.widget-view+json": {
              "version_major": 2,
              "version_minor": 0,
              "model_id": "0fa76de8de41469bb236e30bea2e8d74"
            }
          },
          "metadata": {}
        }
      ]
    },
    {
      "cell_type": "code",
      "source": [
        "def oracion_mas_probable(first,sentA,sentB):\n",
        "  #Tu implementacion\n",
        "  encodingA = tokenizer(first, sentA, return_tensors='pt')\n",
        "  encodingB = tokenizer(first, sentB, return_tensors='pt')\n",
        "  outputA = model(**encodingA, labels=torch.LongTensor([1]))\n",
        "  outputB = model(**encodingB, labels=torch.LongTensor([1]))\n",
        "  logitsA = outputA.logits\n",
        "  logitsB = outputB.logits\n",
        "\n",
        "  # Calcular las probabilidades con softmax\n",
        "  probsA = torch.softmax(logitsA, dim=-1)\n",
        "  probsB = torch.softmax(logitsB, dim=-1)\n",
        "\n",
        "  # Calcular la probabilidad de que las oraciones sean correctas\n",
        "  probA = probsA[0, 0].item() #el item [0,0] es la probabilidad de true y [0,1] la de false según la documentacion\n",
        "  probB = probsB[0, 0].item() # Prediction scores of the next sequence prediction (classification) head (scores of True/False continuation before SoftMax).\n",
        "\n",
        "  # Comparar y devolver la oración más probable\n",
        "  if probA > probB:\n",
        "      return  \"La oración que continúa más probable es A\"\n",
        "  else:\n",
        "      return  \"La oración que continúa más probable es B\""
      ],
      "metadata": {
        "id": "WoBKxPt-mz-e"
      },
      "execution_count": null,
      "outputs": []
    },
    {
      "cell_type": "markdown",
      "source": [
        "1.1)\n",
        "Initial: \"My cat is fluffy.\"\\\n",
        "A: \"My dog has a curling tail.\"\\\n",
        "B: \"A song can make or ruin a person’s day if they let it get to them.\""
      ],
      "metadata": {
        "id": "goXIGaief8Bi"
      }
    },
    {
      "cell_type": "code",
      "source": [
        "oracion_mas_probable(\"My cat is fluffy.\", \"My dog has a curling tail.\", \"A song can make or ruin a person’s day if they let it get to them.\")"
      ],
      "metadata": {
        "id": "jVLccJ9go-lS",
        "colab": {
          "base_uri": "https://localhost:8080/",
          "height": 36
        },
        "outputId": "ae479da4-981f-4fbd-a5ba-3822eda03837"
      },
      "execution_count": null,
      "outputs": [
        {
          "output_type": "execute_result",
          "data": {
            "text/plain": [
              "'La oración que continúa más probable es A'"
            ],
            "application/vnd.google.colaboratory.intrinsic+json": {
              "type": "string"
            }
          },
          "metadata": {},
          "execution_count": 13
        }
      ]
    },
    {
      "cell_type": "markdown",
      "source": [
        "1.2)\n",
        "Initial: \"The Big Apple is famous worldwide.\"\\\n",
        "A: \"You can add cinnamon for the perfect combination.\"\\\n",
        "B: \"It is America's largest city.\""
      ],
      "metadata": {
        "id": "mHd7UzXpgCY-"
      }
    },
    {
      "cell_type": "code",
      "source": [
        "oracion_mas_probable( \"The Big Apple is famous worldwide.\", \"You can add cinnamon for the perfect combination.\", \"It is America's largest city.\")"
      ],
      "metadata": {
        "id": "JJIp0wBSo_VR",
        "colab": {
          "base_uri": "https://localhost:8080/",
          "height": 36
        },
        "outputId": "d1d10558-52d9-40cd-c34f-f273513bb2cd"
      },
      "execution_count": null,
      "outputs": [
        {
          "output_type": "execute_result",
          "data": {
            "text/plain": [
              "'La oración que continúa más probable es B'"
            ],
            "application/vnd.google.colaboratory.intrinsic+json": {
              "type": "string"
            }
          },
          "metadata": {},
          "execution_count": 14
        }
      ]
    },
    {
      "cell_type": "markdown",
      "source": [
        "1.3)\n",
        "Initial: \"Roses are red.\"\\\n",
        "A: \"Violets are blue.\"\\\n",
        "B: \"Fertilize them regularly for impressive flowers.\""
      ],
      "metadata": {
        "id": "c1Y7oxM7d0jM"
      }
    },
    {
      "cell_type": "code",
      "source": [
        "oracion_mas_probable( \"Roses are red.\",  \"Violets are blue.\", \"Fertilize them regularly for impressive flowers.\")"
      ],
      "metadata": {
        "id": "888e-dlHpAEJ",
        "colab": {
          "base_uri": "https://localhost:8080/",
          "height": 36
        },
        "outputId": "0d52ed61-3f8e-4064-af8f-59d8cec7e982"
      },
      "execution_count": null,
      "outputs": [
        {
          "output_type": "execute_result",
          "data": {
            "text/plain": [
              "'La oración que continúa más probable es A'"
            ],
            "application/vnd.google.colaboratory.intrinsic+json": {
              "type": "string"
            }
          },
          "metadata": {},
          "execution_count": 15
        }
      ]
    },
    {
      "cell_type": "markdown",
      "source": [
        "1.4)\n",
        "Initial: \"I play videogames the whole day.\"\\\n",
        "A: \"They make me happy.\"\\\n",
        "B: \"They make me rage.\"\\"
      ],
      "metadata": {
        "id": "lgC5BcoDiIWV"
      }
    },
    {
      "cell_type": "code",
      "source": [
        "oracion_mas_probable( \"I play videogames the whole day.\",  \"They make me happy.\", \"They make me rage.\")"
      ],
      "metadata": {
        "id": "VfeRqw4gpBDP",
        "colab": {
          "base_uri": "https://localhost:8080/",
          "height": 36
        },
        "outputId": "48372853-f5da-4139-d885-86248edfa558"
      },
      "execution_count": null,
      "outputs": [
        {
          "output_type": "execute_result",
          "data": {
            "text/plain": [
              "'La oración que continúa más probable es A'"
            ],
            "application/vnd.google.colaboratory.intrinsic+json": {
              "type": "string"
            }
          },
          "metadata": {},
          "execution_count": 16
        }
      ]
    },
    {
      "cell_type": "markdown",
      "source": [
        "### **BertForMaskedLM** (0.5 pt.)"
      ],
      "metadata": {
        "id": "o3ArRo_zMdtr"
      }
    },
    {
      "cell_type": "markdown",
      "source": [
        "**Pregunta 2:**  Ahora utilizaremos BertForMaskedLM para **predecir una palabra oculta** en una oración.\\\n",
        "Por ejemplo:\\\n",
        "BERT input: \"I want to _ a new car.\"\\\n",
        "BERT prediction: \"buy\""
      ],
      "metadata": {
        "id": "FCN8XM7qihx1"
      }
    },
    {
      "cell_type": "code",
      "source": [
        "tokenizer = BertTokenizer.from_pretrained('bert-base-uncased')\n",
        "model = BertForMaskedLM.from_pretrained('bert-base-uncased')"
      ],
      "metadata": {
        "id": "QZwFxbJOv_aW"
      },
      "execution_count": null,
      "outputs": []
    },
    {
      "cell_type": "code",
      "source": [
        "def palabra_mas_probable(sentence):\n",
        "  #Tu implementacion\n",
        "  tokenized_text = tokenizer.tokenize(sentence)\n",
        "  masked_index = tokenized_text.index('[MASK]')\n",
        "  indexed_tokens = tokenizer.convert_tokens_to_ids(tokenized_text)\n",
        "  tokens_tensor = torch.tensor([indexed_tokens])\n",
        "  # print(tokenized_text)\n",
        "  # print(masked_index)\n",
        "  # print(indexed_tokens)\n",
        "  # print(tokens_tensor)\n",
        "  segments_tensors = None #Que significa esto?\n",
        "\n",
        "  predictions = model(tokens_tensor, segments_tensors)\n",
        "  predicted_index = torch.argmax(predictions[0][0][masked_index]).item()\n",
        "\n",
        "  # Convertir el índice de vuelta a un token\n",
        "  predicted_token = tokenizer.convert_ids_to_tokens([predicted_index])[0]\n",
        "\n",
        "  return predicted_token\n"
      ],
      "metadata": {
        "id": "QSGkdSokv-3G"
      },
      "execution_count": null,
      "outputs": []
    },
    {
      "cell_type": "markdown",
      "source": [
        "2.1)\n",
        "BERT input: \"[CLS] I love [MASK] . [SEP]\""
      ],
      "metadata": {
        "id": "gua8HPhfkYOb"
      }
    },
    {
      "cell_type": "code",
      "source": [
        "sent = \"[CLS] I love [MASK] . [SEP]\"\n",
        "palabra_mas_probable(sent)"
      ],
      "metadata": {
        "id": "xKRFJnURk7ut",
        "colab": {
          "base_uri": "https://localhost:8080/",
          "height": 36
        },
        "outputId": "31739823-ea4b-43de-eb6e-d098477b6c29"
      },
      "execution_count": null,
      "outputs": [
        {
          "output_type": "execute_result",
          "data": {
            "text/plain": [
              "'you'"
            ],
            "application/vnd.google.colaboratory.intrinsic+json": {
              "type": "string"
            }
          },
          "metadata": {},
          "execution_count": 29
        }
      ]
    },
    {
      "cell_type": "markdown",
      "source": [
        "2.2)\n",
        "BERT input: \"[CLS] I hear that Karen is very [MASK] . [SEP]\""
      ],
      "metadata": {
        "id": "7npsRd9Nk8hi"
      }
    },
    {
      "cell_type": "code",
      "source": [
        "sent = \"[CLS] I heard that Karen is very [MASK] . [SEP]\"\n",
        "palabra_mas_probable(sent)"
      ],
      "metadata": {
        "id": "EW7CosmKk87e",
        "colab": {
          "base_uri": "https://localhost:8080/",
          "height": 36
        },
        "outputId": "876b5a17-ba56-4c70-c210-f7d2e7d4a4b8"
      },
      "execution_count": null,
      "outputs": [
        {
          "output_type": "execute_result",
          "data": {
            "text/plain": [
              "'upset'"
            ],
            "application/vnd.google.colaboratory.intrinsic+json": {
              "type": "string"
            }
          },
          "metadata": {},
          "execution_count": 30
        }
      ]
    },
    {
      "cell_type": "markdown",
      "source": [
        "2.3)\n",
        "BERT input: \"[CLS] She had the gift of being able to [MASK] . [SEP]\""
      ],
      "metadata": {
        "id": "3SqzWh8Wk9TD"
      }
    },
    {
      "cell_type": "code",
      "source": [
        "sent = \"[CLS] She had the gift of being able to [MASK] . [SEP]\"\n",
        "palabra_mas_probable(sent)"
      ],
      "metadata": {
        "id": "K6YFd1Xpk9qd",
        "colab": {
          "base_uri": "https://localhost:8080/",
          "height": 36
        },
        "outputId": "b2fdb290-1db3-4368-a5dc-242772fb41ab"
      },
      "execution_count": null,
      "outputs": [
        {
          "output_type": "execute_result",
          "data": {
            "text/plain": [
              "'fly'"
            ],
            "application/vnd.google.colaboratory.intrinsic+json": {
              "type": "string"
            }
          },
          "metadata": {},
          "execution_count": 31
        }
      ]
    },
    {
      "cell_type": "markdown",
      "source": [
        "2.4)\n",
        "BERT input: \"[CLS] It's not often you find a [MASK] on the street. [SEP]\""
      ],
      "metadata": {
        "id": "XoV_5suNk-1X"
      }
    },
    {
      "cell_type": "code",
      "source": [
        "sent = \"[CLS] It's not often you find an [MASK] on the circus . [SEP]\"\n",
        "palabra_mas_probable(sent)"
      ],
      "metadata": {
        "id": "C8ayI5VIk_Hr",
        "colab": {
          "base_uri": "https://localhost:8080/",
          "height": 36
        },
        "outputId": "582786d9-967b-4234-a1bb-2a1ccc3ca76d"
      },
      "execution_count": null,
      "outputs": [
        {
          "output_type": "execute_result",
          "data": {
            "text/plain": [
              "'expert'"
            ],
            "application/vnd.google.colaboratory.intrinsic+json": {
              "type": "string"
            }
          },
          "metadata": {},
          "execution_count": 32
        }
      ]
    },
    {
      "cell_type": "markdown",
      "source": [
        "### **BertForQuestionAnswering** (0.5 pt.)"
      ],
      "metadata": {
        "id": "FJFPpgoYMim5"
      }
    },
    {
      "cell_type": "markdown",
      "source": [
        "**Pregunta 3**  Utilizando el modelo BertForQuestionAnswering pre-entrenado con 'bert-large-uncased-whole-word-masking-finetuned-squad', **extraiga la respuesta** a cada una de las siguientes 4 preguntas y su contexto. Recuerde cambiar el tokenizer para que coincida con el modelo."
      ],
      "metadata": {
        "id": "GmCSmftALYbA"
      }
    },
    {
      "cell_type": "code",
      "source": [
        "tokenizer = BertTokenizer.from_pretrained('bert-large-uncased-whole-word-masking-finetuned-squad')\n",
        "model = BertForQuestionAnswering.from_pretrained('bert-large-uncased-whole-word-masking-finetuned-squad')"
      ],
      "metadata": {
        "colab": {
          "base_uri": "https://localhost:8080/",
          "height": 232,
          "referenced_widgets": [
            "9c09c72b584b424f9e2b374e27b4a760",
            "d50c9073e0e243c3a425460f4ac57dc7",
            "95ef9d8b1af94c15a977c63da72791d4",
            "3b60f13d38c9414b9f00d07851ffba97",
            "a6368c76fe354ea7a10ffbb9e66c424d",
            "0b3165264dbd4f13b60debc4d76c525b",
            "d82ee16aad544775a17255c502c04143",
            "df24302f9dbc4cc6b51e560d2750c8e3",
            "bd42aa5b12fa4828aa02bbb332578873",
            "209e68a3e31a43a3a5ba2f9625224825",
            "c3af2ee6fd9c46749dbf3015d782c20b",
            "75b2c9252f0146d89080054c8b4e908b",
            "ec478124073e422eb3dfbd3f5f8e0e34",
            "35044a01d8a24784a030287d43da374e",
            "2540ef31b25b47b8b44472d1a470d1c1",
            "c6a78118ad5c4d278a9b03271a63e7d9",
            "120d87c9f7fb4db78d4ae32e83100367",
            "929930063a3349c1a905999eb70833fa",
            "1aef71e9a2bb40e183b5459b273b14c3",
            "987ec63b39964715ba25e74589dfd432",
            "1da9a0cc099143f49e2f7573aba495db",
            "b7d4956349b1477d9fb8b4cf49a3876e",
            "06e8482736d34d448461daafb707586c",
            "a30e138bc52d4bd4baaf41db60355a6b",
            "63c6fa86de59421184ed29ad19b454ad",
            "bb41d061a0a44890a52bd6bfa87629c4",
            "e200555711af4debbd52f7d9c8bab564",
            "6bec793d31f2434c80fc2c70dcfd7842",
            "d79c2467dbd34278ac4a82b50f0a311d",
            "063c0247ff5e4a4d9589a9c9c00d2047",
            "1cd18afa64e442d7993cb5ebb6701802",
            "4fbb1c3802944d3cab3c41f47c75c9fd",
            "8cee04fd4ac2432e9ad2d652c22c8dad",
            "f467bfe9668849f082af943029429c33",
            "063cfa7aa55f46619e8c76314e988275",
            "06f9bf9ddc474275bb6874ded90d2eee",
            "6026c9f9894d4edc94003932ccae4796",
            "9740675bce0d49ff8e042b2516152cb6",
            "18288a0f2edd4a0f8011296602d24932",
            "98ceb855ac55435f844b1a3ef450cb34",
            "52ad5e73b56341a69a20ae7d49da67eb",
            "3c5086a898bf429f827f19ff6c4245aa",
            "2970db1fe43345d6b3a3b15b6d28be1b",
            "7a1ca2fcb58b482f9c79a163fab05f61",
            "51efff7ee898480ebca6dd0d31429e29",
            "e46bc7acb8194753a615fdeb3e1354bd",
            "e90fcf3592ec46d9af92880b8650e6eb",
            "bbbe05b885a44c9ba136612199e98cc7",
            "8c57347a21754975aa20f72714d88a4a",
            "dd198958b76f4b918d48743aacf890e1",
            "958e1d7b731a4f73864f8f85fecbe6a8",
            "2498af8dc9724399b5e3ebe669eb0a58",
            "2fc2c6e2204346598a629dfb524b0d1d",
            "11899c1db881451e9f49281a6796680e",
            "01ce91e6dbc64b038871c10a94e495d4"
          ]
        },
        "id": "8UhKkKpyToFf",
        "outputId": "dc73dfe0-2416-4056-8ee1-842de52ab1a2"
      },
      "execution_count": null,
      "outputs": [
        {
          "output_type": "display_data",
          "data": {
            "text/plain": [
              "tokenizer_config.json:   0%|          | 0.00/48.0 [00:00<?, ?B/s]"
            ],
            "application/vnd.jupyter.widget-view+json": {
              "version_major": 2,
              "version_minor": 0,
              "model_id": "9c09c72b584b424f9e2b374e27b4a760"
            }
          },
          "metadata": {}
        },
        {
          "output_type": "display_data",
          "data": {
            "text/plain": [
              "vocab.txt:   0%|          | 0.00/232k [00:00<?, ?B/s]"
            ],
            "application/vnd.jupyter.widget-view+json": {
              "version_major": 2,
              "version_minor": 0,
              "model_id": "75b2c9252f0146d89080054c8b4e908b"
            }
          },
          "metadata": {}
        },
        {
          "output_type": "display_data",
          "data": {
            "text/plain": [
              "tokenizer.json:   0%|          | 0.00/466k [00:00<?, ?B/s]"
            ],
            "application/vnd.jupyter.widget-view+json": {
              "version_major": 2,
              "version_minor": 0,
              "model_id": "06e8482736d34d448461daafb707586c"
            }
          },
          "metadata": {}
        },
        {
          "output_type": "stream",
          "name": "stderr",
          "text": [
            "/usr/local/lib/python3.10/dist-packages/huggingface_hub/file_download.py:1132: FutureWarning: `resume_download` is deprecated and will be removed in version 1.0.0. Downloads always resume when possible. If you want to force a new download, use `force_download=True`.\n",
            "  warnings.warn(\n"
          ]
        },
        {
          "output_type": "display_data",
          "data": {
            "text/plain": [
              "config.json:   0%|          | 0.00/443 [00:00<?, ?B/s]"
            ],
            "application/vnd.jupyter.widget-view+json": {
              "version_major": 2,
              "version_minor": 0,
              "model_id": "f467bfe9668849f082af943029429c33"
            }
          },
          "metadata": {}
        },
        {
          "output_type": "display_data",
          "data": {
            "text/plain": [
              "model.safetensors:   0%|          | 0.00/1.34G [00:00<?, ?B/s]"
            ],
            "application/vnd.jupyter.widget-view+json": {
              "version_major": 2,
              "version_minor": 0,
              "model_id": "51efff7ee898480ebca6dd0d31429e29"
            }
          },
          "metadata": {}
        }
      ]
    },
    {
      "cell_type": "code",
      "source": [
        "def entregar_respuesta(qst, cntxt):\n",
        "  #Tu implementacion\n",
        "  inputs = tokenizer(qst, cntxt, return_tensors='pt')\n",
        "  start_positions = torch.tensor([1])\n",
        "  end_positions = torch.tensor([3])#porque se eligen estas posiciones?\n",
        "\n",
        "  outputs = model(**inputs, start_positions=start_positions, end_positions=end_positions)\n",
        "\n",
        "  start_scores = outputs.start_logits\n",
        "  end_scores = outputs.end_logits\n",
        "  start_index = torch.argmax(start_scores)\n",
        "  end_index = torch.argmax(end_scores)\n",
        "\n",
        "  # Convertir los tokens de vuelta a palabras\n",
        "  all_tokens = tokenizer.convert_ids_to_tokens(inputs['input_ids'][0])\n",
        "\n",
        "  # Extraer las palabras y limpiar la respuesta (eliminar sub-palabras y juntar tokens)\n",
        "  answer = tokenizer.convert_tokens_to_string(all_tokens[start_index:end_index+1])\n",
        "\n",
        "  return answer"
      ],
      "metadata": {
        "id": "JFejTyj98XDC"
      },
      "execution_count": null,
      "outputs": []
    },
    {
      "cell_type": "markdown",
      "source": [
        "3.1)\n",
        "\n",
        "Pregunta: \"When was the Battle of Iquique?\"\n",
        "\n",
        "Contexto: \"The Battle of Iquique was a naval engagement that occurred between a Chilean corvette under the command of Arturo Prat and a Peruvian ironclad under the command of Miguel Grau Seminario on 21 May 1879, during the naval stage of the War of the Pacific, and resulted in a Peruvian victory.\""
      ],
      "metadata": {
        "id": "H7zizotdKVIF"
      }
    },
    {
      "cell_type": "code",
      "source": [
        "q = \"When was the Battle of Iquique?\"\n",
        "c = \"The Battle of Iquique was a naval engagement that occurred between a Chilean corvette under the command of Arturo Prat and a Peruvian ironclad under the command of Miguel Grau Seminario on 21 May 1879, during the naval stage of the War of the Pacific, and resulted in a Peruvian victory.\"\n",
        "entregar_respuesta(q, c)"
      ],
      "metadata": {
        "id": "q_TrDijrKnQH",
        "colab": {
          "base_uri": "https://localhost:8080/",
          "height": 36
        },
        "outputId": "4975f07e-c7df-49cc-810c-3a3b98e92f31"
      },
      "execution_count": null,
      "outputs": [
        {
          "output_type": "execute_result",
          "data": {
            "text/plain": [
              "'21 may 1879'"
            ],
            "application/vnd.google.colaboratory.intrinsic+json": {
              "type": "string"
            }
          },
          "metadata": {},
          "execution_count": 52
        }
      ]
    },
    {
      "cell_type": "markdown",
      "source": [
        "3.2)\n",
        "\n",
        "Pregunta: \"Who won the Battle of Iquique?\"\n",
        "\n",
        "Contexto: \"The Battle of Iquique was a naval engagement that occurred between a Chilean corvette under the command of Arturo Prat and a Peruvian ironclad under the command of Miguel Grau Seminario on 21 May 1879, during the naval stage of the War of the Pacific, and resulted in a Peruvian victory.\""
      ],
      "metadata": {
        "id": "0au9XCqNB2TY"
      }
    },
    {
      "cell_type": "code",
      "source": [
        "q = \"Who won the Battle of Iquique?\"\n",
        "c = \"The Battle of Iquique was a naval engagement that occurred between a Chilean corvette under the command of Arturo Prat and a Peruvian ironclad under the command of Miguel Grau Seminario on 21 May 1879, during the naval stage of the War of the Pacific, and resulted in a Peruvian victory.\"\n",
        "entregar_respuesta(q, c)"
      ],
      "metadata": {
        "id": "3DlTUMxAB_0n",
        "colab": {
          "base_uri": "https://localhost:8080/",
          "height": 36
        },
        "outputId": "c5ffd47d-b0a2-4807-f28d-ee8ef7abe398"
      },
      "execution_count": null,
      "outputs": [
        {
          "output_type": "execute_result",
          "data": {
            "text/plain": [
              "'peruvian'"
            ],
            "application/vnd.google.colaboratory.intrinsic+json": {
              "type": "string"
            }
          },
          "metadata": {},
          "execution_count": 53
        }
      ]
    },
    {
      "cell_type": "markdown",
      "source": [
        "3.3)\n",
        "\n",
        "Pregunta: \"Who introduced peephole connections to LSTM networks?\"\n",
        "Contexto: \"What I’ve described so far is a pretty normal LSTM. But not all LSTMs are the same as the above. In fact, it seems like almost every paper involving LSTMs uses a slightly different version. The differences are minor, but it’s worth mentioning some of them. One popular LSTM variant, introduced by Gers & Schmidhuber (2000), is adding “peephole connections.” This means that we let the gate layers look at the cell state.\""
      ],
      "metadata": {
        "id": "ryRajxniCKbp"
      }
    },
    {
      "cell_type": "code",
      "source": [
        "q = \"Who introduced peephole connections to LSTM networks?\"\n",
        "c = \"What I’ve described so far is a pretty normal LSTM. But not all LSTMs are the same as the above. In fact, it seems like almost every paper involving LSTMs uses a slightly different version. The differences are minor, but it’s worth mentioning some of them. One popular LSTM variant, introduced by Gers & Schmidhuber (2000), is adding “peephole connections.” This means that we let the gate layers look at the cell state.\"\n",
        "entregar_respuesta(q, c)"
      ],
      "metadata": {
        "id": "S1rT9kgLCKuy",
        "colab": {
          "base_uri": "https://localhost:8080/",
          "height": 36
        },
        "outputId": "69bb88fd-c9cf-4e1b-f8c1-b58bc7fcef01"
      },
      "execution_count": null,
      "outputs": [
        {
          "output_type": "execute_result",
          "data": {
            "text/plain": [
              "'gers & schmidhuber'"
            ],
            "application/vnd.google.colaboratory.intrinsic+json": {
              "type": "string"
            }
          },
          "metadata": {},
          "execution_count": 54
        }
      ]
    },
    {
      "cell_type": "markdown",
      "source": [
        "3.4)\n",
        "\n",
        "Pregunta: \"When is the cat most active?\"\n",
        "\n",
        "Contexto: \"The cat is similar in anatomy to the other felid species: it has a strong flexible body, quick reflexes, sharp teeth and retractable claws adapted to killing small prey. Its night vision and sense of smell are well developed. Cat communication includes vocalizations like meowing, purring, trilling, hissing, growling and grunting as well as cat-specific body language. It is a solitary hunter but a social species. It can hear sounds too faint or too high in frequency for human ears, such as those made by mice and other small mammals. It is a predator that is most active at dawn and dusk. It secretes and perceives pheromones.\""
      ],
      "metadata": {
        "id": "pqn0vNvKCLAq"
      }
    },
    {
      "cell_type": "code",
      "source": [
        "q = \"When is the cat most active?\"\n",
        "c = \"The cat is similar in anatomy to the other felid species: it has a strong flexible body, quick reflexes, sharp teeth and retractable claws adapted to killing small prey. Its night vision and sense of smell are well developed. Cat communication includes vocalizations like meowing, purring, trilling, hissing, growling and grunting as well as cat-specific body language. It is a solitary hunter but a social species. It can hear sounds too faint or too high in frequency for human ears, such as those made by mice and other small mammals. It is a predator that is most active at dawn and dusk. It secretes and perceives pheromones.\"\n",
        "entregar_respuesta(q, c)"
      ],
      "metadata": {
        "id": "o5n37FwOCLTG",
        "colab": {
          "base_uri": "https://localhost:8080/",
          "height": 36
        },
        "outputId": "323e0de9-80df-458c-994a-3b5b393d72d2"
      },
      "execution_count": null,
      "outputs": [
        {
          "output_type": "execute_result",
          "data": {
            "text/plain": [
              "'dawn and dusk'"
            ],
            "application/vnd.google.colaboratory.intrinsic+json": {
              "type": "string"
            }
          },
          "metadata": {},
          "execution_count": 55
        }
      ]
    }
  ]
}