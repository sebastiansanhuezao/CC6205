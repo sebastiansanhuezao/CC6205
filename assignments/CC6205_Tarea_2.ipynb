{
  "nbformat": 4,
  "nbformat_minor": 0,
  "metadata": {
    "colab": {
      "provenance": [],
      "gpuType": "T4",
      "collapsed_sections": [
        "FmC5SqOZfv1m",
        "IxYRIr-Ob010",
        "Y0hFPME1aU9o",
        "eY0j4Ruy0Cxr",
        "mNSdg__vb6J7",
        "dqJhGTQS0rpv",
        "ANT3rY1QkhyZ",
        "gGzafGqr1GBX",
        "a71d7NNCfTna",
        "Yi1fdYw3kd-j",
        "jWdzeqbb1reG",
        "1rvXmHBqlUfR",
        "i2qotKTXmDue",
        "urgN_j-HlKqm",
        "m-3tp4jR12TR"
      ]
    },
    "kernelspec": {
      "name": "python3",
      "display_name": "Python 3"
    },
    "language_info": {
      "name": "python"
    },
    "accelerator": "GPU"
  },
  "cells": [
    {
      "cell_type": "markdown",
      "source": [
        "# Tarea 2: Naive Bayes, Linear Models y Neural Networks\n",
        "**Procesamiento de Lenguaje Natural (CC6205-1 - Otoño 2024)**"
      ],
      "metadata": {
        "id": "AxrkZWMLZB8z"
      }
    },
    {
      "cell_type": "markdown",
      "source": [
        "## Tarjeta de identificación\n",
        "\n",
        "**Nombres:** ```Sebastián Sanhueza y Martín Reyes Oviedo```\n",
        "\n",
        "**Fecha límite de entrega 📆:** 30/04.\n",
        "\n",
        "**Tiempo estimado de dedicación:** 4 horas\n"
      ],
      "metadata": {
        "id": "b97b4IJjZGxM"
      }
    },
    {
      "cell_type": "markdown",
      "source": [
        "## Instrucciones\n",
        "Bienvenid@s a la segunda tarea en el curso de Natural Language Processing (NLP). Esta tarea tiene como objetivo evaluar los contenidos teóricos de las últimas semanas de clases posteriores a la tarea 1, enfocado principalmente en **Naive Bayes**, **Linear Models** y **Neural Networks**. Si aún no has visto las clases, se recomienda visitar los links de las referencias.\n",
        "\n",
        "La tarea consta de una una parte práctica con el fín de introducirlos a la programación en Python enfocada en NLP.\n",
        "\n",
        "* La tarea es en **grupo** (maximo hasta 3 personas).\n",
        "* La entrega es a través de u-cursos a más tardar el día estipulado arriba. No se aceptan atrasos.\n",
        "* El formato de entrega es este mismo Jupyter Notebook.\n",
        "* Al momento de la revisión su código será ejecutado. Por favor verifiquen que su entrega no tenga errores de compilación.\n",
        "* Completar la tarjeta de identificación. Sin ella no podrá tener nota.\n",
        "\n",
        "> **Importante:** Esta tarea tiene varios resultados experimentales que pueden variar de acuerdo a sus propias implementaciones. No se busca que los resultados sean exactamente los mismos (por ejemplo, que el accuracy fue el mismo que el que esta en la tarea). Lo importante es que implementen sus funciones, las sepan explicar y que puedan hacer varios experimentos."
      ],
      "metadata": {
        "id": "TKcZMFlmZ3b9"
      }
    },
    {
      "cell_type": "markdown",
      "source": [
        "## Material de referencia\n",
        "\n",
        "Diapositivas del curso 📄\n",
        "    \n",
        "- [Naive Bayes](https://github.com/dccuchile/CC6205/blob/master/slides/NLP-NB.pdf)\n",
        "- [Linear Models](https://github.com/dccuchile/CC6205/blob/master/slides/NLP-linear.pdf)\n",
        "- [Neural Networks](https://github.com/dccuchile/CC6205/blob/master/slides/NLP-neural.pdf)\n",
        "\n",
        "Videos del curso 📺\n",
        "\n",
        "- Naive Bayes: [Parte 1](https://www.youtube.com/watch?v=kG9BK9Oy1hU), [Parte 2](https://www.youtube.com/watch?v=Iqte5kKHvzE), [Parte 3](https://www.youtube.com/watch?v=TSJg0_X3Abk)\n",
        "\n",
        "- Linear Models: [Parte 1](https://www.youtube.com/watch?v=zhBxDsNLZEA), [Parte 2](https://www.youtube.com/watch?v=Fooua_uaWSE), [Parte 3](https://www.youtube.com/watch?v=DqbzhdQa1eQ), [Parte 4](https://www.youtube.com/watch?v=1nfWWXqfAzA)\n",
        "\n",
        "- Neural Networks: [Parte 1](https://www.youtube.com/watch?v=oHZHA8h2xN0), [Parte 2](https://www.youtube.com/watch?v=2lXank0W6G4), [Parte 3](https://www.youtube.com/watch?v=BUDIi9qItzY), [Parte 4](https://www.youtube.com/watch?v=KKN2Ipy-vGk)\n"
      ],
      "metadata": {
        "id": "dnTrhOKraAw2"
      }
    },
    {
      "cell_type": "markdown",
      "source": [
        "## P0. Cargar un dataset"
      ],
      "metadata": {
        "id": "FmC5SqOZfv1m"
      }
    },
    {
      "cell_type": "markdown",
      "source": [
        "Importamos algunas librerias que seran utiles."
      ],
      "metadata": {
        "id": "ldJFqRlCYSa-"
      }
    },
    {
      "cell_type": "code",
      "source": [
        "import pandas as pd\n",
        "from collections import namedtuple\n",
        "\n",
        "import nltk\n",
        "nltk.download('punkt')\n",
        "from nltk.tokenize import word_tokenize"
      ],
      "metadata": {
        "id": "QytPBlbvhsU6",
        "colab": {
          "base_uri": "https://localhost:8080/"
        },
        "outputId": "9c70b984-8014-49bd-c73e-3315bfd24fa8"
      },
      "execution_count": 1,
      "outputs": [
        {
          "output_type": "stream",
          "name": "stderr",
          "text": [
            "[nltk_data] Downloading package punkt to /root/nltk_data...\n",
            "[nltk_data]   Unzipping tokenizers/punkt.zip.\n"
          ]
        }
      ]
    },
    {
      "cell_type": "markdown",
      "source": [
        "Inicializamos el dataset con particiones de entrenamiento y test. Es un dataset de clasificacion multi-clase de oraciones. Cada oracion puede tener una unica etiqueta ?, + o -. Donde ? indica que la oracion es una pregunta, - que la oracion es negativa y + positiva."
      ],
      "metadata": {
        "id": "NN-mzGtAYVu-"
      }
    },
    {
      "cell_type": "code",
      "source": [
        "document = namedtuple(\n",
        "    \"document\", (\"words\", \"class_\")  # avoid python's keyword collision\n",
        ")\n",
        "\n",
        "raw_train_set = [\n",
        "              ['Do you have plenty of time?', '?'],\n",
        "              ['Does she have enough money?','?'],\n",
        "              ['Did they have any useful advice?','?'],\n",
        "              ['What day is today?','?'],\n",
        "              [\"I don't have much time\",'-'],\n",
        "              [\"She doesn't have any money\",'-'],\n",
        "              [\"They didn't have any advice to offer\",'-'],\n",
        "              ['Have you plenty of time?','?'],\n",
        "              ['Has she enough money?','?'],\n",
        "              ['Had they any useful advice?','?'],\n",
        "              [\"I haven't much time\",'-'],\n",
        "              [\"She hasn't any money\",'-'],\n",
        "              [\"He hadn't any advice to offer\",'-'],\n",
        "              ['How are you?','?'],\n",
        "              ['How do you make questions in English?','?'],\n",
        "              ['How long have you lived here?','?'],\n",
        "              ['How often do you go to the cinema?','?'],\n",
        "              ['How much is this dress?','?'],\n",
        "              ['How old are you?','?'],\n",
        "              ['How many people came to the meeting?','?'],\n",
        "              ['I’m from France','+'],\n",
        "              ['I come from the UK','+'],\n",
        "              ['My phone number is 61709832145','+'],\n",
        "              ['I work as a tour guide for a local tour company','+'],\n",
        "              ['I’m not dating anyone','-'],\n",
        "              ['I live with my wife and children','+'],\n",
        "              ['I often do morning exercises at 6am','+'],\n",
        "              ['I run everyday','+'],\n",
        "              ['She walks very slowly','+'],\n",
        "              ['They eat a lot of meat daily','+'],\n",
        "              ['We were in France that day', '+'],\n",
        "              ['He speaks very fast', '+'],\n",
        "              ['They told us they came back early', '+'],\n",
        "              [\"I told her I'll be there\", '+']\n",
        "]\n",
        "tokenized_train_set = [document(words=tuple(word_tokenize(d[0].lower())), class_=d[1]) for d in raw_train_set]\n",
        "train_set = pd.DataFrame(data=tokenized_train_set)\n",
        "\n",
        "raw_test_set = [\n",
        "             ['Do you know who lives here?','?'],\n",
        "             ['What time is it?','?'],\n",
        "             ['Can you tell me where she comes from?','?'],\n",
        "             ['How are you?','?'],\n",
        "             ['I fill good today', '+'],\n",
        "             ['There is a lot of history here','+'],\n",
        "             ['I love programming','+'],\n",
        "             ['He told us not to make so much noise','+'],\n",
        "             ['We were asked not to park in front of the house','+'],\n",
        "             [\"I don't have much time\",'-'],\n",
        "             [\"She doesn't have any money\",'-'],\n",
        "             [\"They didn't have any advice to offer\",'-'],\n",
        "             ['I am not really sure','+']\n",
        "]\n",
        "tokenized_test_set = [document(words=tuple(word_tokenize(d[0].lower())), class_=d[1]) for d in raw_test_set]\n",
        "test_set = pd.DataFrame(data=tokenized_test_set)"
      ],
      "metadata": {
        "id": "bcaT6DquoXOo"
      },
      "execution_count": 2,
      "outputs": []
    },
    {
      "cell_type": "markdown",
      "source": [
        "Separar en X e y, donde X son oraciones tokenizadas e y es la clase a predecir (o target)."
      ],
      "metadata": {
        "id": "9cIkiUTOY8Ep"
      }
    },
    {
      "cell_type": "code",
      "source": [
        "X_train, y_train = train_set.drop(columns=\"class_\"), train_set[\"class_\"]\n",
        "pd.concat([X_train, y_train], axis=1).sample(10)"
      ],
      "metadata": {
        "colab": {
          "base_uri": "https://localhost:8080/",
          "height": 0
        },
        "id": "ALoL0Xk9pJhU",
        "outputId": "36dd2045-c1af-49c1-e3db-c3f1cc57f9bd"
      },
      "execution_count": 3,
      "outputs": [
        {
          "output_type": "execute_result",
          "data": {
            "text/plain": [
              "                                             words class_\n",
              "11                     (she, has, n't, any, money)      -\n",
              "33               (i, told, her, i, 'll, be, there)      +\n",
              "30               (we, were, in, france, that, day)      +\n",
              "6   (they, did, n't, have, any, advice, to, offer)      -\n",
              "18                         (how, old, are, you, ?)      ?\n",
              "19  (how, many, people, came, to, the, meeting, ?)      ?\n",
              "0             (do, you, have, plenty, of, time, ?)      ?\n",
              "29            (they, eat, a, lot, of, meat, daily)      +\n",
              "24                  (i, ’, m, not, dating, anyone)      -\n",
              "28                      (she, walks, very, slowly)      +"
            ],
            "text/html": [
              "\n",
              "  <div id=\"df-aff3f2cf-73cc-4a0a-b4e3-0781f9cce934\" class=\"colab-df-container\">\n",
              "    <div>\n",
              "<style scoped>\n",
              "    .dataframe tbody tr th:only-of-type {\n",
              "        vertical-align: middle;\n",
              "    }\n",
              "\n",
              "    .dataframe tbody tr th {\n",
              "        vertical-align: top;\n",
              "    }\n",
              "\n",
              "    .dataframe thead th {\n",
              "        text-align: right;\n",
              "    }\n",
              "</style>\n",
              "<table border=\"1\" class=\"dataframe\">\n",
              "  <thead>\n",
              "    <tr style=\"text-align: right;\">\n",
              "      <th></th>\n",
              "      <th>words</th>\n",
              "      <th>class_</th>\n",
              "    </tr>\n",
              "  </thead>\n",
              "  <tbody>\n",
              "    <tr>\n",
              "      <th>11</th>\n",
              "      <td>(she, has, n't, any, money)</td>\n",
              "      <td>-</td>\n",
              "    </tr>\n",
              "    <tr>\n",
              "      <th>33</th>\n",
              "      <td>(i, told, her, i, 'll, be, there)</td>\n",
              "      <td>+</td>\n",
              "    </tr>\n",
              "    <tr>\n",
              "      <th>30</th>\n",
              "      <td>(we, were, in, france, that, day)</td>\n",
              "      <td>+</td>\n",
              "    </tr>\n",
              "    <tr>\n",
              "      <th>6</th>\n",
              "      <td>(they, did, n't, have, any, advice, to, offer)</td>\n",
              "      <td>-</td>\n",
              "    </tr>\n",
              "    <tr>\n",
              "      <th>18</th>\n",
              "      <td>(how, old, are, you, ?)</td>\n",
              "      <td>?</td>\n",
              "    </tr>\n",
              "    <tr>\n",
              "      <th>19</th>\n",
              "      <td>(how, many, people, came, to, the, meeting, ?)</td>\n",
              "      <td>?</td>\n",
              "    </tr>\n",
              "    <tr>\n",
              "      <th>0</th>\n",
              "      <td>(do, you, have, plenty, of, time, ?)</td>\n",
              "      <td>?</td>\n",
              "    </tr>\n",
              "    <tr>\n",
              "      <th>29</th>\n",
              "      <td>(they, eat, a, lot, of, meat, daily)</td>\n",
              "      <td>+</td>\n",
              "    </tr>\n",
              "    <tr>\n",
              "      <th>24</th>\n",
              "      <td>(i, ’, m, not, dating, anyone)</td>\n",
              "      <td>-</td>\n",
              "    </tr>\n",
              "    <tr>\n",
              "      <th>28</th>\n",
              "      <td>(she, walks, very, slowly)</td>\n",
              "      <td>+</td>\n",
              "    </tr>\n",
              "  </tbody>\n",
              "</table>\n",
              "</div>\n",
              "    <div class=\"colab-df-buttons\">\n",
              "\n",
              "  <div class=\"colab-df-container\">\n",
              "    <button class=\"colab-df-convert\" onclick=\"convertToInteractive('df-aff3f2cf-73cc-4a0a-b4e3-0781f9cce934')\"\n",
              "            title=\"Convert this dataframe to an interactive table.\"\n",
              "            style=\"display:none;\">\n",
              "\n",
              "  <svg xmlns=\"http://www.w3.org/2000/svg\" height=\"24px\" viewBox=\"0 -960 960 960\">\n",
              "    <path d=\"M120-120v-720h720v720H120Zm60-500h600v-160H180v160Zm220 220h160v-160H400v160Zm0 220h160v-160H400v160ZM180-400h160v-160H180v160Zm440 0h160v-160H620v160ZM180-180h160v-160H180v160Zm440 0h160v-160H620v160Z\"/>\n",
              "  </svg>\n",
              "    </button>\n",
              "\n",
              "  <style>\n",
              "    .colab-df-container {\n",
              "      display:flex;\n",
              "      gap: 12px;\n",
              "    }\n",
              "\n",
              "    .colab-df-convert {\n",
              "      background-color: #E8F0FE;\n",
              "      border: none;\n",
              "      border-radius: 50%;\n",
              "      cursor: pointer;\n",
              "      display: none;\n",
              "      fill: #1967D2;\n",
              "      height: 32px;\n",
              "      padding: 0 0 0 0;\n",
              "      width: 32px;\n",
              "    }\n",
              "\n",
              "    .colab-df-convert:hover {\n",
              "      background-color: #E2EBFA;\n",
              "      box-shadow: 0px 1px 2px rgba(60, 64, 67, 0.3), 0px 1px 3px 1px rgba(60, 64, 67, 0.15);\n",
              "      fill: #174EA6;\n",
              "    }\n",
              "\n",
              "    .colab-df-buttons div {\n",
              "      margin-bottom: 4px;\n",
              "    }\n",
              "\n",
              "    [theme=dark] .colab-df-convert {\n",
              "      background-color: #3B4455;\n",
              "      fill: #D2E3FC;\n",
              "    }\n",
              "\n",
              "    [theme=dark] .colab-df-convert:hover {\n",
              "      background-color: #434B5C;\n",
              "      box-shadow: 0px 1px 3px 1px rgba(0, 0, 0, 0.15);\n",
              "      filter: drop-shadow(0px 1px 2px rgba(0, 0, 0, 0.3));\n",
              "      fill: #FFFFFF;\n",
              "    }\n",
              "  </style>\n",
              "\n",
              "    <script>\n",
              "      const buttonEl =\n",
              "        document.querySelector('#df-aff3f2cf-73cc-4a0a-b4e3-0781f9cce934 button.colab-df-convert');\n",
              "      buttonEl.style.display =\n",
              "        google.colab.kernel.accessAllowed ? 'block' : 'none';\n",
              "\n",
              "      async function convertToInteractive(key) {\n",
              "        const element = document.querySelector('#df-aff3f2cf-73cc-4a0a-b4e3-0781f9cce934');\n",
              "        const dataTable =\n",
              "          await google.colab.kernel.invokeFunction('convertToInteractive',\n",
              "                                                    [key], {});\n",
              "        if (!dataTable) return;\n",
              "\n",
              "        const docLinkHtml = 'Like what you see? Visit the ' +\n",
              "          '<a target=\"_blank\" href=https://colab.research.google.com/notebooks/data_table.ipynb>data table notebook</a>'\n",
              "          + ' to learn more about interactive tables.';\n",
              "        element.innerHTML = '';\n",
              "        dataTable['output_type'] = 'display_data';\n",
              "        await google.colab.output.renderOutput(dataTable, element);\n",
              "        const docLink = document.createElement('div');\n",
              "        docLink.innerHTML = docLinkHtml;\n",
              "        element.appendChild(docLink);\n",
              "      }\n",
              "    </script>\n",
              "  </div>\n",
              "\n",
              "\n",
              "<div id=\"df-8bba1f9b-cf56-410e-b689-5a567d6358f5\">\n",
              "  <button class=\"colab-df-quickchart\" onclick=\"quickchart('df-8bba1f9b-cf56-410e-b689-5a567d6358f5')\"\n",
              "            title=\"Suggest charts\"\n",
              "            style=\"display:none;\">\n",
              "\n",
              "<svg xmlns=\"http://www.w3.org/2000/svg\" height=\"24px\"viewBox=\"0 0 24 24\"\n",
              "     width=\"24px\">\n",
              "    <g>\n",
              "        <path d=\"M19 3H5c-1.1 0-2 .9-2 2v14c0 1.1.9 2 2 2h14c1.1 0 2-.9 2-2V5c0-1.1-.9-2-2-2zM9 17H7v-7h2v7zm4 0h-2V7h2v10zm4 0h-2v-4h2v4z\"/>\n",
              "    </g>\n",
              "</svg>\n",
              "  </button>\n",
              "\n",
              "<style>\n",
              "  .colab-df-quickchart {\n",
              "      --bg-color: #E8F0FE;\n",
              "      --fill-color: #1967D2;\n",
              "      --hover-bg-color: #E2EBFA;\n",
              "      --hover-fill-color: #174EA6;\n",
              "      --disabled-fill-color: #AAA;\n",
              "      --disabled-bg-color: #DDD;\n",
              "  }\n",
              "\n",
              "  [theme=dark] .colab-df-quickchart {\n",
              "      --bg-color: #3B4455;\n",
              "      --fill-color: #D2E3FC;\n",
              "      --hover-bg-color: #434B5C;\n",
              "      --hover-fill-color: #FFFFFF;\n",
              "      --disabled-bg-color: #3B4455;\n",
              "      --disabled-fill-color: #666;\n",
              "  }\n",
              "\n",
              "  .colab-df-quickchart {\n",
              "    background-color: var(--bg-color);\n",
              "    border: none;\n",
              "    border-radius: 50%;\n",
              "    cursor: pointer;\n",
              "    display: none;\n",
              "    fill: var(--fill-color);\n",
              "    height: 32px;\n",
              "    padding: 0;\n",
              "    width: 32px;\n",
              "  }\n",
              "\n",
              "  .colab-df-quickchart:hover {\n",
              "    background-color: var(--hover-bg-color);\n",
              "    box-shadow: 0 1px 2px rgba(60, 64, 67, 0.3), 0 1px 3px 1px rgba(60, 64, 67, 0.15);\n",
              "    fill: var(--button-hover-fill-color);\n",
              "  }\n",
              "\n",
              "  .colab-df-quickchart-complete:disabled,\n",
              "  .colab-df-quickchart-complete:disabled:hover {\n",
              "    background-color: var(--disabled-bg-color);\n",
              "    fill: var(--disabled-fill-color);\n",
              "    box-shadow: none;\n",
              "  }\n",
              "\n",
              "  .colab-df-spinner {\n",
              "    border: 2px solid var(--fill-color);\n",
              "    border-color: transparent;\n",
              "    border-bottom-color: var(--fill-color);\n",
              "    animation:\n",
              "      spin 1s steps(1) infinite;\n",
              "  }\n",
              "\n",
              "  @keyframes spin {\n",
              "    0% {\n",
              "      border-color: transparent;\n",
              "      border-bottom-color: var(--fill-color);\n",
              "      border-left-color: var(--fill-color);\n",
              "    }\n",
              "    20% {\n",
              "      border-color: transparent;\n",
              "      border-left-color: var(--fill-color);\n",
              "      border-top-color: var(--fill-color);\n",
              "    }\n",
              "    30% {\n",
              "      border-color: transparent;\n",
              "      border-left-color: var(--fill-color);\n",
              "      border-top-color: var(--fill-color);\n",
              "      border-right-color: var(--fill-color);\n",
              "    }\n",
              "    40% {\n",
              "      border-color: transparent;\n",
              "      border-right-color: var(--fill-color);\n",
              "      border-top-color: var(--fill-color);\n",
              "    }\n",
              "    60% {\n",
              "      border-color: transparent;\n",
              "      border-right-color: var(--fill-color);\n",
              "    }\n",
              "    80% {\n",
              "      border-color: transparent;\n",
              "      border-right-color: var(--fill-color);\n",
              "      border-bottom-color: var(--fill-color);\n",
              "    }\n",
              "    90% {\n",
              "      border-color: transparent;\n",
              "      border-bottom-color: var(--fill-color);\n",
              "    }\n",
              "  }\n",
              "</style>\n",
              "\n",
              "  <script>\n",
              "    async function quickchart(key) {\n",
              "      const quickchartButtonEl =\n",
              "        document.querySelector('#' + key + ' button');\n",
              "      quickchartButtonEl.disabled = true;  // To prevent multiple clicks.\n",
              "      quickchartButtonEl.classList.add('colab-df-spinner');\n",
              "      try {\n",
              "        const charts = await google.colab.kernel.invokeFunction(\n",
              "            'suggestCharts', [key], {});\n",
              "      } catch (error) {\n",
              "        console.error('Error during call to suggestCharts:', error);\n",
              "      }\n",
              "      quickchartButtonEl.classList.remove('colab-df-spinner');\n",
              "      quickchartButtonEl.classList.add('colab-df-quickchart-complete');\n",
              "    }\n",
              "    (() => {\n",
              "      let quickchartButtonEl =\n",
              "        document.querySelector('#df-8bba1f9b-cf56-410e-b689-5a567d6358f5 button');\n",
              "      quickchartButtonEl.style.display =\n",
              "        google.colab.kernel.accessAllowed ? 'block' : 'none';\n",
              "    })();\n",
              "  </script>\n",
              "</div>\n",
              "\n",
              "    </div>\n",
              "  </div>\n"
            ],
            "application/vnd.google.colaboratory.intrinsic+json": {
              "type": "dataframe",
              "summary": "{\n  \"name\": \"pd\",\n  \"rows\": 10,\n  \"fields\": [\n    {\n      \"column\": \"words\",\n      \"properties\": {\n        \"dtype\": \"string\",\n        \"num_unique_values\": 10,\n        \"samples\": [\n          [\n            \"i\",\n            \"\\u2019\",\n            \"m\",\n            \"not\",\n            \"dating\",\n            \"anyone\"\n          ],\n          [\n            \"i\",\n            \"told\",\n            \"her\",\n            \"i\",\n            \"'ll\",\n            \"be\",\n            \"there\"\n          ],\n          [\n            \"how\",\n            \"many\",\n            \"people\",\n            \"came\",\n            \"to\",\n            \"the\",\n            \"meeting\",\n            \"?\"\n          ]\n        ],\n        \"semantic_type\": \"\",\n        \"description\": \"\"\n      }\n    },\n    {\n      \"column\": \"class_\",\n      \"properties\": {\n        \"dtype\": \"category\",\n        \"num_unique_values\": 3,\n        \"samples\": [\n          \"-\",\n          \"+\",\n          \"?\"\n        ],\n        \"semantic_type\": \"\",\n        \"description\": \"\"\n      }\n    }\n  ]\n}"
            }
          },
          "metadata": {},
          "execution_count": 3
        }
      ]
    },
    {
      "cell_type": "markdown",
      "source": [
        "Cantidad de oraciones por clase:"
      ],
      "metadata": {
        "id": "NSHQ_s9rZE6k"
      }
    },
    {
      "cell_type": "code",
      "source": [
        "train_set.groupby(\"class_\").count()"
      ],
      "metadata": {
        "colab": {
          "base_uri": "https://localhost:8080/",
          "height": 0
        },
        "id": "djD7TovViVuB",
        "outputId": "af3ccd18-7f41-48da-e91b-9cf33876a4e9"
      },
      "execution_count": 4,
      "outputs": [
        {
          "output_type": "execute_result",
          "data": {
            "text/plain": [
              "        words\n",
              "class_       \n",
              "+          13\n",
              "-           7\n",
              "?          14"
            ],
            "text/html": [
              "\n",
              "  <div id=\"df-b59f5780-57a0-4610-a2ef-0af4b6a52b3f\" class=\"colab-df-container\">\n",
              "    <div>\n",
              "<style scoped>\n",
              "    .dataframe tbody tr th:only-of-type {\n",
              "        vertical-align: middle;\n",
              "    }\n",
              "\n",
              "    .dataframe tbody tr th {\n",
              "        vertical-align: top;\n",
              "    }\n",
              "\n",
              "    .dataframe thead th {\n",
              "        text-align: right;\n",
              "    }\n",
              "</style>\n",
              "<table border=\"1\" class=\"dataframe\">\n",
              "  <thead>\n",
              "    <tr style=\"text-align: right;\">\n",
              "      <th></th>\n",
              "      <th>words</th>\n",
              "    </tr>\n",
              "    <tr>\n",
              "      <th>class_</th>\n",
              "      <th></th>\n",
              "    </tr>\n",
              "  </thead>\n",
              "  <tbody>\n",
              "    <tr>\n",
              "      <th>+</th>\n",
              "      <td>13</td>\n",
              "    </tr>\n",
              "    <tr>\n",
              "      <th>-</th>\n",
              "      <td>7</td>\n",
              "    </tr>\n",
              "    <tr>\n",
              "      <th>?</th>\n",
              "      <td>14</td>\n",
              "    </tr>\n",
              "  </tbody>\n",
              "</table>\n",
              "</div>\n",
              "    <div class=\"colab-df-buttons\">\n",
              "\n",
              "  <div class=\"colab-df-container\">\n",
              "    <button class=\"colab-df-convert\" onclick=\"convertToInteractive('df-b59f5780-57a0-4610-a2ef-0af4b6a52b3f')\"\n",
              "            title=\"Convert this dataframe to an interactive table.\"\n",
              "            style=\"display:none;\">\n",
              "\n",
              "  <svg xmlns=\"http://www.w3.org/2000/svg\" height=\"24px\" viewBox=\"0 -960 960 960\">\n",
              "    <path d=\"M120-120v-720h720v720H120Zm60-500h600v-160H180v160Zm220 220h160v-160H400v160Zm0 220h160v-160H400v160ZM180-400h160v-160H180v160Zm440 0h160v-160H620v160ZM180-180h160v-160H180v160Zm440 0h160v-160H620v160Z\"/>\n",
              "  </svg>\n",
              "    </button>\n",
              "\n",
              "  <style>\n",
              "    .colab-df-container {\n",
              "      display:flex;\n",
              "      gap: 12px;\n",
              "    }\n",
              "\n",
              "    .colab-df-convert {\n",
              "      background-color: #E8F0FE;\n",
              "      border: none;\n",
              "      border-radius: 50%;\n",
              "      cursor: pointer;\n",
              "      display: none;\n",
              "      fill: #1967D2;\n",
              "      height: 32px;\n",
              "      padding: 0 0 0 0;\n",
              "      width: 32px;\n",
              "    }\n",
              "\n",
              "    .colab-df-convert:hover {\n",
              "      background-color: #E2EBFA;\n",
              "      box-shadow: 0px 1px 2px rgba(60, 64, 67, 0.3), 0px 1px 3px 1px rgba(60, 64, 67, 0.15);\n",
              "      fill: #174EA6;\n",
              "    }\n",
              "\n",
              "    .colab-df-buttons div {\n",
              "      margin-bottom: 4px;\n",
              "    }\n",
              "\n",
              "    [theme=dark] .colab-df-convert {\n",
              "      background-color: #3B4455;\n",
              "      fill: #D2E3FC;\n",
              "    }\n",
              "\n",
              "    [theme=dark] .colab-df-convert:hover {\n",
              "      background-color: #434B5C;\n",
              "      box-shadow: 0px 1px 3px 1px rgba(0, 0, 0, 0.15);\n",
              "      filter: drop-shadow(0px 1px 2px rgba(0, 0, 0, 0.3));\n",
              "      fill: #FFFFFF;\n",
              "    }\n",
              "  </style>\n",
              "\n",
              "    <script>\n",
              "      const buttonEl =\n",
              "        document.querySelector('#df-b59f5780-57a0-4610-a2ef-0af4b6a52b3f button.colab-df-convert');\n",
              "      buttonEl.style.display =\n",
              "        google.colab.kernel.accessAllowed ? 'block' : 'none';\n",
              "\n",
              "      async function convertToInteractive(key) {\n",
              "        const element = document.querySelector('#df-b59f5780-57a0-4610-a2ef-0af4b6a52b3f');\n",
              "        const dataTable =\n",
              "          await google.colab.kernel.invokeFunction('convertToInteractive',\n",
              "                                                    [key], {});\n",
              "        if (!dataTable) return;\n",
              "\n",
              "        const docLinkHtml = 'Like what you see? Visit the ' +\n",
              "          '<a target=\"_blank\" href=https://colab.research.google.com/notebooks/data_table.ipynb>data table notebook</a>'\n",
              "          + ' to learn more about interactive tables.';\n",
              "        element.innerHTML = '';\n",
              "        dataTable['output_type'] = 'display_data';\n",
              "        await google.colab.output.renderOutput(dataTable, element);\n",
              "        const docLink = document.createElement('div');\n",
              "        docLink.innerHTML = docLinkHtml;\n",
              "        element.appendChild(docLink);\n",
              "      }\n",
              "    </script>\n",
              "  </div>\n",
              "\n",
              "\n",
              "<div id=\"df-b5004838-7009-4675-bb44-e2a447c02e2b\">\n",
              "  <button class=\"colab-df-quickchart\" onclick=\"quickchart('df-b5004838-7009-4675-bb44-e2a447c02e2b')\"\n",
              "            title=\"Suggest charts\"\n",
              "            style=\"display:none;\">\n",
              "\n",
              "<svg xmlns=\"http://www.w3.org/2000/svg\" height=\"24px\"viewBox=\"0 0 24 24\"\n",
              "     width=\"24px\">\n",
              "    <g>\n",
              "        <path d=\"M19 3H5c-1.1 0-2 .9-2 2v14c0 1.1.9 2 2 2h14c1.1 0 2-.9 2-2V5c0-1.1-.9-2-2-2zM9 17H7v-7h2v7zm4 0h-2V7h2v10zm4 0h-2v-4h2v4z\"/>\n",
              "    </g>\n",
              "</svg>\n",
              "  </button>\n",
              "\n",
              "<style>\n",
              "  .colab-df-quickchart {\n",
              "      --bg-color: #E8F0FE;\n",
              "      --fill-color: #1967D2;\n",
              "      --hover-bg-color: #E2EBFA;\n",
              "      --hover-fill-color: #174EA6;\n",
              "      --disabled-fill-color: #AAA;\n",
              "      --disabled-bg-color: #DDD;\n",
              "  }\n",
              "\n",
              "  [theme=dark] .colab-df-quickchart {\n",
              "      --bg-color: #3B4455;\n",
              "      --fill-color: #D2E3FC;\n",
              "      --hover-bg-color: #434B5C;\n",
              "      --hover-fill-color: #FFFFFF;\n",
              "      --disabled-bg-color: #3B4455;\n",
              "      --disabled-fill-color: #666;\n",
              "  }\n",
              "\n",
              "  .colab-df-quickchart {\n",
              "    background-color: var(--bg-color);\n",
              "    border: none;\n",
              "    border-radius: 50%;\n",
              "    cursor: pointer;\n",
              "    display: none;\n",
              "    fill: var(--fill-color);\n",
              "    height: 32px;\n",
              "    padding: 0;\n",
              "    width: 32px;\n",
              "  }\n",
              "\n",
              "  .colab-df-quickchart:hover {\n",
              "    background-color: var(--hover-bg-color);\n",
              "    box-shadow: 0 1px 2px rgba(60, 64, 67, 0.3), 0 1px 3px 1px rgba(60, 64, 67, 0.15);\n",
              "    fill: var(--button-hover-fill-color);\n",
              "  }\n",
              "\n",
              "  .colab-df-quickchart-complete:disabled,\n",
              "  .colab-df-quickchart-complete:disabled:hover {\n",
              "    background-color: var(--disabled-bg-color);\n",
              "    fill: var(--disabled-fill-color);\n",
              "    box-shadow: none;\n",
              "  }\n",
              "\n",
              "  .colab-df-spinner {\n",
              "    border: 2px solid var(--fill-color);\n",
              "    border-color: transparent;\n",
              "    border-bottom-color: var(--fill-color);\n",
              "    animation:\n",
              "      spin 1s steps(1) infinite;\n",
              "  }\n",
              "\n",
              "  @keyframes spin {\n",
              "    0% {\n",
              "      border-color: transparent;\n",
              "      border-bottom-color: var(--fill-color);\n",
              "      border-left-color: var(--fill-color);\n",
              "    }\n",
              "    20% {\n",
              "      border-color: transparent;\n",
              "      border-left-color: var(--fill-color);\n",
              "      border-top-color: var(--fill-color);\n",
              "    }\n",
              "    30% {\n",
              "      border-color: transparent;\n",
              "      border-left-color: var(--fill-color);\n",
              "      border-top-color: var(--fill-color);\n",
              "      border-right-color: var(--fill-color);\n",
              "    }\n",
              "    40% {\n",
              "      border-color: transparent;\n",
              "      border-right-color: var(--fill-color);\n",
              "      border-top-color: var(--fill-color);\n",
              "    }\n",
              "    60% {\n",
              "      border-color: transparent;\n",
              "      border-right-color: var(--fill-color);\n",
              "    }\n",
              "    80% {\n",
              "      border-color: transparent;\n",
              "      border-right-color: var(--fill-color);\n",
              "      border-bottom-color: var(--fill-color);\n",
              "    }\n",
              "    90% {\n",
              "      border-color: transparent;\n",
              "      border-bottom-color: var(--fill-color);\n",
              "    }\n",
              "  }\n",
              "</style>\n",
              "\n",
              "  <script>\n",
              "    async function quickchart(key) {\n",
              "      const quickchartButtonEl =\n",
              "        document.querySelector('#' + key + ' button');\n",
              "      quickchartButtonEl.disabled = true;  // To prevent multiple clicks.\n",
              "      quickchartButtonEl.classList.add('colab-df-spinner');\n",
              "      try {\n",
              "        const charts = await google.colab.kernel.invokeFunction(\n",
              "            'suggestCharts', [key], {});\n",
              "      } catch (error) {\n",
              "        console.error('Error during call to suggestCharts:', error);\n",
              "      }\n",
              "      quickchartButtonEl.classList.remove('colab-df-spinner');\n",
              "      quickchartButtonEl.classList.add('colab-df-quickchart-complete');\n",
              "    }\n",
              "    (() => {\n",
              "      let quickchartButtonEl =\n",
              "        document.querySelector('#df-b5004838-7009-4675-bb44-e2a447c02e2b button');\n",
              "      quickchartButtonEl.style.display =\n",
              "        google.colab.kernel.accessAllowed ? 'block' : 'none';\n",
              "    })();\n",
              "  </script>\n",
              "</div>\n",
              "\n",
              "    </div>\n",
              "  </div>\n"
            ],
            "application/vnd.google.colaboratory.intrinsic+json": {
              "type": "dataframe",
              "summary": "{\n  \"name\": \"train_set\",\n  \"rows\": 3,\n  \"fields\": [\n    {\n      \"column\": \"class_\",\n      \"properties\": {\n        \"dtype\": \"string\",\n        \"num_unique_values\": 3,\n        \"samples\": [\n          \"+\",\n          \"-\",\n          \"?\"\n        ],\n        \"semantic_type\": \"\",\n        \"description\": \"\"\n      }\n    },\n    {\n      \"column\": \"words\",\n      \"properties\": {\n        \"dtype\": \"number\",\n        \"std\": 3,\n        \"min\": 7,\n        \"max\": 14,\n        \"num_unique_values\": 3,\n        \"samples\": [\n          13,\n          7,\n          14\n        ],\n        \"semantic_type\": \"\",\n        \"description\": \"\"\n      }\n    }\n  ]\n}"
            }
          },
          "metadata": {},
          "execution_count": 4
        }
      ]
    },
    {
      "cell_type": "markdown",
      "source": [
        "(X, y) para el conjunto de test:"
      ],
      "metadata": {
        "id": "ZQNS_HatZKBg"
      }
    },
    {
      "cell_type": "code",
      "source": [
        "X_test, y_test = test_set.drop(columns=\"class_\"), test_set[\"class_\"]\n",
        "pd.concat([X_test, y_test], axis=1).sample(10)"
      ],
      "metadata": {
        "colab": {
          "base_uri": "https://localhost:8080/",
          "height": 0
        },
        "id": "5i0O-7-IpLbX",
        "outputId": "5c349a1e-8893-4909-ee6a-1820d46aad1a"
      },
      "execution_count": 5,
      "outputs": [
        {
          "output_type": "execute_result",
          "data": {
            "text/plain": [
              "                                                words class_\n",
              "7      (he, told, us, not, to, make, so, much, noise)      +\n",
              "3                                  (how, are, you, ?)      ?\n",
              "6                              (i, love, programming)      +\n",
              "11     (they, did, n't, have, any, advice, to, offer)      -\n",
              "8   (we, were, asked, not, to, park, in, front, of...      +\n",
              "5              (there, is, a, lot, of, history, here)      +\n",
              "0                (do, you, know, who, lives, here, ?)      ?\n",
              "1                             (what, time, is, it, ?)      ?\n",
              "10                 (she, does, n't, have, any, money)      -\n",
              "4                              (i, fill, good, today)      +"
            ],
            "text/html": [
              "\n",
              "  <div id=\"df-e74e4b85-6527-4c0d-99eb-d0029b4cd265\" class=\"colab-df-container\">\n",
              "    <div>\n",
              "<style scoped>\n",
              "    .dataframe tbody tr th:only-of-type {\n",
              "        vertical-align: middle;\n",
              "    }\n",
              "\n",
              "    .dataframe tbody tr th {\n",
              "        vertical-align: top;\n",
              "    }\n",
              "\n",
              "    .dataframe thead th {\n",
              "        text-align: right;\n",
              "    }\n",
              "</style>\n",
              "<table border=\"1\" class=\"dataframe\">\n",
              "  <thead>\n",
              "    <tr style=\"text-align: right;\">\n",
              "      <th></th>\n",
              "      <th>words</th>\n",
              "      <th>class_</th>\n",
              "    </tr>\n",
              "  </thead>\n",
              "  <tbody>\n",
              "    <tr>\n",
              "      <th>7</th>\n",
              "      <td>(he, told, us, not, to, make, so, much, noise)</td>\n",
              "      <td>+</td>\n",
              "    </tr>\n",
              "    <tr>\n",
              "      <th>3</th>\n",
              "      <td>(how, are, you, ?)</td>\n",
              "      <td>?</td>\n",
              "    </tr>\n",
              "    <tr>\n",
              "      <th>6</th>\n",
              "      <td>(i, love, programming)</td>\n",
              "      <td>+</td>\n",
              "    </tr>\n",
              "    <tr>\n",
              "      <th>11</th>\n",
              "      <td>(they, did, n't, have, any, advice, to, offer)</td>\n",
              "      <td>-</td>\n",
              "    </tr>\n",
              "    <tr>\n",
              "      <th>8</th>\n",
              "      <td>(we, were, asked, not, to, park, in, front, of...</td>\n",
              "      <td>+</td>\n",
              "    </tr>\n",
              "    <tr>\n",
              "      <th>5</th>\n",
              "      <td>(there, is, a, lot, of, history, here)</td>\n",
              "      <td>+</td>\n",
              "    </tr>\n",
              "    <tr>\n",
              "      <th>0</th>\n",
              "      <td>(do, you, know, who, lives, here, ?)</td>\n",
              "      <td>?</td>\n",
              "    </tr>\n",
              "    <tr>\n",
              "      <th>1</th>\n",
              "      <td>(what, time, is, it, ?)</td>\n",
              "      <td>?</td>\n",
              "    </tr>\n",
              "    <tr>\n",
              "      <th>10</th>\n",
              "      <td>(she, does, n't, have, any, money)</td>\n",
              "      <td>-</td>\n",
              "    </tr>\n",
              "    <tr>\n",
              "      <th>4</th>\n",
              "      <td>(i, fill, good, today)</td>\n",
              "      <td>+</td>\n",
              "    </tr>\n",
              "  </tbody>\n",
              "</table>\n",
              "</div>\n",
              "    <div class=\"colab-df-buttons\">\n",
              "\n",
              "  <div class=\"colab-df-container\">\n",
              "    <button class=\"colab-df-convert\" onclick=\"convertToInteractive('df-e74e4b85-6527-4c0d-99eb-d0029b4cd265')\"\n",
              "            title=\"Convert this dataframe to an interactive table.\"\n",
              "            style=\"display:none;\">\n",
              "\n",
              "  <svg xmlns=\"http://www.w3.org/2000/svg\" height=\"24px\" viewBox=\"0 -960 960 960\">\n",
              "    <path d=\"M120-120v-720h720v720H120Zm60-500h600v-160H180v160Zm220 220h160v-160H400v160Zm0 220h160v-160H400v160ZM180-400h160v-160H180v160Zm440 0h160v-160H620v160ZM180-180h160v-160H180v160Zm440 0h160v-160H620v160Z\"/>\n",
              "  </svg>\n",
              "    </button>\n",
              "\n",
              "  <style>\n",
              "    .colab-df-container {\n",
              "      display:flex;\n",
              "      gap: 12px;\n",
              "    }\n",
              "\n",
              "    .colab-df-convert {\n",
              "      background-color: #E8F0FE;\n",
              "      border: none;\n",
              "      border-radius: 50%;\n",
              "      cursor: pointer;\n",
              "      display: none;\n",
              "      fill: #1967D2;\n",
              "      height: 32px;\n",
              "      padding: 0 0 0 0;\n",
              "      width: 32px;\n",
              "    }\n",
              "\n",
              "    .colab-df-convert:hover {\n",
              "      background-color: #E2EBFA;\n",
              "      box-shadow: 0px 1px 2px rgba(60, 64, 67, 0.3), 0px 1px 3px 1px rgba(60, 64, 67, 0.15);\n",
              "      fill: #174EA6;\n",
              "    }\n",
              "\n",
              "    .colab-df-buttons div {\n",
              "      margin-bottom: 4px;\n",
              "    }\n",
              "\n",
              "    [theme=dark] .colab-df-convert {\n",
              "      background-color: #3B4455;\n",
              "      fill: #D2E3FC;\n",
              "    }\n",
              "\n",
              "    [theme=dark] .colab-df-convert:hover {\n",
              "      background-color: #434B5C;\n",
              "      box-shadow: 0px 1px 3px 1px rgba(0, 0, 0, 0.15);\n",
              "      filter: drop-shadow(0px 1px 2px rgba(0, 0, 0, 0.3));\n",
              "      fill: #FFFFFF;\n",
              "    }\n",
              "  </style>\n",
              "\n",
              "    <script>\n",
              "      const buttonEl =\n",
              "        document.querySelector('#df-e74e4b85-6527-4c0d-99eb-d0029b4cd265 button.colab-df-convert');\n",
              "      buttonEl.style.display =\n",
              "        google.colab.kernel.accessAllowed ? 'block' : 'none';\n",
              "\n",
              "      async function convertToInteractive(key) {\n",
              "        const element = document.querySelector('#df-e74e4b85-6527-4c0d-99eb-d0029b4cd265');\n",
              "        const dataTable =\n",
              "          await google.colab.kernel.invokeFunction('convertToInteractive',\n",
              "                                                    [key], {});\n",
              "        if (!dataTable) return;\n",
              "\n",
              "        const docLinkHtml = 'Like what you see? Visit the ' +\n",
              "          '<a target=\"_blank\" href=https://colab.research.google.com/notebooks/data_table.ipynb>data table notebook</a>'\n",
              "          + ' to learn more about interactive tables.';\n",
              "        element.innerHTML = '';\n",
              "        dataTable['output_type'] = 'display_data';\n",
              "        await google.colab.output.renderOutput(dataTable, element);\n",
              "        const docLink = document.createElement('div');\n",
              "        docLink.innerHTML = docLinkHtml;\n",
              "        element.appendChild(docLink);\n",
              "      }\n",
              "    </script>\n",
              "  </div>\n",
              "\n",
              "\n",
              "<div id=\"df-709842e8-a983-4d51-ae73-9756cdc33c7b\">\n",
              "  <button class=\"colab-df-quickchart\" onclick=\"quickchart('df-709842e8-a983-4d51-ae73-9756cdc33c7b')\"\n",
              "            title=\"Suggest charts\"\n",
              "            style=\"display:none;\">\n",
              "\n",
              "<svg xmlns=\"http://www.w3.org/2000/svg\" height=\"24px\"viewBox=\"0 0 24 24\"\n",
              "     width=\"24px\">\n",
              "    <g>\n",
              "        <path d=\"M19 3H5c-1.1 0-2 .9-2 2v14c0 1.1.9 2 2 2h14c1.1 0 2-.9 2-2V5c0-1.1-.9-2-2-2zM9 17H7v-7h2v7zm4 0h-2V7h2v10zm4 0h-2v-4h2v4z\"/>\n",
              "    </g>\n",
              "</svg>\n",
              "  </button>\n",
              "\n",
              "<style>\n",
              "  .colab-df-quickchart {\n",
              "      --bg-color: #E8F0FE;\n",
              "      --fill-color: #1967D2;\n",
              "      --hover-bg-color: #E2EBFA;\n",
              "      --hover-fill-color: #174EA6;\n",
              "      --disabled-fill-color: #AAA;\n",
              "      --disabled-bg-color: #DDD;\n",
              "  }\n",
              "\n",
              "  [theme=dark] .colab-df-quickchart {\n",
              "      --bg-color: #3B4455;\n",
              "      --fill-color: #D2E3FC;\n",
              "      --hover-bg-color: #434B5C;\n",
              "      --hover-fill-color: #FFFFFF;\n",
              "      --disabled-bg-color: #3B4455;\n",
              "      --disabled-fill-color: #666;\n",
              "  }\n",
              "\n",
              "  .colab-df-quickchart {\n",
              "    background-color: var(--bg-color);\n",
              "    border: none;\n",
              "    border-radius: 50%;\n",
              "    cursor: pointer;\n",
              "    display: none;\n",
              "    fill: var(--fill-color);\n",
              "    height: 32px;\n",
              "    padding: 0;\n",
              "    width: 32px;\n",
              "  }\n",
              "\n",
              "  .colab-df-quickchart:hover {\n",
              "    background-color: var(--hover-bg-color);\n",
              "    box-shadow: 0 1px 2px rgba(60, 64, 67, 0.3), 0 1px 3px 1px rgba(60, 64, 67, 0.15);\n",
              "    fill: var(--button-hover-fill-color);\n",
              "  }\n",
              "\n",
              "  .colab-df-quickchart-complete:disabled,\n",
              "  .colab-df-quickchart-complete:disabled:hover {\n",
              "    background-color: var(--disabled-bg-color);\n",
              "    fill: var(--disabled-fill-color);\n",
              "    box-shadow: none;\n",
              "  }\n",
              "\n",
              "  .colab-df-spinner {\n",
              "    border: 2px solid var(--fill-color);\n",
              "    border-color: transparent;\n",
              "    border-bottom-color: var(--fill-color);\n",
              "    animation:\n",
              "      spin 1s steps(1) infinite;\n",
              "  }\n",
              "\n",
              "  @keyframes spin {\n",
              "    0% {\n",
              "      border-color: transparent;\n",
              "      border-bottom-color: var(--fill-color);\n",
              "      border-left-color: var(--fill-color);\n",
              "    }\n",
              "    20% {\n",
              "      border-color: transparent;\n",
              "      border-left-color: var(--fill-color);\n",
              "      border-top-color: var(--fill-color);\n",
              "    }\n",
              "    30% {\n",
              "      border-color: transparent;\n",
              "      border-left-color: var(--fill-color);\n",
              "      border-top-color: var(--fill-color);\n",
              "      border-right-color: var(--fill-color);\n",
              "    }\n",
              "    40% {\n",
              "      border-color: transparent;\n",
              "      border-right-color: var(--fill-color);\n",
              "      border-top-color: var(--fill-color);\n",
              "    }\n",
              "    60% {\n",
              "      border-color: transparent;\n",
              "      border-right-color: var(--fill-color);\n",
              "    }\n",
              "    80% {\n",
              "      border-color: transparent;\n",
              "      border-right-color: var(--fill-color);\n",
              "      border-bottom-color: var(--fill-color);\n",
              "    }\n",
              "    90% {\n",
              "      border-color: transparent;\n",
              "      border-bottom-color: var(--fill-color);\n",
              "    }\n",
              "  }\n",
              "</style>\n",
              "\n",
              "  <script>\n",
              "    async function quickchart(key) {\n",
              "      const quickchartButtonEl =\n",
              "        document.querySelector('#' + key + ' button');\n",
              "      quickchartButtonEl.disabled = true;  // To prevent multiple clicks.\n",
              "      quickchartButtonEl.classList.add('colab-df-spinner');\n",
              "      try {\n",
              "        const charts = await google.colab.kernel.invokeFunction(\n",
              "            'suggestCharts', [key], {});\n",
              "      } catch (error) {\n",
              "        console.error('Error during call to suggestCharts:', error);\n",
              "      }\n",
              "      quickchartButtonEl.classList.remove('colab-df-spinner');\n",
              "      quickchartButtonEl.classList.add('colab-df-quickchart-complete');\n",
              "    }\n",
              "    (() => {\n",
              "      let quickchartButtonEl =\n",
              "        document.querySelector('#df-709842e8-a983-4d51-ae73-9756cdc33c7b button');\n",
              "      quickchartButtonEl.style.display =\n",
              "        google.colab.kernel.accessAllowed ? 'block' : 'none';\n",
              "    })();\n",
              "  </script>\n",
              "</div>\n",
              "\n",
              "    </div>\n",
              "  </div>\n"
            ],
            "application/vnd.google.colaboratory.intrinsic+json": {
              "type": "dataframe",
              "summary": "{\n  \"name\": \"pd\",\n  \"rows\": 10,\n  \"fields\": [\n    {\n      \"column\": \"words\",\n      \"properties\": {\n        \"dtype\": \"string\",\n        \"num_unique_values\": 10,\n        \"samples\": [\n          [\n            \"she\",\n            \"does\",\n            \"n't\",\n            \"have\",\n            \"any\",\n            \"money\"\n          ],\n          [\n            \"how\",\n            \"are\",\n            \"you\",\n            \"?\"\n          ],\n          [\n            \"there\",\n            \"is\",\n            \"a\",\n            \"lot\",\n            \"of\",\n            \"history\",\n            \"here\"\n          ]\n        ],\n        \"semantic_type\": \"\",\n        \"description\": \"\"\n      }\n    },\n    {\n      \"column\": \"class_\",\n      \"properties\": {\n        \"dtype\": \"category\",\n        \"num_unique_values\": 3,\n        \"samples\": [\n          \"+\",\n          \"?\",\n          \"-\"\n        ],\n        \"semantic_type\": \"\",\n        \"description\": \"\"\n      }\n    }\n  ]\n}"
            }
          },
          "metadata": {},
          "execution_count": 5
        }
      ]
    },
    {
      "cell_type": "markdown",
      "source": [
        "Cantidad de oraciones por clase en el conjunto de test:"
      ],
      "metadata": {
        "id": "ZdwzchFGZNmf"
      }
    },
    {
      "cell_type": "code",
      "source": [
        "test_set.groupby(\"class_\").count()"
      ],
      "metadata": {
        "colab": {
          "base_uri": "https://localhost:8080/",
          "height": 0
        },
        "id": "5FXC-oNNpQGw",
        "outputId": "a7f2f1eb-2660-4ffc-b286-ebea52f0a15a"
      },
      "execution_count": 6,
      "outputs": [
        {
          "output_type": "execute_result",
          "data": {
            "text/plain": [
              "        words\n",
              "class_       \n",
              "+           6\n",
              "-           3\n",
              "?           4"
            ],
            "text/html": [
              "\n",
              "  <div id=\"df-640ed431-4e9e-4b4f-9aeb-343994bc7791\" class=\"colab-df-container\">\n",
              "    <div>\n",
              "<style scoped>\n",
              "    .dataframe tbody tr th:only-of-type {\n",
              "        vertical-align: middle;\n",
              "    }\n",
              "\n",
              "    .dataframe tbody tr th {\n",
              "        vertical-align: top;\n",
              "    }\n",
              "\n",
              "    .dataframe thead th {\n",
              "        text-align: right;\n",
              "    }\n",
              "</style>\n",
              "<table border=\"1\" class=\"dataframe\">\n",
              "  <thead>\n",
              "    <tr style=\"text-align: right;\">\n",
              "      <th></th>\n",
              "      <th>words</th>\n",
              "    </tr>\n",
              "    <tr>\n",
              "      <th>class_</th>\n",
              "      <th></th>\n",
              "    </tr>\n",
              "  </thead>\n",
              "  <tbody>\n",
              "    <tr>\n",
              "      <th>+</th>\n",
              "      <td>6</td>\n",
              "    </tr>\n",
              "    <tr>\n",
              "      <th>-</th>\n",
              "      <td>3</td>\n",
              "    </tr>\n",
              "    <tr>\n",
              "      <th>?</th>\n",
              "      <td>4</td>\n",
              "    </tr>\n",
              "  </tbody>\n",
              "</table>\n",
              "</div>\n",
              "    <div class=\"colab-df-buttons\">\n",
              "\n",
              "  <div class=\"colab-df-container\">\n",
              "    <button class=\"colab-df-convert\" onclick=\"convertToInteractive('df-640ed431-4e9e-4b4f-9aeb-343994bc7791')\"\n",
              "            title=\"Convert this dataframe to an interactive table.\"\n",
              "            style=\"display:none;\">\n",
              "\n",
              "  <svg xmlns=\"http://www.w3.org/2000/svg\" height=\"24px\" viewBox=\"0 -960 960 960\">\n",
              "    <path d=\"M120-120v-720h720v720H120Zm60-500h600v-160H180v160Zm220 220h160v-160H400v160Zm0 220h160v-160H400v160ZM180-400h160v-160H180v160Zm440 0h160v-160H620v160ZM180-180h160v-160H180v160Zm440 0h160v-160H620v160Z\"/>\n",
              "  </svg>\n",
              "    </button>\n",
              "\n",
              "  <style>\n",
              "    .colab-df-container {\n",
              "      display:flex;\n",
              "      gap: 12px;\n",
              "    }\n",
              "\n",
              "    .colab-df-convert {\n",
              "      background-color: #E8F0FE;\n",
              "      border: none;\n",
              "      border-radius: 50%;\n",
              "      cursor: pointer;\n",
              "      display: none;\n",
              "      fill: #1967D2;\n",
              "      height: 32px;\n",
              "      padding: 0 0 0 0;\n",
              "      width: 32px;\n",
              "    }\n",
              "\n",
              "    .colab-df-convert:hover {\n",
              "      background-color: #E2EBFA;\n",
              "      box-shadow: 0px 1px 2px rgba(60, 64, 67, 0.3), 0px 1px 3px 1px rgba(60, 64, 67, 0.15);\n",
              "      fill: #174EA6;\n",
              "    }\n",
              "\n",
              "    .colab-df-buttons div {\n",
              "      margin-bottom: 4px;\n",
              "    }\n",
              "\n",
              "    [theme=dark] .colab-df-convert {\n",
              "      background-color: #3B4455;\n",
              "      fill: #D2E3FC;\n",
              "    }\n",
              "\n",
              "    [theme=dark] .colab-df-convert:hover {\n",
              "      background-color: #434B5C;\n",
              "      box-shadow: 0px 1px 3px 1px rgba(0, 0, 0, 0.15);\n",
              "      filter: drop-shadow(0px 1px 2px rgba(0, 0, 0, 0.3));\n",
              "      fill: #FFFFFF;\n",
              "    }\n",
              "  </style>\n",
              "\n",
              "    <script>\n",
              "      const buttonEl =\n",
              "        document.querySelector('#df-640ed431-4e9e-4b4f-9aeb-343994bc7791 button.colab-df-convert');\n",
              "      buttonEl.style.display =\n",
              "        google.colab.kernel.accessAllowed ? 'block' : 'none';\n",
              "\n",
              "      async function convertToInteractive(key) {\n",
              "        const element = document.querySelector('#df-640ed431-4e9e-4b4f-9aeb-343994bc7791');\n",
              "        const dataTable =\n",
              "          await google.colab.kernel.invokeFunction('convertToInteractive',\n",
              "                                                    [key], {});\n",
              "        if (!dataTable) return;\n",
              "\n",
              "        const docLinkHtml = 'Like what you see? Visit the ' +\n",
              "          '<a target=\"_blank\" href=https://colab.research.google.com/notebooks/data_table.ipynb>data table notebook</a>'\n",
              "          + ' to learn more about interactive tables.';\n",
              "        element.innerHTML = '';\n",
              "        dataTable['output_type'] = 'display_data';\n",
              "        await google.colab.output.renderOutput(dataTable, element);\n",
              "        const docLink = document.createElement('div');\n",
              "        docLink.innerHTML = docLinkHtml;\n",
              "        element.appendChild(docLink);\n",
              "      }\n",
              "    </script>\n",
              "  </div>\n",
              "\n",
              "\n",
              "<div id=\"df-21ceac5a-7624-4124-9af8-3199bc6c6aee\">\n",
              "  <button class=\"colab-df-quickchart\" onclick=\"quickchart('df-21ceac5a-7624-4124-9af8-3199bc6c6aee')\"\n",
              "            title=\"Suggest charts\"\n",
              "            style=\"display:none;\">\n",
              "\n",
              "<svg xmlns=\"http://www.w3.org/2000/svg\" height=\"24px\"viewBox=\"0 0 24 24\"\n",
              "     width=\"24px\">\n",
              "    <g>\n",
              "        <path d=\"M19 3H5c-1.1 0-2 .9-2 2v14c0 1.1.9 2 2 2h14c1.1 0 2-.9 2-2V5c0-1.1-.9-2-2-2zM9 17H7v-7h2v7zm4 0h-2V7h2v10zm4 0h-2v-4h2v4z\"/>\n",
              "    </g>\n",
              "</svg>\n",
              "  </button>\n",
              "\n",
              "<style>\n",
              "  .colab-df-quickchart {\n",
              "      --bg-color: #E8F0FE;\n",
              "      --fill-color: #1967D2;\n",
              "      --hover-bg-color: #E2EBFA;\n",
              "      --hover-fill-color: #174EA6;\n",
              "      --disabled-fill-color: #AAA;\n",
              "      --disabled-bg-color: #DDD;\n",
              "  }\n",
              "\n",
              "  [theme=dark] .colab-df-quickchart {\n",
              "      --bg-color: #3B4455;\n",
              "      --fill-color: #D2E3FC;\n",
              "      --hover-bg-color: #434B5C;\n",
              "      --hover-fill-color: #FFFFFF;\n",
              "      --disabled-bg-color: #3B4455;\n",
              "      --disabled-fill-color: #666;\n",
              "  }\n",
              "\n",
              "  .colab-df-quickchart {\n",
              "    background-color: var(--bg-color);\n",
              "    border: none;\n",
              "    border-radius: 50%;\n",
              "    cursor: pointer;\n",
              "    display: none;\n",
              "    fill: var(--fill-color);\n",
              "    height: 32px;\n",
              "    padding: 0;\n",
              "    width: 32px;\n",
              "  }\n",
              "\n",
              "  .colab-df-quickchart:hover {\n",
              "    background-color: var(--hover-bg-color);\n",
              "    box-shadow: 0 1px 2px rgba(60, 64, 67, 0.3), 0 1px 3px 1px rgba(60, 64, 67, 0.15);\n",
              "    fill: var(--button-hover-fill-color);\n",
              "  }\n",
              "\n",
              "  .colab-df-quickchart-complete:disabled,\n",
              "  .colab-df-quickchart-complete:disabled:hover {\n",
              "    background-color: var(--disabled-bg-color);\n",
              "    fill: var(--disabled-fill-color);\n",
              "    box-shadow: none;\n",
              "  }\n",
              "\n",
              "  .colab-df-spinner {\n",
              "    border: 2px solid var(--fill-color);\n",
              "    border-color: transparent;\n",
              "    border-bottom-color: var(--fill-color);\n",
              "    animation:\n",
              "      spin 1s steps(1) infinite;\n",
              "  }\n",
              "\n",
              "  @keyframes spin {\n",
              "    0% {\n",
              "      border-color: transparent;\n",
              "      border-bottom-color: var(--fill-color);\n",
              "      border-left-color: var(--fill-color);\n",
              "    }\n",
              "    20% {\n",
              "      border-color: transparent;\n",
              "      border-left-color: var(--fill-color);\n",
              "      border-top-color: var(--fill-color);\n",
              "    }\n",
              "    30% {\n",
              "      border-color: transparent;\n",
              "      border-left-color: var(--fill-color);\n",
              "      border-top-color: var(--fill-color);\n",
              "      border-right-color: var(--fill-color);\n",
              "    }\n",
              "    40% {\n",
              "      border-color: transparent;\n",
              "      border-right-color: var(--fill-color);\n",
              "      border-top-color: var(--fill-color);\n",
              "    }\n",
              "    60% {\n",
              "      border-color: transparent;\n",
              "      border-right-color: var(--fill-color);\n",
              "    }\n",
              "    80% {\n",
              "      border-color: transparent;\n",
              "      border-right-color: var(--fill-color);\n",
              "      border-bottom-color: var(--fill-color);\n",
              "    }\n",
              "    90% {\n",
              "      border-color: transparent;\n",
              "      border-bottom-color: var(--fill-color);\n",
              "    }\n",
              "  }\n",
              "</style>\n",
              "\n",
              "  <script>\n",
              "    async function quickchart(key) {\n",
              "      const quickchartButtonEl =\n",
              "        document.querySelector('#' + key + ' button');\n",
              "      quickchartButtonEl.disabled = true;  // To prevent multiple clicks.\n",
              "      quickchartButtonEl.classList.add('colab-df-spinner');\n",
              "      try {\n",
              "        const charts = await google.colab.kernel.invokeFunction(\n",
              "            'suggestCharts', [key], {});\n",
              "      } catch (error) {\n",
              "        console.error('Error during call to suggestCharts:', error);\n",
              "      }\n",
              "      quickchartButtonEl.classList.remove('colab-df-spinner');\n",
              "      quickchartButtonEl.classList.add('colab-df-quickchart-complete');\n",
              "    }\n",
              "    (() => {\n",
              "      let quickchartButtonEl =\n",
              "        document.querySelector('#df-21ceac5a-7624-4124-9af8-3199bc6c6aee button');\n",
              "      quickchartButtonEl.style.display =\n",
              "        google.colab.kernel.accessAllowed ? 'block' : 'none';\n",
              "    })();\n",
              "  </script>\n",
              "</div>\n",
              "\n",
              "    </div>\n",
              "  </div>\n"
            ],
            "application/vnd.google.colaboratory.intrinsic+json": {
              "type": "dataframe",
              "summary": "{\n  \"name\": \"test_set\",\n  \"rows\": 3,\n  \"fields\": [\n    {\n      \"column\": \"class_\",\n      \"properties\": {\n        \"dtype\": \"string\",\n        \"num_unique_values\": 3,\n        \"samples\": [\n          \"+\",\n          \"-\",\n          \"?\"\n        ],\n        \"semantic_type\": \"\",\n        \"description\": \"\"\n      }\n    },\n    {\n      \"column\": \"words\",\n      \"properties\": {\n        \"dtype\": \"number\",\n        \"std\": 1,\n        \"min\": 3,\n        \"max\": 6,\n        \"num_unique_values\": 3,\n        \"samples\": [\n          6,\n          3,\n          4\n        ],\n        \"semantic_type\": \"\",\n        \"description\": \"\"\n      }\n    }\n  ]\n}"
            }
          },
          "metadata": {},
          "execution_count": 6
        }
      ]
    },
    {
      "cell_type": "markdown",
      "source": [
        "**Importante:** Hasta el momento hemos creado nuestros conjuntos de train y test. A continuacion ustedes deben implementar tres modelos de clasificacion: Naive-bayes, Linear Model y Neural Network. Aqui va un resumen de cada pregunta y lo que se les pide implementar:\n",
        "\n",
        "* P1: Naive-bayes\n",
        " - Implementar `fit` y `predict`\n",
        " - Entrenar\n",
        " - Evaluar\n",
        "\n",
        "* P2: Linear Model\n",
        " - Implementar `fit` con *on-line gradient descent* y `predict`\n",
        " - Entrenar\n",
        " - Evaluar\n",
        "\n",
        "* P3: Neural Network\n",
        " - Implementar un iterador de datos con `datasets` y `dataloaders`\n",
        " - Implementar una red neuronal con `pytorch`\n",
        " - Implementar loop de entrenamiento de una NN\n",
        " - Entrenar\n",
        " - Evaluar"
      ],
      "metadata": {
        "id": "bTfP4UGXZUSX"
      }
    },
    {
      "cell_type": "markdown",
      "source": [
        "## P1. Implementar y evaluar Multinomial Naive-Bayes (2 puntos)"
      ],
      "metadata": {
        "id": "IxYRIr-Ob010"
      }
    },
    {
      "cell_type": "markdown",
      "source": [
        "### Clase para clasificador\n",
        "\n",
        "Cree una clase MyMultinomialNB que en su inicializador reciba el parámetro alpha para su clasficador.\n",
        "\n",
        "Además, debe implementar los métodos `fit(X, y)`y `predict(X)`.\n",
        "\n",
        "```python\n",
        "class MyMultinomialNB():\n",
        "  def __init__(self, alpha, ...):\n",
        "    ...\n",
        "\n",
        "  def fit(self, X, y):\n",
        "    ...\n",
        "  \n",
        "  def predict(self, X):\n",
        "    ...\n",
        "    return prediction\n",
        "```\n",
        "Para computar el entrenamiento de nuestro clasificador debemos:\n",
        "- extraer el vocabulario,\n",
        "- determinar las probabilidades $p(c_j)$ para cada una de las clases posibles,\n",
        "- determinar las probabilidades $p(w_i|c_j)$ para cada una de las palabras y cada una de las clases.\n",
        "\n",
        "Para lograr lo anterior, también deberán implementar el método `predict_proba(X)`:\n",
        "\n",
        "```python\n",
        "  def predict_proba(self, X):\n",
        "    return prob\n",
        "```\n",
        "\n",
        "**Underflow prevention:** En vez de hacer muchas multiplicaciones de `float`s, reemplácenlas por sumas de logaritmos para prevenir errores de precisión. (Revisen la diapo 26 de las slides).\n",
        "\n",
        "En su implementación deben considerar la tecnica de *Laplace Smoothing* vista en clases. Especificamente considere que su clase `MyMultinomialNB` reciba un parámetro `alpha` no negativo (es decir, mayor o igual a cero). De tal forma que el la probabilidad de una palabra $w$ dado la clase $c$ viene dado por lo siguiente:\n",
        "\n",
        "$$\n",
        "p_\\alpha (w|c) = \\frac{\\#(w, c) + \\alpha}{N + \\alpha |V|}\n",
        "$$\n",
        "\n",
        "donde $\\alpha$ es el parámetro `alpha` de *Laplace Smoothing*. Mientras que los otras notaciones corresponden a\n",
        "\n",
        "* $\\#(w, c)$ numero de veces que ocurre la palabra $w$ en documentos con la clase $c$ (pensar en un gran documento $D_c$ que concatena todos los documentos de clase $c$ y luego calcula la frecuencia de la palabra $w$ en $D_c$),\n",
        "* $N$ es igual a $\\sum \\{\\#(w', c): w' \\in V\\}$ donde $V$ es el vocabulario,\n",
        "* $|V|$ tamaño del vocabulario."
      ],
      "metadata": {
        "id": "UWZGccxjcFE-"
      }
    },
    {
      "cell_type": "markdown",
      "source": [
        "### Implementación (1.5 pts.)\n",
        "\n",
        "Escriba aquí la implementación de la clase `MyMultinomialNB`."
      ],
      "metadata": {
        "id": "Y0hFPME1aU9o"
      }
    },
    {
      "cell_type": "code",
      "source": [
        "import numpy as np\n",
        "\n",
        "class MyMultinomialNB():\n",
        "  def __init__(self, alpha=1.0):\n",
        "    self.alpha = alpha\n",
        "\n",
        "  def fit(self, X, y):\n",
        "    \"\"\"Ajusta el modelo a partir de datos de entrenamiento\n",
        "\n",
        "    Args:\n",
        "      X: Serie de pandas con documentos\n",
        "      y: Serie de pandas con clases (\"class_\") de los documentos\n",
        "\n",
        "    Returns:\n",
        "      None\n",
        "    \"\"\"\n",
        "    corpus = []\n",
        "    train = np.concatenate(X.to_numpy())\n",
        "    for tupla in train:\n",
        "      for j in tupla:\n",
        "        corpus.append(j)\n",
        "    vocab = {}\n",
        "    for word in corpus:\n",
        "        if word in vocab:\n",
        "            vocab[word] += 1\n",
        "        else:\n",
        "            vocab[word] = 1\n",
        "    vocab_per_class = {}\n",
        "    for clas in list(set(y.to_numpy())):\n",
        "      corpus_c = []\n",
        "      train_c = np.concatenate(X[y == clas].to_numpy())\n",
        "      for tupla in train_c:\n",
        "        for j in tupla:\n",
        "          corpus_c.append(j)\n",
        "      vocabpc = {}\n",
        "      for word in corpus_c:\n",
        "        if word in vocabpc:\n",
        "          vocabpc[word] += 1\n",
        "        else:\n",
        "          vocabpc[word] = 1\n",
        "      vocab_per_class[clas] = vocabpc\n",
        "    self.clases = list(set(y.to_numpy()))\n",
        "    self.priors = [sum(y_train == c)/len(y_train) for c in self.clases]\n",
        "    self.vocab_per_class = vocab_per_class\n",
        "    self.vocab = vocab\n",
        "    self.v = len(self.vocab)\n",
        "    self.n = [np.sum(list(self.vocab_per_class[i].values())) for i in self.clases]\n",
        "\n",
        "\n",
        "\n",
        "\n",
        "  def predict(self, X):\n",
        "    \"\"\"Predice las clases más probables de una serie de documentos\n",
        "\n",
        "    Args:\n",
        "      X: Serie de pandas con documentos\n",
        "\n",
        "    Returns:\n",
        "      Serie de pandas con las clase de cada documento de X\n",
        "    \"\"\"\n",
        "    limpio = np.concatenate(X.to_numpy())\n",
        "    probs = np.zeros((len(limpio), len(self.clases)))\n",
        "    for i in range(len(limpio)):\n",
        "      for j in range(len(self.clases)):\n",
        "        probabilidades = []\n",
        "        for word in limpio[i]:\n",
        "          try:\n",
        "            prob = (self.vocab_per_class[self.clases[j]][word] + self.alpha) / (self.n[j] + self.alpha * self.v)\n",
        "          except KeyError:  # Manejar la excepción si la palabra no está en el vocabulario\n",
        "            prob = self.alpha / (self.n[j] + self.alpha * self.v)\n",
        "          probabilidades.append(prob)\n",
        "        probs[i,j] = np.prod(probabilidades)*self.priors[j]\n",
        "        #probs[i,j] = [try: ((self.vocab_per_class[self.clases[j]][word]+ self.alpha)/(self.n[j]+ self.alpha*self.v)) except: ((self.alpha)/(self.n[j]+ self.alpha*self.v))  for word in limpio[i]]#*self.priors[j]\n",
        "    argmax_c = np.argmax(probs, axis=1)\n",
        "    pred = [self.clases[idx] for idx in argmax_c]\n",
        "    return pred"
      ],
      "metadata": {
        "id": "JU5i9li8g7CS"
      },
      "execution_count": 32,
      "outputs": []
    },
    {
      "cell_type": "markdown",
      "source": [
        "### Entrenamiento (0.2 pts.)\n",
        "A continuación, inicialicen y entrenen (ajusten) su clasificador con los datos de entrenamiento."
      ],
      "metadata": {
        "id": "eY0j4Ruy0Cxr"
      }
    },
    {
      "cell_type": "code",
      "source": [
        "nb_model = MyMultinomialNB(alpha=0.1)\n",
        "nb_model.fit(X_train, y_train);"
      ],
      "metadata": {
        "id": "EuLl606ZjN4U"
      },
      "execution_count": 33,
      "outputs": []
    },
    {
      "cell_type": "markdown",
      "source": [
        "Pruébenlo utilizando el método `predict()` que implementaron."
      ],
      "metadata": {
        "id": "CvTzP9vPjfFH"
      }
    },
    {
      "cell_type": "code",
      "source": [
        "from sklearn.metrics import classification_report"
      ],
      "metadata": {
        "id": "j5wph2IQuAzo"
      },
      "execution_count": 18,
      "outputs": []
    },
    {
      "cell_type": "code",
      "source": [
        "# Predict train-set\n",
        "y_pred = nb_model.predict(X_train)\n",
        "print(y_pred)"
      ],
      "metadata": {
        "colab": {
          "base_uri": "https://localhost:8080/"
        },
        "id": "RQtmK4jfi8mP",
        "outputId": "33531dc5-e834-413d-8fe7-65f4e5510fa0"
      },
      "execution_count": 35,
      "outputs": [
        {
          "output_type": "stream",
          "name": "stdout",
          "text": [
            "['?', '?', '?', '?', '-', '-', '-', '?', '?', '?', '-', '-', '-', '?', '?', '?', '?', '?', '?', '?', '+', '+', '+', '+', '-', '+', '+', '+', '+', '+', '+', '+', '+', '+']\n"
          ]
        }
      ]
    },
    {
      "cell_type": "code",
      "source": [
        "# Metricas en el conjunto de train\n",
        "print(classification_report(y_train, y_pred))"
      ],
      "metadata": {
        "colab": {
          "base_uri": "https://localhost:8080/"
        },
        "id": "702uKpJLtPJj",
        "outputId": "a2aaae32-7e1d-40e3-d8b5-0f00487d1340"
      },
      "execution_count": 36,
      "outputs": [
        {
          "output_type": "stream",
          "name": "stdout",
          "text": [
            "              precision    recall  f1-score   support\n",
            "\n",
            "           +       1.00      1.00      1.00        13\n",
            "           -       1.00      1.00      1.00         7\n",
            "           ?       1.00      1.00      1.00        14\n",
            "\n",
            "    accuracy                           1.00        34\n",
            "   macro avg       1.00      1.00      1.00        34\n",
            "weighted avg       1.00      1.00      1.00        34\n",
            "\n"
          ]
        }
      ]
    },
    {
      "cell_type": "markdown",
      "source": [
        "### Evaluación (0.3 pts.)\n",
        "\n",
        "Ahora probarán el funcionamiento de su clasificador con un conjunto de test.  Habiendo entrenado su clasificador, clasifiquen los documentos del conjunto de prueba `test_set` usando el método `predict`.\n"
      ],
      "metadata": {
        "id": "tzRqkuso1PWT"
      }
    },
    {
      "cell_type": "code",
      "source": [
        "y_pred_test = nb_model.predict(X_test)\n",
        "print(classification_report(y_test, y_pred_test))"
      ],
      "metadata": {
        "id": "UjMuND9djskK",
        "colab": {
          "base_uri": "https://localhost:8080/"
        },
        "outputId": "c5a4c7b0-dcce-48d0-83f4-957643cb57a9"
      },
      "execution_count": 37,
      "outputs": [
        {
          "output_type": "stream",
          "name": "stdout",
          "text": [
            "              precision    recall  f1-score   support\n",
            "\n",
            "           +       1.00      0.50      0.67         6\n",
            "           -       0.50      1.00      0.67         3\n",
            "           ?       1.00      1.00      1.00         4\n",
            "\n",
            "    accuracy                           0.77        13\n",
            "   macro avg       0.83      0.83      0.78        13\n",
            "weighted avg       0.88      0.77      0.77        13\n",
            "\n"
          ]
        }
      ]
    },
    {
      "cell_type": "markdown",
      "source": [
        "Comenten sus resultados. Estudien que ocurre para alpha=0, 1 y L donde L es un numero muy grande.\n",
        "\n",
        "**Comentarios:**\n",
        "\n",
        "Se observa que en términos de rendimiento en la clasificación del modelo, la clase '?' fue la más fácil de identificar, posiblemente debido a que todas las oraciones de esta clase contienen el token '?'. Sin embargo, hubo mayores dificultades para distinguir entre las clases '+' y '-', lo que afectó tanto al recall como a la precisión de estas respectivas clases.\n",
        "\n",
        "En cuanto a los valores de alpha = 0.1 y un vocabulario de tamaño muy grande, se nota que todas las probabilidades se vuelven extremadamente pequeñas, lo que lleva a problemas cuando se multiplican las probabilidades y estas tienden a acercarse a cero. Esta situación se resuelve comúnmente aplicando el logaritmo a las probabilidades, lo que facilita su manipulación y evita la pérdida de precisión debido a la multiplicación de valores muy pequeños.\n"
      ],
      "metadata": {
        "id": "MjvzyLHJVFdg"
      }
    },
    {
      "cell_type": "markdown",
      "source": [
        "## P2. Implementar y evaluar Linear Models (2 puntos)"
      ],
      "metadata": {
        "id": "mNSdg__vb6J7"
      }
    },
    {
      "cell_type": "markdown",
      "source": [
        "### Clase para clasificador\n",
        "\n",
        "Cree una clase MyLinearModel para su clasficador. Debe implementar los métodos `fit(X, y, learning_rate, epochs)`y `predict(X)`.\n",
        "\n",
        "```python\n",
        "class MyLinearModel():\n",
        "  def __init__(self, ...):\n",
        "    ...\n",
        "\n",
        "  def fit(self, X, y, learning_rate, epochs):\n",
        "    ...\n",
        "  \n",
        "  def predict(self, X):\n",
        "    ...\n",
        "    return prediction\n",
        "```\n",
        "\n",
        "El modelo lineal que debe implementar viene dado por:\n",
        "$$\n",
        "\\vec{\\hat{y}} = \\text{softmax}(\\vec{x} \\cdot W + \\vec{b})\\\\\n",
        "\\vec{\\hat{y}}_{[i]} = \\frac{\\exp{z_i}}{\\sum_{j} \\exp{z_j}}\\\\\n",
        "z_i = \\vec{x} \\cdot W_{[:, i]} + \\vec{b}_{[i]}\n",
        "$$\n",
        "donde $\\vec{x}$ es un documento representado con bolsas de palabras (BoW), $W$ es la matriz de pesos y $\\vec{b}$ el bias.\n",
        "\n",
        "El modelo linea debe ajustarlo considerando como objetivo minimizar la cross-entropy loss, es decir:\n",
        "\n",
        "$$\n",
        "L_\\text{cross-entropy}(\\vec{\\hat{y}}, \\vec{y}) = - \\sum_i \\vec{y}_{[i]} \\log{ \\left( \\vec{\\hat{y}}_{[i]} \\right) }\n",
        "$$\n",
        "\n",
        "Para representar un documento `(i, am, not, really, sure)` vectorialmente, utilice `CountVectorizer` de sklearn. De esta manera, el documento queda representado como sigue:\n",
        "\n",
        "|    |   i |   he |   am |   are |   not |   yes |   really |   sure |\n",
        "|---:|----:|-----:|-----:|------:|------:|------:|---------:|-------:|\n",
        "|  0 |   1 |    0 |    1 |     0 |     1 |     0 |        1 |      1 |\n",
        "\n",
        "**Observación:** Si el documento repite palabras entonces tendrá un número mayor a 1. Si el documento no tiene la palabra entonces tiene un 0. Pensar que las palabras `(he, are, yes)` provienen de otros documentos. Recuerde que el `CountVectorizer` se entrena con más de un documento (es decir, un corpus). Aquí debe usar el conjunto de train.\n",
        "\n",
        "El método `fit(X, y, learning_rate, epochs)` debe ajustar un `CountVectorizer` para representar vectorialmente el documento. Debe guardar el `CountVectorizer` para cuando quiera hacer predicciones. Dentro del método `fit(X, y, learning_rate, epochs)` debe implementar *On-line gradient descent* (visto en clases), es decir, descenso de gradiente usando un data-point por iteración. Su método debe ser capaz de recibir un `learning_rate` para ponderar el gradiente en cada iteración y fijar un número de `epochs`. Luego de entrenar debe guardar los pesos de su modelo lineal, es decir, $(W, \\vec{b})$.\n",
        "\n",
        "En el algoritmo de descenso de gradiente usando un data-point por iteración, o *On-line gradient descent*, debe implementar manualmente las derivadas. Como conoce el modelo lineal y la funcion objetivo, entonces puede calcular manualmente las derivadas. Para ejemplificar, en cada paso del algoritmo de optimizacion debe actualizar los pesos $(W, \\vec{b})$ del siguiente modo:\n",
        "\n",
        "$$\n",
        "W \\leftarrow W - \\lambda \\nabla_{W} L_\\text{cross-entropy}\\\\\n",
        "\\vec{b} \\leftarrow \\vec{b} - \\lambda \\nabla_{\\vec{b}} L_\\text{cross-entropy}\\\\\n",
        "$$\n",
        "donde $\\lambda$ es el parámetro `learning_rate`, $\\nabla_{W} L_\\text{cross-entropy}$ el gradiente de la Loss con repecto a la matriz de pesos $W$ y $\\nabla_{\\vec{b}} L_\\text{cross-entropy}$ para el bias $\\vec{b}$.\n",
        "\n",
        "Para implementar el algoritmo *On-line gradient descent* les recomendamos (no es obligatorio hacerlo de este modo) definir una función `get_derivative_W(x, y_target, y_pred, n_classes)` que calcule $\\nabla_{W} L_\\text{cross-entropy}$ y lo mismo con una función `get_derivative_b(y_target, y_pred, n_classes)` que calcule $\\nabla_{\\vec{b}} L_\\text{cross-entropy}$.\n",
        "\n",
        "Para implementar el método `predict(self, X)` debera usar su `CountVectorizer` definido en `fit(X, y, learning_rate, epochs)` para representar del mismo modo cualquier documento tanto en train como en test."
      ],
      "metadata": {
        "id": "sSlhzDQ5ac3u"
      }
    },
    {
      "cell_type": "markdown",
      "source": [
        "### Implementación (1.5 pts.)\n",
        "Implemente un modelo lineal con métodos `fit(X, y)` y `predict(X)`"
      ],
      "metadata": {
        "id": "dqJhGTQS0rpv"
      }
    },
    {
      "cell_type": "code",
      "source": [
        "from sklearn.feature_extraction.text import CountVectorizer\n",
        "import numpy as np\n",
        "\n",
        "def softmax(x):\n",
        "    \"\"\"Función para calcular la función softmax de un arreglo de números.\n",
        "\n",
        "    Args:\n",
        "      x : ndarray\n",
        "          Arreglo de entrada.\n",
        "\n",
        "    Returns:\n",
        "      ndarray : Arreglo con la función softmax aplicada a cada fila del arreglo de entrada.\n",
        "\n",
        "    \"\"\"\n",
        "    # Resta el máximo de cada fila para evitar el overflow numérico\n",
        "    exp_x = np.exp(x - np.max(x, keepdims=True))\n",
        "    # Calcula la suma de las exponenciales\n",
        "    return exp_x / np.sum(exp_x, keepdims=True)\n",
        "\n",
        "\n",
        "\n",
        "\n",
        "def get_derivative_W(x, y_target, y_pred, n_classes):\n",
        "    \"\"\"Calcula la derivada de la función de pérdida respecto a la matriz de pesos W.\n",
        "\n",
        "    Args:\n",
        "      x : ndarray\n",
        "          Vector de características.\n",
        "      y_target : ndarray\n",
        "          Vector de clases objetivo codificado en one-hot.\n",
        "      y_pred : ndarray\n",
        "          Vector de probabilidades predichas por el modelo.\n",
        "     n_classes : int\n",
        "          Número de clases.\n",
        "\n",
        "    Returns:\n",
        "      ndarray : Matriz de derivadas de la función de pérdida respecto a W.\n",
        "\n",
        "    \"\"\"\n",
        "    return np.outer(x, (y_pred - y_target))\n",
        "\n",
        "\n",
        "\n",
        "\n",
        "def get_derivative_b(y_target, y_pred, n_classes):\n",
        "    \"\"\"Calcula la derivada de la función de pérdida respecto al vector de sesgos b.\n",
        "\n",
        "    Args:\n",
        "      y_target : ndarray\n",
        "          Vector de clases objetivo codificado en one-hot.\n",
        "      y_pred : ndarray\n",
        "          Vector de probabilidades predichas por el modelo.\n",
        "      n_classes : int\n",
        "          Número de clases.\n",
        "\n",
        "    Returns:\n",
        "      ndarray : Vector de derivadas de la función de pérdida respecto a b.\n",
        "\n",
        "    \"\"\"\n",
        "    return y_pred - y_target\n",
        "\n",
        "\n",
        "\n",
        "\n",
        "def get_preds_tests(X, y, linear_layer):\n",
        "    \"\"\"Obtiene las predicciones y las clases reales para un conjunto de datos.\n",
        "\n",
        "    Args:\n",
        "      X : list\n",
        "          Lista de documentos.\n",
        "      y : ndarray\n",
        "          Vector de clases reales.\n",
        "      linear_layer : MyLinearModel\n",
        "          Instancia del modelo lineal.\n",
        "\n",
        "    Returns:\n",
        "      tuple : Tupla que contiene el vector de predicciones y el vector de clases reales.\n",
        "\n",
        "    \"\"\"\n",
        "    # Transforma los documentos en una representación de texto\n",
        "    X_text = X.words.apply(lambda x: ' '.join(x)).values\n",
        "    # Transforma los documentos a su representación vectorial\n",
        "    X_vec = linear_layer.vectorizer.transform(X_text).toarray()\n",
        "    # Calcula las puntuaciones para cada clase\n",
        "    z = np.dot(X_vec, linear_layer.W) + linear_layer.b\n",
        "    # Aplica la función softmax para obtener las probabilidades\n",
        "    y_pred = softmax(z)\n",
        "    # Devuelve las clases predichas y las reales\n",
        "    return y_pred.argmax(axis=1), y\n",
        "\n",
        "\n",
        "\n",
        "\n",
        "class MyLinearModel():\n",
        "\n",
        "  def __init__(self):\n",
        "      \"\"\"Inicializa el modelo\n",
        "\n",
        "      Returns:\n",
        "      None\n",
        "\n",
        "      \"\"\"\n",
        "      self.vectorizer = None # Objeto CountVectorizer para convertir texto a vectores.\n",
        "      self.W = None # Matriz de pesos del modelo lineal.\n",
        "      self.b = None # Vector de sesgos del modelo lineal.\n",
        "      self.class_mapping = None # Mapeo de símbolos de clase a valores numéricos únicos.\n",
        "      self.reverse_class_mapping = None # Mapeo inverso de valores numéricos de clase a símbolos de clase.\n",
        "\n",
        "  def fit(self, X, y, learning_rate, epochs, verbose=False):\n",
        "      \"\"\"Entrena el modelo a partir de datos de entrenamiento\n",
        "\n",
        "      Args:\n",
        "        X: Serie de pandas con documentos\n",
        "        y: Serie de pandas con clases (\"class_\") de los documentos\n",
        "        learning_rate: parametro learning rate del modelo\n",
        "        verbose: para imprimir mensajes de progreso\n",
        "\n",
        "      Returns:\n",
        "        None\n",
        "\n",
        "      \"\"\"\n",
        "      # Mapea los símbolos de clase a valores numéricos únicos\n",
        "      self.class_mapping = {symbol: i for i, symbol in enumerate(np.unique(y))}\n",
        "      # Crea el mapeo inverso\n",
        "      self.reverse_class_mapping = {i: symbol for symbol, i in self.class_mapping.items()}\n",
        "\n",
        "      # Transforma los documentos en texto\n",
        "      X_text = X.words.apply(lambda x: ' '.join(x)).values\n",
        "      # Inicializa el vectorizador y convierte los documentos a representaciones vectoriales\n",
        "      self.vectorizer = CountVectorizer()\n",
        "      X_vec = self.vectorizer.fit_transform(X_text).toarray()\n",
        "\n",
        "      n_classes = len(self.class_mapping)\n",
        "      n_features = X_vec.shape[1]\n",
        "      # Inicializa los pesos y sesgos del modelo como matrices de ceros\n",
        "      self.W = np.zeros((n_features, n_classes))\n",
        "      self.b = np.zeros(n_classes)\n",
        "\n",
        "      # Entrenamiento del modelo durante el número de épocas especificado\n",
        "      for epoch in range(epochs):\n",
        "        total_loss = 0.0\n",
        "        # Itera sobre cada ejemplo del conjunto de entrenamiento\n",
        "        for i, x_i in enumerate(X_vec):\n",
        "          y_i = np.zeros(n_classes)\n",
        "          y_i[self.class_mapping[y[i]]] = 1 # Codificación one-hot de la clase objetivo del ejemplo actual\n",
        "\n",
        "          z = np.dot(x_i, self.W) + self.b # Calcula las puntuaciones\n",
        "          y_pred = softmax(z) # Calcula las probabilidades predichas\n",
        "\n",
        "          # Calcula la cross entropy loss\n",
        "          loss = -np.sum(y_i * np.log(y_pred))\n",
        "          total_loss += loss\n",
        "\n",
        "          # Calcula los gradientes de los pesos y sesgos\n",
        "          dW = get_derivative_W(x_i, y_i, y_pred, n_classes)\n",
        "          db = get_derivative_b(y_i, y_pred, n_classes)\n",
        "          # Actualiza los pesos y sesgos utilizando el descenso de gradiente\n",
        "          self.W -= learning_rate * dW\n",
        "          self.b -= learning_rate * db\n",
        "\n",
        "        # Calcula la pérdida promedio en esta época\n",
        "        avg_loss = total_loss / len(X_vec)\n",
        "        if verbose is True:\n",
        "          print(f\"Epoch {epoch+1}/{epochs}, Loss: {avg_loss:.4f}\")\n",
        "\n",
        "  def predict(self, X):\n",
        "      \"\"\"Predice las clases más probables de una serie de documentos\n",
        "\n",
        "      Args:\n",
        "        X: Serie de pandas con documentos\n",
        "\n",
        "      Returns:\n",
        "        Serie de pandas con las clase de cada documento de X\n",
        "\n",
        "      \"\"\"\n",
        "      # Transforma los documentos en texto\n",
        "      X_text = X.words.apply(lambda x: ' '.join(x)).values\n",
        "      # Convierte los documentos a su representación vectorial\n",
        "      X_vec = self.vectorizer.transform(X_text).toarray()\n",
        "      # Calcula las puntuaciones para cada clase\n",
        "      z = np.dot(X_vec, self.W) + self.b\n",
        "      # Calcula las probabilidades predichas usando la función softmax\n",
        "      y_pred = softmax(z)\n",
        "      # Devuelve las clases predichas como el símbolo de clase correspondiente\n",
        "      return [self.reverse_class_mapping[np.argmax(pred)] for pred in y_pred]"
      ],
      "metadata": {
        "id": "lO5zE2ArjifE"
      },
      "execution_count": 18,
      "outputs": []
    },
    {
      "cell_type": "markdown",
      "source": [
        "### Entrenamiento (0.2 pts.)\n",
        "Inicialicen y entrenen su clasificador con los datos de entrenamiento."
      ],
      "metadata": {
        "id": "ANT3rY1QkhyZ"
      }
    },
    {
      "cell_type": "code",
      "source": [
        "linear_model = MyLinearModel()\n",
        "linear_model.fit(\n",
        "    X_train, y_train,\n",
        "    learning_rate=0.02,\n",
        "    epochs=15,\n",
        "    verbose=True)"
      ],
      "metadata": {
        "colab": {
          "base_uri": "https://localhost:8080/"
        },
        "id": "YXY8ACuVIRb9",
        "outputId": "62583873-e2d8-41a6-d713-e8e6419b817b"
      },
      "execution_count": 19,
      "outputs": [
        {
          "output_type": "stream",
          "name": "stdout",
          "text": [
            "Epoch 1/15, Loss: 1.0774\n",
            "Epoch 2/15, Loss: 0.9725\n",
            "Epoch 3/15, Loss: 0.8875\n",
            "Epoch 4/15, Loss: 0.8167\n",
            "Epoch 5/15, Loss: 0.7566\n",
            "Epoch 6/15, Loss: 0.7047\n",
            "Epoch 7/15, Loss: 0.6595\n",
            "Epoch 8/15, Loss: 0.6196\n",
            "Epoch 9/15, Loss: 0.5843\n",
            "Epoch 10/15, Loss: 0.5526\n",
            "Epoch 11/15, Loss: 0.5242\n",
            "Epoch 12/15, Loss: 0.4984\n",
            "Epoch 13/15, Loss: 0.4750\n",
            "Epoch 14/15, Loss: 0.4535\n",
            "Epoch 15/15, Loss: 0.4339\n"
          ]
        }
      ]
    },
    {
      "cell_type": "markdown",
      "source": [
        "Pruébenlo utilizando el método `predict()` que implementaron."
      ],
      "metadata": {
        "id": "RDUL-ubzh04B"
      }
    },
    {
      "cell_type": "code",
      "source": [
        "from sklearn.metrics import classification_report"
      ],
      "metadata": {
        "id": "h1k2XlhWFTge"
      },
      "execution_count": 20,
      "outputs": []
    },
    {
      "cell_type": "code",
      "source": [
        "# Predict train-set\n",
        "y_pred = linear_model.predict(X_train)\n",
        "print(f'\\nClases reales: {list(y_train)}')\n",
        "print(f'\\nClases predichas: {y_pred}')"
      ],
      "metadata": {
        "colab": {
          "base_uri": "https://localhost:8080/"
        },
        "id": "5JKjK3pUwL1w",
        "outputId": "e7df8b81-efe3-4370-d585-5c4d451f4659"
      },
      "execution_count": 21,
      "outputs": [
        {
          "output_type": "stream",
          "name": "stdout",
          "text": [
            "\n",
            "Clases reales: ['?', '?', '?', '?', '-', '-', '-', '?', '?', '?', '-', '-', '-', '?', '?', '?', '?', '?', '?', '?', '+', '+', '+', '+', '-', '+', '+', '+', '+', '+', '+', '+', '+', '+']\n",
            "\n",
            "Clases predichas: ['?', '?', '?', '?', '-', '-', '-', '?', '?', '?', '-', '-', '-', '?', '?', '?', '?', '?', '?', '?', '+', '+', '+', '+', '-', '+', '+', '+', '+', '+', '+', '+', '+', '+']\n"
          ]
        }
      ]
    },
    {
      "cell_type": "code",
      "source": [
        "# Metricas en el conjunto de train\n",
        "print(classification_report(y_train, y_pred))"
      ],
      "metadata": {
        "colab": {
          "base_uri": "https://localhost:8080/"
        },
        "id": "8i6Qiu0RwP-w",
        "outputId": "22602d70-fb54-4532-d301-95f42587c48e"
      },
      "execution_count": 22,
      "outputs": [
        {
          "output_type": "stream",
          "name": "stdout",
          "text": [
            "              precision    recall  f1-score   support\n",
            "\n",
            "           +       1.00      1.00      1.00        13\n",
            "           -       1.00      1.00      1.00         7\n",
            "           ?       1.00      1.00      1.00        14\n",
            "\n",
            "    accuracy                           1.00        34\n",
            "   macro avg       1.00      1.00      1.00        34\n",
            "weighted avg       1.00      1.00      1.00        34\n",
            "\n"
          ]
        }
      ]
    },
    {
      "cell_type": "markdown",
      "source": [
        "### Evaluación (0.3 pts.)"
      ],
      "metadata": {
        "id": "gGzafGqr1GBX"
      }
    },
    {
      "cell_type": "markdown",
      "source": [
        "Ahora probarán el funcionamiento de su clasificador con un conjunto de test.  Habiendo entrenado su clasificador, clasifiquen los documentos del conjunto de prueba `test_set` usando el método `predict`."
      ],
      "metadata": {
        "id": "_3Tj_g-Qh7hD"
      }
    },
    {
      "cell_type": "code",
      "source": [
        "y_pred = linear_model.predict(X_test)\n",
        "print(f'\\nClases reales: {list(y_test)}')\n",
        "print(f'\\nClases predichas: {y_pred}')\n",
        "print('\\n')\n",
        "print(classification_report(y_test, y_pred))"
      ],
      "metadata": {
        "colab": {
          "base_uri": "https://localhost:8080/"
        },
        "id": "-03hyMeQ94e0",
        "outputId": "b467eaa8-00bc-4e3e-cf53-130efe4aab7e"
      },
      "execution_count": 23,
      "outputs": [
        {
          "output_type": "stream",
          "name": "stdout",
          "text": [
            "\n",
            "Clases reales: ['?', '?', '?', '?', '+', '+', '+', '+', '+', '-', '-', '-', '+']\n",
            "\n",
            "Clases predichas: ['?', '?', '?', '?', '+', '+', '+', '+', '+', '-', '-', '-', '+']\n",
            "\n",
            "\n",
            "              precision    recall  f1-score   support\n",
            "\n",
            "           +       1.00      1.00      1.00         6\n",
            "           -       1.00      1.00      1.00         3\n",
            "           ?       1.00      1.00      1.00         4\n",
            "\n",
            "    accuracy                           1.00        13\n",
            "   macro avg       1.00      1.00      1.00        13\n",
            "weighted avg       1.00      1.00      1.00        13\n",
            "\n"
          ]
        }
      ]
    },
    {
      "cell_type": "markdown",
      "source": [
        "Comenten sus resultados. Estudien que ocurre para al menos tres combinaciones de learning rates y epochs, por ejemplo `learning_rate, epochs = (0.02, 15), (0.1, 10), (0.005, 30)`.\n",
        "\n",
        "**Comentarios:**\n",
        "\n",
        "Los resultados muestran que el modelo, tras el entrenamiento, logró una excelente generalización de los datos. Esto se evidencia en los valores de accuracy, precision, recall, y f1-score, los cuales alcanzaron un puntaje perfecto de 1.0. Estos resultados indican que el modelo clasificó correctamente todas las frases del conjunto de prueba. Aunque en el proceso de entrenamiento también se obtuvieron los valores máximos para cada métrica, lo cual podría sugerir overfitting, este fenómeno no se manifestó durante la evaluación con el conjunto de prueba.\n",
        "\n",
        "A continuación se procederá a estudiar los resultados obtenidos con distintas combinaciones de learning rate y épocas.\n"
      ],
      "metadata": {
        "id": "l9gVYYq5h_CU"
      }
    },
    {
      "cell_type": "code",
      "source": [
        "def evaluate_learning_rates_epochs(modelos, X_train, y_train, X_test, y_test):\n",
        "    \"\"\"Evalúa diferentes combinaciones de learning rates y épocas para un modelo lineal.\n",
        "\n",
        "    Args:\n",
        "      modelos: ndarray de tuplas\n",
        "          Cada tupla contiene un learning rate y un número de épocas.\n",
        "      X_train: Serie de pandas\n",
        "            Conjunto de datos de entrenamiento.\n",
        "      y_train: Serie de pandas\n",
        "            Etiquetas de clase para el conjunto de entrenamiento.\n",
        "      X_test: Serie de pandas\n",
        "            Conjunto de datos de prueba.\n",
        "      y_test: Serie de pandas\n",
        "            Etiquetas de clase para el conjunto de prueba.\n",
        "\n",
        "    Returns:\n",
        "      None\n",
        "\n",
        "    \"\"\"\n",
        "    for lr, epochs in modelos:\n",
        "\n",
        "        print(f\"Evaluando modelo con learning rate={lr} y epochs={epochs}\")\n",
        "\n",
        "        # Inicializa el nuevo modelo lineal\n",
        "        linear_model = MyLinearModel()\n",
        "        # Ajusta el modelo lineal con el conjunto de entrenamiento\n",
        "        linear_model.fit(X_train, y_train, learning_rate=lr, epochs=epochs, verbose=True)\n",
        "        # Predice las clases para el conjunto de entrenamiento\n",
        "        y_pred_train = linear_model.predict(X_train)\n",
        "\n",
        "        print(\"\\nPredicciones para el conjunto de entrenamiento:\")\n",
        "        print(f'Clases reales: {list(y_train)}')\n",
        "        print(f'Clases predichas: {y_pred_train}')\n",
        "\n",
        "        # Predice las clases para el conjunto de prueba\n",
        "        y_pred_test = linear_model.predict(X_test)\n",
        "\n",
        "        print(\"\\nPredicciones para el conjunto de prueba:\")\n",
        "        print(f'Clases reales: {list(y_test)}')\n",
        "        print(f'Clases predichas: {y_pred_test}')\n",
        "\n",
        "        # Imprime el informe de clasificación para el conjunto de prueba\n",
        "        print('\\nInforme de clasificación para el conjunto de prueba:')\n",
        "        print(classification_report(y_test, y_pred_test))\n",
        "\n",
        "        print('\\n' + '='*50 + '\\n')"
      ],
      "metadata": {
        "id": "zoSM95MzE2nK"
      },
      "execution_count": 24,
      "outputs": []
    },
    {
      "cell_type": "markdown",
      "source": [
        "Para evaluar mejor el modelo a continuación se estudiarán los resultados obtenidos para distintas combinaciones de learning rate y épocas. En particular se evaluará para: (0.01, 10), (0.02, 15), (0.05, 20). Donde el primer valor corresponde al learning rate y el segundo a la épocas."
      ],
      "metadata": {
        "id": "OyPWfb-DIpkO"
      }
    },
    {
      "cell_type": "code",
      "source": [
        "# Valores de learning rate y épocas a evaluar\n",
        "modelos = [(0.01, 10), (0.02, 15), (0.05, 20)]\n",
        "\n",
        "# Evaluación del modelo lineal con los valores especificados\n",
        "evaluate_learning_rates_epochs(modelos, X_train, y_train, X_test, y_test)"
      ],
      "metadata": {
        "colab": {
          "base_uri": "https://localhost:8080/"
        },
        "id": "E007F20FE5Vp",
        "outputId": "5afe66bc-b6ab-40ee-c4d9-2b91c641bd5f"
      },
      "execution_count": 25,
      "outputs": [
        {
          "output_type": "stream",
          "name": "stdout",
          "text": [
            "Evaluando modelo con learning rate=0.01 y epochs=10\n",
            "Epoch 1/10, Loss: 1.0878\n",
            "Epoch 2/10, Loss: 1.0307\n",
            "Epoch 3/10, Loss: 0.9799\n",
            "Epoch 4/10, Loss: 0.9344\n",
            "Epoch 5/10, Loss: 0.8932\n",
            "Epoch 6/10, Loss: 0.8558\n",
            "Epoch 7/10, Loss: 0.8214\n",
            "Epoch 8/10, Loss: 0.7898\n",
            "Epoch 9/10, Loss: 0.7606\n",
            "Epoch 10/10, Loss: 0.7335\n",
            "\n",
            "Predicciones para el conjunto de entrenamiento:\n",
            "Clases reales: ['?', '?', '?', '?', '-', '-', '-', '?', '?', '?', '-', '-', '-', '?', '?', '?', '?', '?', '?', '?', '+', '+', '+', '+', '-', '+', '+', '+', '+', '+', '+', '+', '+', '+']\n",
            "Clases predichas: ['?', '?', '?', '?', '?', '-', '-', '?', '?', '?', '?', '?', '-', '?', '?', '?', '?', '?', '?', '?', '+', '+', '+', '+', '+', '+', '+', '+', '+', '+', '+', '+', '+', '+']\n",
            "\n",
            "Predicciones para el conjunto de prueba:\n",
            "Clases reales: ['?', '?', '?', '?', '+', '+', '+', '+', '+', '-', '-', '-', '+']\n",
            "Clases predichas: ['?', '?', '?', '?', '+', '+', '+', '+', '+', '?', '-', '-', '+']\n",
            "\n",
            "Informe de clasificación para el conjunto de prueba:\n",
            "              precision    recall  f1-score   support\n",
            "\n",
            "           +       1.00      1.00      1.00         6\n",
            "           -       1.00      0.67      0.80         3\n",
            "           ?       0.80      1.00      0.89         4\n",
            "\n",
            "    accuracy                           0.92        13\n",
            "   macro avg       0.93      0.89      0.90        13\n",
            "weighted avg       0.94      0.92      0.92        13\n",
            "\n",
            "\n",
            "==================================================\n",
            "\n",
            "Evaluando modelo con learning rate=0.02 y epochs=15\n",
            "Epoch 1/15, Loss: 1.0774\n",
            "Epoch 2/15, Loss: 0.9725\n",
            "Epoch 3/15, Loss: 0.8875\n",
            "Epoch 4/15, Loss: 0.8167\n",
            "Epoch 5/15, Loss: 0.7566\n",
            "Epoch 6/15, Loss: 0.7047\n",
            "Epoch 7/15, Loss: 0.6595\n",
            "Epoch 8/15, Loss: 0.6196\n",
            "Epoch 9/15, Loss: 0.5843\n",
            "Epoch 10/15, Loss: 0.5526\n",
            "Epoch 11/15, Loss: 0.5242\n",
            "Epoch 12/15, Loss: 0.4984\n",
            "Epoch 13/15, Loss: 0.4750\n",
            "Epoch 14/15, Loss: 0.4535\n",
            "Epoch 15/15, Loss: 0.4339\n",
            "\n",
            "Predicciones para el conjunto de entrenamiento:\n",
            "Clases reales: ['?', '?', '?', '?', '-', '-', '-', '?', '?', '?', '-', '-', '-', '?', '?', '?', '?', '?', '?', '?', '+', '+', '+', '+', '-', '+', '+', '+', '+', '+', '+', '+', '+', '+']\n",
            "Clases predichas: ['?', '?', '?', '?', '-', '-', '-', '?', '?', '?', '-', '-', '-', '?', '?', '?', '?', '?', '?', '?', '+', '+', '+', '+', '-', '+', '+', '+', '+', '+', '+', '+', '+', '+']\n",
            "\n",
            "Predicciones para el conjunto de prueba:\n",
            "Clases reales: ['?', '?', '?', '?', '+', '+', '+', '+', '+', '-', '-', '-', '+']\n",
            "Clases predichas: ['?', '?', '?', '?', '+', '+', '+', '+', '+', '-', '-', '-', '+']\n",
            "\n",
            "Informe de clasificación para el conjunto de prueba:\n",
            "              precision    recall  f1-score   support\n",
            "\n",
            "           +       1.00      1.00      1.00         6\n",
            "           -       1.00      1.00      1.00         3\n",
            "           ?       1.00      1.00      1.00         4\n",
            "\n",
            "    accuracy                           1.00        13\n",
            "   macro avg       1.00      1.00      1.00        13\n",
            "weighted avg       1.00      1.00      1.00        13\n",
            "\n",
            "\n",
            "==================================================\n",
            "\n",
            "Evaluando modelo con learning rate=0.05 y epochs=20\n",
            "Epoch 1/20, Loss: 1.0465\n",
            "Epoch 2/20, Loss: 0.8352\n",
            "Epoch 3/20, Loss: 0.6953\n",
            "Epoch 4/20, Loss: 0.5949\n",
            "Epoch 5/20, Loss: 0.5191\n",
            "Epoch 6/20, Loss: 0.4598\n",
            "Epoch 7/20, Loss: 0.4120\n",
            "Epoch 8/20, Loss: 0.3726\n",
            "Epoch 9/20, Loss: 0.3397\n",
            "Epoch 10/20, Loss: 0.3117\n",
            "Epoch 11/20, Loss: 0.2876\n",
            "Epoch 12/20, Loss: 0.2667\n",
            "Epoch 13/20, Loss: 0.2485\n",
            "Epoch 14/20, Loss: 0.2324\n",
            "Epoch 15/20, Loss: 0.2181\n",
            "Epoch 16/20, Loss: 0.2053\n",
            "Epoch 17/20, Loss: 0.1939\n",
            "Epoch 18/20, Loss: 0.1836\n",
            "Epoch 19/20, Loss: 0.1743\n",
            "Epoch 20/20, Loss: 0.1658\n",
            "\n",
            "Predicciones para el conjunto de entrenamiento:\n",
            "Clases reales: ['?', '?', '?', '?', '-', '-', '-', '?', '?', '?', '-', '-', '-', '?', '?', '?', '?', '?', '?', '?', '+', '+', '+', '+', '-', '+', '+', '+', '+', '+', '+', '+', '+', '+']\n",
            "Clases predichas: ['?', '?', '?', '?', '-', '-', '-', '?', '?', '?', '-', '-', '-', '?', '?', '?', '?', '?', '?', '?', '+', '+', '+', '+', '-', '+', '+', '+', '+', '+', '+', '+', '+', '+']\n",
            "\n",
            "Predicciones para el conjunto de prueba:\n",
            "Clases reales: ['?', '?', '?', '?', '+', '+', '+', '+', '+', '-', '-', '-', '+']\n",
            "Clases predichas: ['?', '?', '?', '?', '+', '+', '+', '-', '+', '-', '-', '-', '+']\n",
            "\n",
            "Informe de clasificación para el conjunto de prueba:\n",
            "              precision    recall  f1-score   support\n",
            "\n",
            "           +       1.00      0.83      0.91         6\n",
            "           -       0.75      1.00      0.86         3\n",
            "           ?       1.00      1.00      1.00         4\n",
            "\n",
            "    accuracy                           0.92        13\n",
            "   macro avg       0.92      0.94      0.92        13\n",
            "weighted avg       0.94      0.92      0.93        13\n",
            "\n",
            "\n",
            "==================================================\n",
            "\n"
          ]
        }
      ]
    },
    {
      "cell_type": "markdown",
      "source": [
        "**Comentarios:**\n",
        "\n",
        "Los resultados anteriores se analizaron con el objetivo de entender cómo influye el aumento del learning rate y el número de épocas de entrenamiento en el desempeño del modelo. Se observó que incluso con valores bajos, como un learning rate de 0.01 y 10 épocas, se obtuvieron resultados satisfactorios, con altos niveles de precision y recall en la mayoría de las clases. Específicamente, para las frases positivas, todas fueron clasificadas correctamente, mientras que para las negativas, a pesar de una precision del 100% (sin falsos positivos), el recall fue del 67%, indicando una proporción desfavorable entre verdaderos positivos y falsos negativos, lo que también se reflejó en el f1-score. En cuanto a las frases de consulta, se logró un 100% de recall pero solo un 80% de precision, lo que sugiere una proporción problemática entre verdaderos positivos y falsos positivos. Sin embargo, el accuracy general fue del 92%, respaldado por un f1-score promedio ponderado del 92%, indicando un equilibrio satisfactorio entre precision y recall en todas las clases evaluadas.\n",
        "\n",
        "Utilizando un learning rate de 0.02 y 15 épocas de entrenamiento se obtuvieron los mejores resultados. Se logró un precision y recall perfectos del 100% para todas las clases: positiva, negativa y de tipo consulta. Esto indica que todas las instancias fueron clasificadas correctamente, sin ningún tipo de error en ninguna de las clases. Este nivel de desempeño se refleja en un accuracy del 100%, respaldado por un f1-score perfecto del 100% para todas las clases. Estos resultados sugieren que el modelo pudo capturar de manera precisa y completa las características distintivas de cada clase, demostrando una capacidad de generalización muy buena en la clasificación de nuevas instancias.\n",
        "\n",
        "\n",
        "Los resultados obtenidos para el conjunto de prueba utilizando un learning rate de 0.05 y 20 épocas de entrenamiento muestran un buen rendimiento, aunque con algunas diferencias respecto a los experimentos anteriores. Se observa un precision del 100% para las clases positiva y de tipo consulta, lo que indica que todas las instancias clasificadas como tales fueron correctas. Sin embargo, para la clase negativa, aunque se alcanzó un recall perfecto del 100%, el precision fue del 75%, lo que sugiere una proporción desigual entre los verdaderos positivos y los falsos positivos. Esto se traduce en un f1-score más bajo para esta clase en comparación con las otras dos. A pesar de estas variaciones, el modelo mantuvo un accuracy general del 92%, respaldado por un f1-score promedio ponderado del 93%, lo que sugiere un equilibrio satisfactorio entre precision y recall en todas las clases evaluadas, aunque con un ligero sesgo hacia las frases positivas y de tipo consulta.\n",
        "\n",
        "En conclusión, los tres experimentos mostraron resultados significativos en la clasificación de las frases. El primero tuvo un buen rendimiento general, aunque con ciertas limitaciones en frases negativas. El segundo experimento alcanzó una clasificación perfecta en todas las clases. En el tercero, se mantuvo un buen rendimiento, aunque con una ligera disminución en presicion para las frases negativas. Estos resultados resaltan la importancia de ajustar los hiperparámetros para lograr un equilibrio óptimo en la clasificación, ya que no necesariamente por aumentar las épocas o el valor del learning rate se obtendrán mejores resultados."
      ],
      "metadata": {
        "id": "NQiYH-RlI_of"
      }
    },
    {
      "cell_type": "markdown",
      "source": [
        "## P3. Implementar y evaluar Neural Networks (2 puntos)"
      ],
      "metadata": {
        "id": "a71d7NNCfTna"
      }
    },
    {
      "cell_type": "markdown",
      "source": [
        "### Especificaciones del clasificador\n",
        "\n",
        "<img src=\"https://docs.google.com/drawings/d/e/2PACX-1vSXJm5I61m6w0RHTwBL-iMyeFLr2wXBrKNYxdU8Bu1ymuCFPD9dAPsCzPfvIqwSr8uCiYvWMdnGy1if/pub?w=818&h=503\" >\n",
        "\n",
        "En esta última pregunta, ustedes deberánimplementar y evaluar redes neuronales (como la de la figura de arriba). Para esto debera implementar tres secciones principales:\n",
        "\n",
        "1. Sección iterador,\n",
        "2. Sección modelo, y\n",
        "3. Sección loop de entrenamiento.\n",
        "\n",
        "> **Recomendación:** Para completar esta pregunta puede guiarse del Auxiliar 2 (clase del día 18/04)."
      ],
      "metadata": {
        "id": "Y6eCZbdHkVvt"
      }
    },
    {
      "cell_type": "markdown",
      "source": [
        "*Seccion iterador*\n",
        "\n",
        "Para ayudarnos a con el entrenamiento y testing, vamos a utilizar las clases `Dataset` y `DataLoader` de `pytorch` ([ver documentación](https://pytorch.org/tutorials/beginner/basics/data_tutorial.html)). En esta sección deberá implementar un contenedor para su conjunto de datos usando la clase `Dataset` de `pytorch`. Para esto deberá crear su propia clase `MyDataset` para gestionar los datos. Ésto le permitirá iterar sobre el conjunto mediante el iterador `DataLoader` de `pytorch` y entrenar sin hacer ningún pre-procesamiento extra a los datos.\n",
        "\n",
        "**Observación:** Si considera por funcionalidad cambiar los parámetros de la clase `MyDataset` puede hacerlo. Asimismo, puede definir otros parámetros para los métodos de su clase.\n",
        "\n",
        "\n",
        "```python\n",
        "class MyDataset(Dataset):\n",
        "    def __init__(self, data, bow_cols):\n",
        "      ...\n",
        "\n",
        "    def __len__(self):\n",
        "      ...\n",
        "\n",
        "    def __getitem__(self, index):\n",
        "      ...\n",
        "      return x_bow, label\n",
        "```"
      ],
      "metadata": {
        "id": "HEtleHcI94Ae"
      }
    },
    {
      "cell_type": "markdown",
      "source": [
        "*Sección modelo*\n",
        "\n",
        "En esta sección deberán implementar la clase `MyNeuralNetwork` del modulo de `pytorch` llamado `nn.Module` con el proposito de diseñar una red neuronal como la figura de arriba. Para mas detalle sobre las redes ver Clase NLP-Neural.pdf Slide número 8.\n",
        "\n",
        "**Observación:** La figura de arriba es solo ilustrativa, ustedes pueden variar la dimension input y output de la capa oculta. Sin embargo deben mantener fija la dimension de la entrada y salida de la red. La entrada depende del tamaño del vocabulario. Mientras que la salida depende de la cantidad de clases de su problema de clasificación (en nuestro caso igual a 3).\n",
        "\n",
        "Es importante que la clase `MyNeuralNetwork` tenga implementadas apropiadamente el `__init__` con las dimensiones y el `forward` con entrada tipo BoW retornando el último estado de la red (output layer). En el `forward` recomendamos utilizar funciones de activación tipo `nn.ReLU`. Sin embargo, no es completamente obligatorio por lo que pueden usar otras.\n",
        "\n",
        "```python\n",
        "class MyNeuralNetwork(nn.Module):\n",
        "    def __init__(self,\n",
        "                 dim_vocab,\n",
        "                 num_classes,\n",
        "                 dim_hidden_input,\n",
        "                 dim_hidden_output):\n",
        "\n",
        "        super(MyNeuralNetwork, self).__init__()\n",
        "        torch.manual_seed(42)\n",
        "      ...\n",
        "\n",
        "    def forward(self, xs_bow):\n",
        "      ...\n",
        "      return last_state\n",
        "  ```"
      ],
      "metadata": {
        "id": "758StzD796q6"
      }
    },
    {
      "cell_type": "markdown",
      "source": [
        "*Sección loop de entrenamiento*\n",
        "\n",
        "En esta sección deberán implementar el loop de entrenamiento de su red neuronal. Para esto, primero deben definir un `criterion`, en nuestro caso `nn.CrossEntropyLoss()` con la libreria de `pytorch`. Sucesivamente debera definir un optimizador, en nuestro caso `optim.SGD` desde el modulo `optim` de `pytorch`.\n",
        "\n",
        "El loop de entrenamiento debe seguir la siguiente estructura:\n",
        "```python\n",
        "for epoch in range(epochs):\n",
        "  for (xs_bow, labels) in train_loader:\n",
        "    ...\n",
        "```\n",
        "\n",
        "donde `train_loader` proviene del iterador generado en la \"sección iterador\".\n",
        "\n",
        "Dentro de \"doble for\" debera conjugar apropiadamente `opti.zero_grad()`, `loss = criterion(...)`, `loss.backward()` y `opti.step()` con tal de entrenar correctamente su red neuronal. Incluso entrenar, ya que a veces si no se hace de forma correcta entonces tristemente ¡su red no entrena!\n",
        "\n",
        "> **Recomendación:** Puede guiarse del Auxiliar 2 para implementar el loop de entrenamiento."
      ],
      "metadata": {
        "id": "1K2ocUUF99X5"
      }
    },
    {
      "cell_type": "markdown",
      "source": [
        "### Preparación de la GPU y los datos de train/test"
      ],
      "metadata": {
        "id": "Yi1fdYw3kd-j"
      }
    },
    {
      "cell_type": "markdown",
      "source": [
        "Importar la libreria `pytorch` y `numpy`"
      ],
      "metadata": {
        "id": "m-iWhEKOtgp0"
      }
    },
    {
      "cell_type": "code",
      "source": [
        "import torch\n",
        "import numpy as np"
      ],
      "metadata": {
        "id": "zWBi-34WAKnC"
      },
      "execution_count": 7,
      "outputs": []
    },
    {
      "cell_type": "markdown",
      "source": [
        "Verificar que esta usando GPU. Sino, dirígase a **Runtime > Change runtime type** y seleccione la opción **T4 GPU**."
      ],
      "metadata": {
        "id": "Q8mprHO5tbJv"
      }
    },
    {
      "cell_type": "code",
      "source": [
        "torch.cuda.is_available()"
      ],
      "metadata": {
        "colab": {
          "base_uri": "https://localhost:8080/"
        },
        "id": "nZU9DqaeAX-o",
        "outputId": "7ba2d3fa-028b-4b0c-f1f4-60f7ee4a2553"
      },
      "execution_count": 8,
      "outputs": [
        {
          "output_type": "execute_result",
          "data": {
            "text/plain": [
              "True"
            ]
          },
          "metadata": {},
          "execution_count": 8
        }
      ]
    },
    {
      "cell_type": "markdown",
      "source": [
        "Preparación de los conjuntos train y test"
      ],
      "metadata": {
        "id": "F3BvxVN-uefp"
      }
    },
    {
      "cell_type": "code",
      "source": [
        "from sklearn.feature_extraction.text import CountVectorizer\n",
        "bow = CountVectorizer(tokenizer=lambda x: list(x), preprocessor=lambda x: x, token_pattern=None)\n",
        "\n",
        "bow_train = pd.DataFrame(\n",
        "    bow.fit_transform(train_set[\"words\"]).toarray(),\n",
        "    columns=bow.get_feature_names_out()\n",
        ")\n",
        "bow_test = pd.DataFrame(\n",
        "    bow.transform(test_set[\"words\"]).toarray(),\n",
        "    columns=bow.get_feature_names_out()\n",
        ")\n",
        "\n",
        "bow_label_train = bow_train.astype(float).copy()\n",
        "bow_label_test = bow_test.astype(float).copy()\n",
        "\n",
        "map_from_class_to_int = {\n",
        "    \"?\": 0,\n",
        "    \"+\": 1,\n",
        "    \"-\": 2\n",
        "}\n",
        "\n",
        "bow_label_train[\"class_\"] = train_set[\"class_\"]\n",
        "bow_label_train[\"int_class_\"] = train_set[\"class_\"].apply(lambda x: map_from_class_to_int[x])\n",
        "\n",
        "bow_label_test[\"class_\"] = test_set[\"class_\"]\n",
        "bow_label_test[\"int_class_\"] = test_set[\"class_\"].apply(lambda x: map_from_class_to_int[x])"
      ],
      "metadata": {
        "id": "MfXfl3SZBSmF"
      },
      "execution_count": 9,
      "outputs": []
    },
    {
      "cell_type": "markdown",
      "source": [
        "### Implementación (1.7 pts.)"
      ],
      "metadata": {
        "id": "jWdzeqbb1reG"
      }
    },
    {
      "cell_type": "markdown",
      "source": [
        "#### Iterador de conjunto de datos\n",
        "Implemente su clase `MyDataset` para acceder al dataset."
      ],
      "metadata": {
        "id": "1rvXmHBqlUfR"
      }
    },
    {
      "cell_type": "code",
      "source": [
        "from torch.utils.data import Dataset\n",
        "\n",
        "class MyDataset(Dataset):\n",
        "\n",
        "    def __init__(self, data, bow_cols):\n",
        "        self.data = data\n",
        "        self.bow_cols = bow_cols\n",
        "\n",
        "    def __len__(self):\n",
        "        return len(self.data)\n",
        "\n",
        "    def __getitem__(self, index):\n",
        "        label = int(self.data.loc[index, \"int_class_\"])\n",
        "        x_bow = torch.tensor(self.data.loc[index, self.bow_cols]. # Obtenemos el vector x_{index}\n",
        "                             values.astype(float)).to(torch.float32) # y lo convertimos a tensor de float32\n",
        "        return x_bow, label"
      ],
      "metadata": {
        "id": "7s8tFWCuBCin"
      },
      "execution_count": 10,
      "outputs": []
    },
    {
      "cell_type": "markdown",
      "source": [
        "Inicializar cada dataloader con sus cotenedor datos para train y test, y número de batches."
      ],
      "metadata": {
        "id": "JK7lLpkXup49"
      }
    },
    {
      "cell_type": "code",
      "source": [
        "from torch.utils.data import DataLoader\n",
        "\n",
        "train_loader = DataLoader(\n",
        "    MyDataset(data = bow_label_train, bow_cols = bow_train.columns),\n",
        "    batch_size = 5, num_workers = 1, shuffle=False)\n",
        "\n",
        "test_loader = DataLoader(\n",
        "    MyDataset(data = bow_label_test, bow_cols = bow_test.columns),\n",
        "    batch_size = 5, num_workers = 1, shuffle=False)"
      ],
      "metadata": {
        "id": "UeJi-t9dCi4p"
      },
      "execution_count": 11,
      "outputs": []
    },
    {
      "cell_type": "markdown",
      "source": [
        "Ejemplo de prueba para un batch de entrenamiento"
      ],
      "metadata": {
        "id": "6DdOpdUnicoc"
      }
    },
    {
      "cell_type": "code",
      "source": [
        "batch = next(iter(train_loader))\n",
        "print( batch )\n",
        "print( batch[0].shape, batch[1].shape )"
      ],
      "metadata": {
        "colab": {
          "base_uri": "https://localhost:8080/"
        },
        "id": "3wGaYRzIaxr4",
        "outputId": "e060c23d-3b28-4f52-ce83-71b581eae15a"
      },
      "execution_count": 12,
      "outputs": [
        {
          "output_type": "stream",
          "name": "stdout",
          "text": [
            "[tensor([[0., 0., 0., 1., 0., 0., 0., 0., 0., 0., 0., 0., 0., 0., 0., 0., 0., 0.,\n",
            "         0., 0., 0., 0., 0., 1., 0., 0., 0., 0., 0., 0., 0., 0., 0., 0., 0., 0.,\n",
            "         0., 0., 0., 0., 1., 0., 0., 0., 0., 0., 0., 0., 0., 0., 0., 0., 0., 0.,\n",
            "         0., 0., 0., 0., 0., 0., 0., 0., 0., 0., 0., 1., 0., 0., 0., 0., 0., 1.,\n",
            "         0., 0., 0., 0., 0., 0., 0., 0., 0., 0., 1., 0., 0., 0., 0., 0., 0., 0.,\n",
            "         0., 0., 0., 0., 0., 0., 0., 0., 1., 0.],\n",
            "        [0., 0., 0., 1., 0., 0., 0., 0., 0., 0., 0., 0., 0., 0., 0., 0., 0., 0.,\n",
            "         0., 0., 0., 0., 0., 0., 1., 0., 0., 0., 0., 1., 0., 0., 0., 0., 0., 0.,\n",
            "         0., 0., 0., 0., 1., 0., 0., 0., 0., 0., 0., 0., 0., 0., 0., 0., 0., 0.,\n",
            "         0., 0., 0., 0., 1., 0., 0., 0., 0., 0., 0., 0., 0., 0., 0., 0., 0., 0.,\n",
            "         0., 0., 1., 0., 0., 0., 0., 0., 0., 0., 0., 0., 0., 0., 0., 0., 0., 0.,\n",
            "         0., 0., 0., 0., 0., 0., 0., 0., 0., 0.],\n",
            "        [0., 0., 0., 1., 0., 1., 0., 1., 0., 0., 0., 0., 0., 0., 0., 0., 0., 0.,\n",
            "         0., 0., 0., 0., 1., 0., 0., 0., 0., 0., 0., 0., 0., 0., 0., 0., 0., 0.,\n",
            "         0., 0., 0., 0., 1., 0., 0., 0., 0., 0., 0., 0., 0., 0., 0., 0., 0., 0.,\n",
            "         0., 0., 0., 0., 0., 0., 0., 0., 0., 0., 0., 0., 0., 0., 0., 0., 0., 0.,\n",
            "         0., 0., 0., 0., 0., 0., 0., 0., 1., 0., 0., 0., 0., 0., 0., 0., 0., 1.,\n",
            "         0., 0., 0., 0., 0., 0., 0., 0., 0., 0.],\n",
            "        [0., 0., 0., 1., 0., 0., 0., 0., 0., 0., 0., 0., 0., 0., 0., 0., 0., 0.,\n",
            "         0., 0., 0., 1., 0., 0., 0., 0., 0., 0., 0., 0., 0., 0., 0., 0., 0., 0.,\n",
            "         0., 0., 0., 0., 0., 0., 0., 0., 0., 0., 0., 1., 0., 0., 0., 0., 0., 0.,\n",
            "         0., 0., 0., 0., 0., 0., 0., 0., 0., 0., 0., 0., 0., 0., 0., 0., 0., 0.,\n",
            "         0., 0., 0., 0., 0., 0., 0., 0., 0., 0., 0., 0., 1., 0., 0., 0., 0., 0.,\n",
            "         0., 0., 0., 0., 1., 0., 0., 0., 0., 0.],\n",
            "        [0., 0., 0., 0., 0., 0., 0., 0., 0., 0., 0., 0., 0., 0., 0., 0., 0., 0.,\n",
            "         0., 0., 0., 0., 0., 1., 0., 0., 0., 0., 0., 0., 0., 0., 0., 0., 0., 0.,\n",
            "         0., 0., 0., 0., 1., 0., 0., 0., 0., 1., 0., 0., 0., 0., 0., 0., 0., 0.,\n",
            "         0., 0., 0., 0., 0., 0., 1., 0., 1., 0., 0., 0., 0., 0., 0., 0., 0., 0.,\n",
            "         0., 0., 0., 0., 0., 0., 0., 0., 0., 0., 1., 0., 0., 0., 0., 0., 0., 0.,\n",
            "         0., 0., 0., 0., 0., 0., 0., 0., 0., 0.]]), tensor([0, 0, 0, 0, 2])]\n",
            "torch.Size([5, 100]) torch.Size([5])\n"
          ]
        }
      ]
    },
    {
      "cell_type": "markdown",
      "source": [
        "#### Modelo"
      ],
      "metadata": {
        "id": "i2qotKTXmDue"
      }
    },
    {
      "cell_type": "markdown",
      "source": [
        "Implemente a continuación su red neuronal"
      ],
      "metadata": {
        "id": "BwBRaPKLhdoU"
      }
    },
    {
      "cell_type": "code",
      "source": [
        "import torch.nn as nn\n",
        "class MyNeuralNetwork(nn.Module):\n",
        "\n",
        "    def __init__(self,\n",
        "                 dim_vocab,\n",
        "                 num_classes,\n",
        "                 dim_hidden_input,\n",
        "                 dim_hidden_output):\n",
        "      \"\"\"Inicializa la red neuronal\n",
        "\n",
        "      Returns:\n",
        "        None\n",
        "      \"\"\"\n",
        "\n",
        "      super(MyNeuralNetwork, self).__init__()\n",
        "      torch.manual_seed(42)\n",
        "\n",
        "      # Primera capa\n",
        "      self.first_layer = nn.Linear(dim_vocab, dim_hidden_input)\n",
        "\n",
        "      # Capa oculta\n",
        "      self.hidden_layer = nn.Linear(dim_hidden_input, dim_hidden_output)\n",
        "\n",
        "      # Última capa\n",
        "      self.last_layer = nn.Linear(dim_hidden_output, num_classes)\n",
        "\n",
        "      # Función de activación\n",
        "      self.relu = nn.ReLU(inplace=False)\n",
        "\n",
        "    def forward(self, xs_bow):\n",
        "      \"\"\"Calcula la ultima capa mediante las capas intermedias de la red\n",
        "\n",
        "      Args:\n",
        "        xs_bow: Tensor\n",
        "\n",
        "      Returns:\n",
        "        Tensor con los valores de prediccion\n",
        "      \"\"\"\n",
        "\n",
        "      ## Implementar aquí el forward-pass\n",
        "\n",
        "      first_state = self.first_layer(xs_bow)\n",
        "      first_state = self.relu(first_state)\n",
        "\n",
        "      hidden_state = self.hidden_layer(first_state)\n",
        "      hidden_state = self.relu(hidden_state)\n",
        "\n",
        "      last_state = self.last_layer(hidden_state)\n",
        "\n",
        "      return last_state"
      ],
      "metadata": {
        "id": "B_g0kYDXDFsW"
      },
      "execution_count": 13,
      "outputs": []
    },
    {
      "cell_type": "markdown",
      "source": [
        "Ejemplo de prueba para su modelo NN para un batch de entrenamiento"
      ],
      "metadata": {
        "id": "jlUntk5IhX26"
      }
    },
    {
      "cell_type": "code",
      "source": [
        "test = MyNeuralNetwork(\n",
        "    dim_vocab=len(train_loader.dataset.bow_cols),\n",
        "    num_classes=3,\n",
        "    dim_hidden_input=10,\n",
        "    dim_hidden_output=5).cuda()\n",
        "\n",
        "batch = next(iter(train_loader))\n",
        "\n",
        "test(batch[0].cuda())"
      ],
      "metadata": {
        "colab": {
          "base_uri": "https://localhost:8080/"
        },
        "id": "82_O2fAXEclt",
        "outputId": "cd111187-3d9f-4e00-b305-9098973f1804"
      },
      "execution_count": 14,
      "outputs": [
        {
          "output_type": "execute_result",
          "data": {
            "text/plain": [
              "tensor([[-0.1008, -0.0804, -0.3952],\n",
              "        [-0.1088, -0.0537, -0.4089],\n",
              "        [-0.1051, -0.0697, -0.4043],\n",
              "        [-0.0978, -0.0585, -0.4090],\n",
              "        [-0.0992, -0.0623, -0.4076]], device='cuda:0',\n",
              "       grad_fn=<AddmmBackward0>)"
            ]
          },
          "metadata": {},
          "execution_count": 14
        }
      ]
    },
    {
      "cell_type": "markdown",
      "source": [
        "#### Entrenamiento"
      ],
      "metadata": {
        "id": "urgN_j-HlKqm"
      }
    },
    {
      "cell_type": "markdown",
      "source": [
        "Consideren las siguientes funciones que les serán utiles. Si lo desea puede modificarlas a su conveniencia."
      ],
      "metadata": {
        "id": "8NHDkwwlla-H"
      }
    },
    {
      "cell_type": "code",
      "source": [
        "def get_loss(net, iterator, criterion):\n",
        "    net.eval()\n",
        "    total_loss = 0\n",
        "    num_evals = 0\n",
        "    with torch.no_grad():\n",
        "      for xs_bow, labels in iterator:\n",
        "          xs_bow, labels = xs_bow.cuda(), labels.cuda()\n",
        "\n",
        "          logits = net(xs_bow)\n",
        "\n",
        "          loss = criterion(logits, labels)\n",
        "\n",
        "          total_loss += loss.item() * xs_bow.shape[0]\n",
        "          num_evals += xs_bow.shape[0]\n",
        "\n",
        "    return total_loss / num_evals\n",
        "\n",
        "def get_preds_tests_nn(net, iterator):\n",
        "  net.eval()\n",
        "  preds, tests = [], []\n",
        "  with torch.no_grad():\n",
        "    for xs_bow, labels in iterator:\n",
        "      xs_bow, labels = xs_bow.cuda(), labels.cuda()\n",
        "\n",
        "      logits = net(xs_bow)\n",
        "\n",
        "      soft_probs = nn.Sigmoid()(logits)\n",
        "\n",
        "      preds += np.argmax(soft_probs.tolist(), axis=1).tolist()\n",
        "      tests += labels.tolist()\n",
        "\n",
        "    return np.array(preds), np.array(tests)"
      ],
      "metadata": {
        "id": "Nj5Ws_0hlYT0"
      },
      "execution_count": 15,
      "outputs": []
    },
    {
      "cell_type": "markdown",
      "source": [
        "A continuación, inicialicen y entrenen su clasificador con los datos de entrenamiento."
      ],
      "metadata": {
        "id": "V2ASceXqlblb"
      }
    },
    {
      "cell_type": "code",
      "source": [
        "import torch.optim as optim\n",
        "\n",
        "params = {\n",
        "    \"dim_vocab\": len(train_loader.dataset.bow_cols),\n",
        "    \"num_classes\": 3,\n",
        "    \"dim_hidden_input\": 5,\n",
        "    \"dim_hidden_output\": 5,\n",
        "    \"learning_rate\": 0.4,\n",
        "    \"epochs\": 15\n",
        "}\n",
        "\n",
        "\n",
        "device = \"cuda\" if torch.cuda.is_available() else \"cpu\"\n",
        "\n",
        "# Inicialice su red neuronal\n",
        "net = MyNeuralNetwork(\n",
        "    dim_vocab=params[\"dim_vocab\"],\n",
        "    num_classes=params[\"num_classes\"],\n",
        "    dim_hidden_input=params[\"dim_hidden_input\"],\n",
        "    dim_hidden_output=params[\"dim_hidden_output\"]).cuda()\n",
        "\n",
        "# Definir la Loss = Cross-entropy\n",
        "criterion = nn.CrossEntropyLoss().cuda()\n",
        "\n",
        "# Definir el optimizador = SGD: Stochastic-gradient Descent\n",
        "opti = optim.SGD(net.parameters(), lr = params[\"learning_rate\"])\n",
        "\n",
        "# Definir el numero de epocas de entrenamiento\n",
        "epochs = params[\"epochs\"]\n",
        "\n",
        "## Implementar desde aqui el ciclo de entrenamiento\n",
        "## para cada epoca en el conjunto de train\n",
        "for epoch in range(epochs):\n",
        "  for (xs_bow, labels) in train_loader:\n",
        "\n",
        "    opti.zero_grad()\n",
        "\n",
        "    xs_bow, preds = xs_bow.to(device), labels.to(device)\n",
        "\n",
        "    logits = net(xs_bow)\n",
        "\n",
        "    loss = criterion(logits, preds)\n",
        "\n",
        "    loss.backward()\n",
        "\n",
        "    opti.step()\n",
        "\n",
        "    #pass # Quitar esto cuando implementen el loop de entrenamiento\n",
        "\n",
        "  total_loss = get_loss(net, train_loader, criterion)\n",
        "  y_preds, y_tests = get_preds_tests_nn(net, train_loader)\n",
        "  acc = (y_preds == y_tests).sum() / y_preds.shape[0]\n",
        "\n",
        "  print(\"Epoca {} completada! Loss: {} Accuracy: {}\".format(epoch, total_loss, acc))"
      ],
      "metadata": {
        "colab": {
          "base_uri": "https://localhost:8080/"
        },
        "id": "gh2sqTWXGCmK",
        "outputId": "767245f4-8678-4ec1-a4e0-0f8e7b4f4a4b"
      },
      "execution_count": 16,
      "outputs": [
        {
          "output_type": "stream",
          "name": "stderr",
          "text": [
            "/usr/lib/python3.10/multiprocessing/popen_fork.py:66: RuntimeWarning: os.fork() was called. os.fork() is incompatible with multithreaded code, and JAX is multithreaded, so this will likely lead to a deadlock.\n",
            "  self.pid = os.fork()\n"
          ]
        },
        {
          "output_type": "stream",
          "name": "stdout",
          "text": [
            "Epoca 0 completada! Loss: 1.1054631629410911 Accuracy: 0.38235294117647056\n",
            "Epoca 1 completada! Loss: 1.0930101818898146 Accuracy: 0.38235294117647056\n",
            "Epoca 2 completada! Loss: 1.0800085768980139 Accuracy: 0.38235294117647056\n",
            "Epoca 3 completada! Loss: 1.056380967006964 Accuracy: 0.38235294117647056\n",
            "Epoca 4 completada! Loss: 0.9195144391235184 Accuracy: 0.47058823529411764\n",
            "Epoca 5 completada! Loss: 0.7975653784678263 Accuracy: 0.6176470588235294\n",
            "Epoca 6 completada! Loss: 0.6394507672418567 Accuracy: 0.7058823529411765\n",
            "Epoca 7 completada! Loss: 0.4972488123594838 Accuracy: 0.7647058823529411\n",
            "Epoca 8 completada! Loss: 0.5996851416523842 Accuracy: 0.6176470588235294\n",
            "Epoca 9 completada! Loss: 0.33634046876036067 Accuracy: 0.8235294117647058\n",
            "Epoca 10 completada! Loss: 0.2385189199601026 Accuracy: 0.8823529411764706\n",
            "Epoca 11 completada! Loss: 0.0932115251198411 Accuracy: 1.0\n",
            "Epoca 12 completada! Loss: 0.05484988332233008 Accuracy: 1.0\n",
            "Epoca 13 completada! Loss: 0.03735693112727912 Accuracy: 1.0\n",
            "Epoca 14 completada! Loss: 0.02796964330927414 Accuracy: 1.0\n"
          ]
        }
      ]
    },
    {
      "cell_type": "markdown",
      "source": [
        "Pruebe su modelo entrenado con la función `get_preds_tests_nn`."
      ],
      "metadata": {
        "id": "sAbQjdlrno1o"
      }
    },
    {
      "cell_type": "code",
      "source": [
        "# Ya no necesitara calcular gradientes para hacer inferencia\n",
        "for param in net.parameters():\n",
        "    param.requires_grad = False\n",
        "\n",
        "# Calcule el la predicción de su modelo y el ground-truth\n",
        "y_preds, y_tests = get_preds_tests_nn(net, train_loader)\n",
        "print(classification_report(y_tests, y_preds))"
      ],
      "metadata": {
        "colab": {
          "base_uri": "https://localhost:8080/"
        },
        "id": "P1Ncs0lPbYKz",
        "outputId": "e4504976-38f5-4317-a756-5eac8640c782"
      },
      "execution_count": 19,
      "outputs": [
        {
          "output_type": "stream",
          "name": "stdout",
          "text": [
            "              precision    recall  f1-score   support\n",
            "\n",
            "           0       1.00      1.00      1.00        14\n",
            "           1       1.00      1.00      1.00        13\n",
            "           2       1.00      1.00      1.00         7\n",
            "\n",
            "    accuracy                           1.00        34\n",
            "   macro avg       1.00      1.00      1.00        34\n",
            "weighted avg       1.00      1.00      1.00        34\n",
            "\n"
          ]
        }
      ]
    },
    {
      "cell_type": "markdown",
      "source": [
        "### Evaluación (0.3 pts.)\n",
        "\n",
        "Ahora probarán el funcionamiento de su clasificador con un conjunto de test.  Habiendo entrenado su clasificador, clasifiquen los documentos del conjunto de prueba `test_set` usando la función `get_preds_tests_nn`."
      ],
      "metadata": {
        "id": "m-3tp4jR12TR"
      }
    },
    {
      "cell_type": "code",
      "source": [
        "y_preds, y_tests = get_preds_tests_nn(net, test_loader)\n",
        "print(classification_report(y_tests, y_preds))"
      ],
      "metadata": {
        "colab": {
          "base_uri": "https://localhost:8080/"
        },
        "id": "71KR1updZ4eL",
        "outputId": "2d5c9d24-bf29-404a-c618-2efd1265b4b5"
      },
      "execution_count": 20,
      "outputs": [
        {
          "output_type": "stream",
          "name": "stderr",
          "text": [
            "/usr/lib/python3.10/multiprocessing/popen_fork.py:66: RuntimeWarning: os.fork() was called. os.fork() is incompatible with multithreaded code, and JAX is multithreaded, so this will likely lead to a deadlock.\n",
            "  self.pid = os.fork()\n"
          ]
        },
        {
          "output_type": "stream",
          "name": "stdout",
          "text": [
            "              precision    recall  f1-score   support\n",
            "\n",
            "           0       0.80      1.00      0.89         4\n",
            "           1       1.00      0.83      0.91         6\n",
            "           2       1.00      1.00      1.00         3\n",
            "\n",
            "    accuracy                           0.92        13\n",
            "   macro avg       0.93      0.94      0.93        13\n",
            "weighted avg       0.94      0.92      0.92        13\n",
            "\n"
          ]
        },
        {
          "output_type": "stream",
          "name": "stderr",
          "text": [
            "/usr/lib/python3.10/multiprocessing/popen_fork.py:66: RuntimeWarning: os.fork() was called. os.fork() is incompatible with multithreaded code, and JAX is multithreaded, so this will likely lead to a deadlock.\n",
            "  self.pid = os.fork()\n"
          ]
        }
      ]
    },
    {
      "cell_type": "code",
      "source": [
        "import torch.optim as optim\n",
        "\n",
        "params = {\n",
        "    \"dim_vocab\": len(train_loader.dataset.bow_cols),\n",
        "    \"num_classes\": 3,\n",
        "    \"dim_hidden_input\": 2,\n",
        "    \"dim_hidden_output\": 2,\n",
        "    \"learning_rate\": 0.4,\n",
        "    \"epochs\": 15\n",
        "}\n",
        "\n",
        "\n",
        "device = \"cuda\" if torch.cuda.is_available() else \"cpu\"\n",
        "\n",
        "# Inicialice su red neuronal\n",
        "net = MyNeuralNetwork(\n",
        "    dim_vocab=params[\"dim_vocab\"],\n",
        "    num_classes=params[\"num_classes\"],\n",
        "    dim_hidden_input=params[\"dim_hidden_input\"],\n",
        "    dim_hidden_output=params[\"dim_hidden_output\"]).cuda()\n",
        "\n",
        "# Definir la Loss = Cross-entropy\n",
        "criterion = nn.CrossEntropyLoss().cuda()\n",
        "\n",
        "# Definir el optimizador = SGD: Stochastic-gradient Descent\n",
        "opti = optim.SGD(net.parameters(), lr = params[\"learning_rate\"])\n",
        "\n",
        "# Definir el numero de epocas de entrenamiento\n",
        "epochs = params[\"epochs\"]\n",
        "\n",
        "## Implementar desde aqui el ciclo de entrenamiento\n",
        "## para cada epoca en el conjunto de train\n",
        "for epoch in range(epochs):\n",
        "  for (xs_bow, labels) in train_loader:\n",
        "\n",
        "    opti.zero_grad()\n",
        "\n",
        "    xs_bow, preds = xs_bow.to(device), labels.to(device)\n",
        "\n",
        "    logits = net(xs_bow)\n",
        "\n",
        "    loss = criterion(logits, preds)\n",
        "\n",
        "    loss.backward()\n",
        "\n",
        "    opti.step()\n",
        "\n",
        "    #pass # Quitar esto cuando implementen el loop de entrenamiento\n",
        "\n",
        "  total_loss = get_loss(net, train_loader, criterion)\n",
        "  y_preds, y_tests = get_preds_tests_nn(net, train_loader)\n",
        "  acc = (y_preds == y_tests).sum() / y_preds.shape[0]\n",
        "\n",
        "  print(\"Epoca {} completada! Loss: {} Accuracy: {}\".format(epoch, total_loss, acc))"
      ],
      "metadata": {
        "colab": {
          "base_uri": "https://localhost:8080/"
        },
        "id": "mHNFLDhJZmuZ",
        "outputId": "ebef2d92-99ed-4da8-9b9d-f755c942c1e7"
      },
      "execution_count": 21,
      "outputs": [
        {
          "output_type": "stream",
          "name": "stderr",
          "text": [
            "/usr/lib/python3.10/multiprocessing/popen_fork.py:66: RuntimeWarning: os.fork() was called. os.fork() is incompatible with multithreaded code, and JAX is multithreaded, so this will likely lead to a deadlock.\n",
            "  self.pid = os.fork()\n"
          ]
        },
        {
          "output_type": "stream",
          "name": "stdout",
          "text": [
            "Epoca 0 completada! Loss: 1.1127501410596512 Accuracy: 0.38235294117647056\n",
            "Epoca 1 completada! Loss: 1.1071627560783834 Accuracy: 0.38235294117647056\n",
            "Epoca 2 completada! Loss: 1.106783810783835 Accuracy: 0.38235294117647056\n",
            "Epoca 3 completada! Loss: 1.1072266084306381 Accuracy: 0.38235294117647056\n",
            "Epoca 4 completada! Loss: 1.1076231265769285 Accuracy: 0.38235294117647056\n",
            "Epoca 5 completada! Loss: 1.1078704595565796 Accuracy: 0.38235294117647056\n",
            "Epoca 6 completada! Loss: 1.1080077220411861 Accuracy: 0.38235294117647056\n",
            "Epoca 7 completada! Loss: 1.108079913784476 Accuracy: 0.38235294117647056\n",
            "Epoca 8 completada! Loss: 1.108116880935781 Accuracy: 0.38235294117647056\n",
            "Epoca 9 completada! Loss: 1.1081355792634628 Accuracy: 0.38235294117647056\n",
            "Epoca 10 completada! Loss: 1.1081449214149923 Accuracy: 0.38235294117647056\n",
            "Epoca 11 completada! Loss: 1.108149546034196 Accuracy: 0.38235294117647056\n",
            "Epoca 12 completada! Loss: 1.1081517952329971 Accuracy: 0.38235294117647056\n",
            "Epoca 13 completada! Loss: 1.1081530416713041 Accuracy: 0.38235294117647056\n",
            "Epoca 14 completada! Loss: 1.1081536587546854 Accuracy: 0.38235294117647056\n"
          ]
        }
      ]
    },
    {
      "cell_type": "code",
      "source": [
        "y_preds, y_tests = get_preds_tests_nn(net, test_loader)\n",
        "print(classification_report(y_tests, y_preds))"
      ],
      "metadata": {
        "colab": {
          "base_uri": "https://localhost:8080/"
        },
        "id": "8dpPYnR8ZvRG",
        "outputId": "622b017f-3673-40d3-a02e-c73a5f02a1d0"
      },
      "execution_count": 22,
      "outputs": [
        {
          "output_type": "stream",
          "name": "stdout",
          "text": [
            "              precision    recall  f1-score   support\n",
            "\n",
            "           0       0.00      0.00      0.00         4\n",
            "           1       0.46      1.00      0.63         6\n",
            "           2       0.00      0.00      0.00         3\n",
            "\n",
            "    accuracy                           0.46        13\n",
            "   macro avg       0.15      0.33      0.21        13\n",
            "weighted avg       0.21      0.46      0.29        13\n",
            "\n"
          ]
        },
        {
          "output_type": "stream",
          "name": "stderr",
          "text": [
            "/usr/local/lib/python3.10/dist-packages/sklearn/metrics/_classification.py:1344: UndefinedMetricWarning: Precision and F-score are ill-defined and being set to 0.0 in labels with no predicted samples. Use `zero_division` parameter to control this behavior.\n",
            "  _warn_prf(average, modifier, msg_start, len(result))\n",
            "/usr/local/lib/python3.10/dist-packages/sklearn/metrics/_classification.py:1344: UndefinedMetricWarning: Precision and F-score are ill-defined and being set to 0.0 in labels with no predicted samples. Use `zero_division` parameter to control this behavior.\n",
            "  _warn_prf(average, modifier, msg_start, len(result))\n",
            "/usr/local/lib/python3.10/dist-packages/sklearn/metrics/_classification.py:1344: UndefinedMetricWarning: Precision and F-score are ill-defined and being set to 0.0 in labels with no predicted samples. Use `zero_division` parameter to control this behavior.\n",
            "  _warn_prf(average, modifier, msg_start, len(result))\n"
          ]
        }
      ]
    },
    {
      "cell_type": "code",
      "source": [
        "import torch.optim as optim\n",
        "\n",
        "params = {\n",
        "    \"dim_vocab\": len(train_loader.dataset.bow_cols),\n",
        "    \"num_classes\": 3,\n",
        "    \"dim_hidden_input\": 2,\n",
        "    \"dim_hidden_output\": 3,\n",
        "    \"learning_rate\": 0.4,\n",
        "    \"epochs\": 15\n",
        "}\n",
        "\n",
        "\n",
        "device = \"cuda\" if torch.cuda.is_available() else \"cpu\"\n",
        "\n",
        "# Inicialice su red neuronal\n",
        "net = MyNeuralNetwork(\n",
        "    dim_vocab=params[\"dim_vocab\"],\n",
        "    num_classes=params[\"num_classes\"],\n",
        "    dim_hidden_input=params[\"dim_hidden_input\"],\n",
        "    dim_hidden_output=params[\"dim_hidden_output\"]).cuda()\n",
        "\n",
        "# Definir la Loss = Cross-entropy\n",
        "criterion = nn.CrossEntropyLoss().cuda()\n",
        "\n",
        "# Definir el optimizador = SGD: Stochastic-gradient Descent\n",
        "opti = optim.SGD(net.parameters(), lr = params[\"learning_rate\"])\n",
        "\n",
        "# Definir el numero de epocas de entrenamiento\n",
        "epochs = params[\"epochs\"]\n",
        "\n",
        "## Implementar desde aqui el ciclo de entrenamiento\n",
        "## para cada epoca en el conjunto de train\n",
        "for epoch in range(epochs):\n",
        "  for (xs_bow, labels) in train_loader:\n",
        "\n",
        "    opti.zero_grad()\n",
        "\n",
        "    xs_bow, preds = xs_bow.to(device), labels.to(device)\n",
        "\n",
        "    logits = net(xs_bow)\n",
        "\n",
        "    loss = criterion(logits, preds)\n",
        "\n",
        "    loss.backward()\n",
        "\n",
        "    opti.step()\n",
        "\n",
        "    #pass # Quitar esto cuando implementen el loop de entrenamiento\n",
        "\n",
        "  total_loss = get_loss(net, train_loader, criterion)\n",
        "  y_preds, y_tests = get_preds_tests_nn(net, train_loader)\n",
        "  acc = (y_preds == y_tests).sum() / y_preds.shape[0]\n",
        "\n",
        "  print(\"Epoca {} completada! Loss: {} Accuracy: {}\".format(epoch, total_loss, acc))"
      ],
      "metadata": {
        "colab": {
          "base_uri": "https://localhost:8080/"
        },
        "id": "fkGEdv0zZxV5",
        "outputId": "5deaed07-fce2-4ba8-98e8-a72068db77e3"
      },
      "execution_count": 23,
      "outputs": [
        {
          "output_type": "stream",
          "name": "stderr",
          "text": [
            "/usr/lib/python3.10/multiprocessing/popen_fork.py:66: RuntimeWarning: os.fork() was called. os.fork() is incompatible with multithreaded code, and JAX is multithreaded, so this will likely lead to a deadlock.\n",
            "  self.pid = os.fork()\n",
            "/usr/lib/python3.10/multiprocessing/popen_fork.py:66: RuntimeWarning: os.fork() was called. os.fork() is incompatible with multithreaded code, and JAX is multithreaded, so this will likely lead to a deadlock.\n",
            "  self.pid = os.fork()\n"
          ]
        },
        {
          "output_type": "stream",
          "name": "stdout",
          "text": [
            "Epoca 0 completada! Loss: 1.1125045892070322 Accuracy: 0.38235294117647056\n",
            "Epoca 1 completada! Loss: 1.0627017161425423 Accuracy: 0.38235294117647056\n",
            "Epoca 2 completada! Loss: 0.9082242793896619 Accuracy: 0.6470588235294118\n",
            "Epoca 3 completada! Loss: 0.5982328030992957 Accuracy: 0.7941176470588235\n",
            "Epoca 4 completada! Loss: 0.5247351463664981 Accuracy: 0.7941176470588235\n",
            "Epoca 5 completada! Loss: 0.39796790688791694 Accuracy: 0.7941176470588235\n",
            "Epoca 6 completada! Loss: 0.38397766074494405 Accuracy: 0.7941176470588235\n",
            "Epoca 7 completada! Loss: 0.45184319438960624 Accuracy: 0.7941176470588235\n",
            "Epoca 8 completada! Loss: 0.3842281356542919 Accuracy: 0.7941176470588235\n",
            "Epoca 9 completada! Loss: 0.44230760918820544 Accuracy: 0.7941176470588235\n",
            "Epoca 10 completada! Loss: 0.6602159306502846 Accuracy: 0.7058823529411765\n",
            "Epoca 11 completada! Loss: 0.2532780595556152 Accuracy: 0.7941176470588235\n",
            "Epoca 12 completada! Loss: 0.1787401082754594 Accuracy: 0.9705882352941176\n",
            "Epoca 13 completada! Loss: 0.13871441759528458 Accuracy: 1.0\n",
            "Epoca 14 completada! Loss: 0.10913558917795452 Accuracy: 1.0\n"
          ]
        }
      ]
    },
    {
      "cell_type": "code",
      "source": [
        "y_preds, y_tests = get_preds_tests_nn(net, test_loader)\n",
        "print(classification_report(y_tests, y_preds))"
      ],
      "metadata": {
        "colab": {
          "base_uri": "https://localhost:8080/"
        },
        "id": "NO2ItD8dZ0Xf",
        "outputId": "f16a135a-3d49-4f66-8ada-40a1511c613f"
      },
      "execution_count": 24,
      "outputs": [
        {
          "output_type": "stream",
          "name": "stdout",
          "text": [
            "              precision    recall  f1-score   support\n",
            "\n",
            "           0       1.00      1.00      1.00         4\n",
            "           1       1.00      1.00      1.00         6\n",
            "           2       1.00      1.00      1.00         3\n",
            "\n",
            "    accuracy                           1.00        13\n",
            "   macro avg       1.00      1.00      1.00        13\n",
            "weighted avg       1.00      1.00      1.00        13\n",
            "\n"
          ]
        }
      ]
    },
    {
      "cell_type": "code",
      "source": [
        "import torch.optim as optim\n",
        "\n",
        "params = {\n",
        "    \"dim_vocab\": len(train_loader.dataset.bow_cols),\n",
        "    \"num_classes\": 3,\n",
        "    \"dim_hidden_input\": 50,\n",
        "    \"dim_hidden_output\": 50,\n",
        "    \"learning_rate\": 0.4,\n",
        "    \"epochs\": 15\n",
        "}\n",
        "\n",
        "\n",
        "device = \"cuda\" if torch.cuda.is_available() else \"cpu\"\n",
        "\n",
        "# Inicialice su red neuronal\n",
        "net = MyNeuralNetwork(\n",
        "    dim_vocab=params[\"dim_vocab\"],\n",
        "    num_classes=params[\"num_classes\"],\n",
        "    dim_hidden_input=params[\"dim_hidden_input\"],\n",
        "    dim_hidden_output=params[\"dim_hidden_output\"]).cuda()\n",
        "\n",
        "# Definir la Loss = Cross-entropy\n",
        "criterion = nn.CrossEntropyLoss().cuda()\n",
        "\n",
        "# Definir el optimizador = SGD: Stochastic-gradient Descent\n",
        "opti = optim.SGD(net.parameters(), lr = params[\"learning_rate\"])\n",
        "\n",
        "# Definir el numero de epocas de entrenamiento\n",
        "epochs = params[\"epochs\"]\n",
        "\n",
        "## Implementar desde aqui el ciclo de entrenamiento\n",
        "## para cada epoca en el conjunto de train\n",
        "for epoch in range(epochs):\n",
        "  for (xs_bow, labels) in train_loader:\n",
        "\n",
        "    opti.zero_grad()\n",
        "\n",
        "    xs_bow, preds = xs_bow.to(device), labels.to(device)\n",
        "\n",
        "    logits = net(xs_bow)\n",
        "\n",
        "    loss = criterion(logits, preds)\n",
        "\n",
        "    loss.backward()\n",
        "\n",
        "    opti.step()\n",
        "\n",
        "    #pass # Quitar esto cuando implementen el loop de entrenamiento\n",
        "\n",
        "  total_loss = get_loss(net, train_loader, criterion)\n",
        "  y_preds, y_tests = get_preds_tests_nn(net, train_loader)\n",
        "  acc = (y_preds == y_tests).sum() / y_preds.shape[0]\n",
        "\n",
        "  print(\"Epoca {} completada! Loss: {} Accuracy: {}\".format(epoch, total_loss, acc))"
      ],
      "metadata": {
        "colab": {
          "base_uri": "https://localhost:8080/"
        },
        "id": "P2bMHSR5Z04p",
        "outputId": "9c57f7fe-3c13-4db1-a140-c43f661f648c"
      },
      "execution_count": 25,
      "outputs": [
        {
          "output_type": "stream",
          "name": "stderr",
          "text": [
            "/usr/lib/python3.10/multiprocessing/popen_fork.py:66: RuntimeWarning: os.fork() was called. os.fork() is incompatible with multithreaded code, and JAX is multithreaded, so this will likely lead to a deadlock.\n",
            "  self.pid = os.fork()\n"
          ]
        },
        {
          "output_type": "stream",
          "name": "stdout",
          "text": [
            "Epoca 0 completada! Loss: 1.0768816400976742 Accuracy: 0.38235294117647056\n",
            "Epoca 1 completada! Loss: 1.0434374888153637 Accuracy: 0.38235294117647056\n",
            "Epoca 2 completada! Loss: 0.8320474607103011 Accuracy: 0.5588235294117647\n",
            "Epoca 3 completada! Loss: 0.4608185668202007 Accuracy: 0.7941176470588235\n",
            "Epoca 4 completada! Loss: 0.15261032925370863 Accuracy: 0.9705882352941176\n",
            "Epoca 5 completada! Loss: 0.04222384873120224 Accuracy: 1.0\n",
            "Epoca 6 completada! Loss: 0.01933412893456133 Accuracy: 1.0\n",
            "Epoca 7 completada! Loss: 0.012454775901620878 Accuracy: 1.0\n",
            "Epoca 8 completada! Loss: 0.008946328266414212 Accuracy: 1.0\n",
            "Epoca 9 completada! Loss: 0.006895440984996693 Accuracy: 1.0\n",
            "Epoca 10 completada! Loss: 0.005562900127295186 Accuracy: 1.0\n",
            "Epoca 11 completada! Loss: 0.004639236535534591 Accuracy: 1.0\n",
            "Epoca 12 completada! Loss: 0.003954481490997269 Accuracy: 1.0\n",
            "Epoca 13 completada! Loss: 0.0034342460875289842 Accuracy: 1.0\n",
            "Epoca 14 completada! Loss: 0.0030296789208317503 Accuracy: 1.0\n"
          ]
        }
      ]
    },
    {
      "cell_type": "code",
      "source": [
        "y_preds, y_tests = get_preds_tests_nn(net, test_loader)\n",
        "print(classification_report(y_tests, y_preds))"
      ],
      "metadata": {
        "colab": {
          "base_uri": "https://localhost:8080/"
        },
        "id": "cEG6-pGGZ01Q",
        "outputId": "c10e1ff7-bacf-4590-a304-2219662f7a68"
      },
      "execution_count": 26,
      "outputs": [
        {
          "output_type": "stream",
          "name": "stdout",
          "text": [
            "              precision    recall  f1-score   support\n",
            "\n",
            "           0       1.00      1.00      1.00         4\n",
            "           1       1.00      0.83      0.91         6\n",
            "           2       0.75      1.00      0.86         3\n",
            "\n",
            "    accuracy                           0.92        13\n",
            "   macro avg       0.92      0.94      0.92        13\n",
            "weighted avg       0.94      0.92      0.93        13\n",
            "\n"
          ]
        }
      ]
    },
    {
      "cell_type": "markdown",
      "source": [
        "Comenten sus resultados. Estudien que ocurre para al menos tres combinaciones de `(dim_hidden_input, dim_hidden_output)`.\n",
        "\n",
        "**Comentarios:**\n",
        "\n",
        "Se puede ver que el modelo requiere un minimo de neuronas para comenzar a aprender y disminuir la loss, como lo es el caso de la combinación (2,2) para `(dim_hidden_input, dim_hidden_output)`, se puede ver que no es suficiente para empezar a generalizar, sin embargo al aumentar a (2,3) se puede ver que se logra el mejor desempaño de todas las combinaciones, esto puede ser debido a que el problema es bastante simple por lo que las capas de 2 y 3 neuronas son capaces de generalizar con buena presicion, mientras que si se aumenta el numero de neuronas como lo es (5,5) y (50,50), si bien, tiene bastante buen rendimiento no supera al anteriormente mencionado, esto puede ser debido a que una gran cantidad de neuronas en todas esas epocas esten overfiteando el modelo sobre el entrenamiento, teniendo dificultades para aplicarlo en el conjunto de test.\n",
        "\n",
        "En términos del modelo se puede ver que puede ver que en general el rendimiento es bueno si se aprende en cada epoca, los modelos en general tienen cierta facilidad para identificar la clase 0, esto se puede deber a que generalmente el simbolo '?' se encuentra en todas las oraciones de esta clase, despues el resto de clase tiene un rendimiento de clasificacion similar.\n"
      ],
      "metadata": {
        "id": "2Z2BxxUQoINV"
      }
    }
  ]
}