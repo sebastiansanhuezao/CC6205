{
  "metadata": {
    "accelerator": "GPU",
    "colab": {
      "gpuType": "T4",
      "provenance": [],
      "toc_visible": true
    },
    "kaggle": {
      "accelerator": "nvidiaTeslaT4",
      "dataSources": [],
      "dockerImageVersionId": 30684,
      "isInternetEnabled": true,
      "language": "python",
      "sourceType": "notebook",
      "isGpuEnabled": true
    },
    "kernelspec": {
      "display_name": "Python 3",
      "language": "python",
      "name": "python3"
    },
    "language_info": {
      "name": "python",
      "version": "3.10.13",
      "mimetype": "text/x-python",
      "codemirror_mode": {
        "name": "ipython",
        "version": 3
      },
      "pygments_lexer": "ipython3",
      "nbconvert_exporter": "python",
      "file_extension": ".py"
    }
  },
  "nbformat_minor": 0,
  "nbformat": 4,
  "cells": [
    {
      "cell_type": "markdown",
      "metadata": {
        "id": "GWM5IugWi5ZV"
      },
      "source": [
        "# Auxiliar 2\n",
        "\n",
        "\n",
        "## 📚 Objetivos de la clase 📚\n",
        "\n",
        "La clase auxiliar de esta semana tendrá varios objetivos:\n",
        "\n",
        "- Introducir PyTorch, un Framework para trabajar con Deep Learning\n",
        "- Definir y explicar el concepto de Tensor.\n",
        "- Explicar el uso de GPU en Deep Learning.\n",
        "- Explicar el cálculo de derivadas con PyTorch.\n",
        "- Construir un una red Feed Forward"
      ]
    },
    {
      "cell_type": "markdown",
      "metadata": {
        "id": "OLLTxJRSwscP"
      },
      "source": [
        "# **PyTorch**\n",
        "\n",
        "<!-- Tomar en consideracion que los chicos no han visto nada practico en deep learning. No se les explicaron cosas como optimizers, schedulers, etc asique hay que ser pedagogicos.\n",
        "\n",
        "* Motivacion, trabajo con tensores, dimensionalidad alta, optimizacion en gpu, utilidad de computo por batch (eficiencia, robustez del modelo, etc)\n",
        "\n",
        "\n",
        "* introducir la api, las operaciones basicas, operaciones de creacion, operaciones inplace, cambiar la forma de los tensores, etc\n",
        "\n",
        "* mostrar el uso de la gpu con ejemplos (mostrar nvidia-smi), revisar codigo agnostico al dispositivo -->\n",
        "\n",
        "\n",
        "------------------------------------------------------\n",
        "Ahora vamos a introducir PyTorch, un framework para hacer deep learning, y también mostrar dos aplicaciones. Esta herramienta va a ser usada de aquí hasta el final del curso, así que es importante que tengan un conocimiento base sobre este framework."
      ]
    },
    {
      "cell_type": "markdown",
      "metadata": {
        "id": "p2EvTlRNbfSV"
      },
      "source": [
        "## **¿Qué es PyTorch exactamente?**\n",
        "\n",
        "PyTorch es un framework para hacer Deep Learning. Las características principales que ofrece son:\n",
        "\n",
        "- Operaciones basicas con **tensores**.\n",
        "- Usar facilmente y de forma transparente la **GPU**, si es que existe.\n",
        "- Utilidades ya implementadas para acelerar el desarrollo de **redes neuronales**. Capas lineales, capas recurrentes, capas convolucionales, funciones de activación, funciones de pérdida, etc.\n",
        "- Motor de **diferenciación y propagación de gradientes automático**. Se guarda un registro de las operaciones que se realizan sobre un tensor y luego se puede calcular automáticamente la derivada de un tensor de salida con respecto a los parámetros que estuvieron involucrados es un cálculo.\n",
        "\n",
        "<!-- Como les decia, PyTorch es un framework para hacer deep learning. Las caracteristicas principales de un framework de este tipo es que permite trabajar y realizar operaciones basicas con tensores (abajo explicamos que son y por qué nos interesan), permite usar facilmente y de forma transparente la GPU, si es que existe (mas delante explicamos por que querriamos hacer esto)  y tambien viene con varias utilidades ya implementadas para acelerar el desarrollo de redes neuronales. Por ejemplo, viene con varios modulos de redes neuronales, como capas lineales (como las que vieron en clases), capas recurrentes, capas convulocionales (estas se ven mas adelante), funciones de activacion, funciones de perdida, etc. Finalmente, y quiza lo mas importante del framework, es que viene con un motor de diferenciacion y propagacion de gradientes automatico, es decir, se guarda un registro de las operaciones que se realizan sobre un tensor y luego se puede calcular automaticamente la derivada de un tensor de salida con respecto a los parametros que estuvieron involucrados en su calculo.\n",
        "\n",
        "-->\n"
      ]
    },
    {
      "cell_type": "markdown",
      "metadata": {
        "id": "woZQw3j2bkPw"
      },
      "source": [
        "## **¿Qué es un tensor?**\n",
        "\n",
        "Un tensor es una estructura matemática para organizar datos. De toda la vida hemos sabido lo que es un **número**. En álgebra lineal vimos que podemos organizar (de forma indexada) varios números en lo que llamamos **vector**, y luego extendimos esta organización a una estructura bidimensional, una **matriz**, con filas y columnas.\n",
        "\n",
        "Los **tensores** son una forma de generalizar esta idea. Decimos que un numero wacho es un tensor de 0 dimensiones, un **vector** es un tensor de **1 dimensión** y una **matriz** es un tensor de **2 dimensiones**. Este concepto nos permite generalizar esta organización de los datos sobre dimensiones mayores. Podemos hablar, por ejemplo, de un **cubo** (un tensor de 3 dimensiones), que se podría interpretar como varias matrices apiladas, o más generalmente un **tensor de N dimensiones** donde N es un número cualquiera (entre mas grande N mas difícil de imaginar :D).\n",
        "\n",
        "Los tensores de dimensiones mayores se los pueden imaginar como listas, donde sus elementos son tensores de dimensiones menores. Esto lo pueden ver en la siguiente fotaza:\n",
        "\n",
        "(source: knoldus)\n",
        "\n",
        "![visualizacion tensor](https://i.stack.imgur.com/Lv1qU.jpg)"
      ]
    },
    {
      "cell_type": "markdown",
      "metadata": {
        "id": "C-CrbVL5bsrm"
      },
      "source": [
        "## **¿Por qué me interesan los tensores?**\n",
        "\n",
        "Cuando uno trabaja en Deep Learning, es muy común encontrarse con datos de **alta dimensionalidad**.\n",
        "\n",
        "En **NLP** por ejemplo, vimos que es útil representar una **palabra** como un **vector** que captura información de la palabra, ya sea de su contexto, de los caracteres que contiene, etc.\n",
        "\n",
        "![imagen.png](data:image/png;base64,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)\n",
        "\n",
        "Tomando esto en cuenta, vemos que una lista de palabras (una frase) la podemos representar como una **matriz**. A estas alturas ya tenemos un **tensor de 2 dimensiones**\n",
        "\n",
        "![imagen.png](data:image/png;base64,iVBORw0KGgoAAAANSUhEUgAAASsAAADmCAYAAACNpaNqAAAVwUlEQVR4nO2dsW/b1trG+Q848uzmQt4cIAXYwb6A78LAWdLlo6d0aGJmaAvYH2AaSL5mI9PUWU073UXvTaShU9JC1JbgBjBR3GTIYo03U8+f8HyDQVa0bEf0ax6d8+r9AQQqibJ+j/ToFXmkoA4EQRAswJm2gCAIwiTIsBIEwQpkWAmCYAUyrARBsAIZVoIgWIEMK0EQrECGlSAIViDDShAEK5BhJQiCFciwEgTBCmRYNYTjOLLJJtsFW+33VAPvUwG41IuhE/GjIX40ZFgZBMey6ET8aHD0MzuRxXAsi07EjwZHP7MTWQzHsuhE/Ghw9DM7kcVwLItOxI8GRz+zE1kMx7LoRPxocPQzO5HFcCyLTsSPBkc/sxNZDMey6ET8aHD0MzuRxXAsi07EjwZHP7MTWQzHsuhE/Ghw9DM7kcVwLItOxI8GRz+zE1kMx7LoRPxocPQzO5HFcCyLTsSPBkc/sxNZDMey6ET8aHD0054ojmM4joMoinQ/tFY4lkUn4keDo99UEjmOg36/P42H1gbHsuhE/Ghw9NOe6OjoyPgn8iowPaP40RA/GsYNqzzPMRgMMBwOy+v29vbgeV6TD2sEHMuiE/GjwdGvkURKKfi+jyRJkGUZXNctb/N9H3EcN/GwRsGxLDoRPxoc/RpJ5LoukiQBcDK4RodVq9Viv14F8CyLTsSPBke/K0/U7/fhOA7CMEQcxwjDsDwNnJX1KoBnWXQifjQ4+l15oiiK0G63z7ytWK9SSkEpddUPbRQcy6IT8aPB0e/KE+V5XjntA4A0Tct1rDiOkSQJ8jy/6oc2Co5l0Yn40eDo10iiIAiws7ODJEkQBAG63S6Akx+E3rp1C0EQNPGwRsGxLDoRPxoc/RpLdHx8jOPj47HruR9RFXAsi07EjwZHP7MTWQzHsuhE/Ghw9DM7kcVwLItOxI8GRz+zE1kMx7LoRPxocPQzO5HFcCyLTsSPBkc/sxNZDMey6ET8aHD0MzuRxXAsi07EjwZHP7MTWQzHsuhE/Ghw9DM7kcVwLItOxI8GRz+zE1kMx7LoRPxocPQzO5HFcCyLTsSPBkc/sxNZDMey6ET8aHD0MzuRxXAsi07EjwZHP7MTWQzHsuhE/Ghw9DM7kcVwLItOxI8GRz+zE1mM4ziyySbbBVvt91QD71MBPD/ZdCJ+NDj6mZ3IYjiWRSfiR4Ojn9mJLIZjWXQifjQ4+pmdyGI4lkUn4keDo5/ZiSyGY1l0In40OPqZnchiOJZFJ+JHg6Of2YkshmNZdCJ+NDj6mZ3IYjiWRSfiR4Ojn9mJLIZjWXQifjQ4+pmdyGI4lkUn4keDo5/ZiSyGY1l0In40OPqZnchiOJZFJ+JHg6Of2YkshmNZdCJ+NDj6mZ3IYjiWRSfiR4OjX2OJ0jSF53lN/Xnj4VgWnYgfDY5+jSXyfR/b29tN/Xnj4VgWnYgfDY5+5ER5nmMwGGA4HAIAhsMhsizD/Pw8njx5gjzPy+sHg0HlPqfp9/sYDAZQSlG1pg7HsuhE/Ghw9Lt0IqUU1tfXkSQJsiyD67ro9XrodDoIggCO4yCKInQ6HSilEAQBfN/HrVu3kCQJPM9DmqYAToZXcf9er4d2u10OP1vhWBadiB8Njn6XTuR5HqIoKi/HcVyuURXDqCBNU+R5Dt/3EYZhef88z6GUwvz8PLIsO/dv2wjHsuhE/Ghw9LtUon6/D8dxKkc/URSVA8r3fcRxPHa/VqtVGUoAsL29Ddd1K9fJsGoe8aMhfjS0DasoitButyvXua5bHjWNDqVioOV5fqag53nl/YCT00vHccaGmm1wLItOxI8GR79LJep0OpXTvH6/j3a7DaVUOZSUUuj3++W61N7e3pk/ZTh9FBZFEXzfv4yWUXAsi07EjwZHP9KaVRzH2NnZge/75RGUUgqtVgv7+/uVIybf95EkydjfGQ6HcF0XSZLgwYMHCMNQvg3UgPjRED8a2n+6cHR0hOPj47HriyOsUT737V6WZSyGVAHHsuhE/Ghw9DM7kcVwLItOxI8GRz+zE1kMx7LoRPxocPQzO5HFcCyLTsSPBkc/sxNZDMey6ET8aHD0MzuRxXAsi07EjwZHP7MTWQzHsuhE/Ghw9DM7kcVwLItOxI8GRz+zE1kMx7LoRPxocPQzO5HFcCyLTsSPBkc/sxNZDMey6ET8aHD0MzuRxXAsi07EjwZHP7MTWQzHsuhE/Ghw9DM7kcVwLItOxI8GRz+zE1kMx7LoRPxocPQzO5HFcCyLTsSPBkc/sxNZjOM4sskm2wVb7fdUA+9TATw/2XQifjQ4+pmdyGI4lkUn4keDo5/ZiSyGY1l0In40OPqZnchiOJZFJ+JHg6Of2YkshmNZdCJ+NDj6mZ3IYjiWRSfiR4Ojn9mJLIZjWXQifjQ4+pmdyGI4lkUn4keDo5/ZiSyGY1l0In40OPqZnchiOJZFJ+JHg6Of2YkshmNZdCJ+NDj6mZ3IYjiWRSfiR4Ojn9mJLIZjWXQifjQ4+pmdyGI4lkUn4keDo18jiZIkgeM4iOO4vC7Pc/R6vSYezkg4lkUn4keDo19jiVqtFrIsKy/7vo8wDJt6OOPgWBadiB8Njn6NJMqyzPgnq2lMzy9+NMSPxtSHVb/fR57n2Nvbg+d55fVZlmE4HI7tr5TCYDCAUuoqNYyAY1l0In40OPpdSSKlFDzPQ5qmiOMYi4uL5XpVkiTo9XpwHKcylDqdDnzfR5Zl8H3f+Ce3LqbnET8a4kdjasPKdV1EUVQR6ff7UEphe3sbeZ5X5I6OjtBqtcrhFcdx5UiMAxzLohPxo8HRj5yo2+3CcRwcHx8DOBlEp0W2t7cRBEF52fd9bGxsVC6PfnPIAY5l0Yn40eDoR04URRHa7XZ5uVivUkqVR07FN4PFulWr1UKn0ynv02q10Ov1zlzXshWOZdGJ+NHg6EdOdHox3fM8xHGMvb09DIdDZFlWDrPi6Krdbpc/ayi+OVRKsfppA8ey6ET8aHD0IycqFteTJEEYhgiCAOvr6+VgyvMc7XYbYRgiz3MAfy+uJ0mCKIrQarXw5MkT9Pt9qo4xcCyLTsSPBke/K0s0+gPQYigVDIfDsZ8nDIfD8rRPKcXqFBDgWRadiB8Njn5mJ7IYjmXRifjR4OhndiKL4VgWnYgfDY5+ZieyGI5l0Yn40eDoZ3Yii+FYFp2IHw2OfmYnshiOZdGJ+NHg6Gd2IovhWBadiB8Njn5mJ7IYjmXRifjR4OhndiKL4VgWnYgfDY5+ZieyGI5l0Yn40eDoZ3Yii+FYFp2IHw2OfmYnshiOZdGJ+NHg6Gd2IovhWBadiB8Njn5mJ7IYjmXRifjR4OhndiKL4VgWnYgfDY5+ZieyGMdxZJNNtgu22u+pBt6nAnh+sulE/Ghw9DM7kcVwLItOxI8GRz+zE1kMx7LoRPxocPQzO5HFcCyLTsSPBkc/sxNZDMey6ET8aHD0MzuRxXAsi07EjwZHP7MTWQzHsuhE/Ghw9DM7kcVwLItOxI8GRz+zE1kMx7LoRPxocPQzO5HFcCyLTsSPBkc/sxNZDMey6ET8aHD0MzuRxXAsi07EjwZHP7MTWQzHsuhE/Ghw9DM6kVIKT548mbbGpeBYFp2IHw2OfkYn6vV6aLfb09a4FBzLohPxo8HRz+xEFsOxLDoRPxoc/S6d6Pj4GIPBAMPhsHL9cDjEYDBAnudj1wEnp3ZZlpW3K6XG9j99HxvhWBadiB8Njn6176GUwvr6OuI4Rq/Xw+LiIpRSAIA4jhEEAbIsQxAECMMQSikEQYAgCPDgwYPydtd1sbOzU7nc6/UAAHmeIwxDBEGAvb292qFMgGNZdCJ+NDj61b6H7/uI4xgAkGUZPM+DUgpRFMHzvHK/LMvgOA7SNC2Hl+/75e2e541djqIIABCGIQDAdV2kaVo7lAlwLItOxI8GR79a9zg6OoLjOGOnfkopzM/PVwZLv9+vCLXbbXS73XMvt1qtyuU8z+E4TnnUZhscy6IT8aPB0a/WPaIoOvPbueIoanSIhWEI13UBnKw/jQ6e05d7vR5arVZ5GwBsb28jCAIZVg0hfjTEj0bjw6rT6VRO9QBgb28Pf/75Z+XB//rrL8zPz+Po6Ki8XzG4ACBN08rlYn3q+Pi4XKNqtVro9XrlqaFtcCyLTsSPBke/2vfwPA9xHJeL6cWpWxRF8H0fSZLA8zz0+/3yPsVi+3mXoyjC+vp65UjKdV3s7+/LsGoI8aMhfjS0/XTh6OioPGoaZTgcnnv9RZcBjP104bzrbIFjWXQifjQ4+pmdyGI4lkUn4keDo5/ZiSyGY1l0In40OPqZnchiOJZFJ+JHg6Of2YkshmNZdCJ+NDj6mZ3IYjiWRSfiR4Ojn9mJLIZjWXQifjQ4+pmdyGI4lkUn4keDo5/ZiSyGY1l0In40OPqZnchiOJZFJ+JHg6Of2YkshmNZdCJ+NDj6mZ3IYjiWRSfiR4Ojn9mJLIZjWXQifjQ4+pmdyGI4lkUn4keDo5/ZiSyGY1l0In40OPqZnchiOJZFJ+JHg6Of2Yks5ulvP8gmm2wXbHWRYdUQT3/7AR8+vTd2Ez/xm7ZfXWRYNYQNZZm2g/jNtl9dZFg1hA1lmbaD+M22X11kWDWEDWWZtoP4zbZfXWRYNYQNZZm2g/jNtl9dZFg1hA1lmbaD+M22X11kWDWEDWWZtoP4zbZfXWRYNYQNZZm2g/jNtl9dZFg1hA1lmbaD+M22X11kWDWEDWWZtoP4zbZfXWRYNYQNZZm2g/jNtl9dZFg1hA1lmbaD+M22X11kWDWEDWWZtoP4zbZfXWRYNcQkZUlfdrD1aAvPDnYv3G93/2c8O9jFYTc92XqHOOymePvxDV6/e1W57dnBLl6/e9VImSf1Hd1369HWRD6X8avj8zw9wNajLTx++hhvP745c5+3H9/g9te3p+L34dN7vH73Cofd9EyvrUdb+N//m/y5vGq/F7//eubrSelfXWRYNcTnyvL4px9x//t7+PDpPZ4d7GJldfncfdfurMFxnMo2d22uLPfo9cXfvIoyX9b3eXoA/65/cr+njzHXmqs9sK7y+dt8uFm+ify7PuZac2cOrHvffQvHcbT7PTvYxdqdNcxdm8PWo63Kba/fvcLC9QW8fvcKbz++wdLNJbz844VWv8NuWr6er9+9wsrqcvl6UvpXFxlWDfG5ssxdq75hFq4v4MXvv5657+kC/Jz8XH4aFkU67Ka1BkLdYVXHd2V1GQvXF8pyO46Dx08f13q8q3z+Tg+BuWtzuPfdt5V9Xvz+K1ZWl69sWNXxG33eTg+rtTtrWLuzVl7eerQF/+7/aPVbu7NWGZDFESq1f3UhD6ssy6CUglIKWZYhz/Oxffr9PobDYeU6pRQGgwGUUuU+WZZRdYzhorKkLztjb4qzilpsB52D8r9f/ftVZXgddtNz70cpM8X39btXZbmfpwdwHGeio4FJ/er6rN1ZqwzLldXlsSOJ4g13FcOqrt9F+5wetJsPNzHXmtPq59/1cePLG+UwGh1elP7VhTSswjBEkiT46quvEIYhsiyD67rl0MnzHJ7nodfrIQxDzM/Pl7cFQYA4jnHr1i0EQYButwvf9xHHMUXJGC4qy0Hn4MyybD7c/OyLvLK6XPlEPOymuPHlDfh3fdz//l4jp4GF7/v//mdi37cf3+CXw+dYWV2eeM1mUj/K8/f24xs4jlNx2ny4iRe//3plw+qyfmcNjIXrC2PDahLHq/R7/e4V5q7NwXEc/PNfK5XnjtK/upCHVa/XQ7vdLq+L4xi+70MphcXFRfT7fQAnR2CO40ApheFwiCRJkCQJ2u12eXQVRRE8z6MoGcNFZTmrcCury+W6wHlb+rIzVoZigbO4vHRzaaI3bZ1hdZ7v6OnJWUOhOEXY+OH+xI81id9ln78Pn06OEkb3e/H7r+XzdVXD6rJ+Zw2Mxz/9iBtf3qi8vtRhVdfv7cc38O/65drpjS9vlB+YlP7VhXwauL29jSAIysu+72NjY6McRAWdTgeu61bue/pIyvd97O3tUZWMoKlP3s8dpdz77ttKuS9T5tPbeacNk5Tyw6f3cBxn4n0n8bvs8/fsYHfsDenf9csjxmJYjR5B6vQ7b5/739/D2p01bD3awr3vvi3XA3X5rawul99SPk8PMHdt7tzBVqd/dSEPK9d10el0ysutVgtpmsL3ffi+X16/sbGBMAwra1etVqs8LVRKwXEcDIfDsfUtG7moLC//eHFmWT63CO04zthX26cXYDcfbpLLTPVdu7NWGapz1+Yu/Laprt9lnr/Tg2rr0RZe/vGiXL8qvhRwHAcrq8ufXWNr4vWdZKDd//4eeYG9rt/SzaXK5cNuWr6elP7VhTSsigFTDJw0Tcujp2JNqthvcXGxXLsCTtazRv93PMV9lVLlPjYzybcxo9++OI5TLmA+Tw+w/s16Zf/i6OasYTU6GFZWlydaN6j7beDpb4vO8y3WhEYdHMeZ6BStjl+d5+/lHy+w/s36ye/Teof45fD5mYvCW4+2rvTbwDqvb/HanR5WW4+2KgvqC9cXzvwtVpN+C9cXxtZJi9eT0r+6kIZVt9tFu92G7/tIkqRcqwL+Xlzf399HGIbwPA87OzvlaV6x/+jfcl0XQRCwP7L68OnkUHzp5hIOe4dY/2a9UtLNh5uYu1b9xqc4RTld1OLo4NnBLjZ+uI+lm0vn/uiRMqzq+D7+6Uf4d308Tw9w++vbEzvV8avjUywOj26Pf/qx8vfuf38PX/zji3IRmXJkVdfv2cEu/vmvFcy15vDFP76oLGI/Tw+wsrqMXw6f4/bXt7G7/7P25293/2cs3VzCs4Pd8jdhxetJ6V9dyAvsQRBAKYWjo6Ox25VSlZ8yjP40ofi5wyjD4XDsOluZZBi8fvcK6cvOxF/rn/eJ+vbjG6QvO5/9HQ9lWNX1Lfat41TXb1Kf9//9z9h2Gaem/Cb5O038jq6OX9Gx9GXnyvpXF9KwOr1eJfyNDf82a9oO4jfbfnW59LAqTu1OL5oLJ9hQlmk7iN9s+9VF/rlNQ9hQlmk7iN9s+9VFhlVD2FCWaTuI32z71UWGVUPYUJZpO4jfbPvVRYZVQ9hQlmk7iN9s+9VFhlVD2FCWaTuI32z71UWGVUPYUJZpO4jfbPvVRYZVQ9hQlmk7iN9s+9VFhlVD2FCWaTuI32z71UWGVUPYUJZpO4jfbPvVRYZVQ9hQlmk7iN9s+9VFhlVD2FCWaTuI32z71UWGVUPYUJZpO4jfbPvVRYZVQ9hQlmk7iN9s+9VFhlVDPP3tB9lkk+2CrS4yrARBsAIZVoIgWIEMK0EQrECGlSAIViDDShAEK5BhJQiCFciwEgTBCmRYCYJgBTKsBEGwAhlWgiBYgQwrQRCsQIaVIAhWIMNKEAQrkGElCIIVyLASBMEKZFgJgmAFMqwEQbACGVaCIFjB/wO1MeL+aDNxqgAAAABJRU5ErkJggg==)\n",
        "\n",
        "¿Qué pasa si por alguna razón queremos operar sobre varias frases a la vez? ¿Qué pasa si tenemos una lista de frases? Bueno, ahora tenemos un \"cubo\", un tensor de 3 dimensiones, donde la primera dimensiones corresponde a cada frase dentro del conjunto, la segunda a cada palabra dentro de la frase y finalmente la tercera a cada una las posiciones dentro del vector de embeddings.\n",
        "\n",
        "![imagen.png](data:image/png;base64,iVBORw0KGgoAAAANSUhEUgAAAkoAAAD9CAYAAABDc1h9AAAgAElEQVR4nO3d328j573f8dn82GzWmyVjwJYCG0sCMZIgSJbMjb3eNTjMbQKLMuCbFjUpI0FwWmcppz2ncVGTzI+LIkVIpXV70BaldJyeA++BTe4BDvoLXlJtDBwUBUjdpEiAhpSQi3ovIvIfiObbC+M7Hg5nJEpLcsiH7xfwXHhFzzzfGc3MR888M7QEAAAAgayoOwAAALCoCEoAAAAhCEoAAAAhCEoAAAAhCEoAAAAhCEoAAAAhCEoAAAAhCEoAAAAhCEoAAAAhCEoAAAAhCEoAAAAhCEoAAAAhCEoAAAAhCEoAAAAhCEoAAAAhCEoAAAAhCEoAAAAhCEoAAAAhCEoAAAAhCEoAAAAhCEoAAAAhCEoA5u73v/+97O/v02g0WmTtd7/73UTnK4ISgLl666235IUXXhDLsmg0Gi2y9o1vfGOicxZBCcDcvPXWW2JZlmxtbUX+1+Qs22uvvSaWZcnLL78ceV+okzonbcViUSzLkpdeeinyvsyy6f589dVXJzpvEZQAzIWGpO9///tRd2WmdnZ2xLIsef3116PuykxRp1k4PsMRlADMHCdhs1CnWTg+T0dQAjBTnITNQp1m4fg8G0EJwMxwEjYLdZqF43MyBCUAM8FJ2CzUaRaOz8kRlABMHSdhs1CnWX76059yfJ4DQQnAVBGSzEKdZqlUKhyf50RQAjA1hCSzUKdZCEkXQ1ACMBWEJLNQp1kISRdHUALwyJjzYBbqNAsh6dEQlAA8Ek7CZqFOs3B8PjqCEoAL4yRsFuo0C8fndBCUAFyInoSfeuopyWazxrZnnnlGLMuSp59+OvK+UCd1TtqSyeRKHZ+zDL0EJQDnpiEpkUhEfqKcx0nY9IsqdZrVVi0kzXrEjKAE4FwYzjcLdZqF43P6CEoAJsZJ2CzUaRaOz9kgKAGYCCdhs1CnWTg+Z4egBOBMnITNQp1m4ficLYISgFNxEjYLdZqF43P2IgtKjuNEterIOI6zknVjeXESNgt1moXjcz7mGpS63a7E43GxLEssy5JWqzXP1UdKd7Q+Uu3X7/el3W7Pv2MR6na7Ytu21Ov1qLuCAJyEzUKdZuH4nJ+5jygNh0NJpVJiWdbUR1eGw6HE43Epl8tTXe40OI4je3t7YlmW5PP5kZ/1+303RK3SiFOpVBLLshZyf606TsJmoU6z6PH55ptvRt2VmVqU/Tn3oOQ4jliWJbZtTz0UNJtNsSxLqtXqVJc7Lbu7u2JZ1tgIynA4lI2NDdnd3Y2oZ9EYDocrN4q2DAhJZqFOs+jxWalUou7KTC3S/px7UGq1WjMbRSgWi2JZlnQ6nakvexry+bxYliX9fj/qriyVbrcr5XJZarWaiIgMBgOp1WpSLpel0WgE/j/9fl/K5bKUy2Xp9/syGAxkMBiMfKbRaEilUnF/X7zLXbXQqghJZqFOsxCSojH3oKS3Wy4yP+n4+Fj29/fHgobjOPLHP/5RUqmUxGIxOTk5GRutarVaIxfKXq8nvV7v1HW1223pdrvn7mcQx3EkkUhIIpGI7PZat9uVdrt9Zt1B21jko222v78f+G/ebes4jrTbbWm326G1drvdibbtYDCQRCIh7XZbLMuSQqEgmUxGms2mNJtNicViYyOIpVJJYrGY+5lEIiHJZFJs23Y/02g0pFAouOG12WyKbdvSbDal3W5LLBaTYrF4Zv9MQkgyC3WahZAUnakHpXq9LrZtSzabla2tLRkOhyM/t21bLMuSk5OTiZfZarUknU5LJpORUqkkiURCcrmcDIdDd96Pv8ViMfcibdu2FAoFicfj0m633f++efPm2G2wfr8v2WxWUqmUlEolSaVSks1mx+o4y2AwkHK5LNlsVnK5nHtb0Ds/aTgcytbWlmSz2dARDMdxpFariW3bksvl3LBzeHh4ru2XTCZlY2NDSqWS2LY9tr5OpzNSt36Hl9bdbDYll8tJIpGQra0t6ff7kslkJJ/PSy6Xk3g8Lvv7+9JsNuXmzZtSLBZlY2NDEonE2EhOPp+XQqEgsVjMHSUKs7u76wYh3a/efZHP5yUej7v7ulwui2VZIyFMb3mWSiX331KplDuCZFmWZDKZkeVmMpmR5ZqOkGQW6jQLISlaUwtK3W7XvRj3ej33Ar+xseF+RucnZTKZiZdbr9fH5vXo5Ge98DmO4waRer0+8hj+7u6ulEolGQ6HbojqdDruCIV3lKHT6Ug8Hh8ZSdCRIG8dk2yLeDwu+XxeHMeRbrfrrttbh23b0m633Yu7P1AMBgNJpVKSy+VkMBhIr9dzJ8JPeuvSv/16vZ7E43GJx+Ohn9F1a7BzHEdu3rzphj/dbtpf3a/emkXE3cbegLK7uyvlclkcx5FUKjWy/YPorTNdlr/uTCbjBiP9vfDvKx3F1PlQw+FQtre3ReTj26He4Kn7/ObNmysRlH7wgx+IZVny0ksvyf7+vrHttddeE8uy5OWXX468L9RJnZO2QqHgjqZH3ZdZtjfffHMhQ5LIlIJSv9+XeDw+dtFrNBojoajT6ZzrIq/zmfxPiYmI+5i9Xsh0fpL/tpJt29Lv991laQjSYKVzXDRABF24dRRskovmYDAIXE4ulxuZn9RsNt2+6IHgv32VSqXGRmQ0qITNzfHSmguFgvtvGto0vOg+CQqCtm1LPB6Xg4MDdx94g4m3r7o/vH3V9XuDkgYuDTVB+zZI0C1bDTTaHw09/lFC7XPQ/gsKRL1e71x9W2b6lyqNRqNF3RYxJIlMKSh553mcnJxIr9eTvb09d26JOs/8JA0KljUefk5OTtwNq6NHOj/JfzE8ODgYWXfYvBitwR9AvP2YJCh5t4V/Gd5g12q13EnG8Xh8bJRNR3n8oVIDl3/0KYiGCP/kdm8dGxsboZ+JxWJiWZYMh0M5PDwceWLRS8OWNxCJiFSr1bFtoSM3d+/eFcuyJn7qLSisatjSeWnaX+/vi9aRyWTG9p8GIv9cJO33JGF0mWlI2traivyvyVm2VRl5oE6z2qqMJOn+fPXVV6M+JYaaSlDS0GLbtti2Lfl8XqrVauDozqSBQy++QZOf9WepVEpEPpqAbFnBoyIiH10sM5lMYJDSn+tF1v9zvQUV9v/6l6PbwjsH67T+Bd328o6UeAOM9lPrPo2GgNMmj2tt169fH/uMhhDvyzGDRohEPg4W/tGes0ZyJp3YHhbQdNuVSiX3M/795B9B897j1//fP1/LG7p1NNI0zEkyC3WahTlJi2VqQemsuSbnnZ+kF+UXX3xx7Gd6YdbRlkajIZY1+v4kHUkS+XgEKpfLndq3oACit+heeeWVifvsH73Q/gVNXLZtW2Kx2MgIkfbXf9HX8DLJ01jal9PmVgXN01LeEKL0tp9/FEhHpYL6quv37g//+67OevpNa9F5RUrD1mAwCJ3zpCOJzWZTOp3OyPbQ0T/vtvffEszn88aNLBGSzEKdZiEkLZ6pBaWzApB/NMI7byZI2O2cwWAgyWRSUqmU+5SS//1JrVZr5IKo6w57wipsxMI7EnXaI/X+9fhvl2n/ut2uHBwcyN7enoh8POqj26JWq0m32z1zBKXRaIxMSA6iy/ZvP7W3t+eOdPnn4uiIlj/ABY0Iht3a8t520+Xpz73vk9IJ6qfRsKPzpRzHkXw+L7FYbCRk6Tr/8Ic/iOM4Ui6X3dum7XZ7JPRon/zr1hGoarUqnU7nzD8Alg0hySzUaRZC0mKaSlBKJBKBQUm/y0tkdDSi2+1O9BRZJpORdDrt/rf3AukdodB5OyIf3eaybXsk2OiF9rQXUebzeUkmk2OPnvsvxqfR0QhvUNIn4GKxmIh8FJp0zo4+mt5sNt0n3HTOlYYPNRwOJZ1OuwGjXq+HhiDl334iHwXNra2tkcnZyWTS/XlYCAkbEQwLtN4J6o1GQ+7evev+TG/R6vY4a8RGA1q325VMJuO+JiJonla1WnU/o7fU7t69K7Ztj43EhX3PXLlcdm8hn/e1EIuMkGQW6jQLIWlxTSUo6S0cHRFpt9vuiwH1YqajLdVqVTY3Nyea93F4eOhe7Le3tyWZTEqxWBy7QHa7XYnFYrK1tSWpVGos2OjtrdPo14gkk0kpl8uSTqcll8ud+y3axWJRksmktFotd0K7Pj324MGDkREMfb9Ps9mUra2tkUnPtVpN4vG43L9/330ZogaGBw8ejDyef1pNuv30nU76ssagunUb5/P5sWXv7++LZVny85//fOTfdZTLH0L1pY2FQkFefPHFkcBRq9Xc/XXWbcSggLYKj+xPG98NZRbqNAshabFN7T1KvV5PSqWS+1LDoCDUbDYvNOfj+PhYOp3OqRfIwWAgrVYr8DNBX18R5uTk5Mx1naVer0uxWJRqtSqDwUCGw6FUq1UpFAojI2EiH42A5PP5wKe/Wq2WFItFKZVK7ghZrVaTQqFwru9IOz4+HnszedBnzqo77PZjWJjU1wCE/T+ThNCgdzHhfDgJm4U6zcLxufjm/hUmwKS63a5sbm6KZVnyi1/8YmpfJ7NKOAmbhTrNwvG5HAhKWFg61yiTyYht26dOXsc4TsJmoU6zcHwuD4ISYCBOwmahTrNwfC4XghJgGE7CZqFOs3B8Lh+CEmAQTsJmoU6zcHwuJ4ISYAhOwmahTrNwfC4vghJgAD0JJ5NJyWazxrZnnnlGLMuSp59+OvK+UCd1TtqSyeRKHZ8mhSQRghKw9DQkPfPMM5GfKOdxEjb9okqdZrVVC0kmvvmfoAQsMYbzzUKdZuH4NANBCVhSnITNQp1m4fg0B0EJWEKchM1CnWbh+DQLQQlYMpyEzUKdZuH4NA9BCVginITNQp1m4fg0E0EJWBKchM1CnWbh+DQXQQlYApyEzUKdZuH4NBtBCVhwnITNQp1m4fg0H0EJWGCchM1CnWbh+FwNBCVgQXESNgt1moXjc3UQlIAFxEnYLNRpFo7P1UJQAhYMJ2GzUKdZOD5XD0EJWCA//NldufXi1+TuT16Vv/zv/87Y9sN//Sfyre/dlu/+6d+Xv3nw18a2f/Iv/kRuvfg1eXX770XeF+p89PZaZUtuvfg1+Yc/fDXyvsyylX72TyX5tS/ID/50O+pT4kIgKAEL4se72/KTv/0ejUajRd7++X/4R1GfEhcGQQlYABqS/uLvduR//t//Zmz7t/sV6jSoUadZ7S/+bkd+8rffkz/7N9+N+pS4UAhKQMS8Ien/PPy1se0//a9/RZ0GNeo0q/2XX7/LSFIIghIQIUKSWY06zWqrUich6XQEJSAihCSzGnWa1ValTkLS2QhKQAQISWY16jSrrUqdhKTJEJSAOSMkmdWo06y2KnUSkiZHUALmiJBkVqNOs9qq1ElIOh+CEjAnhCSzGnWa1ValTkLS+RGUgDkgJJnVqNOstip1EpIuhqAEzBghyaxGnWa1VamTkHRxBCVghghJZjXqNKutSp2EpEdDUAJmhJBkVqNOs9qq1ElIenQEJWAGCElmNeo0q61KnYSk6SAoAVO296DqfgP3n/+PHxvbdt7/IXUa1KjTvEZImg6CEjBFv/5//1v+5X/dlvK73zG7Nb4jP/6b70ql8R35x3/+D4xtf/Yf81J+9zvyz/6yEHlfqJM6z9v+/X/+WdSnRCMQlAAAAEIQlAAAAEIQlAAAAEIQlAAAAEIQlAAAAEIQlAAAAEIQlAAAAEIQlAAAAEIQlAAAAEIQlAAAAEIQlAAAAEIQlAAAAEIQlAAAAEIQlAAAAEIQlAAAAEIQlAAAAEIQlAAAAEIQlAAAAEIQlAAAAEIQlAAAAEIQlAAAAEIQlAAAAEIQlAAAAEIQlAAAAEIQlAAAAEIQlAAAAEIQlAAAAEIQlADM1cOHD2VnZ0ey2azR7fbt2/Lss89G3g/qpM7ztDt37qxEnbdv35ZKpTLROYugBGBuHj58KF/+8pflxo0bkZ8oZ30Svnr1qjz22GOR94U6qXPSdufOnZWoU/fnU089NdF5i6AEYC40JK2trclvf/vbqLszMx9++KF85StfkfX1dfnNb34TdXdmhjrNwvEZjqAEYOY4CZuFOs3C8Xk6ghKAmeIkbBbqNAvH59kISgBmhpOwWajTLByfkyEoAZgJTsJmoU6zcHxOjqAEYOo4CZuFOs1ydHTE8XkOBCUAU0VIMgt1muXo6EgSiQTH5zkQlABMDSHJLNRpFkLSxRCUAEwFIcks1GkWQtLFEZQAPDLmPJiFOs1CSHo0BCUAj4STsFmo0ywcn4+OoATgwjgJm4U6zcLxOR0EJQAXcnR0JOvr6/L5z39efvnLX8r+/r6RrdFoyI0bN+Txxx+Xt99+O/L+UCd1TtLu3bsna2trK3F8zjr0EpQAnJv+pXrp0iWxLItGo9Eia2trazMdGSQoATgX73D+X/3VX0X+F+Us/1JdhZEH6jSrrdJIku7PWd8+JSgBmBhzHsxCnWbh+JwNghKAiXASNgt1moXjc3YISgDOxEnYLNRpFo7P2SIoATgVJ2GzUKdZOD5nL7Kg5DhOVKvGOTiOs3T7Svu8bP1eRJyEzUKdZuH4nI+5BqVutyvxeNx9pK/Vas1z9TinnZ0dd18lEomxn/f7fWm322cup9lsyuHh4fQ7GMD/O9bv9+eyXhNxEjYLdZqF43N+5j6iNBwOJZVKiWVZC/0Xf7fblWw2K41GI+quRMZxHNnb2xPLsiSfz4/8rN/vu2HktP1Yq9XEsiwpl8uz7u5I32KxmMRisYX+HVtknITNQp1m0eMzkUhwfM7B3IOS4zhiWZbYtr3QF7FCoSCWZUm9Xo+6K5Ha3d0Vy7Jkd3d35N+Hw6FsbGyM/btfo9GQXC4nBwcHs+zmiOPjY7EsSzY2Nua2TpMQksxCnWbxhqSjo6OouzMzi7Q/5x6UWq3W3EcYLmI4HEq32426G5HL5/NLdwur0WgEhjucjZBkFuo0CyEpGnMPSqVSiflJS8JxHPegXOTRP79isbh04W4REJLMQp1mISRFZ+pBqV6vi23bks1mZWtrS4bD4cjPbdsWy7Lk5ORk4mU6jiPtdlsGg0HoZ7rd7tgIUK/Xk/39/ZE+OI4jrVZL9vf3Q5fVbrel1+ud2a+gdQb1XfsR1v/hcCjlcllqtZrb106nI+VyWcrl8kio3N3dlUqlIuVy+dQgMBgM3M9WKpWJQsNgMJByuSzZbFZyuZw0m82x+UnD4VC2trYkm82eOmJTr9fd5QRtI8dxpFqtSi6Xk2w2K/l8fuJgU6/X3f+vUCiMTBR3HEdSqZQkEgnp9XpSKBTcfoRNKB8MBlKr1cS2bbe/7XY79POtVstdrinz2AhJZqFOsxCSojW1oNTtdiWZTMrGxob0ej1xHEdqtdrIPBGdn5TJZCZebq1Wkxs3bkixWBTbtmVnZ0ey2aw0m033M3rBjcViUiwWpdvtim3bUiwWJZfLSTwel8PDQ6nX65JKpaRcLksqlRrrx3A4lGw2645IeNfh1el0JJ1Oy8bGhtuv119/fex2Yr1el0Qi4X4uFotJpVIZW14ul5P79+9LIpGQQqEgxWJRyuWytNttdwTu/v37Ytu2++8bGxsSj8cDw1e1WpVEIiGlUkna7ba89957Z05s1qfF8vm8OI4j3W7Xnaztnadl27a0220pl8tiWVbg+ovFotRqNTe02LY9tq5kMin5fN79Xcnn8xKPx08NS8PhUNLptNi2Lf1+XxzHEdu2JZ1Ou5/R+UnxeFxyuZy7/FQqJclkcmyZg8FAUqmU5PN5GQwG0u/3JZFIBN4eHg6H7u9Zs9kc2U6Lfiv5NIQks1CnWQhJ0ZtKUOr3+xKPx8cuiI1GYySMdDqdc11UNFx0Oh333/Qipo+l64VOL5o6UVwv4IPBQCzLknQ67YYAkY/nSnlHA3RUxzvh3E8DRa1Wc/+tUqmIZVlSLBbdf8vn82N914nR/tuOOmKjTwN6g0m73XYDi3dZ+jSZf1kaYN577z333/QWWtgo2WAwCNx/uVxu5BZWs9l0a9TJ7v6gpKMtut4bN25IKpUa237+idb6FJ13G/r7mE6nJZFIuOvUfehdvo6C+UPwxsbG2BN63tEnL92G/m1r27bEYrGx7ZjJZCQejy/V7Ul1dHQkTzzxhFy+fFmee+45d5TMtHb79m25evWqXL58WZ599tnI+0Od1DlJe/755+XKlSty5coVef755yPvzyz35/r6+kKGJJEpBSWd8NtsNuXk5ER6vZ7s7e1JIpEYec/OeeYnaUDwhyoNQ3pR2tvbk3K5LI7juI+Eey/evV4v8MJZr9dHgpJeNB3HcS+23jAk8nGg8F9YdVkacLRO/60prcn/qL3eVgwKZ2HbIehirrXqE4WO48jx8bFsb2+fOorn3X/KGyK84bLf77vbIWiZ3ncmaX+89er+848c6UhQWD91lM8bIofDoZRKpZFbZPo5/+2+VCo1Nqqm+8m/n/2/YyIf72N/kPMG9GWb/K9/qcZiMUKSAY06zWqrFJKuXr0q169fX8iQJDKloKQjHrZti23bks/npVqtjv3lHXQBCqOjK/5lxGIxyWQy7jIODw9lOBy6IxJ3794d+bw/xKigp7n0EfawJ730wlqtVkOXpYEn6FaXjoAEhQF9Usu/bF2ndzTJcRy5efPm2Do0JCSTSbFt27296J375KejZ7FYbGTe2GmP2Idt07M+p7epvCNAk2wb7Ytlnf7rqiNn/u0SFNj0s/7fMQ3c/sCqv4/+MORdzvHx8an9WyTcbjMLdZqF222LZWpBKeg2ldd55ifphdH/tJXeugu6PeMfIVIaYvwXw7CnuTToBAUEDXr+0OJdlvbDP2ok8tHcIcuyZHt7e+xnGnL8y85kMmMXfg2F/gt/JpNxL+aTfoWHN6B4P6/BzT/aotvBP3IXxL/ttf6g/af1+4Oiv4+n0e3i33e6T7wjfGG/YxrmSqWS+28nJyeh4VfXuUxPBhKSzEKdZiEkLZ6pBaWzLmJ6sdMLkM5jCfLgwYPAC57Oy2k0GjIcDkduuehF2X/xDgpE/sDlfRmiziPSURD9mQY9/4iYf7QibNRJ5ON5Mv5bj2EjRLrOXC438nkNHBoKd3Z2RETcoHSeJwrD3mvlvYV1cHAge3t7I/Xq/iuXy6FPtem2V7r/gsKXjgQFhS/tY9j8JaXhzj/Spdt2MBhIt9uVnZ0dN+D4A75u21arJYeHh1IsFkdCvj8M6f5elheTEpLMQp1mISQtpqkEpUQiERiU9OkzkY/n1LTbbel2u6e+NVkvjP4nxHRE5/j4WHZ3d0cu7olEwp1jpIJGXkRGR290MrjyzmXpdDojE5MzmczYk1N6YdULpfdC66XhLCggho1i6Xbwhy7vLcx2u+3Wt729HXprM5/PBwYa3UbebakTrmOxmLu9dP6Shp1mszkykd4v6HZX2GR+f/DzOzk5kVgsFjhK1+l03CAZ9P4k3bb6mVdeecV9Yi0Wi41sc32qTgN3tVp1t70+XecffdInBZcBIcks1GkWQtLimkpQ0gnHtVrNfQdNoVCQTCYz9oRStVqVzc3NUyd060XMO4Kgt0801Ogj4iLhT0yFff2GbdvuSEepVHJDjo4c6IUvl8uNTEbXPuij6bp87+2lwWAw1vfj42NJp9OSSqUC5wrp5HH/qISGS+/tOO2/Ptln27YbgHTd1WrVvfXWarXEtu2RW0l+xWJRksmktFotdxK+bdsSj8fl/fffHwmSWnOz2ZStra3QVyiEzWPSdTWbTel0OrK9ve0+bn8a7/L0d+z111+XTCbjbtOgJ9g0ZG1vb0u1Wh0JRqVSSeLxuLRaLWk2m5LJZNyn+d5//325efOm+/vb7XYlFovJzs6OtFot2d3dlXg8fuYo16Lgu6HMQp1mISQttqm9R6nX60mpVJKNjQ0plUqBQajZbEo+n5/oBX2tVktisZgUCgVJp9NSrVbdQLG1tTVygdIQ5v8m+3K5LLFYbOzFgfV6XWKxmGxtbY3NF9ILeTYb/ELFUqkkqVTKfR9TLBYLnOeSSCRkc3NTCoWCJBIJN7wEaTabYtv2WIgql8tjt910+ZlMRjKZzFiI6vV6srGxIbZtSyaTcd9VdJZ6vS7FYlGq1aoMBgMZDodSrValUCiMfU9btVqVfD4/tr29guaGqUajIcViUYrFotTr9TPnOqlWqyWlUkkymYyUSqWx2re3twN/t9rttvtuJ/82bjQaUi6XpVQquZOxte6gF5iWSiXJ5/NSLpcn2q6LgJOwWajTLByfi2/uX2FyXp1OZyRg6DwTv6B/06fhgujLBYN0u91Tn2DS0ZqwW3uq1+u5LzxcBVpn0PwkRIOTsFmo0ywcn8th4YPSomi32+6kaaW3g+7fvx9RrxaH9+WUYXOrMF+chM1CnWbh+FweBKUJ6Jwp73t8BoOBJJNJ+frXvx5hzxaDzu1KpVLSarWWaoKzqTgJm4U6zcLxuVwIShNKpVKSTqelUqnI9va2JBIJKRaLoS9yXDXNZtP9TrtJ3ryO2eEkbBbqNAvH5/IhKJ1Dp9ORVqslrVZrZeYdYblwEjYLdZqF43M5EZQAQ3ASNgt1moXjc3kRlAADHB0dyfr6uqytrcm9e/dkf3/fyNZoNOTGjRvy+OOPy9tvvx15f6iTOidp77zzjqytrcna2pq88847kfdnVq3RaBgXkkQISsDS079UL1265L4AlUaj0aJoa2trRoUkEYISsNS8w/nvvvtu5H9RzvIv1VUYeaBOs9o777wj6+vrYlmW8SNJuj9NC0kiBCVgaTHnwSzUaZbDw0NJJpOSTCbHvh3CJKuwPwlKwBIiJJmFOs1CSDILQQlYMoQks1CnWQhJ5iEoAUuEkGQW6jQLIclMBCVgSRCSzEKdZiEkmYugBCwBQpJZqNMshCSzEZSABUdIMgt1moWQZD6CErDACElmoU6zEJJWA0EJWFCEJLNQp1kISauDoAQsIEKSWajTLISk1UJQAhYMIcks1GkWQtLqISgBC4SQZBbqNAshaTURlKGgCPMAAATASURBVIAFcXR0JE888YRcuXJFnn/+eclms0a227dvy9WrV+Xy5cvy7LPPRt4f6qTOSdqtW7fkypUrcuXKFbl161bk/Znl/lxfXyckeRCUgAWgI0lPPPEEIcmARp1mNQ1Jly9fNj4kXb16Va5fv05I8iAoARHjdptZqNMservN9DpXZX9eBEEJiBAhySzUaRZCEkQISkBkCElmoU6zEJKgCEpABAhJZqFOsxCS4EVQAuaMkGQW6jQLIQl+BCVgjghJZqFOsxCSEISgBMwJIcks1GkWQhLCEJSAOTg8PHRDEm/0XX7UaRZCEk5DUAJmTE/CjCSZgTrNQkjCWQhKwAzpSdiyLEaSDECdZiEkYRIEJWBG+AJNs1CnWQhJmBRBCZgB70mYkLT8qNMshCScB0EJmLIPP/xQvvCFL8jjjz8ub7/9tuzv7xvZGo2G3LhxgzoNaatU5/r6+krUSUiaDoISMGUPHz6UT37yk2JZFo1Go0XWXnjhBULSFBCUgBn41a9+FflflDQabbUbpoOgBAAAEIKgBAAAEIKgBAAAEIKgBAAAEIKgBAAAEIKgBAAAEIKgBAAAEIKgBAAAEIKgBAAAEIKgBAAAEIKgBAAAEIKgBAAAEIKgBAAAEIKgBAAAEIKgBAAAEIKgBAAAEIKgBAAAEIKgBAAAEIKgBAAAEIKgBAAAEIKgBAAAEIKgBAAAEIKgBAAAEIKgBAAAEIKgBAAAEIKgBAAAEIKgBGDl3bt3T46Ojua6zoODAxkOh8avE1h2BCUAK8m2bbl27ZpYljXS4vG43Lt3bybrrFQqcuvWrZH1Xbt2TbLZrBwcHBizTsAkBCUAK+XevXvymc98Ziwg+ds3v/nNqa3z4OBAvvrVr4au6xOf+IRYliU/+tGPlnqdgIkISgBWxgcffHBmQPK2J5988pHXeXh4KJ/73OfcYHJW+/a3v72U6wRMRVACsDKCbrWd1TY3Nx9pnc8999zEgUXbzs7O0q0TMBVBCcBKsG373CFJ2wcffHChdVYqlQut79q1a3J4eLg06wRMRlACsBKuX79+4aD0xhtvXGidd+7cufA679+/vzTrBExGUAKwEi4aHizLEtu2L7TOxx577ELru3TpklQqlaVZJ2AyghIA4513Ere/xWKxc6/z8PBw7uEsinUCpiMoAVgJjxIgvvjFL859nYVCYWnWCZiMoARgJXz605++cIC46JNvX/rSly68zos+hRbFOgGTEZQArIT19fW5B4hcLief+tSnLrTO/f39pVknYDKCEoCVcO/evQuFh+vXr194nQcHB/LZz372XOu7dOmS3LlzZ6nWCZiMoARgZWxubp47KD3ql+Xu7Oyca32PPfbYI39xbRTrBExFUAKwUtLp9Nzn7Gxvb080qnPt2rWp3f6KYp2AiQhKAFbOG2+8cWqAePLJJx95JMnv/v37p36Fyre+9a2pj+pEsU7ANAQlACvp6OhIdnZ2xLZtWV9fl3Q6LZubmzN98ms4HMr+/r5UKhXJ5XKyvb0tOzs7Mx3RiWKdgEkISgAAACEISgAAACEISgAAACEISgAAACEISgAAACEISgAAACEISgAAACEISgAAACEISgAAACEISgAAACEISgAAACH+P07LYSNuKq3FAAAAAElFTkSuQmCC)\n",
        "\n",
        "Esto se repite en muchas más áreas, por ejemplo una imagen RGB es un tensor de 3 dimensiones, un video, donde hay una lista de imágenes se puede interpretar como un tensor de 4 dimensiones, y así.\n",
        "\n",
        "Analizar **varios elementos a la vez** es una práctica común en Deep Learning. Esto hace que el manejo de **tensores** se vuelva importante debido a que normalmente aumentamos en uno el número de dimensiones de los ejemplos al hacer esto."
      ]
    },
    {
      "cell_type": "markdown",
      "metadata": {
        "id": "IQgtuoz9p9W_"
      },
      "source": [
        "## **Mini-Batches y entrenamiento**\n",
        "\n",
        "En clases se vio que la forma en la que se entrenan las redes neuronales es un **proceso iterativo**, donde en primer lugar se realiza una **predicción que es mala**, **se calcula una función de perdida**, **para cada parámetro se calcula el gradiente de la _loss_ con respecto a este parámetro** y luego **se desciende en la dirección de este gradiente para tratar de llevar los parámetros a los valores que minimizan la función de perdida**.\n",
        "\n",
        "Si este proceso iterativo se llevara a cabo de a un ejemplo a la vez, el valor de **la _loss_ sería muy dependiente del ejemplo concreto que se acaba de observar** y podría no ser representativo de la _loss_ general. Esto resulta en actualizaciones ruidosas de los parámetros, porque la _loss_ para el siguiente ejemplo puede ser muy distinta al valor anterior y así es como los parámetros pueden oscilar y tener dificultad para converger.\n",
        "\n",
        "Acá es donde nos viene a rescatar el concepto de **_mini-batch_**. Un **Mini-Batch** es un **pequeño subconjunto aleatorio de muestras** de los datos de entrenamiento. Los ejemplos se pasan por la red en **grupos pequeños** para que cada conjunto produzca una  **_loss_ más representativa**. Esto le agrega robustez al modelo y lo **ayuda a converger**. El tamaño del _mini-batch_ (cantidad de ejemplos que se pasan a la vez) se vuelve un hiper parámetro de la red. Los valores óptimos de tamaño de _mini-batch_ pueden variar mucho, pero los números que yo he visto varían entre 8 y 32, aunque para algunas aplicaciones he visto valores del orden de 1000.\n",
        "\n",
        "\n",
        "Pueden leer un poco más [acá](https://machinelearningmastery.com/how-to-control-the-speed-and-stability-of-training-neural-networks-with-gradient-descent-batch-size/) o [acá](https://ruder.io/optimizing-gradient-descent/), la sección introductoria lo explica un poco en más detalle, y cita al libro [Deep Learning](https://www.deeplearningbook.org/), que es muy weno :-)"
      ]
    },
    {
      "cell_type": "markdown",
      "metadata": {
        "id": "YVtK2_G4bBsp"
      },
      "source": [
        "<br>\n",
        "<center>\n",
        "<img src=\"https://ruder.io/content/images/2016/09/contours_evaluation_optimizers.gif\" width=300 height=300 />\n",
        "</center>\n",
        "<br>"
      ]
    },
    {
      "cell_type": "markdown",
      "metadata": {
        "id": "oqCm5gsibx5s"
      },
      "source": [
        "\n",
        "\n",
        "## **Ejemplos**\n",
        "La API realmente es muy similar a la de Numpy, asique veremos solo unos pocos ejemplos. La documentación sobre los tensores la pueden ver [acá](https://pytorch.org/docs/stable/tensors.html) y la documentacion general de las operaciones sobre tensores que ofrece pytorch esta [acá](https://pytorch.org/docs/stable/torch.html).\n"
      ]
    },
    {
      "cell_type": "code",
      "execution_count": null,
      "metadata": {
        "colab": {
          "base_uri": "https://localhost:8080/"
        },
        "id": "HTn7dZVwq-SO",
        "outputId": "7b2ab17c-5db3-4d34-9d9c-f47e131bcc76"
      },
      "outputs": [
        {
          "output_type": "stream",
          "name": "stdout",
          "text": [
            "Collecting portalocker\n",
            "  Downloading portalocker-2.8.2-py3-none-any.whl (17 kB)\n",
            "Installing collected packages: portalocker\n",
            "Successfully installed portalocker-2.8.2\n"
          ]
        }
      ],
      "source": [
        "# Instalamos portalocker para luego acceder a los datasets de Pytorch\n",
        "!pip install portalocker"
      ]
    },
    {
      "cell_type": "code",
      "execution_count": null,
      "metadata": {
        "colab": {
          "base_uri": "https://localhost:8080/"
        },
        "id": "gsaS37KAzZoj",
        "outputId": "2d17f708-255d-43ed-f174-8667181e8eea"
      },
      "outputs": [
        {
          "output_type": "stream",
          "name": "stdout",
          "text": [
            "Requirement already satisfied: torch in /usr/local/lib/python3.10/dist-packages (2.2.1+cu121)\n",
            "Collecting torch\n",
            "  Downloading torch-2.2.2-cp310-cp310-manylinux1_x86_64.whl (755.5 MB)\n",
            "\u001b[2K     \u001b[90m━━━━━━━━━━━━━━━━━━━━━━━━━━━━━━━━━━━━━━━━\u001b[0m \u001b[32m755.5/755.5 MB\u001b[0m \u001b[31m1.2 MB/s\u001b[0m eta \u001b[36m0:00:00\u001b[0m\n",
            "\u001b[?25hRequirement already satisfied: filelock in /usr/local/lib/python3.10/dist-packages (from torch) (3.13.4)\n",
            "Requirement already satisfied: typing-extensions>=4.8.0 in /usr/local/lib/python3.10/dist-packages (from torch) (4.11.0)\n",
            "Requirement already satisfied: sympy in /usr/local/lib/python3.10/dist-packages (from torch) (1.12)\n",
            "Requirement already satisfied: networkx in /usr/local/lib/python3.10/dist-packages (from torch) (3.3)\n",
            "Requirement already satisfied: jinja2 in /usr/local/lib/python3.10/dist-packages (from torch) (3.1.3)\n",
            "Requirement already satisfied: fsspec in /usr/local/lib/python3.10/dist-packages (from torch) (2023.6.0)\n",
            "Collecting nvidia-cuda-nvrtc-cu12==12.1.105 (from torch)\n",
            "  Using cached nvidia_cuda_nvrtc_cu12-12.1.105-py3-none-manylinux1_x86_64.whl (23.7 MB)\n",
            "Collecting nvidia-cuda-runtime-cu12==12.1.105 (from torch)\n",
            "  Using cached nvidia_cuda_runtime_cu12-12.1.105-py3-none-manylinux1_x86_64.whl (823 kB)\n",
            "Collecting nvidia-cuda-cupti-cu12==12.1.105 (from torch)\n",
            "  Using cached nvidia_cuda_cupti_cu12-12.1.105-py3-none-manylinux1_x86_64.whl (14.1 MB)\n",
            "Collecting nvidia-cudnn-cu12==8.9.2.26 (from torch)\n",
            "  Using cached nvidia_cudnn_cu12-8.9.2.26-py3-none-manylinux1_x86_64.whl (731.7 MB)\n",
            "Collecting nvidia-cublas-cu12==12.1.3.1 (from torch)\n",
            "  Using cached nvidia_cublas_cu12-12.1.3.1-py3-none-manylinux1_x86_64.whl (410.6 MB)\n",
            "Collecting nvidia-cufft-cu12==11.0.2.54 (from torch)\n",
            "  Using cached nvidia_cufft_cu12-11.0.2.54-py3-none-manylinux1_x86_64.whl (121.6 MB)\n",
            "Collecting nvidia-curand-cu12==10.3.2.106 (from torch)\n",
            "  Using cached nvidia_curand_cu12-10.3.2.106-py3-none-manylinux1_x86_64.whl (56.5 MB)\n",
            "Collecting nvidia-cusolver-cu12==11.4.5.107 (from torch)\n",
            "  Using cached nvidia_cusolver_cu12-11.4.5.107-py3-none-manylinux1_x86_64.whl (124.2 MB)\n",
            "Collecting nvidia-cusparse-cu12==12.1.0.106 (from torch)\n",
            "  Using cached nvidia_cusparse_cu12-12.1.0.106-py3-none-manylinux1_x86_64.whl (196.0 MB)\n",
            "Collecting nvidia-nccl-cu12==2.19.3 (from torch)\n",
            "  Using cached nvidia_nccl_cu12-2.19.3-py3-none-manylinux1_x86_64.whl (166.0 MB)\n",
            "Collecting nvidia-nvtx-cu12==12.1.105 (from torch)\n",
            "  Using cached nvidia_nvtx_cu12-12.1.105-py3-none-manylinux1_x86_64.whl (99 kB)\n",
            "Requirement already satisfied: triton==2.2.0 in /usr/local/lib/python3.10/dist-packages (from torch) (2.2.0)\n",
            "Collecting nvidia-nvjitlink-cu12 (from nvidia-cusolver-cu12==11.4.5.107->torch)\n",
            "  Using cached nvidia_nvjitlink_cu12-12.4.127-py3-none-manylinux2014_x86_64.whl (21.1 MB)\n",
            "Requirement already satisfied: MarkupSafe>=2.0 in /usr/local/lib/python3.10/dist-packages (from jinja2->torch) (2.1.5)\n",
            "Requirement already satisfied: mpmath>=0.19 in /usr/local/lib/python3.10/dist-packages (from sympy->torch) (1.3.0)\n",
            "Installing collected packages: nvidia-nvtx-cu12, nvidia-nvjitlink-cu12, nvidia-nccl-cu12, nvidia-curand-cu12, nvidia-cufft-cu12, nvidia-cuda-runtime-cu12, nvidia-cuda-nvrtc-cu12, nvidia-cuda-cupti-cu12, nvidia-cublas-cu12, nvidia-cusparse-cu12, nvidia-cudnn-cu12, nvidia-cusolver-cu12, torch\n",
            "  Attempting uninstall: torch\n",
            "    Found existing installation: torch 2.2.1+cu121\n",
            "    Uninstalling torch-2.2.1+cu121:\n",
            "      Successfully uninstalled torch-2.2.1+cu121\n",
            "\u001b[31mERROR: pip's dependency resolver does not currently take into account all the packages that are installed. This behaviour is the source of the following dependency conflicts.\n",
            "torchaudio 2.2.1+cu121 requires torch==2.2.1, but you have torch 2.2.2 which is incompatible.\n",
            "torchtext 0.17.1 requires torch==2.2.1, but you have torch 2.2.2 which is incompatible.\n",
            "torchvision 0.17.1+cu121 requires torch==2.2.1, but you have torch 2.2.2 which is incompatible.\u001b[0m\u001b[31m\n",
            "\u001b[0mSuccessfully installed nvidia-cublas-cu12-12.1.3.1 nvidia-cuda-cupti-cu12-12.1.105 nvidia-cuda-nvrtc-cu12-12.1.105 nvidia-cuda-runtime-cu12-12.1.105 nvidia-cudnn-cu12-8.9.2.26 nvidia-cufft-cu12-11.0.2.54 nvidia-curand-cu12-10.3.2.106 nvidia-cusolver-cu12-11.4.5.107 nvidia-cusparse-cu12-12.1.0.106 nvidia-nccl-cu12-2.19.3 nvidia-nvjitlink-cu12-12.4.127 nvidia-nvtx-cu12-12.1.105 torch-2.2.2\n",
            "Requirement already satisfied: torchtext in /usr/local/lib/python3.10/dist-packages (0.17.1)\n",
            "Collecting torchtext\n",
            "  Downloading torchtext-0.17.2-cp310-cp310-manylinux1_x86_64.whl (2.0 MB)\n",
            "\u001b[2K     \u001b[90m━━━━━━━━━━━━━━━━━━━━━━━━━━━━━━━━━━━━━━━━\u001b[0m \u001b[32m2.0/2.0 MB\u001b[0m \u001b[31m13.3 MB/s\u001b[0m eta \u001b[36m0:00:00\u001b[0m\n",
            "\u001b[?25hRequirement already satisfied: tqdm in /usr/local/lib/python3.10/dist-packages (from torchtext) (4.66.2)\n",
            "Requirement already satisfied: requests in /usr/local/lib/python3.10/dist-packages (from torchtext) (2.31.0)\n",
            "Requirement already satisfied: torch==2.2.2 in /usr/local/lib/python3.10/dist-packages (from torchtext) (2.2.2)\n",
            "Requirement already satisfied: numpy in /usr/local/lib/python3.10/dist-packages (from torchtext) (1.25.2)\n",
            "Requirement already satisfied: filelock in /usr/local/lib/python3.10/dist-packages (from torch==2.2.2->torchtext) (3.13.4)\n",
            "Requirement already satisfied: typing-extensions>=4.8.0 in /usr/local/lib/python3.10/dist-packages (from torch==2.2.2->torchtext) (4.11.0)\n",
            "Requirement already satisfied: sympy in /usr/local/lib/python3.10/dist-packages (from torch==2.2.2->torchtext) (1.12)\n",
            "Requirement already satisfied: networkx in /usr/local/lib/python3.10/dist-packages (from torch==2.2.2->torchtext) (3.3)\n",
            "Requirement already satisfied: jinja2 in /usr/local/lib/python3.10/dist-packages (from torch==2.2.2->torchtext) (3.1.3)\n",
            "Requirement already satisfied: fsspec in /usr/local/lib/python3.10/dist-packages (from torch==2.2.2->torchtext) (2023.6.0)\n",
            "Requirement already satisfied: nvidia-cuda-nvrtc-cu12==12.1.105 in /usr/local/lib/python3.10/dist-packages (from torch==2.2.2->torchtext) (12.1.105)\n",
            "Requirement already satisfied: nvidia-cuda-runtime-cu12==12.1.105 in /usr/local/lib/python3.10/dist-packages (from torch==2.2.2->torchtext) (12.1.105)\n",
            "Requirement already satisfied: nvidia-cuda-cupti-cu12==12.1.105 in /usr/local/lib/python3.10/dist-packages (from torch==2.2.2->torchtext) (12.1.105)\n",
            "Requirement already satisfied: nvidia-cudnn-cu12==8.9.2.26 in /usr/local/lib/python3.10/dist-packages (from torch==2.2.2->torchtext) (8.9.2.26)\n",
            "Requirement already satisfied: nvidia-cublas-cu12==12.1.3.1 in /usr/local/lib/python3.10/dist-packages (from torch==2.2.2->torchtext) (12.1.3.1)\n",
            "Requirement already satisfied: nvidia-cufft-cu12==11.0.2.54 in /usr/local/lib/python3.10/dist-packages (from torch==2.2.2->torchtext) (11.0.2.54)\n",
            "Requirement already satisfied: nvidia-curand-cu12==10.3.2.106 in /usr/local/lib/python3.10/dist-packages (from torch==2.2.2->torchtext) (10.3.2.106)\n",
            "Requirement already satisfied: nvidia-cusolver-cu12==11.4.5.107 in /usr/local/lib/python3.10/dist-packages (from torch==2.2.2->torchtext) (11.4.5.107)\n",
            "Requirement already satisfied: nvidia-cusparse-cu12==12.1.0.106 in /usr/local/lib/python3.10/dist-packages (from torch==2.2.2->torchtext) (12.1.0.106)\n",
            "Requirement already satisfied: nvidia-nccl-cu12==2.19.3 in /usr/local/lib/python3.10/dist-packages (from torch==2.2.2->torchtext) (2.19.3)\n",
            "Requirement already satisfied: nvidia-nvtx-cu12==12.1.105 in /usr/local/lib/python3.10/dist-packages (from torch==2.2.2->torchtext) (12.1.105)\n",
            "Requirement already satisfied: triton==2.2.0 in /usr/local/lib/python3.10/dist-packages (from torch==2.2.2->torchtext) (2.2.0)\n",
            "Requirement already satisfied: nvidia-nvjitlink-cu12 in /usr/local/lib/python3.10/dist-packages (from nvidia-cusolver-cu12==11.4.5.107->torch==2.2.2->torchtext) (12.4.127)\n",
            "Requirement already satisfied: charset-normalizer<4,>=2 in /usr/local/lib/python3.10/dist-packages (from requests->torchtext) (3.3.2)\n",
            "Requirement already satisfied: idna<4,>=2.5 in /usr/local/lib/python3.10/dist-packages (from requests->torchtext) (3.7)\n",
            "Requirement already satisfied: urllib3<3,>=1.21.1 in /usr/local/lib/python3.10/dist-packages (from requests->torchtext) (2.0.7)\n",
            "Requirement already satisfied: certifi>=2017.4.17 in /usr/local/lib/python3.10/dist-packages (from requests->torchtext) (2024.2.2)\n",
            "Requirement already satisfied: MarkupSafe>=2.0 in /usr/local/lib/python3.10/dist-packages (from jinja2->torch==2.2.2->torchtext) (2.1.5)\n",
            "Requirement already satisfied: mpmath>=0.19 in /usr/local/lib/python3.10/dist-packages (from sympy->torch==2.2.2->torchtext) (1.3.0)\n",
            "Installing collected packages: torchtext\n",
            "  Attempting uninstall: torchtext\n",
            "    Found existing installation: torchtext 0.17.1\n",
            "    Uninstalling torchtext-0.17.1:\n",
            "      Successfully uninstalled torchtext-0.17.1\n",
            "Successfully installed torchtext-0.17.2\n"
          ]
        }
      ],
      "source": [
        "# Nos aseguramos que pytorch y torchtext esten en la ultima version\n",
        "!pip install torch -U\n",
        "!pip install torchtext -U\n",
        "import torch"
      ]
    },
    {
      "cell_type": "code",
      "execution_count": null,
      "metadata": {
        "colab": {
          "base_uri": "https://localhost:8080/"
        },
        "id": "bhqLuYsIYTtt",
        "outputId": "6971cdb3-55ae-4968-d8e4-9edb7329ae56"
      },
      "outputs": [
        {
          "output_type": "stream",
          "name": "stdout",
          "text": [
            "Desde una lista de listas\n",
            " tensor([[2, 3, 4],\n",
            "        [4, 5, 6]])\n",
            "\n",
            "Dimensiones del tensor\n",
            " torch.Size([2, 3])\n",
            "\n",
            "Numero de dimensiones del tensor\n",
            " 2\n"
          ]
        }
      ],
      "source": [
        "# Creacion de un tensor a partir de otra estructura\n",
        "a = [[2,3,4], [4,5,6]]\n",
        "t = torch.tensor(a)\n",
        "print(\"Desde una lista de listas\\n\", t)\n",
        "print(\"\\nDimensiones del tensor\\n\", t.size())\n",
        "print(\"\\nNumero de dimensiones del tensor\\n\", t.dim())"
      ]
    },
    {
      "cell_type": "code",
      "execution_count": null,
      "metadata": {
        "colab": {
          "base_uri": "https://localhost:8080/"
        },
        "id": "tbmxaTNpeeCI",
        "outputId": "5275ef2a-448f-48b9-f224-d12471200bde"
      },
      "outputs": [
        {
          "output_type": "stream",
          "name": "stdout",
          "text": [
            "Tensor vacio\n",
            " tensor([[[ 2.2421e-44,  7.6831e+31, -4.0674e-21],\n",
            "         [ 3.2744e-41,  1.4013e-45,  0.0000e+00]],\n",
            "\n",
            "        [[-4.0674e-21,  3.2744e-41,  1.8841e-36],\n",
            "         [ 4.4082e-41,  2.8026e-44,  3.2744e-41]]])\n"
          ]
        }
      ],
      "source": [
        "# Creacion de un tensor \"vacio\"\n",
        "t = torch.empty(2,2,3)\n",
        "print(\"Tensor vacio\\n\", t)"
      ]
    },
    {
      "cell_type": "code",
      "execution_count": null,
      "metadata": {
        "colab": {
          "base_uri": "https://localhost:8080/"
        },
        "id": "n4oh5DZJehaF",
        "outputId": "642e3346-3994-4087-e82a-9ccc23b3eade"
      },
      "outputs": [
        {
          "output_type": "stream",
          "name": "stdout",
          "text": [
            "Puros unos\n",
            " tensor([[[1., 1., 1., 1.],\n",
            "         [1., 1., 1., 1.],\n",
            "         [1., 1., 1., 1.]],\n",
            "\n",
            "        [[1., 1., 1., 1.],\n",
            "         [1., 1., 1., 1.],\n",
            "         [1., 1., 1., 1.]]])\n"
          ]
        }
      ],
      "source": [
        "# Creacion de tensores con puros 1 o puros ceros\n",
        "t = torch.ones(2,3,4)\n",
        "# t = torch.zeros(2,3,4,5)\n",
        "print(\"Puros unos\\n\", t) # notar la tercera dimension"
      ]
    },
    {
      "cell_type": "code",
      "execution_count": null,
      "metadata": {
        "colab": {
          "base_uri": "https://localhost:8080/"
        },
        "id": "2PLHgzdMe2cb",
        "outputId": "60502276-1b82-44f7-f967-557903f9bfdb"
      },
      "outputs": [
        {
          "output_type": "stream",
          "name": "stdout",
          "text": [
            "Distribucion uniforme\n",
            " tensor([[0.9586, 0.4949],\n",
            "        [0.1640, 0.6188],\n",
            "        [0.0931, 0.8340]])\n",
            "\n",
            "Distribucion normal\n",
            " tensor([[ 1.6700, -0.8660, -0.3411],\n",
            "        [-0.5754, -1.9259, -1.4548]])\n"
          ]
        }
      ],
      "source": [
        "# Random sampling\n",
        "t = torch.empty(3, 2).uniform_() # notar operacion in-place\n",
        "print(\"Distribucion uniforme\\n\", t)\n",
        "\n",
        "t = torch.randn(2, 3)\n",
        "print(\"\\nDistribucion normal\\n\", t)"
      ]
    },
    {
      "cell_type": "code",
      "execution_count": null,
      "metadata": {
        "colab": {
          "base_uri": "https://localhost:8080/"
        },
        "id": "33AQwoOXobdD",
        "outputId": "40942005-7a2f-4887-bc3d-ebe7955bc7ab"
      },
      "outputs": [
        {
          "output_type": "stream",
          "name": "stdout",
          "text": [
            "Operaciones con escalares\n",
            " tensor([[6., 6., 6., 6.],\n",
            "        [6., 6., 6., 6.],\n",
            "        [6., 6., 6., 6.]])\n"
          ]
        }
      ],
      "source": [
        "# Operaciones matematicas\n",
        "t = torch.ones(3,4)\n",
        "print(\"Operaciones con escalares\\n\", t + 5)"
      ]
    },
    {
      "cell_type": "code",
      "execution_count": null,
      "metadata": {
        "colab": {
          "base_uri": "https://localhost:8080/"
        },
        "id": "NBINbVumph2W",
        "outputId": "2edf6292-5f1f-4bd1-82fe-d48813f90022"
      },
      "outputs": [
        {
          "output_type": "execute_result",
          "data": {
            "text/plain": [
              "tensor([[1., 1., 1.],\n",
              "        [1., 1., 1.]])"
            ]
          },
          "metadata": {},
          "execution_count": 8
        }
      ],
      "source": [
        "# Operaciones entre tensores\n",
        "t1 = torch.ones(2, 3)\n",
        "t1"
      ]
    },
    {
      "cell_type": "code",
      "execution_count": null,
      "metadata": {
        "colab": {
          "base_uri": "https://localhost:8080/"
        },
        "id": "t2fJNHSJisbC",
        "outputId": "0de26e48-4584-46c5-bc29-8f2686f4b693"
      },
      "outputs": [
        {
          "output_type": "stream",
          "name": "stdout",
          "text": [
            "Operaciones entre tensores\n",
            " tensor([[3., 3., 3.],\n",
            "        [3., 3., 3.]])\n"
          ]
        }
      ],
      "source": [
        "t2 = torch.ones(2, 3) * 2\n",
        "print(\"Operaciones entre tensores\\n\", t1 + t2)"
      ]
    },
    {
      "cell_type": "code",
      "execution_count": null,
      "metadata": {
        "colab": {
          "base_uri": "https://localhost:8080/"
        },
        "id": "G2ouTAQYXxyH",
        "outputId": "fd2f8c80-d0b1-4268-d082-e8277c98c0aa"
      },
      "outputs": [
        {
          "output_type": "stream",
          "name": "stdout",
          "text": [
            "Suma in-place\n",
            " tensor([[2., 2., 2.],\n",
            "        [2., 2., 2.]])\n"
          ]
        }
      ],
      "source": [
        "# Tambien se pueden hacer operaciones in-place, se modifica el mismo tensor\n",
        "t = torch.ones(2,3)\n",
        "t.add_(1)\n",
        "print(\"Suma in-place\\n\", t)"
      ]
    },
    {
      "cell_type": "code",
      "execution_count": null,
      "metadata": {
        "colab": {
          "base_uri": "https://localhost:8080/"
        },
        "id": "N33ZYc3LYH94",
        "outputId": "483c62c5-9285-49e3-d7a4-544fce9985c2"
      },
      "outputs": [
        {
          "output_type": "stream",
          "name": "stdout",
          "text": [
            "Dimensiones de partida\n",
            " torch.Size([16])\n",
            "\n",
            "Usamos el metodo .view() y el -1 para que torch infiera dimensiones\n",
            " torch.Size([2, 8])\n",
            "\n",
            "Podemos volver a aplanar el tensor con .flatten()\n",
            " torch.Size([16])\n",
            "\n",
            "Podemos agregar dimensiones sin agregar datos con .unsqueeze()\n",
            " torch.Size([4, 1, 4])\n",
            "\n",
            "Con .squeeze() podemos sacar todas las dimensiones de tamaño 1\n",
            " torch.Size([4, 4])\n"
          ]
        }
      ],
      "source": [
        "# Hay veces que es util reorganizar los datos de un tensor, o agregar\n",
        "# dimensiones\n",
        "t = torch.arange(16)\n",
        "print(\"Dimensiones de partida\\n\", t.shape)\n",
        "\n",
        "t = t.view(-1, 8)\n",
        "print(\"\\nUsamos el metodo .view() y el -1 para que torch infiera dimensiones\\n\", t.shape)\n",
        "\n",
        "t = t.flatten() # Aqui tambien se podria usar .view(-1)\n",
        "print(\"\\nPodemos volver a aplanar el tensor con .flatten()\\n\", t.shape)\n",
        "\n",
        "t = t.view(-1, 4).unsqueeze(1) # tambien podria ser .view(-1, 1, 4)\n",
        "print(\"\\nPodemos agregar dimensiones sin agregar datos con .unsqueeze()\\n\", t.shape)\n",
        "\n",
        "t = t.squeeze()\n",
        "print(\"\\nCon .squeeze() podemos sacar todas las dimensiones de tamaño 1\\n\", t.shape)"
      ]
    },
    {
      "cell_type": "code",
      "execution_count": null,
      "metadata": {
        "colab": {
          "base_uri": "https://localhost:8080/"
        },
        "id": "B6MMvvLpL3ro",
        "outputId": "d508883b-eb97-4761-ed4e-e9ee344705b2"
      },
      "outputs": [
        {
          "output_type": "stream",
          "name": "stdout",
          "text": [
            "dim=0: tensor([-1.3989e+00, -9.3137e-01,  5.2710e+00, -5.1962e-03,  2.9848e-01,\n",
            "        -3.2658e+00, -1.3011e+00, -1.1452e-01, -1.1667e+00,  4.0444e+00])\n",
            "dim=1: tensor([ 2.4939, -2.0781, -0.1412,  0.2663,  0.8895])\n"
          ]
        }
      ],
      "source": [
        "# Podemos hacer las tipicas sumas\n",
        "t = torch.randn(5, 10)\n",
        "# dim = 0 es suma de filas y 1 de columnas\n",
        "print(f\"dim=0: {t.sum(dim=0)}\")\n",
        "print(f\"dim=1: {t.sum(dim=1)}\")"
      ]
    },
    {
      "cell_type": "code",
      "execution_count": null,
      "metadata": {
        "id": "Aoqanb1yNtTe"
      },
      "outputs": [],
      "source": [
        "# Tal como con numpy podemos hacer funciones\n",
        "def softmax(T, dim):\n",
        "  T = torch.as_tensor(T)\n",
        "  T = T - torch.max(T)\n",
        "  deno = torch.exp(T)\n",
        "  suma = torch.sum(torch.exp(T), dim=dim, keepdim=True)\n",
        "  output = deno/suma\n",
        "  return output"
      ]
    },
    {
      "cell_type": "code",
      "execution_count": null,
      "metadata": {
        "colab": {
          "base_uri": "https://localhost:8080/"
        },
        "id": "sGcH3FZqOBOz",
        "outputId": "3d9c045d-2b07-474c-e99b-16761af498cc"
      },
      "outputs": [
        {
          "output_type": "execute_result",
          "data": {
            "text/plain": [
              "tensor([[0.0093, 0.0076, 0.0181, 0.0420, 0.0133, 0.0388, 0.0241, 0.0177, 0.0065,\n",
              "         0.0243, 0.0074, 0.0147, 0.0161, 0.0408, 0.0159, 0.1037, 0.0145, 0.0196,\n",
              "         0.0597, 0.0248, 0.0472, 0.0112, 0.0205, 0.0351, 0.0137, 0.0095, 0.1536,\n",
              "         0.0318, 0.0026, 0.0253, 0.0585, 0.0724],\n",
              "        [0.0599, 0.0405, 0.0197, 0.0195, 0.0046, 0.0181, 0.0253, 0.0976, 0.0080,\n",
              "         0.0442, 0.0068, 0.0151, 0.0283, 0.0699, 0.0349, 0.0161, 0.0085, 0.0259,\n",
              "         0.0203, 0.0187, 0.0108, 0.0511, 0.0094, 0.0346, 0.0384, 0.0111, 0.0149,\n",
              "         0.0128, 0.0783, 0.0283, 0.0632, 0.0654],\n",
              "        [0.0933, 0.0266, 0.0352, 0.0847, 0.0296, 0.0113, 0.0061, 0.0050, 0.0148,\n",
              "         0.0933, 0.0654, 0.0397, 0.0056, 0.0499, 0.0025, 0.0109, 0.0330, 0.0112,\n",
              "         0.0363, 0.0168, 0.0134, 0.0266, 0.1025, 0.0077, 0.0092, 0.0068, 0.0182,\n",
              "         0.0261, 0.0564, 0.0207, 0.0161, 0.0250],\n",
              "        [0.0077, 0.1670, 0.0192, 0.0056, 0.0035, 0.0151, 0.0016, 0.0101, 0.0111,\n",
              "         0.1644, 0.0232, 0.0481, 0.0214, 0.0414, 0.0174, 0.0103, 0.0396, 0.0579,\n",
              "         0.0391, 0.0358, 0.0131, 0.0046, 0.0144, 0.0199, 0.0025, 0.0164, 0.0055,\n",
              "         0.0944, 0.0665, 0.0094, 0.0130, 0.0009],\n",
              "        [0.0089, 0.0119, 0.0145, 0.0132, 0.0162, 0.0130, 0.0107, 0.0543, 0.0044,\n",
              "         0.0201, 0.0698, 0.0885, 0.0776, 0.0859, 0.0356, 0.0407, 0.0080, 0.0699,\n",
              "         0.0372, 0.0119, 0.0113, 0.0752, 0.0541, 0.0208, 0.0107, 0.0054, 0.0384,\n",
              "         0.0251, 0.0043, 0.0455, 0.0132, 0.0038]])"
            ]
          },
          "metadata": {},
          "execution_count": 14
        }
      ],
      "source": [
        "t = torch.randn(5, 32)\n",
        "softmax(t, dim=1)"
      ]
    },
    {
      "cell_type": "markdown",
      "metadata": {
        "id": "Noj-NgUarIXt"
      },
      "source": [
        "## **GPUs y Deep Learning**\n",
        "\n",
        "La **GPU** es lo mismo que la **tarjeta de video** de los computadores. Es un chip que esta diseñado para manipular gran cantidad de matrices de píxeles, aplicarles transformaciones, y enviarlas a la pantalla para que las podamos ver. Lo interesante de las **GPU** es que están pensadas específicamente para paralelizar cálculos debido a su aplicación en **matrices**.\n",
        "\n",
        "Como referencia un procesador multi-nucleo tiene entre 4 y 16 núcleos actualmente, mientras que una **GPU** puede fácilmente superar los 1000 núcleos (aunque son más simples).\n",
        "\n",
        "La mayoría de las operaciones tensoriales se pueden paralelizar, por lo que la GPU se aprovecha de esta propiedad y es capaz de realizar operaciones sobre una matriz completa en **un solo ciclo de reloj** (muy muy rápido). Esto puede mejorar el tiempo de computación hasta por un factor de 100 en cierto casos.\n",
        "\n",
        "Es por esto que las GPUs se usan tanto en deep learning, porque el **deep learning esta basado en operaciones básicas sobre tensores**, pero en cantidades enormes. Nos estamos aprovechando de años de investigación y desarrollo en cómo subir los FPS de tu juego favorito para darle un uso ~~productivo~~ científico.\n",
        "\n",
        "Si bien las GPU son la principal componente utilizada para realizar deep learning, el 2018 Google hizo publicas unos procesadores llamaods [TPU](https://cloud.google.com/tpu?hl=es-419), quienes permiten realizar una parelización extrema en las operaciones. A pesar de sus beneficios, actualmente estos dispositivos solo se encuentran disponibles en los nubes de Google (de puro tacaños..)."
      ]
    },
    {
      "cell_type": "code",
      "execution_count": null,
      "metadata": {
        "colab": {
          "base_uri": "https://localhost:8080/",
          "height": 335
        },
        "id": "QKNjqMt5qFIJ",
        "outputId": "82b95353-df08-4567-e188-c57ad7eb1b1c"
      },
      "outputs": [
        {
          "output_type": "display_data",
          "data": {
            "text/plain": [
              "<IPython.core.display.HTML object>"
            ],
            "text/html": [
              "<iframe\n",
              "    width=\"560\"\n",
              "    height=\"315\"\n",
              "    src=\"https://www.youtube.com/embed/-P28LKWTzrI\"\n",
              "    frameborder=\"0\"\n",
              "    allow=\"accelerometer; autoplay; encrypted-media; gyroscope; picture-in-picture\"\n",
              "    allowfullscreen>\n",
              "</iframe>\n"
            ]
          },
          "metadata": {}
        }
      ],
      "source": [
        "%%html\n",
        "<iframe\n",
        "    width=\"560\"\n",
        "    height=\"315\"\n",
        "    src=\"https://www.youtube.com/embed/-P28LKWTzrI\"\n",
        "    frameborder=\"0\"\n",
        "    allow=\"accelerometer; autoplay; encrypted-media; gyroscope; picture-in-picture\"\n",
        "    allowfullscreen>\n",
        "</iframe>"
      ]
    },
    {
      "cell_type": "markdown",
      "metadata": {
        "id": "B3in0Nv1fZ9N"
      },
      "source": [
        "\n",
        "## **Usando la GPU en PyTorch**\n",
        "\n",
        "Otra de las gracias de **PyTorch** es que permite **interactuar con la GPU** de forma muy transparente para el usuario. Mover **tensores** desde la CPU (que es donde se crean por default) hacia la GPU se hace en una pura línea, y además es muy simple escribir código **agnóstico** al dispositivo, lo que significa que si el sistema donde se corre el código dispone de GPUs estas se ocupan, pero si no, se ocupa la CPU nomás.\n",
        "\n",
        "A continuación hay unos ejemplos, y pueden leer más al respecto [acá](https://pytorch.org/docs/stable/notes/cuda.html)."
      ]
    },
    {
      "cell_type": "code",
      "execution_count": null,
      "metadata": {
        "colab": {
          "base_uri": "https://localhost:8080/"
        },
        "id": "e8EjrIZnypw5",
        "outputId": "03e7fd79-c445-4795-98c9-398a4806906e"
      },
      "outputs": [
        {
          "output_type": "stream",
          "name": "stdout",
          "text": [
            "Thu Apr 18 18:16:20 2024       \n",
            "+---------------------------------------------------------------------------------------+\n",
            "| NVIDIA-SMI 535.104.05             Driver Version: 535.104.05   CUDA Version: 12.2     |\n",
            "|-----------------------------------------+----------------------+----------------------+\n",
            "| GPU  Name                 Persistence-M | Bus-Id        Disp.A | Volatile Uncorr. ECC |\n",
            "| Fan  Temp   Perf          Pwr:Usage/Cap |         Memory-Usage | GPU-Util  Compute M. |\n",
            "|                                         |                      |               MIG M. |\n",
            "|=========================================+======================+======================|\n",
            "|   0  Tesla T4                       Off | 00000000:00:04.0 Off |                    0 |\n",
            "| N/A   33C    P8               9W /  70W |      0MiB / 15360MiB |      0%      Default |\n",
            "|                                         |                      |                  N/A |\n",
            "+-----------------------------------------+----------------------+----------------------+\n",
            "                                                                                         \n",
            "+---------------------------------------------------------------------------------------+\n",
            "| Processes:                                                                            |\n",
            "|  GPU   GI   CI        PID   Type   Process name                            GPU Memory |\n",
            "|        ID   ID                                                             Usage      |\n",
            "|=======================================================================================|\n",
            "|  No running processes found                                                           |\n",
            "+---------------------------------------------------------------------------------------+\n"
          ]
        }
      ],
      "source": [
        "# Primero usemos un comando de shell para obtener informacion de la GPU\n",
        "# Recuerden cambiar el runtime del colab\n",
        "!nvidia-smi"
      ]
    },
    {
      "cell_type": "code",
      "execution_count": null,
      "metadata": {
        "colab": {
          "base_uri": "https://localhost:8080/"
        },
        "id": "VgAok3BJzSWi",
        "outputId": "c1485673-6599-437b-f333-04ea492bd444"
      },
      "outputs": [
        {
          "output_type": "stream",
          "name": "stdout",
          "text": [
            "Habemus GPU? True\n",
            "Cuantas GPUs me regala Google? 1\n"
          ]
        }
      ],
      "source": [
        "# Verificar si cuda esta disponible en el entorno\n",
        "print(\"Habemus GPU?\", torch.cuda.is_available())\n",
        "if torch.cuda.is_available(): # Usar esto para codigo agnostico\n",
        "    print(\"Cuantas GPUs me regala Google?\", torch.cuda.device_count())"
      ]
    },
    {
      "cell_type": "code",
      "execution_count": null,
      "metadata": {
        "colab": {
          "base_uri": "https://localhost:8080/"
        },
        "id": "D1cyvw3mzeMP",
        "outputId": "152ed249-0d51-40e2-dfce-2653de13f3c3"
      },
      "outputs": [
        {
          "output_type": "stream",
          "name": "stdout",
          "text": [
            "Los tensores se instancian en la cpu por default\n",
            "Pero se pueden mover al dispositivo cuda:0 usando el methodo .cuda()\n",
            "Tambien se pueden llevar a cuda:0 usando el metodo .to()\n"
          ]
        }
      ],
      "source": [
        "# Mover tensores entre gpu y cpu\n",
        "t = torch.empty(3, 4)\n",
        "print(f\"Los tensores se instancian en la {t.device} por default\")\n",
        "\n",
        "t = t.cuda() # .cuda() retorna un nuevo tensor en GPU\n",
        "print(f\"Pero se pueden mover al dispositivo {t.device} usando el methodo .cuda()\")\n",
        "\n",
        "t = torch.empty(3, 4).to(\"cuda\") # Tambien se puede usar con \"cpu\"\n",
        "print(f\"Tambien se pueden llevar a {t.device} usando el metodo .to()\")"
      ]
    },
    {
      "cell_type": "code",
      "execution_count": null,
      "metadata": {
        "colab": {
          "base_uri": "https://localhost:8080/"
        },
        "id": "yeYMoyGFv9zO",
        "outputId": "d2a91e47-34ae-4ac1-8b80-e851ced59209"
      },
      "outputs": [
        {
          "output_type": "stream",
          "name": "stdout",
          "text": [
            "Thu Apr 18 18:16:20 2024       \n",
            "+---------------------------------------------------------------------------------------+\n",
            "| NVIDIA-SMI 535.104.05             Driver Version: 535.104.05   CUDA Version: 12.2     |\n",
            "|-----------------------------------------+----------------------+----------------------+\n",
            "| GPU  Name                 Persistence-M | Bus-Id        Disp.A | Volatile Uncorr. ECC |\n",
            "| Fan  Temp   Perf          Pwr:Usage/Cap |         Memory-Usage | GPU-Util  Compute M. |\n",
            "|                                         |                      |               MIG M. |\n",
            "|=========================================+======================+======================|\n",
            "|   0  Tesla T4                       Off | 00000000:00:04.0 Off |                    0 |\n",
            "| N/A   34C    P0              25W /  70W |    105MiB / 15360MiB |      2%      Default |\n",
            "|                                         |                      |                  N/A |\n",
            "+-----------------------------------------+----------------------+----------------------+\n",
            "                                                                                         \n",
            "+---------------------------------------------------------------------------------------+\n",
            "| Processes:                                                                            |\n",
            "|  GPU   GI   CI        PID   Type   Process name                            GPU Memory |\n",
            "|        ID   ID                                                             Usage      |\n",
            "|=======================================================================================|\n",
            "+---------------------------------------------------------------------------------------+\n"
          ]
        }
      ],
      "source": [
        "# Veamos el uso de la gpu\n",
        "!nvidia-smi"
      ]
    },
    {
      "cell_type": "markdown",
      "source": [],
      "metadata": {
        "id": "jdM5r7Zbz-IH"
      }
    },
    {
      "cell_type": "markdown",
      "source": [
        "# **Clasificación de Texto**\n",
        "\n",
        "Ahora usaremos redes feed forward para la clasificación de texto."
      ],
      "metadata": {
        "_cell_guid": "21a76004-8373-424f-8742-57bf4e7508c7",
        "_uuid": "dd2d7a25-d2cf-40d9-b9ca-783f68ecb397",
        "id": "46jrmdTCxmC1",
        "trusted": true
      }
    },
    {
      "cell_type": "code",
      "source": [
        "# Nos aseguramos que pytorch y torchtext esten en la ultima version\n",
        "#!pip install torch -U\n",
        "#!pip install torchtext -U\n",
        "import torch"
      ],
      "metadata": {
        "_cell_guid": "aab1302a-4f73-429d-8da4-3df6fe01f86e",
        "_uuid": "fa28c711-9e5c-46af-a3a8-eb149cf65a0c",
        "id": "6O4hGkW2RLtZ",
        "jupyter": {
          "outputs_hidden": false
        },
        "execution": {
          "iopub.status.busy": "2024-04-18T18:04:41.738915Z",
          "iopub.execute_input": "2024-04-18T18:04:41.739619Z",
          "iopub.status.idle": "2024-04-18T18:04:41.743807Z",
          "shell.execute_reply.started": "2024-04-18T18:04:41.739585Z",
          "shell.execute_reply": "2024-04-18T18:04:41.742862Z"
        },
        "trusted": true
      },
      "execution_count": null,
      "outputs": []
    },
    {
      "cell_type": "markdown",
      "source": [
        "## Datos"
      ],
      "metadata": {
        "_cell_guid": "6b6135fd-206d-49f3-a603-61ef07f3d73b",
        "_uuid": "98466131-d150-4cf8-8fa9-44e691b5cad5",
        "id": "VCYwbzIolQZg",
        "trusted": true
      }
    },
    {
      "cell_type": "markdown",
      "source": [
        "Descarguemos el dataset que usaremos en los ejmplos de esta parte de la auxiliar"
      ],
      "metadata": {
        "_cell_guid": "41303c14-a95c-4191-92a9-44ab8b92974f",
        "_uuid": "fe46d853-1df3-4cd4-930e-86c89def6fc3",
        "id": "N_a7nTyllOUS",
        "trusted": true
      }
    },
    {
      "cell_type": "code",
      "source": [
        "!wget raw.githubusercontent.com/uchile-nlp/ArgumentMining2017/master/data/complete_data.csv.gz\n",
        "# !gunzip complete_data.csv.gz"
      ],
      "metadata": {
        "_cell_guid": "6d3f97a2-c96f-42fb-8e3e-fde63dfd3d37",
        "_uuid": "075f0081-8864-4005-8e95-bb979aee4e87",
        "id": "eiTRFyZBlV_4",
        "jupyter": {
          "outputs_hidden": false
        },
        "outputId": "9faa564a-743b-4590-8ca6-980054803643",
        "execution": {
          "iopub.status.busy": "2024-04-18T18:04:41.74834Z",
          "iopub.execute_input": "2024-04-18T18:04:41.748674Z",
          "iopub.status.idle": "2024-04-18T18:04:42.871703Z",
          "shell.execute_reply.started": "2024-04-18T18:04:41.748646Z",
          "shell.execute_reply": "2024-04-18T18:04:42.870394Z"
        },
        "trusted": true,
        "colab": {
          "base_uri": "https://localhost:8080/"
        }
      },
      "execution_count": null,
      "outputs": [
        {
          "output_type": "stream",
          "name": "stdout",
          "text": [
            "--2024-04-18 18:16:20--  http://raw.githubusercontent.com/uchile-nlp/ArgumentMining2017/master/data/complete_data.csv.gz\n",
            "Resolving raw.githubusercontent.com (raw.githubusercontent.com)... 185.199.108.133, 185.199.109.133, 185.199.110.133, ...\n",
            "Connecting to raw.githubusercontent.com (raw.githubusercontent.com)|185.199.108.133|:80... connected.\n",
            "HTTP request sent, awaiting response... 301 Moved Permanently\n",
            "Location: https://raw.githubusercontent.com/uchile-nlp/ArgumentMining2017/master/data/complete_data.csv.gz [following]\n",
            "--2024-04-18 18:16:20--  https://raw.githubusercontent.com/uchile-nlp/ArgumentMining2017/master/data/complete_data.csv.gz\n",
            "Connecting to raw.githubusercontent.com (raw.githubusercontent.com)|185.199.108.133|:443... connected.\n",
            "HTTP request sent, awaiting response... 200 OK\n",
            "Length: 9304385 (8.9M) [application/octet-stream]\n",
            "Saving to: ‘complete_data.csv.gz’\n",
            "\n",
            "complete_data.csv.g 100%[===================>]   8.87M  --.-KB/s    in 0.06s   \n",
            "\n",
            "2024-04-18 18:16:21 (140 MB/s) - ‘complete_data.csv.gz’ saved [9304385/9304385]\n",
            "\n"
          ]
        }
      ]
    },
    {
      "cell_type": "code",
      "source": [
        "import gzip\n",
        "import csv\n",
        "with gzip.open('complete_data.csv.gz', 'rt') as f:\n",
        "  data = csv.DictReader(f, strict=True, escapechar=\"\\\\\")\n",
        "\n",
        "  # Para este ejemplo solo voy a trabajar con documentos de la categoria 1, \"Valores\"\n",
        "  dataset = tuple(\n",
        "      # Usemos lowercase para que el vocabulario no quede tan grande\n",
        "      (row[\"argument\"].lower(), row[\"constitutional_concept\"])\n",
        "      for row in data if row[\"topic\"] == \"1\" and row[\"argument\"]\n",
        "  )\n",
        "\n",
        "dataset = dataset[:10000]\n",
        "\n",
        "# Mostremos algunos ejemplos\n",
        "from random import sample\n",
        "for example in sample(dataset, 3):\n",
        "    print(\"\\nEjemplo aleatorio:\\n\", example)"
      ],
      "metadata": {
        "_cell_guid": "7764f4b5-b3c6-403b-8d01-5c6096738172",
        "_uuid": "d9ec968e-7d93-4c43-8864-7add616f2ce2",
        "id": "EvUG4iRIlYHP",
        "jupyter": {
          "outputs_hidden": false
        },
        "outputId": "8641558a-9aec-4fcc-a62e-18eb43b76a11",
        "execution": {
          "iopub.status.busy": "2024-04-18T18:04:42.874655Z",
          "iopub.execute_input": "2024-04-18T18:04:42.87513Z",
          "iopub.status.idle": "2024-04-18T18:04:44.315685Z",
          "shell.execute_reply.started": "2024-04-18T18:04:42.875086Z",
          "shell.execute_reply": "2024-04-18T18:04:44.314634Z"
        },
        "trusted": true,
        "colab": {
          "base_uri": "https://localhost:8080/"
        }
      },
      "execution_count": null,
      "outputs": [
        {
          "output_type": "stream",
          "name": "stdout",
          "text": [
            "\n",
            "Ejemplo aleatorio:\n",
            " ('el bien común agruparía a todos los otros valores y es el fin de cualquier estado.  el bien común lo entendemos como contraposición al individualismo que caracteriza a nuestra sociedad. la actual constitución tiene una tendencia súper fuerte al individualismo.', 'Bien Común / Comunidad')\n",
            "\n",
            "Ejemplo aleatorio:\n",
            " ('todos los ciudadanos son iguales ante la constitución, pero se debe resguardar esta condición para los pueblos originarios y minorías.  hay que evitar la falta de equidad y proponemos regular la acumulación de riqueza.', 'Igualdad')\n",
            "\n",
            "Ejemplo aleatorio:\n",
            " ('entendiendo que es un tema correctivo, dado que descentralizar implica que el sistema este centralizado, se hace énfasis en esto para que se comprenda que un principio base de la constitución es un estado descentralizado.', 'Descentralización')\n"
          ]
        }
      ]
    },
    {
      "cell_type": "markdown",
      "source": [
        "## Tokenización y splits"
      ],
      "metadata": {
        "_cell_guid": "00ac7f22-483a-4c92-843d-bb425f4e45a4",
        "_uuid": "e8808217-2e78-4990-8868-e71e98f42f3f",
        "id": "WvvzxraUlaCY",
        "trusted": true
      }
    },
    {
      "cell_type": "code",
      "source": [
        "# Ahora con este vocabulario podemos armar un set de train y uno de validacion\n",
        "import torch\n",
        "from torch.utils.data.dataset import random_split\n",
        "train_len = int(len(dataset) * .8)\n",
        "\n",
        "train_split, validation_split = random_split(dataset, [train_len, len(dataset) - train_len])\n",
        "\n",
        "print(\"Algunos ejemplos del dataset:\")\n",
        "for example in sample(list(train_split), 3):\n",
        "    print(example)"
      ],
      "metadata": {
        "_cell_guid": "e7135df8-1b76-4016-8043-d307c6a00f59",
        "_uuid": "5f5821a3-5a26-49e8-b552-66564d797499",
        "id": "iOIc2PHhldJ_",
        "jupyter": {
          "outputs_hidden": false
        },
        "outputId": "d0b71b19-1660-425c-d68c-1f4f43c655eb",
        "execution": {
          "iopub.status.busy": "2024-04-18T18:04:44.317226Z",
          "iopub.execute_input": "2024-04-18T18:04:44.317622Z",
          "iopub.status.idle": "2024-04-18T18:04:44.331082Z",
          "shell.execute_reply.started": "2024-04-18T18:04:44.317587Z",
          "shell.execute_reply": "2024-04-18T18:04:44.330187Z"
        },
        "trusted": true,
        "colab": {
          "base_uri": "https://localhost:8080/"
        }
      },
      "execution_count": null,
      "outputs": [
        {
          "output_type": "stream",
          "name": "stdout",
          "text": [
            "Algunos ejemplos del dataset:\n",
            "('todos estos puntos son parte de la democracia.', 'Democracia')\n",
            "('la familia es el núcleo de la sociedaa a la cual la constitución debe proteger.', 'Familia')\n",
            "('â€¢ que lo que se comunique sea real y comprobable. â€¢ con acceso a la  ciudadana.', 'Transparencia y publicidad')\n"
          ]
        }
      ]
    },
    {
      "cell_type": "code",
      "source": [
        "import pandas as pd\n",
        "from collections import namedtuple\n",
        "\n",
        "import nltk\n",
        "nltk.download('punkt')\n",
        "from nltk.tokenize import word_tokenize"
      ],
      "metadata": {
        "_cell_guid": "f934b17e-84a2-4c88-bef2-27c5d8173e5f",
        "_uuid": "4add073b-a215-457e-a8d7-a012314769f2",
        "id": "0tMztgoKTilw",
        "jupyter": {
          "outputs_hidden": false
        },
        "outputId": "0736dd60-071f-4abb-8801-54fb6fb0fb97",
        "execution": {
          "iopub.status.busy": "2024-04-18T18:04:44.33342Z",
          "iopub.execute_input": "2024-04-18T18:04:44.333775Z",
          "iopub.status.idle": "2024-04-18T18:04:44.348372Z",
          "shell.execute_reply.started": "2024-04-18T18:04:44.333751Z",
          "shell.execute_reply": "2024-04-18T18:04:44.347415Z"
        },
        "trusted": true,
        "colab": {
          "base_uri": "https://localhost:8080/"
        }
      },
      "execution_count": null,
      "outputs": [
        {
          "output_type": "stream",
          "name": "stderr",
          "text": [
            "[nltk_data] Downloading package punkt to /root/nltk_data...\n",
            "[nltk_data]   Unzipping tokenizers/punkt.zip.\n"
          ]
        }
      ]
    },
    {
      "cell_type": "code",
      "source": [
        "document = namedtuple(\n",
        "    \"document\", (\"constitutional_concept\", \"argument\")  # avoid python's keyword collision\n",
        ")\n",
        "\n",
        "tokenized_train_set = [document(argument=tuple(word_tokenize(d[0].lower())), constitutional_concept=d[1]) for d in train_split]\n",
        "train_set = pd.DataFrame(data=tokenized_train_set)\n",
        "\n",
        "tokenized_validation_set = [document(argument=tuple(word_tokenize(d[0].lower())), constitutional_concept=d[1]) for d in validation_split]\n",
        "validation_set = pd.DataFrame(data=tokenized_validation_set)"
      ],
      "metadata": {
        "_cell_guid": "a488eb77-3801-46d1-9c9b-a48599a3fa3f",
        "_uuid": "58c79fb2-5b32-46d8-bd53-5e2dc63681e7",
        "id": "2gKOSmaIS8tY",
        "jupyter": {
          "outputs_hidden": false
        },
        "execution": {
          "iopub.status.busy": "2024-04-18T18:04:44.349517Z",
          "iopub.execute_input": "2024-04-18T18:04:44.349962Z",
          "iopub.status.idle": "2024-04-18T18:04:47.479864Z",
          "shell.execute_reply.started": "2024-04-18T18:04:44.349913Z",
          "shell.execute_reply": "2024-04-18T18:04:47.478861Z"
        },
        "trusted": true
      },
      "execution_count": null,
      "outputs": []
    },
    {
      "cell_type": "code",
      "source": [
        "train_set.sample(10)"
      ],
      "metadata": {
        "_cell_guid": "068970db-3604-4881-a8b0-f50fab7b0e7c",
        "_uuid": "d887a039-a0c0-4ec1-be04-825e75651350",
        "id": "k-18KU4zUVNI",
        "jupyter": {
          "outputs_hidden": false
        },
        "outputId": "7d411292-a1ef-40d9-8a5c-7d349e7ae246",
        "execution": {
          "iopub.status.busy": "2024-04-18T18:04:47.481303Z",
          "iopub.execute_input": "2024-04-18T18:04:47.48162Z",
          "iopub.status.idle": "2024-04-18T18:04:47.498213Z",
          "shell.execute_reply.started": "2024-04-18T18:04:47.481587Z",
          "shell.execute_reply": "2024-04-18T18:04:47.497234Z"
        },
        "trusted": true,
        "colab": {
          "base_uri": "https://localhost:8080/",
          "height": 363
        }
      },
      "execution_count": null,
      "outputs": [
        {
          "output_type": "execute_result",
          "data": {
            "text/plain": [
              "                                 constitutional_concept  \\\n",
              "766                                        Estado laico   \n",
              "3886                                            Respeto   \n",
              "1373                                    Responsabilidad   \n",
              "556                                             Respeto   \n",
              "811                                            Dignidad   \n",
              "953                                            Probidad   \n",
              "3998                                           Justicia   \n",
              "2420  Respeto / Conservación de la naturaleza o medi...   \n",
              "414                                  Identidad cultural   \n",
              "6093  Respeto / Conservación de la naturaleza o medi...   \n",
              "\n",
              "                                               argument  \n",
              "766   (se, debe, mantener, la, separación, de, la, i...  \n",
              "3886  (valor, esencial, del, relacionamiento, humano...  \n",
              "1373  (que, se, aplique, a, todos, los, estamentos, ...  \n",
              "556   (por, ser, un, termino, subjetivo, al, discuti...  \n",
              "811   (si, todos, los, habitantes, de, chile, son, r...  \n",
              "953   (los, valores, de, honradez, y, transparencia,...  \n",
              "3998  (justicia, igualitaria, ,, eliminar, a, justic...  \n",
              "2420  (tema, de, gran, relevancia, ,, contingente, ,...  \n",
              "414                (con, nuestros, pueblos, étnicos, .)  \n",
              "6093          (elemento, esencial, para, tener, futuro)  "
            ],
            "text/html": [
              "\n",
              "  <div id=\"df-2fef6417-e56c-41c4-8a53-0230f96508e1\" class=\"colab-df-container\">\n",
              "    <div>\n",
              "<style scoped>\n",
              "    .dataframe tbody tr th:only-of-type {\n",
              "        vertical-align: middle;\n",
              "    }\n",
              "\n",
              "    .dataframe tbody tr th {\n",
              "        vertical-align: top;\n",
              "    }\n",
              "\n",
              "    .dataframe thead th {\n",
              "        text-align: right;\n",
              "    }\n",
              "</style>\n",
              "<table border=\"1\" class=\"dataframe\">\n",
              "  <thead>\n",
              "    <tr style=\"text-align: right;\">\n",
              "      <th></th>\n",
              "      <th>constitutional_concept</th>\n",
              "      <th>argument</th>\n",
              "    </tr>\n",
              "  </thead>\n",
              "  <tbody>\n",
              "    <tr>\n",
              "      <th>766</th>\n",
              "      <td>Estado laico</td>\n",
              "      <td>(se, debe, mantener, la, separación, de, la, i...</td>\n",
              "    </tr>\n",
              "    <tr>\n",
              "      <th>3886</th>\n",
              "      <td>Respeto</td>\n",
              "      <td>(valor, esencial, del, relacionamiento, humano...</td>\n",
              "    </tr>\n",
              "    <tr>\n",
              "      <th>1373</th>\n",
              "      <td>Responsabilidad</td>\n",
              "      <td>(que, se, aplique, a, todos, los, estamentos, ...</td>\n",
              "    </tr>\n",
              "    <tr>\n",
              "      <th>556</th>\n",
              "      <td>Respeto</td>\n",
              "      <td>(por, ser, un, termino, subjetivo, al, discuti...</td>\n",
              "    </tr>\n",
              "    <tr>\n",
              "      <th>811</th>\n",
              "      <td>Dignidad</td>\n",
              "      <td>(si, todos, los, habitantes, de, chile, son, r...</td>\n",
              "    </tr>\n",
              "    <tr>\n",
              "      <th>953</th>\n",
              "      <td>Probidad</td>\n",
              "      <td>(los, valores, de, honradez, y, transparencia,...</td>\n",
              "    </tr>\n",
              "    <tr>\n",
              "      <th>3998</th>\n",
              "      <td>Justicia</td>\n",
              "      <td>(justicia, igualitaria, ,, eliminar, a, justic...</td>\n",
              "    </tr>\n",
              "    <tr>\n",
              "      <th>2420</th>\n",
              "      <td>Respeto / Conservación de la naturaleza o medi...</td>\n",
              "      <td>(tema, de, gran, relevancia, ,, contingente, ,...</td>\n",
              "    </tr>\n",
              "    <tr>\n",
              "      <th>414</th>\n",
              "      <td>Identidad cultural</td>\n",
              "      <td>(con, nuestros, pueblos, étnicos, .)</td>\n",
              "    </tr>\n",
              "    <tr>\n",
              "      <th>6093</th>\n",
              "      <td>Respeto / Conservación de la naturaleza o medi...</td>\n",
              "      <td>(elemento, esencial, para, tener, futuro)</td>\n",
              "    </tr>\n",
              "  </tbody>\n",
              "</table>\n",
              "</div>\n",
              "    <div class=\"colab-df-buttons\">\n",
              "\n",
              "  <div class=\"colab-df-container\">\n",
              "    <button class=\"colab-df-convert\" onclick=\"convertToInteractive('df-2fef6417-e56c-41c4-8a53-0230f96508e1')\"\n",
              "            title=\"Convert this dataframe to an interactive table.\"\n",
              "            style=\"display:none;\">\n",
              "\n",
              "  <svg xmlns=\"http://www.w3.org/2000/svg\" height=\"24px\" viewBox=\"0 -960 960 960\">\n",
              "    <path d=\"M120-120v-720h720v720H120Zm60-500h600v-160H180v160Zm220 220h160v-160H400v160Zm0 220h160v-160H400v160ZM180-400h160v-160H180v160Zm440 0h160v-160H620v160ZM180-180h160v-160H180v160Zm440 0h160v-160H620v160Z\"/>\n",
              "  </svg>\n",
              "    </button>\n",
              "\n",
              "  <style>\n",
              "    .colab-df-container {\n",
              "      display:flex;\n",
              "      gap: 12px;\n",
              "    }\n",
              "\n",
              "    .colab-df-convert {\n",
              "      background-color: #E8F0FE;\n",
              "      border: none;\n",
              "      border-radius: 50%;\n",
              "      cursor: pointer;\n",
              "      display: none;\n",
              "      fill: #1967D2;\n",
              "      height: 32px;\n",
              "      padding: 0 0 0 0;\n",
              "      width: 32px;\n",
              "    }\n",
              "\n",
              "    .colab-df-convert:hover {\n",
              "      background-color: #E2EBFA;\n",
              "      box-shadow: 0px 1px 2px rgba(60, 64, 67, 0.3), 0px 1px 3px 1px rgba(60, 64, 67, 0.15);\n",
              "      fill: #174EA6;\n",
              "    }\n",
              "\n",
              "    .colab-df-buttons div {\n",
              "      margin-bottom: 4px;\n",
              "    }\n",
              "\n",
              "    [theme=dark] .colab-df-convert {\n",
              "      background-color: #3B4455;\n",
              "      fill: #D2E3FC;\n",
              "    }\n",
              "\n",
              "    [theme=dark] .colab-df-convert:hover {\n",
              "      background-color: #434B5C;\n",
              "      box-shadow: 0px 1px 3px 1px rgba(0, 0, 0, 0.15);\n",
              "      filter: drop-shadow(0px 1px 2px rgba(0, 0, 0, 0.3));\n",
              "      fill: #FFFFFF;\n",
              "    }\n",
              "  </style>\n",
              "\n",
              "    <script>\n",
              "      const buttonEl =\n",
              "        document.querySelector('#df-2fef6417-e56c-41c4-8a53-0230f96508e1 button.colab-df-convert');\n",
              "      buttonEl.style.display =\n",
              "        google.colab.kernel.accessAllowed ? 'block' : 'none';\n",
              "\n",
              "      async function convertToInteractive(key) {\n",
              "        const element = document.querySelector('#df-2fef6417-e56c-41c4-8a53-0230f96508e1');\n",
              "        const dataTable =\n",
              "          await google.colab.kernel.invokeFunction('convertToInteractive',\n",
              "                                                    [key], {});\n",
              "        if (!dataTable) return;\n",
              "\n",
              "        const docLinkHtml = 'Like what you see? Visit the ' +\n",
              "          '<a target=\"_blank\" href=https://colab.research.google.com/notebooks/data_table.ipynb>data table notebook</a>'\n",
              "          + ' to learn more about interactive tables.';\n",
              "        element.innerHTML = '';\n",
              "        dataTable['output_type'] = 'display_data';\n",
              "        await google.colab.output.renderOutput(dataTable, element);\n",
              "        const docLink = document.createElement('div');\n",
              "        docLink.innerHTML = docLinkHtml;\n",
              "        element.appendChild(docLink);\n",
              "      }\n",
              "    </script>\n",
              "  </div>\n",
              "\n",
              "\n",
              "<div id=\"df-851528b0-d755-48c3-9e05-0c7e146b2ed1\">\n",
              "  <button class=\"colab-df-quickchart\" onclick=\"quickchart('df-851528b0-d755-48c3-9e05-0c7e146b2ed1')\"\n",
              "            title=\"Suggest charts\"\n",
              "            style=\"display:none;\">\n",
              "\n",
              "<svg xmlns=\"http://www.w3.org/2000/svg\" height=\"24px\"viewBox=\"0 0 24 24\"\n",
              "     width=\"24px\">\n",
              "    <g>\n",
              "        <path d=\"M19 3H5c-1.1 0-2 .9-2 2v14c0 1.1.9 2 2 2h14c1.1 0 2-.9 2-2V5c0-1.1-.9-2-2-2zM9 17H7v-7h2v7zm4 0h-2V7h2v10zm4 0h-2v-4h2v4z\"/>\n",
              "    </g>\n",
              "</svg>\n",
              "  </button>\n",
              "\n",
              "<style>\n",
              "  .colab-df-quickchart {\n",
              "      --bg-color: #E8F0FE;\n",
              "      --fill-color: #1967D2;\n",
              "      --hover-bg-color: #E2EBFA;\n",
              "      --hover-fill-color: #174EA6;\n",
              "      --disabled-fill-color: #AAA;\n",
              "      --disabled-bg-color: #DDD;\n",
              "  }\n",
              "\n",
              "  [theme=dark] .colab-df-quickchart {\n",
              "      --bg-color: #3B4455;\n",
              "      --fill-color: #D2E3FC;\n",
              "      --hover-bg-color: #434B5C;\n",
              "      --hover-fill-color: #FFFFFF;\n",
              "      --disabled-bg-color: #3B4455;\n",
              "      --disabled-fill-color: #666;\n",
              "  }\n",
              "\n",
              "  .colab-df-quickchart {\n",
              "    background-color: var(--bg-color);\n",
              "    border: none;\n",
              "    border-radius: 50%;\n",
              "    cursor: pointer;\n",
              "    display: none;\n",
              "    fill: var(--fill-color);\n",
              "    height: 32px;\n",
              "    padding: 0;\n",
              "    width: 32px;\n",
              "  }\n",
              "\n",
              "  .colab-df-quickchart:hover {\n",
              "    background-color: var(--hover-bg-color);\n",
              "    box-shadow: 0 1px 2px rgba(60, 64, 67, 0.3), 0 1px 3px 1px rgba(60, 64, 67, 0.15);\n",
              "    fill: var(--button-hover-fill-color);\n",
              "  }\n",
              "\n",
              "  .colab-df-quickchart-complete:disabled,\n",
              "  .colab-df-quickchart-complete:disabled:hover {\n",
              "    background-color: var(--disabled-bg-color);\n",
              "    fill: var(--disabled-fill-color);\n",
              "    box-shadow: none;\n",
              "  }\n",
              "\n",
              "  .colab-df-spinner {\n",
              "    border: 2px solid var(--fill-color);\n",
              "    border-color: transparent;\n",
              "    border-bottom-color: var(--fill-color);\n",
              "    animation:\n",
              "      spin 1s steps(1) infinite;\n",
              "  }\n",
              "\n",
              "  @keyframes spin {\n",
              "    0% {\n",
              "      border-color: transparent;\n",
              "      border-bottom-color: var(--fill-color);\n",
              "      border-left-color: var(--fill-color);\n",
              "    }\n",
              "    20% {\n",
              "      border-color: transparent;\n",
              "      border-left-color: var(--fill-color);\n",
              "      border-top-color: var(--fill-color);\n",
              "    }\n",
              "    30% {\n",
              "      border-color: transparent;\n",
              "      border-left-color: var(--fill-color);\n",
              "      border-top-color: var(--fill-color);\n",
              "      border-right-color: var(--fill-color);\n",
              "    }\n",
              "    40% {\n",
              "      border-color: transparent;\n",
              "      border-right-color: var(--fill-color);\n",
              "      border-top-color: var(--fill-color);\n",
              "    }\n",
              "    60% {\n",
              "      border-color: transparent;\n",
              "      border-right-color: var(--fill-color);\n",
              "    }\n",
              "    80% {\n",
              "      border-color: transparent;\n",
              "      border-right-color: var(--fill-color);\n",
              "      border-bottom-color: var(--fill-color);\n",
              "    }\n",
              "    90% {\n",
              "      border-color: transparent;\n",
              "      border-bottom-color: var(--fill-color);\n",
              "    }\n",
              "  }\n",
              "</style>\n",
              "\n",
              "  <script>\n",
              "    async function quickchart(key) {\n",
              "      const quickchartButtonEl =\n",
              "        document.querySelector('#' + key + ' button');\n",
              "      quickchartButtonEl.disabled = true;  // To prevent multiple clicks.\n",
              "      quickchartButtonEl.classList.add('colab-df-spinner');\n",
              "      try {\n",
              "        const charts = await google.colab.kernel.invokeFunction(\n",
              "            'suggestCharts', [key], {});\n",
              "      } catch (error) {\n",
              "        console.error('Error during call to suggestCharts:', error);\n",
              "      }\n",
              "      quickchartButtonEl.classList.remove('colab-df-spinner');\n",
              "      quickchartButtonEl.classList.add('colab-df-quickchart-complete');\n",
              "    }\n",
              "    (() => {\n",
              "      let quickchartButtonEl =\n",
              "        document.querySelector('#df-851528b0-d755-48c3-9e05-0c7e146b2ed1 button');\n",
              "      quickchartButtonEl.style.display =\n",
              "        google.colab.kernel.accessAllowed ? 'block' : 'none';\n",
              "    })();\n",
              "  </script>\n",
              "</div>\n",
              "\n",
              "    </div>\n",
              "  </div>\n"
            ],
            "application/vnd.google.colaboratory.intrinsic+json": {
              "type": "dataframe",
              "summary": "{\n  \"name\": \"train_set\",\n  \"rows\": 10,\n  \"fields\": [\n    {\n      \"column\": \"constitutional_concept\",\n      \"properties\": {\n        \"dtype\": \"string\",\n        \"num_unique_values\": 8,\n        \"samples\": [\n          \"Respeto\",\n          \"Justicia\",\n          \"Estado laico\"\n        ],\n        \"semantic_type\": \"\",\n        \"description\": \"\"\n      }\n    },\n    {\n      \"column\": \"argument\",\n      \"properties\": {\n        \"dtype\": \"string\",\n        \"num_unique_values\": 10,\n        \"samples\": [\n          [\n            \"con\",\n            \"nuestros\",\n            \"pueblos\",\n            \"\\u00e9tnicos\",\n            \".\"\n          ],\n          [\n            \"valor\",\n            \"esencial\",\n            \"del\",\n            \"relacionamiento\",\n            \"humano\",\n            \",\",\n            \"todos\",\n            \"los\",\n            \"ciudadanos\",\n            \"deben\",\n            \"ser\",\n            \"respetados\",\n            \"y\",\n            \"respetarse\",\n            \"entre\",\n            \"ellos\",\n            \".\"\n          ],\n          [\n            \"los\",\n            \"valores\",\n            \"de\",\n            \"honradez\",\n            \"y\",\n            \"transparencia\",\n            \"deben\",\n            \"regir\",\n            \"la\",\n            \"naci\\u00f3n\",\n            \",\",\n            \"especialmente\",\n            \"en\",\n            \"quienes\",\n            \"la\",\n            \"dirigen\",\n            \",\",\n            \"cuyo\",\n            \"poder\",\n            \"muchas\",\n            \"veces\",\n            \"les\",\n            \"permite\",\n            \"actuar\",\n            \"contra\",\n            \"ello\",\n            \".\"\n          ]\n        ],\n        \"semantic_type\": \"\",\n        \"description\": \"\"\n      }\n    }\n  ]\n}"
            }
          },
          "metadata": {},
          "execution_count": 26
        }
      ]
    },
    {
      "cell_type": "code",
      "source": [
        "validation_set.sample(10)"
      ],
      "metadata": {
        "_cell_guid": "4fdd9354-80cf-48c9-bf47-2756ca334189",
        "_uuid": "aaa0e743-4121-4a80-a694-5740a5c3c3ee",
        "id": "3A6HE_8KUi6g",
        "jupyter": {
          "outputs_hidden": false
        },
        "outputId": "08717f87-e7fb-4fb5-d779-c3465cd60ea5",
        "execution": {
          "iopub.status.busy": "2024-04-18T18:04:47.499677Z",
          "iopub.execute_input": "2024-04-18T18:04:47.499993Z",
          "iopub.status.idle": "2024-04-18T18:04:47.522094Z",
          "shell.execute_reply.started": "2024-04-18T18:04:47.499967Z",
          "shell.execute_reply": "2024-04-18T18:04:47.520949Z"
        },
        "trusted": true,
        "colab": {
          "base_uri": "https://localhost:8080/",
          "height": 363
        }
      },
      "execution_count": null,
      "outputs": [
        {
          "output_type": "execute_result",
          "data": {
            "text/plain": [
              "      constitutional_concept  \\\n",
              "314                  Familia   \n",
              "662            Participación   \n",
              "1143  Bien Común / Comunidad   \n",
              "1903              Democracia   \n",
              "1870       Descentralización   \n",
              "1590                Igualdad   \n",
              "1037               Inclusión   \n",
              "765               Democracia   \n",
              "123                 Libertad   \n",
              "589        Estado de Derecho   \n",
              "\n",
              "                                               argument  \n",
              "314   (núcleo, principal, y, fundamental, de, nuestr...  \n",
              "662   (cada, ciudadano, es, libre, de, hacerse, part...  \n",
              "1143  (la, comunidad, debe, ser, la, base, fundament...  \n",
              "1903  (dicho, valor, se, considero, relevante, toda,...  \n",
              "1870  (no, todo, esté, concentrado, en, rm, ,, más, ...  \n",
              "1590  (igualdad, de, derechos, respetando, la, diver...  \n",
              "1037  (el, respeto, hacia, la, diversidad, ,, que, g...  \n",
              "765   (necesidad, de, que, exista, soberanía, del, p...  \n",
              "123   (con, un, estado, laico, donde, se, respeten, ...  \n",
              "589   (sentimos, que, el, estado, de, derecho, es, u...  "
            ],
            "text/html": [
              "\n",
              "  <div id=\"df-c3ec1b32-14e2-4bd2-9d61-51f8c2baca96\" class=\"colab-df-container\">\n",
              "    <div>\n",
              "<style scoped>\n",
              "    .dataframe tbody tr th:only-of-type {\n",
              "        vertical-align: middle;\n",
              "    }\n",
              "\n",
              "    .dataframe tbody tr th {\n",
              "        vertical-align: top;\n",
              "    }\n",
              "\n",
              "    .dataframe thead th {\n",
              "        text-align: right;\n",
              "    }\n",
              "</style>\n",
              "<table border=\"1\" class=\"dataframe\">\n",
              "  <thead>\n",
              "    <tr style=\"text-align: right;\">\n",
              "      <th></th>\n",
              "      <th>constitutional_concept</th>\n",
              "      <th>argument</th>\n",
              "    </tr>\n",
              "  </thead>\n",
              "  <tbody>\n",
              "    <tr>\n",
              "      <th>314</th>\n",
              "      <td>Familia</td>\n",
              "      <td>(núcleo, principal, y, fundamental, de, nuestr...</td>\n",
              "    </tr>\n",
              "    <tr>\n",
              "      <th>662</th>\n",
              "      <td>Participación</td>\n",
              "      <td>(cada, ciudadano, es, libre, de, hacerse, part...</td>\n",
              "    </tr>\n",
              "    <tr>\n",
              "      <th>1143</th>\n",
              "      <td>Bien Común / Comunidad</td>\n",
              "      <td>(la, comunidad, debe, ser, la, base, fundament...</td>\n",
              "    </tr>\n",
              "    <tr>\n",
              "      <th>1903</th>\n",
              "      <td>Democracia</td>\n",
              "      <td>(dicho, valor, se, considero, relevante, toda,...</td>\n",
              "    </tr>\n",
              "    <tr>\n",
              "      <th>1870</th>\n",
              "      <td>Descentralización</td>\n",
              "      <td>(no, todo, esté, concentrado, en, rm, ,, más, ...</td>\n",
              "    </tr>\n",
              "    <tr>\n",
              "      <th>1590</th>\n",
              "      <td>Igualdad</td>\n",
              "      <td>(igualdad, de, derechos, respetando, la, diver...</td>\n",
              "    </tr>\n",
              "    <tr>\n",
              "      <th>1037</th>\n",
              "      <td>Inclusión</td>\n",
              "      <td>(el, respeto, hacia, la, diversidad, ,, que, g...</td>\n",
              "    </tr>\n",
              "    <tr>\n",
              "      <th>765</th>\n",
              "      <td>Democracia</td>\n",
              "      <td>(necesidad, de, que, exista, soberanía, del, p...</td>\n",
              "    </tr>\n",
              "    <tr>\n",
              "      <th>123</th>\n",
              "      <td>Libertad</td>\n",
              "      <td>(con, un, estado, laico, donde, se, respeten, ...</td>\n",
              "    </tr>\n",
              "    <tr>\n",
              "      <th>589</th>\n",
              "      <td>Estado de Derecho</td>\n",
              "      <td>(sentimos, que, el, estado, de, derecho, es, u...</td>\n",
              "    </tr>\n",
              "  </tbody>\n",
              "</table>\n",
              "</div>\n",
              "    <div class=\"colab-df-buttons\">\n",
              "\n",
              "  <div class=\"colab-df-container\">\n",
              "    <button class=\"colab-df-convert\" onclick=\"convertToInteractive('df-c3ec1b32-14e2-4bd2-9d61-51f8c2baca96')\"\n",
              "            title=\"Convert this dataframe to an interactive table.\"\n",
              "            style=\"display:none;\">\n",
              "\n",
              "  <svg xmlns=\"http://www.w3.org/2000/svg\" height=\"24px\" viewBox=\"0 -960 960 960\">\n",
              "    <path d=\"M120-120v-720h720v720H120Zm60-500h600v-160H180v160Zm220 220h160v-160H400v160Zm0 220h160v-160H400v160ZM180-400h160v-160H180v160Zm440 0h160v-160H620v160ZM180-180h160v-160H180v160Zm440 0h160v-160H620v160Z\"/>\n",
              "  </svg>\n",
              "    </button>\n",
              "\n",
              "  <style>\n",
              "    .colab-df-container {\n",
              "      display:flex;\n",
              "      gap: 12px;\n",
              "    }\n",
              "\n",
              "    .colab-df-convert {\n",
              "      background-color: #E8F0FE;\n",
              "      border: none;\n",
              "      border-radius: 50%;\n",
              "      cursor: pointer;\n",
              "      display: none;\n",
              "      fill: #1967D2;\n",
              "      height: 32px;\n",
              "      padding: 0 0 0 0;\n",
              "      width: 32px;\n",
              "    }\n",
              "\n",
              "    .colab-df-convert:hover {\n",
              "      background-color: #E2EBFA;\n",
              "      box-shadow: 0px 1px 2px rgba(60, 64, 67, 0.3), 0px 1px 3px 1px rgba(60, 64, 67, 0.15);\n",
              "      fill: #174EA6;\n",
              "    }\n",
              "\n",
              "    .colab-df-buttons div {\n",
              "      margin-bottom: 4px;\n",
              "    }\n",
              "\n",
              "    [theme=dark] .colab-df-convert {\n",
              "      background-color: #3B4455;\n",
              "      fill: #D2E3FC;\n",
              "    }\n",
              "\n",
              "    [theme=dark] .colab-df-convert:hover {\n",
              "      background-color: #434B5C;\n",
              "      box-shadow: 0px 1px 3px 1px rgba(0, 0, 0, 0.15);\n",
              "      filter: drop-shadow(0px 1px 2px rgba(0, 0, 0, 0.3));\n",
              "      fill: #FFFFFF;\n",
              "    }\n",
              "  </style>\n",
              "\n",
              "    <script>\n",
              "      const buttonEl =\n",
              "        document.querySelector('#df-c3ec1b32-14e2-4bd2-9d61-51f8c2baca96 button.colab-df-convert');\n",
              "      buttonEl.style.display =\n",
              "        google.colab.kernel.accessAllowed ? 'block' : 'none';\n",
              "\n",
              "      async function convertToInteractive(key) {\n",
              "        const element = document.querySelector('#df-c3ec1b32-14e2-4bd2-9d61-51f8c2baca96');\n",
              "        const dataTable =\n",
              "          await google.colab.kernel.invokeFunction('convertToInteractive',\n",
              "                                                    [key], {});\n",
              "        if (!dataTable) return;\n",
              "\n",
              "        const docLinkHtml = 'Like what you see? Visit the ' +\n",
              "          '<a target=\"_blank\" href=https://colab.research.google.com/notebooks/data_table.ipynb>data table notebook</a>'\n",
              "          + ' to learn more about interactive tables.';\n",
              "        element.innerHTML = '';\n",
              "        dataTable['output_type'] = 'display_data';\n",
              "        await google.colab.output.renderOutput(dataTable, element);\n",
              "        const docLink = document.createElement('div');\n",
              "        docLink.innerHTML = docLinkHtml;\n",
              "        element.appendChild(docLink);\n",
              "      }\n",
              "    </script>\n",
              "  </div>\n",
              "\n",
              "\n",
              "<div id=\"df-1e22b6ae-f7d1-4130-b294-4e78328a72e9\">\n",
              "  <button class=\"colab-df-quickchart\" onclick=\"quickchart('df-1e22b6ae-f7d1-4130-b294-4e78328a72e9')\"\n",
              "            title=\"Suggest charts\"\n",
              "            style=\"display:none;\">\n",
              "\n",
              "<svg xmlns=\"http://www.w3.org/2000/svg\" height=\"24px\"viewBox=\"0 0 24 24\"\n",
              "     width=\"24px\">\n",
              "    <g>\n",
              "        <path d=\"M19 3H5c-1.1 0-2 .9-2 2v14c0 1.1.9 2 2 2h14c1.1 0 2-.9 2-2V5c0-1.1-.9-2-2-2zM9 17H7v-7h2v7zm4 0h-2V7h2v10zm4 0h-2v-4h2v4z\"/>\n",
              "    </g>\n",
              "</svg>\n",
              "  </button>\n",
              "\n",
              "<style>\n",
              "  .colab-df-quickchart {\n",
              "      --bg-color: #E8F0FE;\n",
              "      --fill-color: #1967D2;\n",
              "      --hover-bg-color: #E2EBFA;\n",
              "      --hover-fill-color: #174EA6;\n",
              "      --disabled-fill-color: #AAA;\n",
              "      --disabled-bg-color: #DDD;\n",
              "  }\n",
              "\n",
              "  [theme=dark] .colab-df-quickchart {\n",
              "      --bg-color: #3B4455;\n",
              "      --fill-color: #D2E3FC;\n",
              "      --hover-bg-color: #434B5C;\n",
              "      --hover-fill-color: #FFFFFF;\n",
              "      --disabled-bg-color: #3B4455;\n",
              "      --disabled-fill-color: #666;\n",
              "  }\n",
              "\n",
              "  .colab-df-quickchart {\n",
              "    background-color: var(--bg-color);\n",
              "    border: none;\n",
              "    border-radius: 50%;\n",
              "    cursor: pointer;\n",
              "    display: none;\n",
              "    fill: var(--fill-color);\n",
              "    height: 32px;\n",
              "    padding: 0;\n",
              "    width: 32px;\n",
              "  }\n",
              "\n",
              "  .colab-df-quickchart:hover {\n",
              "    background-color: var(--hover-bg-color);\n",
              "    box-shadow: 0 1px 2px rgba(60, 64, 67, 0.3), 0 1px 3px 1px rgba(60, 64, 67, 0.15);\n",
              "    fill: var(--button-hover-fill-color);\n",
              "  }\n",
              "\n",
              "  .colab-df-quickchart-complete:disabled,\n",
              "  .colab-df-quickchart-complete:disabled:hover {\n",
              "    background-color: var(--disabled-bg-color);\n",
              "    fill: var(--disabled-fill-color);\n",
              "    box-shadow: none;\n",
              "  }\n",
              "\n",
              "  .colab-df-spinner {\n",
              "    border: 2px solid var(--fill-color);\n",
              "    border-color: transparent;\n",
              "    border-bottom-color: var(--fill-color);\n",
              "    animation:\n",
              "      spin 1s steps(1) infinite;\n",
              "  }\n",
              "\n",
              "  @keyframes spin {\n",
              "    0% {\n",
              "      border-color: transparent;\n",
              "      border-bottom-color: var(--fill-color);\n",
              "      border-left-color: var(--fill-color);\n",
              "    }\n",
              "    20% {\n",
              "      border-color: transparent;\n",
              "      border-left-color: var(--fill-color);\n",
              "      border-top-color: var(--fill-color);\n",
              "    }\n",
              "    30% {\n",
              "      border-color: transparent;\n",
              "      border-left-color: var(--fill-color);\n",
              "      border-top-color: var(--fill-color);\n",
              "      border-right-color: var(--fill-color);\n",
              "    }\n",
              "    40% {\n",
              "      border-color: transparent;\n",
              "      border-right-color: var(--fill-color);\n",
              "      border-top-color: var(--fill-color);\n",
              "    }\n",
              "    60% {\n",
              "      border-color: transparent;\n",
              "      border-right-color: var(--fill-color);\n",
              "    }\n",
              "    80% {\n",
              "      border-color: transparent;\n",
              "      border-right-color: var(--fill-color);\n",
              "      border-bottom-color: var(--fill-color);\n",
              "    }\n",
              "    90% {\n",
              "      border-color: transparent;\n",
              "      border-bottom-color: var(--fill-color);\n",
              "    }\n",
              "  }\n",
              "</style>\n",
              "\n",
              "  <script>\n",
              "    async function quickchart(key) {\n",
              "      const quickchartButtonEl =\n",
              "        document.querySelector('#' + key + ' button');\n",
              "      quickchartButtonEl.disabled = true;  // To prevent multiple clicks.\n",
              "      quickchartButtonEl.classList.add('colab-df-spinner');\n",
              "      try {\n",
              "        const charts = await google.colab.kernel.invokeFunction(\n",
              "            'suggestCharts', [key], {});\n",
              "      } catch (error) {\n",
              "        console.error('Error during call to suggestCharts:', error);\n",
              "      }\n",
              "      quickchartButtonEl.classList.remove('colab-df-spinner');\n",
              "      quickchartButtonEl.classList.add('colab-df-quickchart-complete');\n",
              "    }\n",
              "    (() => {\n",
              "      let quickchartButtonEl =\n",
              "        document.querySelector('#df-1e22b6ae-f7d1-4130-b294-4e78328a72e9 button');\n",
              "      quickchartButtonEl.style.display =\n",
              "        google.colab.kernel.accessAllowed ? 'block' : 'none';\n",
              "    })();\n",
              "  </script>\n",
              "</div>\n",
              "\n",
              "    </div>\n",
              "  </div>\n"
            ],
            "application/vnd.google.colaboratory.intrinsic+json": {
              "type": "dataframe",
              "summary": "{\n  \"name\": \"validation_set\",\n  \"rows\": 10,\n  \"fields\": [\n    {\n      \"column\": \"constitutional_concept\",\n      \"properties\": {\n        \"dtype\": \"string\",\n        \"num_unique_values\": 9,\n        \"samples\": [\n          \"Libertad\",\n          \"Participaci\\u00f3n\",\n          \"Igualdad\"\n        ],\n        \"semantic_type\": \"\",\n        \"description\": \"\"\n      }\n    },\n    {\n      \"column\": \"argument\",\n      \"properties\": {\n        \"dtype\": \"string\",\n        \"num_unique_values\": 10,\n        \"samples\": [\n          [\n            \"con\",\n            \"un\",\n            \"estado\",\n            \"laico\",\n            \"donde\",\n            \"se\",\n            \"respeten\",\n            \"los\",\n            \"derechos\",\n            \"de\",\n            \"todos\",\n            \"los\",\n            \"ciudadanos\",\n            \".\"\n          ],\n          [\n            \"cada\",\n            \"ciudadano\",\n            \"es\",\n            \"libre\",\n            \"de\",\n            \"hacerse\",\n            \"participe\",\n            \"en\",\n            \"el\",\n            \"proceso\",\n            \"de\",\n            \"desarrollo\",\n            \"de\",\n            \"nuestro\",\n            \"pa\\u00eds\",\n            \",\"\n          ],\n          [\n            \"igualdad\",\n            \"de\",\n            \"derechos\",\n            \"respetando\",\n            \"la\",\n            \"diversidad\"\n          ]\n        ],\n        \"semantic_type\": \"\",\n        \"description\": \"\"\n      }\n    }\n  ]\n}"
            }
          },
          "metadata": {},
          "execution_count": 27
        }
      ]
    },
    {
      "cell_type": "markdown",
      "source": [
        "## Features\n",
        "\n",
        "Ahora construiremos el vocabulario con `CountVectorizer` a partir del train split y usaremos BoW como embedding.\n",
        "\n",
        "**Pegunta**: *¿Qué pasa con las palabras desconocidas en el split de test?*"
      ],
      "metadata": {
        "_cell_guid": "dbb841f0-536c-48bc-9577-ec5071206c7c",
        "_uuid": "a58dd75c-6ad0-4591-9e25-0e505c3ef831",
        "id": "gEgOXqAAlg7I",
        "trusted": true
      }
    },
    {
      "cell_type": "code",
      "source": [
        "from sklearn.feature_extraction.text import CountVectorizer\n",
        "bow = CountVectorizer(tokenizer=lambda x: list(x), preprocessor=lambda x: x, token_pattern=None)\n",
        "\n",
        "X_train = pd.DataFrame(\n",
        "    bow.fit_transform(train_set[\"argument\"]).toarray(),\n",
        "    columns=bow.get_feature_names_out()\n",
        ")\n",
        "X_test = pd.DataFrame(\n",
        "    bow.transform(validation_set[\"argument\"]).toarray(),\n",
        "    columns=bow.get_feature_names_out()\n",
        ")\n",
        "\n",
        "XY_train = X_train.astype(float).copy()\n",
        "XY_test = X_test.astype(float).copy()\n",
        "\n",
        "labels = list({doc[1] for doc in dataset})\n",
        "label_map = {label: index for index, label in enumerate(labels)}\n",
        "\n",
        "XY_train[\"constitutional_concept\"] = train_set[\"constitutional_concept\"]\n",
        "XY_train[\"int_class_\"] = train_set[\"constitutional_concept\"].apply(lambda x: label_map[x])\n",
        "\n",
        "XY_test[\"constitutional_concept\"] = validation_set[\"constitutional_concept\"]\n",
        "XY_test[\"int_class_\"] = validation_set[\"constitutional_concept\"].apply(lambda x: label_map[x])"
      ],
      "metadata": {
        "_cell_guid": "b569ce51-8381-48d9-80be-27954cc9f7b4",
        "_uuid": "93143322-53f4-45b7-bfc4-9bbacd2cbced",
        "id": "tlLX4hPASL2Q",
        "jupyter": {
          "outputs_hidden": false
        },
        "execution": {
          "iopub.status.busy": "2024-04-18T18:06:00.168547Z",
          "iopub.execute_input": "2024-04-18T18:06:00.169394Z",
          "iopub.status.idle": "2024-04-18T18:06:01.305209Z",
          "shell.execute_reply.started": "2024-04-18T18:06:00.169362Z",
          "shell.execute_reply": "2024-04-18T18:06:01.30433Z"
        },
        "trusted": true
      },
      "execution_count": null,
      "outputs": []
    },
    {
      "cell_type": "markdown",
      "source": [
        "Número de features (aka. tamaño del vocabulario):"
      ],
      "metadata": {
        "id": "-TDmac5KZ6OR"
      }
    },
    {
      "cell_type": "code",
      "source": [
        "len(X_train.columns)"
      ],
      "metadata": {
        "execution": {
          "iopub.status.busy": "2024-04-18T18:06:01.306636Z",
          "iopub.execute_input": "2024-04-18T18:06:01.30692Z",
          "iopub.status.idle": "2024-04-18T18:06:01.313259Z",
          "shell.execute_reply.started": "2024-04-18T18:06:01.306896Z",
          "shell.execute_reply": "2024-04-18T18:06:01.312315Z"
        },
        "trusted": true,
        "id": "CpKS8fXXZ6OR",
        "outputId": "94a98173-1392-4180-ebc6-e3dc2ff21428",
        "colab": {
          "base_uri": "https://localhost:8080/"
        }
      },
      "execution_count": null,
      "outputs": [
        {
          "output_type": "execute_result",
          "data": {
            "text/plain": [
              "9543"
            ]
          },
          "metadata": {},
          "execution_count": 29
        }
      ]
    },
    {
      "cell_type": "code",
      "source": [
        "# Enumeración de las clases\n",
        "label_map"
      ],
      "metadata": {
        "_cell_guid": "99aa5ae4-7871-4b7f-b399-760ad8b4cd9d",
        "_uuid": "70c4fcaa-b746-46ae-a7ed-9321aaf24592",
        "id": "aFWm6ulxlt4w",
        "outputId": "28868fd8-e46c-4253-96b2-66b720cb7cc3",
        "execution": {
          "iopub.status.busy": "2024-04-18T18:06:01.314319Z",
          "iopub.execute_input": "2024-04-18T18:06:01.314662Z",
          "iopub.status.idle": "2024-04-18T18:06:01.32863Z",
          "shell.execute_reply.started": "2024-04-18T18:06:01.314631Z",
          "shell.execute_reply": "2024-04-18T18:06:01.327725Z"
        },
        "trusted": true,
        "colab": {
          "base_uri": "https://localhost:8080/"
        }
      },
      "execution_count": null,
      "outputs": [
        {
          "output_type": "execute_result",
          "data": {
            "text/plain": [
              "{'Justicia': 0,\n",
              " 'Identidad cultural': 1,\n",
              " 'Estado garante': 2,\n",
              " 'Respeto': 3,\n",
              " 'Familia basada en matrimonio heterosexual': 4,\n",
              " 'Patriotismo': 5,\n",
              " 'Unidad': 6,\n",
              " 'Otro': 7,\n",
              " 'Dignidad': 8,\n",
              " 'Amistad cívica': 9,\n",
              " 'Integración': 10,\n",
              " 'Subsidiaridad': 11,\n",
              " 'Bien Común / Comunidad': 12,\n",
              " 'Plurinacionalismo': 13,\n",
              " 'Familia': 14,\n",
              " 'Diversidad': 15,\n",
              " 'Justicia social': 16,\n",
              " 'Derechos humanos': 17,\n",
              " 'Seguridad': 18,\n",
              " 'Solidaridad': 19,\n",
              " 'Seguridad Social': 20,\n",
              " 'Paz / Convivencia pacífica': 21,\n",
              " 'Inclasificable/No corresponde': 22,\n",
              " 'Libertad de conciencia': 23,\n",
              " 'Probidad': 24,\n",
              " 'Soberanía': 25,\n",
              " 'Ciudadanía': 26,\n",
              " 'Inclusión': 27,\n",
              " 'Respeto / Conservación de la naturaleza o medio ambiente': 28,\n",
              " 'República': 29,\n",
              " 'Democracia participativa': 30,\n",
              " 'Propiedad Privada': 31,\n",
              " 'Pluralismo': 32,\n",
              " 'Tolerancia': 33,\n",
              " 'Estado laico': 34,\n",
              " 'Equidad de género': 35,\n",
              " 'Desarrollo': 36,\n",
              " 'Equidad': 37,\n",
              " 'Participación': 38,\n",
              " 'Descentralización': 39,\n",
              " 'Libertad': 40,\n",
              " 'Responsabilidad': 41,\n",
              " 'Estado de Derecho': 42,\n",
              " 'Transparencia y publicidad': 43,\n",
              " 'Innovación / Creatividad': 44,\n",
              " 'Desarrollo sustentable': 45,\n",
              " 'Autonomía / Libertad': 46,\n",
              " 'Igualdad': 47,\n",
              " 'Desarrollo integral': 48,\n",
              " 'Libertad de expresión': 49,\n",
              " 'Libertad de culto': 50,\n",
              " 'Emprendimiento libre': 51,\n",
              " 'Democracia': 52,\n",
              " 'Multiculturalidad': 53}"
            ]
          },
          "metadata": {},
          "execution_count": 30
        }
      ]
    },
    {
      "cell_type": "markdown",
      "source": [
        "## Dataset y DataLoader\n",
        "PyTorch ofrece estas dos clases para abstraer la carga de los datos respecto al modelo. Así, un objeto `Dataset` entrega datos en forma de tensores para nuestros splits, mientras que `DataLoader` es un iterador para obtener los vectores de nuestro objeto `Dataset`, con la opción de agruparlos en batches."
      ],
      "metadata": {
        "id": "vUB8JEayZ6OS"
      }
    },
    {
      "cell_type": "code",
      "source": [
        "# Ejemplo de tensor BoW\n",
        "sample_tensor = torch.tensor(X_train.iloc[2].values.astype(float)).to(torch.float32)\n",
        "print(sample_tensor)\n",
        "print(f\"Dimensiones: {sample_tensor.shape}\")"
      ],
      "metadata": {
        "execution": {
          "iopub.status.busy": "2024-04-18T18:06:01.330733Z",
          "iopub.execute_input": "2024-04-18T18:06:01.331084Z",
          "iopub.status.idle": "2024-04-18T18:06:01.405428Z",
          "shell.execute_reply.started": "2024-04-18T18:06:01.33106Z",
          "shell.execute_reply": "2024-04-18T18:06:01.404568Z"
        },
        "trusted": true,
        "id": "F-CfyUOxZ6OT",
        "outputId": "c39a2896-1390-4ff5-f824-81c20d9a5278",
        "colab": {
          "base_uri": "https://localhost:8080/"
        }
      },
      "execution_count": null,
      "outputs": [
        {
          "output_type": "stream",
          "name": "stdout",
          "text": [
            "tensor([0., 0., 0.,  ..., 0., 0., 0.])\n",
            "Dimensiones: torch.Size([9543])\n"
          ]
        }
      ]
    },
    {
      "cell_type": "markdown",
      "source": [
        "Creamos nuestro objeto `Dataset` según dataset y features, entregando cada $x$ e $y$ en forma de tensor."
      ],
      "metadata": {
        "id": "hZHP_enMZ6OU"
      }
    },
    {
      "cell_type": "code",
      "source": [
        "from torch.utils.data import Dataset\n",
        "class MyDataset(Dataset):\n",
        "\n",
        "    def __init__(self, data, bow_cols):\n",
        "        self.data = data\n",
        "        self.bow_cols = bow_cols\n",
        "\n",
        "    def __len__(self):\n",
        "        return len(self.data)\n",
        "\n",
        "    def __getitem__(self, index):\n",
        "        label = int(self.data.loc[index, \"int_class_\"])\n",
        "        x_bow = torch.tensor(self.data.loc[index, self.bow_cols]. # Obtenemos el vector x_{index}\n",
        "                             values.astype(float)).to(torch.float32) # y lo convertimos a tensor de float32\n",
        "        return x_bow, label"
      ],
      "metadata": {
        "_cell_guid": "04e6a5a5-4b21-465c-afa4-dcb98fc80bfe",
        "_uuid": "d1a29512-4db7-4296-9443-b90e67fb06c7",
        "id": "HiGVu3TcWQor",
        "jupyter": {
          "outputs_hidden": false
        },
        "execution": {
          "iopub.status.busy": "2024-04-18T18:09:41.408188Z",
          "iopub.execute_input": "2024-04-18T18:09:41.409081Z",
          "iopub.status.idle": "2024-04-18T18:09:41.415714Z",
          "shell.execute_reply.started": "2024-04-18T18:09:41.409042Z",
          "shell.execute_reply": "2024-04-18T18:09:41.414604Z"
        },
        "trusted": true
      },
      "execution_count": null,
      "outputs": []
    },
    {
      "cell_type": "markdown",
      "source": [
        "Ahora podemos crear nuestros DataLoaders"
      ],
      "metadata": {
        "id": "oO6qfKRjZ6OU"
      }
    },
    {
      "cell_type": "code",
      "source": [
        "from torch.utils.data import DataLoader\n",
        "\n",
        "batch_size = 16\n",
        "\n",
        "train_loader = DataLoader(\n",
        "    MyDataset(data = XY_train, bow_cols = X_train.columns),\n",
        "    batch_size = batch_size, num_workers = 1, shuffle=False)\n",
        "\n",
        "test_loader = DataLoader(\n",
        "    MyDataset(data = XY_test, bow_cols = X_test.columns),\n",
        "    batch_size = batch_size, num_workers = 1, shuffle=False)"
      ],
      "metadata": {
        "_cell_guid": "ebaf6703-d10f-49f7-8153-2fa0f2be73be",
        "_uuid": "bf38c1b3-c4b9-4fc7-861b-ade97b43decc",
        "id": "mU-cx2vdWQ4z",
        "jupyter": {
          "outputs_hidden": false
        },
        "execution": {
          "iopub.status.busy": "2024-04-18T18:09:48.407736Z",
          "iopub.execute_input": "2024-04-18T18:09:48.408067Z",
          "iopub.status.idle": "2024-04-18T18:09:48.414971Z",
          "shell.execute_reply.started": "2024-04-18T18:09:48.408043Z",
          "shell.execute_reply": "2024-04-18T18:09:48.413967Z"
        },
        "trusted": true
      },
      "execution_count": null,
      "outputs": []
    },
    {
      "cell_type": "markdown",
      "source": [
        "## Modelo"
      ],
      "metadata": {
        "_cell_guid": "40ba2440-4919-4580-816d-e5e348d33f6c",
        "_uuid": "9d9054ea-84a3-4439-801c-03e55f2a51f5",
        "id": "S5WUbpwDlvtX",
        "trusted": true
      }
    },
    {
      "cell_type": "code",
      "source": [
        "import torch.nn as nn\n",
        "class ArgumentClassifier(nn.Module):\n",
        "    # Parámetros\n",
        "    def __init__(self,\n",
        "                 dim_vocab,\n",
        "                 num_classes,\n",
        "                 dim_hidden_input,\n",
        "                 dim_hidden_output):\n",
        "\n",
        "        super(ArgumentClassifier, self).__init__()\n",
        "\n",
        "        torch.manual_seed(42)\n",
        "\n",
        "        # Definimos las capas del modelo\n",
        "\n",
        "        # Primera capa\n",
        "        self.first_layer = nn.Linear(dim_vocab, dim_hidden_input)\n",
        "\n",
        "        # Capa oculta\n",
        "        self.hidden_layer = nn.Linear(dim_hidden_input, dim_hidden_output)\n",
        "\n",
        "        # Última capa\n",
        "        self.last_layer = nn.Linear(dim_hidden_output, num_classes)\n",
        "\n",
        "        # Función de activación\n",
        "        self.relu = nn.ReLU(inplace=False)\n",
        "\n",
        "    def forward(self, xs_bow):\n",
        "\n",
        "      # Hacemos el forward-pass\n",
        "      first_state = self.first_layer(xs_bow)\n",
        "      first_state = self.relu(first_state)\n",
        "\n",
        "      hidden_state = self.hidden_layer(first_state)\n",
        "      hidden_state = self.relu(hidden_state)\n",
        "\n",
        "      last_state = self.last_layer(hidden_state)\n",
        "\n",
        "      return last_state"
      ],
      "metadata": {
        "_cell_guid": "05b6ff18-44c1-4406-8403-52c4457acd09",
        "_uuid": "319065c7-8f51-42bf-99d2-9ff43a9c90e7",
        "id": "7fGtxVWbWtCX",
        "jupyter": {
          "outputs_hidden": false
        },
        "execution": {
          "iopub.status.busy": "2024-04-18T18:09:48.417051Z",
          "iopub.execute_input": "2024-04-18T18:09:48.417671Z",
          "iopub.status.idle": "2024-04-18T18:09:48.42979Z",
          "shell.execute_reply.started": "2024-04-18T18:09:48.417639Z",
          "shell.execute_reply": "2024-04-18T18:09:48.429019Z"
        },
        "trusted": true
      },
      "execution_count": null,
      "outputs": []
    },
    {
      "cell_type": "markdown",
      "source": [
        "## Entrenamiento\n",
        "Ahora creamos funciones que nos ayuden a entrenar y validar el modelo."
      ],
      "metadata": {
        "_cell_guid": "0e23c581-e040-4f2c-8ad3-0fc7194d7083",
        "_uuid": "45c453d3-dcb7-4aab-82d8-dc60072e60cb",
        "id": "pVq1K4tGl1cH",
        "trusted": true
      }
    },
    {
      "cell_type": "code",
      "source": [
        "import numpy as np\n",
        "\n",
        "def get_loss(net, iterator, criterion, device):\n",
        "    net.eval()\n",
        "    total_loss = 0\n",
        "    num_evals = 0\n",
        "    with torch.no_grad():\n",
        "        for xs_bow, labels in iterator:\n",
        "            xs_bow, labels = xs_bow.to(device), labels.to(device)\n",
        "\n",
        "            logits = net(xs_bow)\n",
        "\n",
        "            loss = criterion(logits, labels)\n",
        "\n",
        "            total_loss += loss.item() * xs_bow.shape[0]\n",
        "            num_evals += xs_bow.shape[0]\n",
        "\n",
        "    return total_loss / num_evals\n",
        "\n",
        "def get_preds_tests_nn(net, iterator, device):\n",
        "  net.eval()\n",
        "  preds, tests = [], []\n",
        "  with torch.no_grad():\n",
        "    for xs_bow, labels in iterator:\n",
        "      xs_bow, labels = xs_bow.to(device), labels.to(device)\n",
        "\n",
        "      logits = net(xs_bow)\n",
        "\n",
        "      soft_probs = nn.Sigmoid()(logits)\n",
        "\n",
        "      preds += np.argmax(soft_probs.tolist(), axis=1).tolist()\n",
        "      tests += labels.tolist()\n",
        "\n",
        "    return np.array(preds), np.array(tests)"
      ],
      "metadata": {
        "_cell_guid": "b4eebad5-1cb4-4054-8f32-ff42dcdd2db6",
        "_uuid": "15b88fd8-883b-4e39-b691-4ae932ed4a97",
        "id": "BnkmOmBp9DEf",
        "execution": {
          "iopub.status.busy": "2024-04-18T18:09:48.430688Z",
          "iopub.execute_input": "2024-04-18T18:09:48.430918Z",
          "iopub.status.idle": "2024-04-18T18:09:48.446065Z",
          "shell.execute_reply.started": "2024-04-18T18:09:48.430898Z",
          "shell.execute_reply": "2024-04-18T18:09:48.445321Z"
        },
        "trusted": true
      },
      "execution_count": null,
      "outputs": []
    },
    {
      "cell_type": "markdown",
      "source": [
        "Ahora por fin tenemos todo lo necesario para entrenar el modelo."
      ],
      "metadata": {
        "id": "La1LIXdMZ6OY"
      }
    },
    {
      "cell_type": "code",
      "source": [
        "import torch.optim as optim\n",
        "\n",
        "params = {\n",
        "    \"dim_vocab\": len(train_loader.dataset.bow_cols),\n",
        "    \"num_classes\": len(labels),\n",
        "    \"dim_hidden_input\": 200,\n",
        "    \"dim_hidden_output\": 100,\n",
        "    \"learning_rate\": 0.5,\n",
        "    \"epochs\": 5\n",
        "}\n",
        "\n",
        "device = \"cuda\" if torch.cuda.is_available() else \"cpu\"\n",
        "\n",
        "model = ArgumentClassifier(\n",
        "    dim_vocab=params[\"dim_vocab\"],\n",
        "    num_classes=params[\"num_classes\"],\n",
        "    dim_hidden_input=params[\"dim_hidden_input\"],\n",
        "    dim_hidden_output=params[\"dim_hidden_output\"]\n",
        ").to(device)\n",
        "\n",
        "# Loss = Cross-entropy\n",
        "criterion = nn.CrossEntropyLoss().to(device)\n",
        "\n",
        "# optimizador = SGD: Stochastic-gradient Descent\n",
        "opti = optim.SGD(model.parameters(), lr = params[\"learning_rate\"])\n",
        "\n",
        "# numero de epocas de entrenamiento\n",
        "epochs = params[\"epochs\"]\n",
        "import time\n",
        "for epoch in range(epochs):\n",
        "  start_time = time.time()\n",
        "  for (xs_bow, preds) in train_loader:\n",
        "\n",
        "    opti.zero_grad()\n",
        "\n",
        "    xs_bow, preds = xs_bow.to(device), preds.to(device)\n",
        "\n",
        "    logits = model(xs_bow)\n",
        "\n",
        "    loss = criterion(logits, preds)\n",
        "\n",
        "    loss.backward()\n",
        "\n",
        "    opti.step()\n",
        "\n",
        "\n",
        "  train_loss = get_loss(model, train_loader, criterion, device)\n",
        "  y_preds, y_tests = get_preds_tests_nn(model, train_loader, device)\n",
        "  train_acc = (y_preds == y_tests).sum() / y_preds.shape[0]\n",
        "\n",
        "  validation_loss = get_loss(model, test_loader, criterion, device)\n",
        "  y_preds, y_tests = get_preds_tests_nn(model, test_loader, device)\n",
        "  validation_acc = (y_preds == y_tests).sum() / y_preds.shape[0]\n",
        "\n",
        "  secs = int(time.time() - start_time)\n",
        "  mins = secs // 60\n",
        "  secs = secs % 60\n",
        "\n",
        "  print(f\"Epoca {epoch} completada en {mins} minutos, {secs} segundos\")\n",
        "  print(f\"Train Loss: {train_loss}, Train Accuracy: {train_acc}\")\n",
        "  print(f\"Valid. Loss: {validation_loss}, Valid. Accuracy: {validation_acc}\")"
      ],
      "metadata": {
        "_cell_guid": "8352e1e2-bc93-439b-a186-2384633e5c68",
        "_uuid": "874d073c-8b08-4e51-a255-d9c723799ac6",
        "id": "SlhKqOlIz9l-",
        "jupyter": {
          "outputs_hidden": false
        },
        "execution": {
          "iopub.status.busy": "2024-04-18T18:09:48.447901Z",
          "iopub.execute_input": "2024-04-18T18:09:48.448148Z"
        },
        "trusted": true
      },
      "execution_count": null,
      "outputs": []
    }
  ]
}